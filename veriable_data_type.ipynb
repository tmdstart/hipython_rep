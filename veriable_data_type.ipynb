{
 "cells": [
  {
   "cell_type": "code",
   "execution_count": null,
   "id": "42a8f6b5-ef34-4d2c-895d-f4788b4da3b4",
   "metadata": {},
   "outputs": [],
   "source": [
    "def calculate_sum(a,b) : \n",
    "    result = a + b\n",
    "    return result\n",
    "print(calculate_sum(3,4)) "
   ]
  },
  {
   "cell_type": "markdown",
   "id": "73d8812e-925c-48b9-8206-27748df19477",
   "metadata": {},
   "source": [
    "# 주석"
   ]
  },
  {
   "cell_type": "markdown",
   "id": "208d5170-cdce-46e9-810a-ca6bc9738783",
   "metadata": {},
   "source": [
    "표준입력과 표준 출력"
   ]
  },
  {
   "cell_type": "code",
   "execution_count": 2,
   "id": "575bba41-a6a3-4999-8f55-d42c9749b4c7",
   "metadata": {},
   "outputs": [
    {
     "data": {
      "text/plain": [
       "10"
      ]
     },
     "execution_count": 2,
     "metadata": {},
     "output_type": "execute_result"
    }
   ],
   "source": [
    "12345\n",
    "10\n",
    "# ipython 라이브러리의 기본기능\n",
    "# print(12345) 표준출력 기능을 내장하고 있다."
   ]
  },
  {
   "cell_type": "code",
   "execution_count": null,
   "id": "35da7924-c462-4293-b5ed-bd348c6c0d7f",
   "metadata": {},
   "outputs": [],
   "source": [
    "4 2.5 \"a\" \"hello\" True"
   ]
  },
  {
   "cell_type": "code",
   "execution_count": 3,
   "id": "f675da5d-2e59-4a5a-86db-1b5b08e2393e",
   "metadata": {},
   "outputs": [
    {
     "name": "stdout",
     "output_type": "stream",
     "text": [
      "12345\n"
     ]
    },
    {
     "data": {
      "text/plain": [
       "10"
      ]
     },
     "execution_count": 3,
     "metadata": {},
     "output_type": "execute_result"
    }
   ],
   "source": [
    "print(12345)\n",
    "10"
   ]
  },
  {
   "cell_type": "code",
   "execution_count": 14,
   "id": "0240ff9f-b7a5-4271-bbf1-10ee79d29535",
   "metadata": {},
   "outputs": [
    {
     "data": {
      "text/plain": [
       "'123451234512345'"
      ]
     },
     "execution_count": 14,
     "metadata": {},
     "output_type": "execute_result"
    }
   ],
   "source": [
    "'12345'*3"
   ]
  },
  {
   "cell_type": "code",
   "execution_count": 12,
   "id": "7e23c912-5a8d-4cd8-a893-5d9213fb891d",
   "metadata": {},
   "outputs": [
    {
     "data": {
      "text/plain": [
       "str"
      ]
     },
     "execution_count": 12,
     "metadata": {},
     "output_type": "execute_result"
    }
   ],
   "source": [
    "type('12345') \n"
   ]
  },
  {
   "cell_type": "code",
   "execution_count": 13,
   "id": "95d14206-bb86-496d-90f9-185883943678",
   "metadata": {},
   "outputs": [
    {
     "data": {
      "text/plain": [
       "str"
      ]
     },
     "execution_count": 13,
     "metadata": {},
     "output_type": "execute_result"
    }
   ],
   "source": [
    "type(\"12345\") "
   ]
  },
  {
   "cell_type": "code",
   "execution_count": 17,
   "id": "cf52fd37-ae97-4d1f-806f-aaffcd55e777",
   "metadata": {
    "scrolled": true
   },
   "outputs": [
    {
     "name": "stdin",
     "output_type": "stream",
     "text": [
      "당신의 이름을 입력하세요 범\n"
     ]
    },
    {
     "data": {
      "text/plain": [
       "'범'"
      ]
     },
     "execution_count": 17,
     "metadata": {},
     "output_type": "execute_result"
    }
   ],
   "source": [
    "input(\"당신의 이름을 입력하세요\")          #값이 들어올 때까지 대기"
   ]
  },
  {
   "cell_type": "code",
   "execution_count": 19,
   "id": "696e4c4f-baaf-42e7-acc6-f0e74442385f",
   "metadata": {
    "scrolled": true
   },
   "outputs": [
    {
     "name": "stdin",
     "output_type": "stream",
     "text": [
      "당신의 나이를 입력하세요 34\n"
     ]
    },
    {
     "data": {
      "text/plain": [
       "'34'"
      ]
     },
     "execution_count": 19,
     "metadata": {},
     "output_type": "execute_result"
    }
   ],
   "source": [
    "input(\"당신의 나이를 입력하세요\")"
   ]
  },
  {
   "cell_type": "code",
   "execution_count": 21,
   "id": "894f6ce9-a1ac-4206-add8-a30f1df3fa70",
   "metadata": {
    "scrolled": true
   },
   "outputs": [
    {
     "name": "stdin",
     "output_type": "stream",
     "text": [
      "당신의 나이를 입력하세요 33\n"
     ]
    },
    {
     "data": {
      "text/plain": [
       "'33'"
      ]
     },
     "execution_count": 21,
     "metadata": {},
     "output_type": "execute_result"
    }
   ],
   "source": [
    "age = input('당신의 나이를 입력하세요')\n",
    "age"
   ]
  },
  {
   "cell_type": "code",
   "execution_count": 27,
   "id": "47075429-47d9-4d2c-8f35-a681b78d4604",
   "metadata": {},
   "outputs": [
    {
     "name": "stdin",
     "output_type": "stream",
     "text": [
      "이름을 입력하세요 범\n"
     ]
    },
    {
     "name": "stdout",
     "output_type": "stream",
     "text": [
      "범\n"
     ]
    }
   ],
   "source": [
    "#입력받은 name을 출력하세요\n",
    "name =input(\"이름을 입력하세요\")\n"
   ]
  },
  {
   "cell_type": "code",
   "execution_count": null,
   "id": "76c99d71-4345-4137-b43a-76612ccaf4d8",
   "metadata": {},
   "outputs": [],
   "source": [
    "print(name)\n",
    "age = int(age)"
   ]
  },
  {
   "cell_type": "code",
   "execution_count": 29,
   "id": "348a5a40-7eb3-448c-9207-45f828255f6c",
   "metadata": {},
   "outputs": [
    {
     "name": "stdout",
     "output_type": "stream",
     "text": [
      "33 범\n"
     ]
    }
   ],
   "source": [
    "print(age, name)"
   ]
  },
  {
   "cell_type": "code",
   "execution_count": null,
   "id": "209ca7ce-8d34-4584-92be-baae6a2655a1",
   "metadata": {},
   "outputs": [],
   "source": [
    "print('나는' + name + '이고 나이는' + age + '입니다')"
   ]
  },
  {
   "cell_type": "code",
   "execution_count": 70,
   "id": "e97cc58a-c226-4a86-a0ae-d191ebc51ecc",
   "metadata": {
    "scrolled": true
   },
   "outputs": [
    {
     "name": "stdin",
     "output_type": "stream",
     "text": [
      "백 자느\n",
      "승 자가\n",
      "범 이다\n"
     ]
    },
    {
     "name": "stdout",
     "output_type": "stream",
     "text": [
      "자느\t자가\t이다\n"
     ]
    }
   ],
   "source": [
    "# 연습 자기 이름으로  삼행시 짓기\n",
    "first =input(\"백\")\n",
    "middle =input(\"승\")\n",
    "last =input(\"범\")\n",
    "\n",
    "#print( \"백: \" + first + \"\\n\" , \"승: \" +  middle +  \"\\n\" , \"범: \" + last +  \"\\n\")\n",
    "print(first, middle, last , sep=\"\\t\")"
   ]
  },
  {
   "cell_type": "markdown",
   "id": "fe2b6d5d-e3e8-4279-aa14-85f256dc3098",
   "metadata": {},
   "source": [
    "삼행시= (\"백: \" + first + \"\\n\" + \"승: \" +  middle +  \"\\n\" + \"범: \" + last +  \"\\n\")\n",
    "print(삼행시)"
   ]
  },
  {
   "cell_type": "markdown",
   "id": "bafa3f7f-744b-4c58-89e7-6ae375e61a92",
   "metadata": {},
   "source": [
    "변수 type safe: 변수를 선언할 떄 타입을 지정하지 않아도 되는 특성\n",
    "변수명 = 값\n",
    "##변수의 명명 규칙 \n",
    "1. 문자 숫자 밑줄을 가지고 만든다.\n",
    "2. 숫자로 시작하면 x\n",
    "3. 대소문자 구순\n",
    "4. 예약어, 특수기호 공백 X"
   ]
  },
  {
   "cell_type": "code",
   "execution_count": 87,
   "id": "cc0d68f4-a115-4d5c-950d-3901e7b22ab1",
   "metadata": {},
   "outputs": [
    {
     "data": {
      "text/plain": [
       "(10, 'hello', 3.141592)"
      ]
     },
     "execution_count": 87,
     "metadata": {},
     "output_type": "execute_result"
    }
   ],
   "source": [
    "x = 10\n",
    "y = 'hello'\n",
    "z = 3.141592\n",
    "x,y,z"
   ]
  },
  {
   "cell_type": "code",
   "execution_count": 89,
   "id": "78462abe-07b1-41c2-a88e-4d00e5526176",
   "metadata": {
    "scrolled": true
   },
   "outputs": [
    {
     "name": "stdout",
     "output_type": "stream",
     "text": [
      "<class 'int'> <class 'str'> <class 'float'>\n"
     ]
    }
   ],
   "source": [
    "print(type(x), type(y), type(z))"
   ]
  },
  {
   "cell_type": "code",
   "execution_count": 93,
   "id": "deef967a-a77f-4fde-aff7-fe5b699b9926",
   "metadata": {},
   "outputs": [
    {
     "data": {
      "text/plain": [
       "(10, 20, 30)"
      ]
     },
     "execution_count": 93,
     "metadata": {},
     "output_type": "execute_result"
    }
   ],
   "source": [
    "a, b, c = 10, 20 ,30  # 언패킹\n",
    "a,b,c"
   ]
  },
  {
   "cell_type": "code",
   "execution_count": 95,
   "id": "e96a9706-2573-44dd-991c-1adc7e385880",
   "metadata": {},
   "outputs": [
    {
     "data": {
      "text/plain": [
       "(40, 40, 40)"
      ]
     },
     "execution_count": 95,
     "metadata": {},
     "output_type": "execute_result"
    }
   ],
   "source": [
    "a=b=c=40\n",
    "a,b,c"
   ]
  },
  {
   "cell_type": "code",
   "execution_count": 100,
   "id": "1250f2bb-e431-41a4-a994-0692a1db537c",
   "metadata": {},
   "outputs": [
    {
     "data": {
      "text/plain": [
       "(bool, NoneType)"
      ]
     },
     "execution_count": 100,
     "metadata": {},
     "output_type": "execute_result"
    }
   ],
   "source": [
    "d = True #bool형\n",
    "e = None #type이 없음\n",
    "d, e\n",
    "type(d), type(e)"
   ]
  },
  {
   "cell_type": "code",
   "execution_count": 3,
   "id": "b18d74cb-f48d-4376-830d-66d32d2ebdc8",
   "metadata": {},
   "outputs": [
    {
     "name": "stdout",
     "output_type": "stream",
     "text": [
      "10 10\n"
     ]
    },
    {
     "data": {
      "text/plain": [
       "(140713484561112, 140713484561112)"
      ]
     },
     "execution_count": 3,
     "metadata": {},
     "output_type": "execute_result"
    }
   ],
   "source": [
    "aa=10\n",
    "bb=aa\n",
    "print(aa,bb)\n",
    "id(aa), id(bb)"
   ]
  },
  {
   "cell_type": "code",
   "execution_count": 4,
   "id": "e32f5498-6d85-4ef2-8d21-95ceaec1f90d",
   "metadata": {},
   "outputs": [
    {
     "name": "stdout",
     "output_type": "stream",
     "text": [
      "10 10\n"
     ]
    },
    {
     "data": {
      "text/plain": [
       "(140713484561112, 140713484561112)"
      ]
     },
     "execution_count": 4,
     "metadata": {},
     "output_type": "execute_result"
    }
   ],
   "source": [
    "a=10\n",
    "b=10\n",
    "print(a,b)\n",
    "id(a), id(b)"
   ]
  },
  {
   "cell_type": "code",
   "execution_count": 2,
   "id": "a64fb061-913e-4b8d-b763-b6b3053808ab",
   "metadata": {},
   "outputs": [
    {
     "name": "stdout",
     "output_type": "stream",
     "text": [
      "여기는 함수의 영역입니다. 100\n"
     ]
    }
   ],
   "source": [
    "#지역변수\n",
    "def local_example():\n",
    "    local_var =100\n",
    "    print('여기는 함수의 영역입니다.' , local_var)\n",
    "\n",
    "local_example()\n"
   ]
  },
  {
   "cell_type": "code",
   "execution_count": 5,
   "id": "18d3ebcc-fe65-4613-b049-cf3915cfbadc",
   "metadata": {},
   "outputs": [
    {
     "name": "stdout",
     "output_type": "stream",
     "text": [
      "나는 전역이다\n",
      "이것은 전역변수에요. 나는 전역이다\n"
     ]
    }
   ],
   "source": [
    "#전역변수\n",
    "\n",
    "global_var ='나는 전역이다'\n",
    "print(global_var)\n",
    "\n",
    "def global_example():\n",
    "    print('이것은 전역변수에요.', global_var)\n",
    "\n",
    "global_example()"
   ]
  },
  {
   "cell_type": "code",
   "execution_count": 9,
   "id": "7b3d1ddb-7e76-4d2d-9a40-f13dc477365a",
   "metadata": {},
   "outputs": [
    {
     "name": "stdout",
     "output_type": "stream",
     "text": [
      "나는 전역이다\n",
      "이것은 전역변수에요. 100\n",
      "나는 전역이다\n"
     ]
    }
   ],
   "source": [
    "\n",
    "global_var ='나는 전역이다'\n",
    "print(global_var)\n",
    "\n",
    "def global_example():\n",
    "    global var_test\n",
    "    var_test=100 \n",
    "    print('이것은 전역변수에요.', var_test)\n",
    "\n",
    "global_example()\n",
    "print(global_var)"
   ]
  },
  {
   "cell_type": "code",
   "execution_count": 6,
   "id": "538314f9-7292-4865-b668-93fbe9eff69e",
   "metadata": {},
   "outputs": [
    {
     "name": "stdout",
     "output_type": "stream",
     "text": [
      "카운터 :  1\n",
      "카운터 :  2\n",
      "카운터 :  3\n"
     ]
    }
   ],
   "source": [
    "# 변수영역 연습\n",
    "\n",
    "counter = 0 #global\n",
    "def increment_counter():\n",
    "    global counter\n",
    "    counter +=1\n",
    "    print(\"카운터 : \", counter)\n",
    "\n",
    "increment_counter()\n",
    "increment_counter()\n",
    "increment_counter()\n",
    "\n",
    "\n"
   ]
  },
  {
   "cell_type": "code",
   "execution_count": 9,
   "id": "da990eb7-0727-438b-8ebd-0833468f7098",
   "metadata": {},
   "outputs": [
    {
     "data": {
      "text/plain": [
       "0"
      ]
     },
     "execution_count": 9,
     "metadata": {},
     "output_type": "execute_result"
    }
   ],
   "source": [
    "#교재변수 연습 \n",
    "a = 123\n",
    "a = -178\n",
    "a = 0\n",
    "a"
   ]
  },
  {
   "cell_type": "code",
   "execution_count": 12,
   "id": "38ddefa6-5e6e-48de-b9e9-b0657f4cfadb",
   "metadata": {},
   "outputs": [
    {
     "data": {
      "text/plain": [
       "42400000000.0"
      ]
     },
     "execution_count": 12,
     "metadata": {},
     "output_type": "execute_result"
    }
   ],
   "source": [
    "a = 4.24E10\n",
    "a"
   ]
  },
  {
   "cell_type": "code",
   "execution_count": 20,
   "id": "e7f72608-e070-41f3-876b-08ec097ea761",
   "metadata": {},
   "outputs": [
    {
     "name": "stdout",
     "output_type": "stream",
     "text": [
      "hello! python\n"
     ]
    }
   ],
   "source": [
    "s = \"hello\"\n",
    "t = \"python\"\n",
    "print(s+\"! \"+t)"
   ]
  },
  {
   "cell_type": "code",
   "execution_count": 24,
   "id": "9b769036-5484-45d7-b953-f9f587b16147",
   "metadata": {},
   "outputs": [
    {
     "name": "stdout",
     "output_type": "stream",
     "text": [
      "<class 'int'>\n"
     ]
    }
   ],
   "source": [
    "a=128\n",
    "print (type(a))"
   ]
  },
  {
   "cell_type": "code",
   "execution_count": 25,
   "id": "06aeb149-2add-455a-9806-bc1caa099893",
   "metadata": {},
   "outputs": [
    {
     "name": "stdout",
     "output_type": "stream",
     "text": [
      "<class 'str'>\n"
     ]
    }
   ],
   "source": [
    "a = \"132\"\n",
    "print (type(a))"
   ]
  },
  {
   "cell_type": "code",
   "execution_count": 33,
   "id": "c378e349-6f07-47e4-8447-92c2ca9ba1cc",
   "metadata": {},
   "outputs": [
    {
     "name": "stdout",
     "output_type": "stream",
     "text": [
      "<class 'int'> 720\n"
     ]
    }
   ],
   "source": [
    "num_str = \"720\"\n",
    "int_num = int(num_str)\n",
    "print(type(int_num),int_num)"
   ]
  },
  {
   "cell_type": "code",
   "execution_count": 34,
   "id": "2dfd863a-6c23-4fa1-a7b0-52c4b7af76ab",
   "metadata": {
    "scrolled": true
   },
   "outputs": [
    {
     "name": "stdout",
     "output_type": "stream",
     "text": [
      "15.79 <class 'float'>\n"
     ]
    }
   ],
   "source": [
    "data = \"15.79\"\n",
    "data = float(data)\n",
    "print(data, type(data))"
   ]
  },
  {
   "cell_type": "code",
   "execution_count": 36,
   "id": "76b97713-2642-4922-8adf-252a1e175e66",
   "metadata": {},
   "outputs": [
    {
     "name": "stdout",
     "output_type": "stream",
     "text": [
      "2019\n",
      "2018\n",
      "2017\n"
     ]
    }
   ],
   "source": [
    "year = \"2020\"\n",
    "year = int(year)\n",
    "print(year-1)\n",
    "print(year-2)\n",
    "print(year-3)"
   ]
  },
  {
   "cell_type": "code",
   "execution_count": 38,
   "id": "b6e3482c-fc14-47e2-ade1-9479e8a5f623",
   "metadata": {},
   "outputs": [
    {
     "name": "stdout",
     "output_type": "stream",
     "text": [
      "1749024\n"
     ]
    }
   ],
   "source": [
    "month = 48584\n",
    "year = 48584 *36\n",
    "print(year)"
   ]
  },
  {
   "cell_type": "code",
   "execution_count": 41,
   "id": "a17c971f-0f89-4a50-b320-afbb95e3a2f8",
   "metadata": {
    "scrolled": true
   },
   "outputs": [
    {
     "name": "stdout",
     "output_type": "stream",
     "text": [
      "p t\n"
     ]
    }
   ],
   "source": [
    "letters = 'python'\n",
    "print(letters[0], letters[2])"
   ]
  },
  {
   "cell_type": "code",
   "execution_count": 45,
   "id": "6d0aac28-14c4-4f44-b2c4-9aa8efdc17fc",
   "metadata": {
    "scrolled": true
   },
   "outputs": [
    {
     "name": "stdout",
     "output_type": "stream",
     "text": [
      "2210\n"
     ]
    }
   ],
   "source": [
    "license_plate = \"24가 2210\"\n",
    "print(license_plate[4:8])"
   ]
  },
  {
   "cell_type": "code",
   "execution_count": 49,
   "id": "d7382129-cc3a-49af-8c34-8283e75f33d7",
   "metadata": {},
   "outputs": [
    {
     "name": "stdout",
     "output_type": "stream",
     "text": [
      "홀홀홀\n"
     ]
    }
   ],
   "source": [
    "string = \"홀짝홀짝홀짝\"\n",
    "print(string[::2])"
   ]
  },
  {
   "cell_type": "code",
   "execution_count": null,
   "id": "67b7ed03-0f0f-41dc-8d95-1f3f93619766",
   "metadata": {},
   "outputs": [],
   "source": [
    "#자료형\n",
    "- 기본 자료형 : 숫자형, 문자형(str), 부울형\n",
    "- 복합 자료형 : 리스트, 셋, 튜플, 딕셔너리\n"
   ]
  },
  {
   "cell_type": "code",
   "execution_count": 1,
   "id": "9c0153e7-51a9-4fd1-a22e-382faae03324",
   "metadata": {},
   "outputs": [],
   "source": [
    "s1 = {1, 2, 3, 4, 5}  \n",
    "s2 = set([3, 4, 5, 6]) "
   ]
  },
  {
   "cell_type": "code",
   "execution_count": 2,
   "id": "71831083-6ece-4f07-ad4f-93f49e99e134",
   "metadata": {},
   "outputs": [
    {
     "data": {
      "text/plain": [
       "{3, 4, 5, 6}"
      ]
     },
     "execution_count": 2,
     "metadata": {},
     "output_type": "execute_result"
    }
   ],
   "source": [
    "s2"
   ]
  }
 ],
 "metadata": {
  "kernelspec": {
   "display_name": "Python 3 (ipykernel)",
   "language": "python",
   "name": "python3"
  },
  "language_info": {
   "codemirror_mode": {
    "name": "ipython",
    "version": 3
   },
   "file_extension": ".py",
   "mimetype": "text/x-python",
   "name": "python",
   "nbconvert_exporter": "python",
   "pygments_lexer": "ipython3",
   "version": "3.12.9"
  }
 },
 "nbformat": 4,
 "nbformat_minor": 5
}
