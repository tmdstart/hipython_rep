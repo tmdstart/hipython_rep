{
 "cells": [
  {
   "cell_type": "code",
   "execution_count": 1,
   "id": "120e8443-d845-42de-a096-d83eecac9eff",
   "metadata": {},
   "outputs": [],
   "source": [
    "def aaa(a):\n",
    "    res = a+1\n",
    "    return res\n",
    "\n",
    "lambda a: a+1"
   ]
  },
  {
   "cell_type": "code",
   "execution_count": 12,
   "id": "adfd51e4-0179-419e-8222-2c464731babf",
   "metadata": {},
   "outputs": [],
   "source": [
    "#a1 = lambda a: a+1\n",
    "\n",
    "# 선언 lambda <매가변수> :  코드\n",
    "# 호출 (lambda <매가변수> :  코드)value\n",
    "\n"
   ]
  },
  {
   "cell_type": "code",
   "execution_count": 15,
   "id": "6acf90be-4114-47b5-b089-fb1c2635244a",
   "metadata": {},
   "outputs": [
    {
     "data": {
      "text/plain": [
       "4"
      ]
     },
     "execution_count": 15,
     "metadata": {},
     "output_type": "execute_result"
    }
   ],
   "source": [
    "aaa(5)\n",
    "(lambda a: a+1)(3) #람다의 호출"
   ]
  },
  {
   "cell_type": "code",
   "execution_count": 16,
   "id": "2e7eefcb-f1f8-46c5-a643-ab36f3d501e3",
   "metadata": {},
   "outputs": [
    {
     "data": {
      "text/plain": [
       "4"
      ]
     },
     "execution_count": 16,
     "metadata": {},
     "output_type": "execute_result"
    }
   ],
   "source": [
    "my_lambda = lambda a : a+1\n",
    "my_lambda(3)"
   ]
  },
  {
   "cell_type": "code",
   "execution_count": 74,
   "id": "55b361f5-8d3f-4e3b-8a41-bcccb5ee6b2d",
   "metadata": {},
   "outputs": [
    {
     "ename": "NameError",
     "evalue": "name 'b' is not defined",
     "output_type": "error",
     "traceback": [
      "\u001b[31m---------------------------------------------------------------------------\u001b[39m",
      "\u001b[31mNameError\u001b[39m                                 Traceback (most recent call last)",
      "\u001b[36mCell\u001b[39m\u001b[36m \u001b[39m\u001b[32mIn[74]\u001b[39m\u001b[32m, line 10\u001b[39m\n\u001b[32m      7\u001b[39m (\u001b[38;5;28;01mlambda\u001b[39;00m a,b : a+b)(\u001b[32m2\u001b[39m,\u001b[32m3\u001b[39m)\n\u001b[32m      9\u001b[39m \u001b[38;5;66;03m#def calc_Func(a,b, opr)\u001b[39;00m\n\u001b[32m---> \u001b[39m\u001b[32m10\u001b[39m b\u001b[38;5;66;03m#    if  opr =='+':\u001b[39;00m\n\u001b[32m     11\u001b[39m \u001b[38;5;66;03m#           return a+b\u001b[39;00m\n\u001b[32m     13\u001b[39m \u001b[38;5;28;01mdef\u001b[39;00m\u001b[38;5;250m \u001b[39m\u001b[34mcalc_Func\u001b[39m(a,b,opr_func):\n",
      "\u001b[31mNameError\u001b[39m: name 'b' is not defined"
     ]
    }
   ],
   "source": [
    "def sum(a,b):\n",
    "    return a+b\n",
    "\n",
    "sum(2,3)\n",
    "\n",
    "lambda a,b : a+b\n",
    "(lambda a,b : a+b)(2,3)\n",
    "\n",
    "#def calc_Func(a,b, opr)\n",
    "b#    if  opr =='+':\n",
    "#           return a+b\n",
    "\n",
    "def calc_Func(a,b,opr_func):\n",
    "    result = opr_func(a,b)\n",
    "    return result"
   ]
  },
  {
   "cell_type": "code",
   "execution_count": 27,
   "id": "a952398e-7eaa-4d31-9e1d-417f78598060",
   "metadata": {},
   "outputs": [
    {
     "data": {
      "text/plain": [
       "3"
      ]
     },
     "execution_count": 27,
     "metadata": {},
     "output_type": "execute_result"
    }
   ],
   "source": [
    "calc_Func(1,2, lambda x,y : x+y)"
   ]
  },
  {
   "cell_type": "code",
   "execution_count": 33,
   "id": "676f0352-4fe3-459c-a5d5-b923c25a0812",
   "metadata": {},
   "outputs": [
    {
     "data": {
      "text/plain": [
       "['APPLE', 'BANANA', 'CHERRY']"
      ]
     },
     "execution_count": 33,
     "metadata": {},
     "output_type": "execute_result"
    }
   ],
   "source": [
    "#map 합수\n",
    "fluits = ['apple', 'banana', 'cherry']\n",
    "#str.upper()\n",
    "#fluits[0].upper()\n",
    "list(map(str.upper, fluits))"
   ]
  },
  {
   "cell_type": "code",
   "execution_count": 47,
   "id": "1cde531c-74a5-4ac8-8a36-1289d0d95caf",
   "metadata": {},
   "outputs": [
    {
     "data": {
      "text/plain": [
       "[1, 2, 3, 4, 5]"
      ]
     },
     "execution_count": 47,
     "metadata": {},
     "output_type": "execute_result"
    }
   ],
   "source": [
    "str_number ='12345'\n",
    "list(str_number)\n",
    "map(int, str_number)\n",
    "list(map(int, str_number))"
   ]
  },
  {
   "cell_type": "code",
   "execution_count": 50,
   "id": "68c912ef-a027-43d0-98f6-410b1cd31344",
   "metadata": {},
   "outputs": [
    {
     "data": {
      "text/plain": [
       "[1, 4, 9, 16, 25]"
      ]
     },
     "execution_count": 50,
     "metadata": {},
     "output_type": "execute_result"
    }
   ],
   "source": [
    "numbers = list(map(int, str_number))\n",
    "list(map(lambda x: x**2, numbers))\n"
   ]
  },
  {
   "cell_type": "code",
   "execution_count": 53,
   "id": "4385e78b-7ca3-4ee8-af8e-9ddd8142a16c",
   "metadata": {},
   "outputs": [
    {
     "data": {
      "text/plain": [
       "[5, 7, 9]"
      ]
     },
     "execution_count": 53,
     "metadata": {},
     "output_type": "execute_result"
    }
   ],
   "source": [
    "kor_score= [1,2,3]\n",
    "eng_score= [4,5,6]\n",
    "list(map (lambda x,y:x+y , kor_score, eng_score))\n"
   ]
  },
  {
   "cell_type": "code",
   "execution_count": 61,
   "id": "0ed23cb7-5f1d-4101-a087-38ce01dc9fad",
   "metadata": {},
   "outputs": [
    {
     "name": "stdout",
     "output_type": "stream",
     "text": [
      "[12, 15, 18]\n",
      "[7, 8, 9]\n",
      "[1, 2, 3]\n"
     ]
    }
   ],
   "source": [
    "kor_score= [1,2,3]\n",
    "eng_score= [4,5,6]\n",
    "math_score = [7,8,9]\n",
    "list(map (lambda x,y,z:x+y+z , kor_score, eng_score,math_score))\n",
    "print(list(map (lambda x,y,z:x+y+z , kor_scroe, eng_score,math_score)))\n",
    "list(map (lambda x,y,z:max(x, y, z), kor_score, eng_score,math_score))\n",
    "print(list(map (lambda x,y,z:max(x, y, z), kor_score, eng_score,math_score)))\n",
    "list(map (lambda x,y,z:min(x, y, z), kor_score, eng_score,math_score))\n",
    "print(list(map (lambda x,y,z:min(x, y, z), kor_score, eng_score,math_score)))"
   ]
  },
  {
   "cell_type": "code",
   "execution_count": 82,
   "id": "cd942726-3989-4580-a107-5ffbdb0a7bd6",
   "metadata": {},
   "outputs": [
    {
     "data": {
      "text/plain": [
       "[7, 8, 9]"
      ]
     },
     "execution_count": 82,
     "metadata": {},
     "output_type": "execute_result"
    }
   ],
   "source": [
    "kor_score= [1,2,3]\n",
    "eng_score= [4,5,6]\n",
    "math_score=[7,8,9]\n",
    "\n",
    "\n",
    "list(map(lambda s:sum(s), zip(kor_score, eng_score,math_score)))\n",
    "list(map(lambda s:sum(s)/3, zip(kor_score, eng_score,math_score)))\n",
    "list(map(lambda s:min(s), zip(kor_score, eng_score,math_score)))\n",
    "list(map(lambda s:max(s), zip(kor_score, eng_score,math_score)))"
   ]
  },
  {
   "cell_type": "code",
   "execution_count": 86,
   "id": "d98b6ca2-c033-4b87-a5c6-3cb7902ae71f",
   "metadata": {},
   "outputs": [],
   "source": [
    "def multiply_numbers(a, b):\n",
    "    return a + b "
   ]
  },
  {
   "cell_type": "code",
   "execution_count": 87,
   "id": "7186467d-0eaf-4104-a63e-bdecd9b1b177",
   "metadata": {},
   "outputs": [
    {
     "data": {
      "text/plain": [
       "5"
      ]
     },
     "execution_count": 87,
     "metadata": {},
     "output_type": "execute_result"
    }
   ],
   "source": [
    "a=int(multiply_numbers(2,3))\n",
    "a"
   ]
  },
  {
   "cell_type": "code",
   "execution_count": 94,
   "id": "4ecc5cf2-4f8a-4be8-8135-9b2fc7c45f48",
   "metadata": {},
   "outputs": [
    {
     "data": {
      "text/plain": [
       "[150]"
      ]
     },
     "execution_count": 94,
     "metadata": {},
     "output_type": "execute_result"
    }
   ],
   "source": [
    "list(map(lambda s:sum(s) , zip([10],[20],[30],[40],[50])))"
   ]
  },
  {
   "cell_type": "code",
   "execution_count": 105,
   "id": "f9ac262e-0cfd-4663-9f45-57dd0c54ed9f",
   "metadata": {},
   "outputs": [],
   "source": [
    "def is_even(n):\n",
    "    \n",
    "   return "
   ]
  },
  {
   "cell_type": "code",
   "execution_count": 99,
   "id": "621b176a-d366-4c24-9b92-572f019b50a1",
   "metadata": {},
   "outputs": [
    {
     "name": "stdout",
     "output_type": "stream",
     "text": [
      "홀\n",
      "짝\n"
     ]
    }
   ],
   "source": [
    "is_even(3)\n",
    "is_even(3)"
   ]
  },
  {
   "cell_type": "code",
   "execution_count": 108,
   "id": "7f5fdccb-1c2b-4745-88aa-50cfea07cfad",
   "metadata": {},
   "outputs": [
    {
     "data": {
      "text/plain": [
       "'홀'"
      ]
     },
     "execution_count": 108,
     "metadata": {},
     "output_type": "execute_result"
    }
   ],
   "source": [
    "check_even_odd = lambda a: \"짝\" if a % 2 == 0 else \"홀\"\n",
    "check_even_odd(3)"
   ]
  },
  {
   "cell_type": "code",
   "execution_count": 39,
   "id": "71acad90-6f16-41b0-b0c6-97273ddd57c9",
   "metadata": {},
   "outputs": [],
   "source": [
    "lst = [1,2,3,4,5]"
   ]
  },
  {
   "cell_type": "code",
   "execution_count": 2,
   "id": "a3f1a80e-9fad-4d29-834d-0c1942f4d12d",
   "metadata": {
    "scrolled": true
   },
   "outputs": [
    {
     "data": {
      "text/plain": [
       "['1', '2', '3', '4', '5']"
      ]
     },
     "execution_count": 2,
     "metadata": {},
     "output_type": "execute_result"
    }
   ],
   "source": [
    "def to_string_list(lst):\n",
    "    return list(map(str, lst))\n",
    "to_string_list(lst)"
   ]
  },
  {
   "cell_type": "code",
   "execution_count": 40,
   "id": "abd238a2-dc02-4c3e-9cf3-340ec5906939",
   "metadata": {},
   "outputs": [
    {
     "data": {
      "text/plain": [
       "['1', '2', '3', '4', '5']"
      ]
     },
     "execution_count": 40,
     "metadata": {},
     "output_type": "execute_result"
    }
   ],
   "source": [
    "def to_string_list2(lst):\n",
    "    result = []\n",
    "    for item in lst :\n",
    "        result.append(str(item))\n",
    "    return result\n",
    "\n",
    "    \n",
    "to_string_list2(lst)"
   ]
  },
  {
   "cell_type": "code",
   "execution_count": 41,
   "id": "0166c026-7f9f-4dde-aeaa-3a1cb8584f03",
   "metadata": {},
   "outputs": [
    {
     "data": {
      "text/plain": [
       "['1', '2', '3', '4', '5']"
      ]
     },
     "execution_count": 41,
     "metadata": {},
     "output_type": "execute_result"
    }
   ],
   "source": [
    "result =list(map(lambda x : str(x), lst))\n",
    "result"
   ]
  },
  {
   "cell_type": "code",
   "execution_count": 43,
   "id": "1966aaaf-8d14-4d62-9ec6-bf03fabfefa4",
   "metadata": {},
   "outputs": [
    {
     "data": {
      "text/plain": [
       "['1', '2', '3', '4', '5']"
      ]
     },
     "execution_count": 43,
     "metadata": {},
     "output_type": "execute_result"
    }
   ],
   "source": [
    "string1=lambda lst : list(map(str, lst))\n",
    "string1(lst)"
   ]
  },
  {
   "cell_type": "code",
   "execution_count": 46,
   "id": "d8196e0e-f48c-4862-a497-2b9e5494b02c",
   "metadata": {},
   "outputs": [
    {
     "data": {
      "text/plain": [
       "'hello, world'"
      ]
     },
     "execution_count": 46,
     "metadata": {},
     "output_type": "execute_result"
    }
   ],
   "source": [
    "s1 = 'hello'\n",
    "s2 = ', world'\n",
    "def concat_strings(s1, s2):\n",
    "    return s1+s2\n",
    "concat_strings(s1, s2)"
   ]
  },
  {
   "cell_type": "code",
   "execution_count": 47,
   "id": "37bbf370-9acf-4a57-be08-9afbf80892f7",
   "metadata": {},
   "outputs": [
    {
     "data": {
      "text/plain": [
       "'hello, world'"
      ]
     },
     "execution_count": 47,
     "metadata": {},
     "output_type": "execute_result"
    }
   ],
   "source": [
    "def concat_strings(s1, s2):\n",
    "    result = s1+s2\n",
    "    return result\n",
    "concat_strings(s1, s2)"
   ]
  },
  {
   "cell_type": "code",
   "execution_count": 51,
   "id": "798f625a-ed1e-45c4-a7ee-0d03eaea38c3",
   "metadata": {},
   "outputs": [
    {
     "name": "stdout",
     "output_type": "stream",
     "text": [
      "hello, world\n"
     ]
    },
    {
     "data": {
      "text/plain": [
       "'hello, world'"
      ]
     },
     "execution_count": 51,
     "metadata": {},
     "output_type": "execute_result"
    }
   ],
   "source": [
    "concat = lambda a, b: a + b\n",
    "print(concat(s1, s2))\n",
    "concat(s1, s2)"
   ]
  },
  {
   "cell_type": "code",
   "execution_count": 56,
   "id": "4509ca85-e856-4f1c-98c2-edea6dc5b968",
   "metadata": {},
   "outputs": [],
   "source": [
    "s=\"abcdefghijklmnopqrstuvwxyz\"\n",
    "def remove_vowels(s):\n",
    "    result =''\n",
    "    for char in s:\n",
    "        if char not in 'aeiou':\n",
    "            result +=char\n",
    "    return result"
   ]
  },
  {
   "cell_type": "code",
   "execution_count": null,
   "id": "363e0d31-5945-431d-b535-3b8015b58343",
   "metadata": {},
   "outputs": [],
   "source": [
    "#result = ''.join(char for char in s if char not in 'aeiou')"
   ]
  },
  {
   "cell_type": "code",
   "execution_count": 57,
   "id": "e0828d3a-3221-4cef-b26b-118e36bbb298",
   "metadata": {},
   "outputs": [
    {
     "name": "stdout",
     "output_type": "stream",
     "text": [
      "bcdfghjklmnpqrstvwxyz\n"
     ]
    }
   ],
   "source": [
    "print(remove_vowels(s))"
   ]
  },
  {
   "cell_type": "code",
   "execution_count": 15,
   "id": "4f427a7e-4e96-4ebf-9b6f-dc40b0c9269c",
   "metadata": {},
   "outputs": [
    {
     "name": "stdout",
     "output_type": "stream",
     "text": [
      "bcdfghjklmnpqrstvwxyz\n"
     ]
    }
   ],
   "source": [
    "s = \"abcdefghijklmnopqrstuvwxyz\"\n",
    "result = ''.join(filter(lambda char: char not in 'aeiou', s))\n",
    "print(result)"
   ]
  },
  {
   "cell_type": "code",
   "execution_count": 67,
   "id": "1a1f5d5e-e0a8-4007-ab37-c5edb73b1f3a",
   "metadata": {},
   "outputs": [
    {
     "data": {
      "text/plain": [
       "('generation', 10)"
      ]
     },
     "execution_count": 67,
     "metadata": {},
     "output_type": "execute_result"
    }
   ],
   "source": [
    "text='Life is for one generation a good name is forever.'\n",
    "def find_longest_word(text):\n",
    "    words=text.split()\n",
    "    longest = max(words, key=len)\n",
    "    return longest, len(longest)\n",
    "    \n",
    "find_longest_word(text)"
   ]
  },
  {
   "cell_type": "code",
   "execution_count": 9,
   "id": "6e9fc7a6-6315-4cdc-939c-f2b385798308",
   "metadata": {},
   "outputs": [],
   "source": [
    "def find_longest_word2(text):\n",
    "    words = text.split()\n",
    "    longest=''\n",
    "    max_len = len(longest)\n",
    "\n",
    "    for w in words[1:] :\n",
    "        if len(w) > max_len:\n",
    "            longest = w\n",
    "            max_len = len(w)\n",
    "    return longest, max_len\n",
    "    "
   ]
  },
  {
   "cell_type": "code",
   "execution_count": 10,
   "id": "d16bd888-bd14-4ffc-8cc4-620555471fc1",
   "metadata": {},
   "outputs": [
    {
     "data": {
      "text/plain": [
       "('generation', 10)"
      ]
     },
     "execution_count": 10,
     "metadata": {},
     "output_type": "execute_result"
    }
   ],
   "source": [
    "text='Life is for one generation a good name is forever.'\n",
    "find_longest_word2(text)"
   ]
  },
  {
   "cell_type": "code",
   "execution_count": 9,
   "id": "34fd205a-fa5b-4426-a4b6-1cfd228920fe",
   "metadata": {},
   "outputs": [
    {
     "name": "stdout",
     "output_type": "stream",
     "text": [
      "('generation', 10)\n"
     ]
    }
   ],
   "source": [
    "longest_word = lambda s: (max(s.split(), key=len), len(max(s.split(), key=len)))\n",
    "print(longest_word(text))"
   ]
  },
  {
   "cell_type": "code",
   "execution_count": null,
   "id": "d8e03aa5-762e-48db-80ca-ab3a6d61b4c8",
   "metadata": {},
   "outputs": [],
   "source": [
    "#find_longest_word2 = lambda s : max( [(w, len(w)) for w in s.split()], key=lambda x:x[1] )"
   ]
  },
  {
   "cell_type": "code",
   "execution_count": 29,
   "id": "7b5419b6-786f-4141-8352-af30dfc70b52",
   "metadata": {
    "scrolled": true
   },
   "outputs": [
    {
     "data": {
      "text/plain": [
       "([1, 2, 3, 4], ['a', 'b', 'c', 'd'])"
      ]
     },
     "execution_count": 29,
     "metadata": {},
     "output_type": "execute_result"
    }
   ],
   "source": [
    "text1=\"a1b2c3d4\"\n",
    "def split_numbers_letters(s):\n",
    "    numbers = []\n",
    "    letters = []\n",
    "    for char in s :\n",
    "       if char.isdigit():\n",
    "            numbers.append(int(char))\n",
    "          # numbers+=char\n",
    "       elif char.isalpha():\n",
    "        letters.append(char)\n",
    "           #letters+=char\n",
    "    return numbers, letters\n",
    "\n",
    "split_numbers_letters(text1)"
   ]
  },
  {
   "cell_type": "code",
   "execution_count": 35,
   "id": "8b25cccc-b422-4802-88e7-cf505df90609",
   "metadata": {},
   "outputs": [
    {
     "data": {
      "text/plain": [
       "([1, 2, 3, 4], ['a', 'b', 'c', 'd'])"
      ]
     },
     "execution_count": 35,
     "metadata": {},
     "output_type": "execute_result"
    }
   ],
   "source": [
    "def split_numbers_letters2(s):\n",
    "    numbers = list(map(int, filter(lambda ch: ch.isdigit(), s)))\n",
    "    letters = list(filter(lambda ch: ch.isalpha(),s))\n",
    "    return numbers ,letters\n",
    "\n",
    "split_numbers_letters2(text1)"
   ]
  },
  {
   "cell_type": "code",
   "execution_count": 21,
   "id": "6a453252-4281-4e48-bfe8-7430b30574b9",
   "metadata": {},
   "outputs": [
    {
     "data": {
      "text/plain": [
       "(['1', '2', '3', '4'], ['a', 'b', 'c', 'd'])"
      ]
     },
     "execution_count": 21,
     "metadata": {},
     "output_type": "execute_result"
    }
   ],
   "source": [
    "split_numbers_letters = lambda s: (list(char for char in s if char.isdigit()), list(char for char in s if char.isalpha()))\n",
    "text1 = \"a1b2c3d4\"\n",
    "split_numbers_letters(text1)"
   ]
  },
  {
   "cell_type": "code",
   "execution_count": 11,
   "id": "4e301b79-9a76-465e-9f08-41fa40184f36",
   "metadata": {},
   "outputs": [
    {
     "data": {
      "text/plain": [
       "(['1', '2', '3', '4'], ['a', 'b', 'c', 'd'])"
      ]
     },
     "execution_count": 11,
     "metadata": {},
     "output_type": "execute_result"
    }
   ],
   "source": [
    "split_numbers_letters(text1)"
   ]
  },
  {
   "cell_type": "code",
   "execution_count": 40,
   "id": "ef218327-8a04-4662-969a-7f9d10a79ba4",
   "metadata": {},
   "outputs": [],
   "source": [
    "text3=\"hello\"\n",
    "def count_alphabets(s):\n",
    "    s=s.lower()\n",
    "    counts = {}\n",
    "\n",
    "    for char in s:\n",
    "        if char.isalpha():\n",
    "            \n",
    "            if char in counts:\n",
    "                counts[char]+=1\n",
    "            else:\n",
    "                counts[char] = 1\n",
    "    for char in sorted(counts.keys()):\n",
    "        print(f'{char}: {counts[char]}')\n",
    "    return counts"
   ]
  },
  {
   "cell_type": "code",
   "execution_count": 38,
   "id": "e8a55805-109e-45c8-b61a-a68d025a8878",
   "metadata": {},
   "outputs": [],
   "source": [
    "def count_alphabets2(s):\n",
    "    count_dict ={}\n",
    "\n",
    "    for ch in s :\n",
    "        if ch in count_dict:\n",
    "            count_dict[ch] +=1\n",
    "        else :\n",
    "            count_dict[ch] =1\n",
    "    return count_dict"
   ]
  },
  {
   "cell_type": "code",
   "execution_count": 41,
   "id": "0ef9c87d-96b6-436a-ac76-4cf8ecce08f1",
   "metadata": {
    "scrolled": true
   },
   "outputs": [
    {
     "data": {
      "text/plain": [
       "{'h': 1, 'e': 1, 'l': 2, 'o': 1}"
      ]
     },
     "execution_count": 41,
     "metadata": {},
     "output_type": "execute_result"
    }
   ],
   "source": [
    "count_alphabets2(text3)"
   ]
  },
  {
   "cell_type": "code",
   "execution_count": 43,
   "id": "9e9e5f47-f7e6-42cf-9f1c-19f449499cac",
   "metadata": {},
   "outputs": [],
   "source": [
    "def count_alphbets3(s):\n",
    "    #딕셔너리 컴프리헨션\n",
    "   return { ch : s.count(ch) for ch in s }"
   ]
  },
  {
   "cell_type": "code",
   "execution_count": 44,
   "id": "eebac5d7-3e86-4347-bc31-62d03be8d235",
   "metadata": {},
   "outputs": [
    {
     "data": {
      "text/plain": [
       "{'h': 1, 'e': 1, 'l': 2, 'o': 1}"
      ]
     },
     "execution_count": 44,
     "metadata": {},
     "output_type": "execute_result"
    }
   ],
   "source": [
    "count_alphabets2(text3)"
   ]
  },
  {
   "cell_type": "code",
   "execution_count": 17,
   "id": "d7ce9ef3-6a92-401c-9d85-8dc409aa263d",
   "metadata": {},
   "outputs": [
    {
     "name": "stdout",
     "output_type": "stream",
     "text": [
      "[2, 4, 6]\n"
     ]
    }
   ],
   "source": [
    "numbers = [1, 2, 3, 4, 5, 6]\n",
    "even_numbers = filter(lambda x: x % 2 == 0, numbers)\n",
    "print(list(even_numbers))  # [2, 4, 6]"
   ]
  },
  {
   "cell_type": "code",
   "execution_count": 28,
   "id": "bfc5e918-1c89-440a-a021-03585ea7af09",
   "metadata": {},
   "outputs": [
    {
     "name": "stdout",
     "output_type": "stream",
     "text": [
      "[2, 4, 6]\n"
     ]
    }
   ],
   "source": [
    "#리스트 컴프리현션\n",
    "numbers = [1, 2, 3, 4, 5, 6]\n",
    "list=[x for x in numbers if x %2 ==0 ]\n",
    "print(list)"
   ]
  },
  {
   "cell_type": "code",
   "execution_count": 3,
   "id": "3c535d9a-e3df-4c7f-9b2e-ec575469ace1",
   "metadata": {
    "scrolled": true
   },
   "outputs": [
    {
     "name": "stdout",
     "output_type": "stream",
     "text": [
      "[2, 4, 6]\n"
     ]
    }
   ],
   "source": [
    "#필터함수\n",
    "numbers = [1, 2, 3, 4, 5,6]\n",
    "even=list(filter(lambda x:x%2==0, numbers))\n",
    "print(even)"
   ]
  },
  {
   "cell_type": "code",
   "execution_count": 4,
   "id": "64e97f4a-024b-40b0-a7f8-26e56551395e",
   "metadata": {
    "scrolled": true
   },
   "outputs": [
    {
     "name": "stdout",
     "output_type": "stream",
     "text": [
      "[4, 16, 36]\n"
     ]
    }
   ],
   "source": [
    "lst=list(filter(lambda x: x%2==0, map(lambda x: x*x,numbers)))\n",
    "print(lst)"
   ]
  },
  {
   "cell_type": "code",
   "execution_count": 41,
   "id": "9e61614a-9975-4a57-89d0-3532cfc6354f",
   "metadata": {},
   "outputs": [
    {
     "data": {
      "text/plain": [
       "[1, 2, 3, 4, 6, 7, 8, 9]"
      ]
     },
     "execution_count": 41,
     "metadata": {},
     "output_type": "execute_result"
    }
   ],
   "source": [
    "numbers = [3,6,1,2,4,9,8,7]\n",
    "numbers.sort()\n",
    "numbers"
   ]
  },
  {
   "cell_type": "code",
   "execution_count": 47,
   "id": "0f566917-948b-4012-839c-220f466a87a7",
   "metadata": {
    "scrolled": true
   },
   "outputs": [
    {
     "name": "stdout",
     "output_type": "stream",
     "text": [
      "[1, 2, 3, 4, 6, 7, 8, 9]\n"
     ]
    },
    {
     "data": {
      "text/plain": [
       "[1, 2, 3, 4, 6, 7, 8, 9]"
      ]
     },
     "execution_count": 47,
     "metadata": {},
     "output_type": "execute_result"
    }
   ],
   "source": [
    "numbers = [3,6,1,2,4,9,8,7]\n",
    "print(sorted(numbers))\n",
    "nums=sorted(numbers)\n",
    "#print(numbers)\n",
    "nums"
   ]
  },
  {
   "cell_type": "code",
   "execution_count": 6,
   "id": "d1319906-5bff-41b1-bde0-d6cea15a426f",
   "metadata": {},
   "outputs": [
    {
     "data": {
      "text/plain": [
       "[9, 8, 7, 6, 4, 3, 2, 1]"
      ]
     },
     "execution_count": 6,
     "metadata": {},
     "output_type": "execute_result"
    }
   ],
   "source": [
    "numbers = [3,6,1,2,4,9,8,7]\n",
    "nums = sorted(numbers, reverse=True)\n",
    "nums"
   ]
  },
  {
   "cell_type": "code",
   "execution_count": 9,
   "id": "774ad085-4c81-4fd3-b4f1-fee6b2019c6c",
   "metadata": {},
   "outputs": [
    {
     "data": {
      "text/plain": [
       "[1, -3, 5, -6, -8]"
      ]
     },
     "execution_count": 9,
     "metadata": {},
     "output_type": "execute_result"
    }
   ],
   "source": [
    "numbers1 = [-3, 1, 5, -6, -8]\n",
    "sorted(numbers1, key=abs) #절대값 code"
   ]
  },
  {
   "cell_type": "code",
   "execution_count": 12,
   "id": "11039362-ffac-4af4-9e10-381fb6b7f964",
   "metadata": {},
   "outputs": [
    {
     "data": {
      "text/plain": [
       "['blueberry', 'banana', 'cherry', 'apple']"
      ]
     },
     "execution_count": 12,
     "metadata": {},
     "output_type": "execute_result"
    }
   ],
   "source": [
    "words = ['apple', 'banana', 'cherry', 'blueberry']\n",
    "sorted(words, key=len)\n",
    "sorted(words, key=len, reverse=True)"
   ]
  },
  {
   "cell_type": "code",
   "execution_count": 21,
   "id": "ab4feec7-61ec-4092-9783-396d7dc6b1bd",
   "metadata": {},
   "outputs": [
    {
     "data": {
      "text/plain": [
       "['banana', 'apple', 'cherry', 'blueberry']"
      ]
     },
     "execution_count": 21,
     "metadata": {},
     "output_type": "execute_result"
    }
   ],
   "source": [
    "words = ['apple', 'banana', 'cherry', 'blueberry']\n",
    "#마지막 글자순\n",
    "sorted(words, key=lambda word: word[-1])"
   ]
  },
  {
   "cell_type": "code",
   "execution_count": 24,
   "id": "513f21d1-3de2-45d7-a4e5-161713816869",
   "metadata": {},
   "outputs": [
    {
     "data": {
      "text/plain": [
       "[(3, 2), (2, 3), (1, 4)]"
      ]
     },
     "execution_count": 24,
     "metadata": {},
     "output_type": "execute_result"
    }
   ],
   "source": [
    "#튜플의 요소 기준 정렬\n",
    "data = [(1,4), (2,3), (3,2)]\n",
    "sorted(data, key=lambda x:x[1])"
   ]
  },
  {
   "cell_type": "code",
   "execution_count": 31,
   "id": "7379d8ef-2551-4b64-a46f-d0fd175b71c6",
   "metadata": {},
   "outputs": [
    {
     "data": {
      "text/plain": [
       "[('Bob', 22, 90), ('Alice', 20, 85), ('Charlie', 21, 78)]"
      ]
     },
     "execution_count": 31,
     "metadata": {},
     "output_type": "execute_result"
    }
   ],
   "source": [
    "students = [(\"Alice\",20,85), (\"Bob\", 22, 90), (\"Charlie\", 21, 78)]\n",
    "#나이\n",
    "# 놑은 점수\n",
    "sorted(students, key=lambda x:x[1])\n",
    "sorted(students, key=lambda x:x[2], reverse=True)"
   ]
  },
  {
   "cell_type": "code",
   "execution_count": null,
   "id": "c426db3d-abed-41e4-92c3-6e17fe51d6d7",
   "metadata": {},
   "outputs": [],
   "source": [
    "#shift + tab"
   ]
  }
 ],
 "metadata": {
  "kernelspec": {
   "display_name": "Python 3 (ipykernel)",
   "language": "python",
   "name": "python3"
  },
  "language_info": {
   "codemirror_mode": {
    "name": "ipython",
    "version": 3
   },
   "file_extension": ".py",
   "mimetype": "text/x-python",
   "name": "python",
   "nbconvert_exporter": "python",
   "pygments_lexer": "ipython3",
   "version": "3.12.9"
  }
 },
 "nbformat": 4,
 "nbformat_minor": 5
}
