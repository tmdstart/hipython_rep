{
 "cells": [
  {
   "cell_type": "code",
   "execution_count": null,
   "id": "2ba6be30-4d19-418e-b153-5048731caac1",
   "metadata": {},
   "outputs": [
    {
     "name": "stdout",
     "output_type": "stream",
     "text": [
      "\n",
      "========================================\n",
      "현재 장바구니\n",
      "1. 요거트 아이스크림 x 1 = 3,000원\n",
      "----------------------------------------\n",
      "Total = 3,000원\n",
      "\n",
      "메뉴 목록:\n",
      "1. 요거트 아이스크림 : 3,000원\n",
      "2. 바나나 : 4,000원\n",
      "3. 딸기 : 5,000원\n",
      "4. 벌집꿀 : 7,000원\n",
      "5. 그레놀라 : 7,000원\n",
      "6. 초코쉘 : 7,000원\n"
     ]
    },
    {
     "name": "stdout",
     "output_type": "stream",
     "text": [
      "\n",
      "추가할 메뉴 번호를 입력하세요 (종료: 0):  2\n",
      "추가할 개수를 입력하세요:  4\n"
     ]
    },
    {
     "name": "stdout",
     "output_type": "stream",
     "text": [
      "'바나나' 4개가 장바구니에 추가되었습니다.\n",
      "\n",
      "========================================\n",
      "현재 장바구니\n",
      "1. 요거트 아이스크림 x 1 = 3,000원\n",
      "2. 바나나 x 4 = 16,000원\n",
      "----------------------------------------\n",
      "Total = 19,000원\n",
      "\n",
      "메뉴 목록:\n",
      "1. 요거트 아이스크림 : 3,000원\n",
      "2. 바나나 : 4,000원\n",
      "3. 딸기 : 5,000원\n",
      "4. 벌집꿀 : 7,000원\n",
      "5. 그레놀라 : 7,000원\n",
      "6. 초코쉘 : 7,000원\n"
     ]
    },
    {
     "name": "stdout",
     "output_type": "stream",
     "text": [
      "\n",
      "추가할 메뉴 번호를 입력하세요 (종료: 0):  3\n",
      "추가할 개수를 입력하세요:  4\n"
     ]
    },
    {
     "name": "stdout",
     "output_type": "stream",
     "text": [
      "'딸기' 4개가 장바구니에 추가되었습니다.\n",
      "\n",
      "========================================\n",
      "현재 장바구니\n",
      "1. 요거트 아이스크림 x 1 = 3,000원\n",
      "2. 바나나 x 4 = 16,000원\n",
      "3. 딸기 x 4 = 20,000원\n",
      "----------------------------------------\n",
      "Total = 39,000원\n",
      "\n",
      "메뉴 목록:\n",
      "1. 요거트 아이스크림 : 3,000원\n",
      "2. 바나나 : 4,000원\n",
      "3. 딸기 : 5,000원\n",
      "4. 벌집꿀 : 7,000원\n",
      "5. 그레놀라 : 7,000원\n",
      "6. 초코쉘 : 7,000원\n"
     ]
    },
    {
     "name": "stdout",
     "output_type": "stream",
     "text": [
      "\n",
      "추가할 메뉴 번호를 입력하세요 (종료: 0):  0\n"
     ]
    },
    {
     "name": "stdout",
     "output_type": "stream",
     "text": [
      "\n",
      "========================================\n",
      "현재 장바구니\n",
      "1. 요거트 아이스크림 x 1 = 3,000원\n",
      "2. 바나나 x 4 = 16,000원\n",
      "3. 딸기 x 4 = 20,000원\n",
      "----------------------------------------\n",
      "Total = 39,000원\n",
      " - 토핑 완료 1\n",
      " - 토핑을 삭제하려면 2\n",
      " - 토핑을 추가하려면 3\n",
      "\n"
     ]
    },
    {
     "name": "stdout",
     "output_type": "stream",
     "text": [
      "번호를 입력해주세요 :  2\n"
     ]
    },
    {
     "name": "stdout",
     "output_type": "stream",
     "text": [
      "\n",
      "========================================\n",
      "현재 장바구니\n",
      "1. 요거트 아이스크림 x 1 = 3,000원\n",
      "2. 바나나 x 4 = 16,000원\n",
      "3. 딸기 x 4 = 20,000원\n",
      "----------------------------------------\n",
      "Total = 39,000원\n"
     ]
    },
    {
     "name": "stdout",
     "output_type": "stream",
     "text": [
      "삭제할 메뉴의 번호를 골라주세요 :  2\n"
     ]
    },
    {
     "name": "stdout",
     "output_type": "stream",
     "text": [
      "'바나나'의 현재 수량: 4\n"
     ]
    },
    {
     "name": "stdout",
     "output_type": "stream",
     "text": [
      "몇 개를 삭제하시겠습니까? :  2\n"
     ]
    },
    {
     "name": "stdout",
     "output_type": "stream",
     "text": [
      "'바나나' 2개가 삭제되었습니다.\n",
      "\n",
      "========================================\n",
      "현재 장바구니\n",
      "1. 요거트 아이스크림 x 1 = 3,000원\n",
      "2. 바나나 x 2 = 8,000원\n",
      "3. 딸기 x 4 = 20,000원\n",
      "----------------------------------------\n",
      "Total = 31,000원\n",
      "이대로 유지하시겠습니까 : 1\n",
      "토핑을 더 삭제하시겠습니까? : 2\n",
      "메뉴를 추가하시겠습니까 : 3\n"
     ]
    },
    {
     "name": "stdout",
     "output_type": "stream",
     "text": [
      "번호를 입력해주세요 :  3\n"
     ]
    },
    {
     "name": "stdout",
     "output_type": "stream",
     "text": [
      "\n",
      "메뉴 목록:\n",
      "1. 요거트 아이스크림 : 3,000원\n",
      "2. 바나나 : 4,000원\n",
      "3. 딸기 : 5,000원\n",
      "4. 벌집꿀 : 7,000원\n",
      "5. 그레놀라 : 7,000원\n",
      "6. 초코쉘 : 7,000원\n"
     ]
    },
    {
     "name": "stdout",
     "output_type": "stream",
     "text": [
      "추가할 토핑 번호를 골라주세요 : 4\n",
      "수량을 선택해주세요 :  1\n"
     ]
    },
    {
     "name": "stdout",
     "output_type": "stream",
     "text": [
      "\n",
      "========================================\n",
      "현재 장바구니\n",
      "1. 요거트 아이스크림 x 1 = 3,000원\n",
      "2. 바나나 x 2 = 8,000원\n",
      "3. 딸기 x 4 = 20,000원\n",
      "4. 벌집꿀 x 1 = 7,000원\n",
      "----------------------------------------\n",
      "Total = 38,000원\n",
      " - 토핑 완료 1\n",
      " - 토핑을 삭제하려면 2\n",
      " - 토핑을 추가하려면 3\n",
      "\n"
     ]
    },
    {
     "name": "stdout",
     "output_type": "stream",
     "text": [
      "번호를 입력해주세요 :  2\n"
     ]
    },
    {
     "name": "stdout",
     "output_type": "stream",
     "text": [
      "\n",
      "========================================\n",
      "현재 장바구니\n",
      "1. 요거트 아이스크림 x 1 = 3,000원\n",
      "2. 바나나 x 2 = 8,000원\n",
      "3. 딸기 x 4 = 20,000원\n",
      "4. 벌집꿀 x 1 = 7,000원\n",
      "----------------------------------------\n",
      "Total = 38,000원\n"
     ]
    },
    {
     "name": "stdout",
     "output_type": "stream",
     "text": [
      "삭제할 메뉴의 번호를 골라주세요 :  3\n"
     ]
    },
    {
     "name": "stdout",
     "output_type": "stream",
     "text": [
      "'딸기'의 현재 수량: 4\n"
     ]
    },
    {
     "name": "stdout",
     "output_type": "stream",
     "text": [
      "몇 개를 삭제하시겠습니까? :  3\n"
     ]
    },
    {
     "name": "stdout",
     "output_type": "stream",
     "text": [
      "'딸기' 3개가 삭제되었습니다.\n",
      "\n",
      "========================================\n",
      "현재 장바구니\n",
      "1. 요거트 아이스크림 x 1 = 3,000원\n",
      "2. 바나나 x 2 = 8,000원\n",
      "3. 딸기 x 1 = 5,000원\n",
      "4. 벌집꿀 x 1 = 7,000원\n",
      "----------------------------------------\n",
      "Total = 23,000원\n",
      "이대로 유지하시겠습니까 : 1\n",
      "토핑을 더 삭제하시겠습니까? : 2\n",
      "메뉴를 추가하시겠습니까 : 3\n"
     ]
    },
    {
     "name": "stdout",
     "output_type": "stream",
     "text": [
      "번호를 입력해주세요 :  1\n"
     ]
    },
    {
     "name": "stdout",
     "output_type": "stream",
     "text": [
      "\n",
      "========================================\n",
      "현재 장바구니\n",
      "1. 요거트 아이스크림 x 1 = 3,000원\n",
      "2. 바나나 x 2 = 8,000원\n",
      "3. 딸기 x 1 = 5,000원\n",
      "4. 벌집꿀 x 1 = 7,000원\n",
      "----------------------------------------\n",
      "Total = 23,000원\n",
      "메뉴를 확정하려면 1\n",
      "메뉴를 삭제하려면 2\n",
      "메뉴를 추가하려면 3\n"
     ]
    },
    {
     "name": "stdout",
     "output_type": "stream",
     "text": [
      "번호를 입력해주세요 :  1\n"
     ]
    },
    {
     "name": "stdout",
     "output_type": "stream",
     "text": [
      "23,000원 결제하겠습니다. 카드를 삽입해주세요.\n"
     ]
    }
   ],
   "source": [
    "menu_list = [ \n",
    "    {'name': '요거트 아이스크림', 'price': 3000},\n",
    "    {'name': '바나나', 'price': 4000},\n",
    "    {'name': '딸기', 'price': 5000},\n",
    "    {'name': '벌집꿀', 'price': 7000},\n",
    "    {'name': '그레놀라', 'price': 7000},\n",
    "    {'name': '초코쉘', 'price': 7000},\n",
    "]\n",
    "\n",
    "cart = []\n",
    "default_item = menu_list[0]\n",
    "cart.append({'name': default_item['name'], 'price': default_item['price'], 'quantity': 1})\n",
    "total_price = 3000\n",
    "\n",
    "while True:\n",
    "    print(\"\\n\" + \"=\" * 40)\n",
    "    print(\"현재 장바구니\")\n",
    "    for i, item in enumerate(cart, start=1):\n",
    "        print(f\"{i}. {item['name']} x {item['quantity']} = {item['price'] * item['quantity']:,}원\")\n",
    "    print(\"-\" * 40)\n",
    "    print(f\"Total = {total_price:,}원\")\n",
    "\n",
    "    print(\"\\n메뉴 목록:\")\n",
    "    for i, item in enumerate(menu_list, start=1):\n",
    "        print(f\"{i}. {item['name']} : {item['price']:,}원\")\n",
    "\n",
    "    choice = input(\"\\n추가할 메뉴 번호를 입력하세요 (종료: 0): \").strip()\n",
    "\n",
    "    if choice == \"0\":\n",
    "        break\n",
    "\n",
    "    if choice.isdigit() and 1 <= int(choice) <= len(menu_list):\n",
    "        quantity = input(\"추가할 개수를 입력하세요: \").strip()\n",
    "        if quantity.isdigit() and int(quantity) > 0:\n",
    "            selected_item = menu_list[int(choice) - 1]\n",
    "            qty = int(quantity)\n",
    "            found = False\n",
    "\n",
    "            for item in cart:\n",
    "                if item['name'] == selected_item['name']:\n",
    "                    item['quantity'] += qty\n",
    "                    found = True\n",
    "                    break\n",
    "\n",
    "            if not found:\n",
    "                cart.append({'name': selected_item['name'], 'price': selected_item['price'], 'quantity': qty})\n",
    "\n",
    "            print(f\"'{selected_item['name']}' {qty}개가 장바구니에 추가되었습니다.\")\n",
    "            total_price += selected_item[\"price\"] * qty\n",
    "        else:\n",
    "            print(\"올바른 개수를 입력하세요.\")\n",
    "    else:\n",
    "        print(\"올바른 메뉴 번호를 입력하세요.\")\n",
    "\n",
    "print(\"\\n\" + \"=\" * 40)\n",
    "print(\"현재 장바구니\")\n",
    "for i, item in enumerate(cart, start=1):\n",
    "    print(f\"{i}. {item['name']} x {item['quantity']} = {item['price'] * item['quantity']:,}원\")\n",
    "print(\"-\" * 40)\n",
    "print(f\"Total = {total_price:,}원\")\n",
    "\n",
    "print(\" - 토핑 완료 1\\n - 토핑을 삭제하려면 2\\n - 토핑을 추가하려면 3\\n\")\n",
    "select = int(input(\"번호를 입력해주세요 : \"))\n",
    "\n",
    "while True:\n",
    "    if select == 1:\n",
    "        print(\"\\n\" + \"=\" * 40)\n",
    "        print(\"현재 장바구니\")\n",
    "        for i, item in enumerate(cart, start=1):\n",
    "            print(f\"{i}. {item['name']} x {item['quantity']} = {item['price'] * item['quantity']:,}원\")\n",
    "        print(\"-\" * 40)\n",
    "        print(f\"Total = {total_price:,}원\")\n",
    "\n",
    "        print(\"메뉴를 확정하려면 1\")\n",
    "        print(\"메뉴를 삭제하려면 2\")\n",
    "        print(\"메뉴를 추가하려면 3\")\n",
    "        select = int(input(\"번호를 입력해주세요 : \"))\n",
    "        if select == 1:\n",
    "            break\n",
    "\n",
    "    elif select == 2:\n",
    "        print(\"\\n\" + \"=\" * 40)\n",
    "        print(\"현재 장바구니\")\n",
    "        for i, item in enumerate(cart, start=1):\n",
    "            print(f\"{i}. {item['name']} x {item['quantity']} = {item['price'] * item['quantity']:,}원\")\n",
    "        print(\"-\" * 40)\n",
    "        print(f\"Total = {total_price:,}원\")\n",
    "    \n",
    "        del_no = int(input(\"삭제할 메뉴의 번호를 골라주세요 : \")) - 1\n",
    "        if 0 <= del_no < len(cart):\n",
    "            item = cart[del_no]\n",
    "            print(f\"'{item['name']}'의 현재 수량: {item['quantity']}\")\n",
    "            del_qty = int(input(\"몇 개를 삭제하시겠습니까? : \"))\n",
    "    \n",
    "            if del_qty >= item['quantity'] or del_qty <= 0:\n",
    "                # 전체 삭제\n",
    "                total_price -= item[\"price\"] * item[\"quantity\"]\n",
    "                cart.pop(del_no)\n",
    "                print(f\"'{item['name']}' 전체가 장바구니에서 삭제되었습니다.\")\n",
    "            else:\n",
    "                # 일부 수량만 삭제\n",
    "                item['quantity'] -= del_qty\n",
    "                total_price -= item[\"price\"] * del_qty\n",
    "                print(f\"'{item['name']}' {del_qty}개가 삭제되었습니다.\")\n",
    "    \n",
    "        else:\n",
    "            print(\"올바른 번호를 입력하세요.\")\n",
    "    \n",
    "        print(\"\\n\" + \"=\" * 40)\n",
    "        print(\"현재 장바구니\")\n",
    "        for i, item in enumerate(cart, start=1):\n",
    "            print(f\"{i}. {item['name']} x {item['quantity']} = {item['price'] * item['quantity']:,}원\")\n",
    "        print(\"-\" * 40)\n",
    "        print(f\"Total = {total_price:,}원\")\n",
    "    \n",
    "        print(\"이대로 유지하시겠습니까 : 1\")\n",
    "        print(\"토핑을 더 삭제하시겠습니까? : 2\")\n",
    "        print(\"메뉴를 추가하시겠습니까 : 3\")\n",
    "        select = int(input(\"번호를 입력해주세요 : \"))\n",
    "\n",
    "    elif select == 3:\n",
    "        print(\"\\n메뉴 목록:\")\n",
    "        for i, item in enumerate(menu_list, start=1):\n",
    "            print(f\"{i}. {item['name']} : {item['price']:,}원\")\n",
    "        add_topping = int(input('추가할 토핑 번호를 골라주세요 :')) - 1\n",
    "        qty = int(input('수량을 선택해주세요 : '))\n",
    "\n",
    "        selected_item = menu_list[add_topping]\n",
    "        found = False\n",
    "\n",
    "        for item in cart:\n",
    "            if item['name'] == selected_item['name']:\n",
    "                item['quantity'] += qty\n",
    "                found = True\n",
    "                break\n",
    "\n",
    "        if not found:\n",
    "            cart.append({'name': selected_item['name'], 'quantity': qty, 'price': selected_item['price']})\n",
    "\n",
    "        total_price += selected_item['price'] * qty\n",
    "\n",
    "        print(\"\\n\" + \"=\" * 40)\n",
    "        print(\"현재 장바구니\")\n",
    "        for i, item in enumerate(cart, start=1):\n",
    "            print(f\"{i}. {item['name']} x {item['quantity']} = {item['price'] * item['quantity']:,}원\")\n",
    "        print(\"-\" * 40)\n",
    "        print(f\"Total = {total_price:,}원\")\n",
    "\n",
    "        print(\" - 토핑 완료 1\\n - 토핑을 삭제하려면 2\\n - 토핑을 추가하려면 3\\n\")\n",
    "        select = int(input(\"번호를 입력해주세요 : \"))\n",
    "\n",
    "print(f\"{total_price:,}원 결제하겠습니다. 카드를 삽입해주세요.\")\n",
    "\n"
   ]
  }
 ],
 "metadata": {
  "kernelspec": {
   "display_name": "Python 3 (ipykernel)",
   "language": "python",
   "name": "python3"
  },
  "language_info": {
   "codemirror_mode": {
    "name": "ipython",
    "version": 3
   },
   "file_extension": ".py",
   "mimetype": "text/x-python",
   "name": "python",
   "nbconvert_exporter": "python",
   "pygments_lexer": "ipython3",
   "version": "3.12.9"
  }
 },
 "nbformat": 4,
 "nbformat_minor": 5
}
