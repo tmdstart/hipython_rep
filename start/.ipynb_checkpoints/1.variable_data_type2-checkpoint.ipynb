{
 "cells": [
  {
   "cell_type": "markdown",
   "id": "06b09830-7433-4d0d-9180-2b4ee8e81faa",
   "metadata": {},
   "source": [
    "# 들어가기 : 주석"
   ]
  },
  {
   "cell_type": "code",
   "execution_count": null,
   "id": "031c6095-bf60-4e10-96fc-f9fcb5819673",
   "metadata": {},
   "outputs": [],
   "source": []
  },
  {
   "cell_type": "code",
   "execution_count": 2,
   "id": "4892508c-173d-4cf0-a461-591a40eeb16c",
   "metadata": {},
   "outputs": [],
   "source": [
    "# 이코드는 실행되지 않습니다.\n",
    "# age = input()\n",
    "#age"
   ]
  },
  {
   "cell_type": "code",
   "execution_count": 2,
   "id": "b579ccb2-9af6-4ece-b471-3ce56add3f2a",
   "metadata": {},
   "outputs": [],
   "source": [
    "# 이코드는 실행되지 않습니다.\n",
    "# age = input()\n",
    "#age"
   ]
  },
  {
   "cell_type": "code",
   "execution_count": 8,
   "id": "b8ffa5f4-6dfc-4c7b-b18b-fe085aeaee62",
   "metadata": {},
   "outputs": [
    {
     "name": "stdout",
     "output_type": "stream",
     "text": [
      "7\n"
     ]
    }
   ],
   "source": [
    "def calculate_sum(a, b) :\n",
    "    result = a + b\n",
    "    \n",
    "    return result\n",
    "\n",
    "print( calculate_sum(3, 4) )"
   ]
  },
  {
   "cell_type": "markdown",
   "id": "2a226840-84a5-4c79-a4b2-80a740d815dc",
   "metadata": {},
   "source": [
    "# 표준 입력과 표준 출력"
   ]
  },
  {
   "cell_type": "code",
   "execution_count": 11,
   "id": "261fb0ec-32a2-4536-98bc-910cfe9a3137",
   "metadata": {},
   "outputs": [
    {
     "data": {
      "text/plain": [
       "10"
      ]
     },
     "execution_count": 11,
     "metadata": {},
     "output_type": "execute_result"
    }
   ],
   "source": [
    "12345\n",
    "10\n",
    "# ipython 라이브러리의 기본 기능\n",
    "# print(12345) 표준출력 기능을 내장하고 있다."
   ]
  },
  {
   "cell_type": "code",
   "execution_count": 12,
   "id": "0db94cba-2327-4154-bec7-9ec645b67fb9",
   "metadata": {},
   "outputs": [
    {
     "name": "stdout",
     "output_type": "stream",
     "text": [
      "12345\n"
     ]
    },
    {
     "data": {
      "text/plain": [
       "10"
      ]
     },
     "execution_count": 12,
     "metadata": {},
     "output_type": "execute_result"
    }
   ],
   "source": [
    "print(12345)\n",
    "10"
   ]
  },
  {
   "cell_type": "code",
   "execution_count": 13,
   "id": "ad10ae05-e3cd-40e9-8295-7f0b2221d891",
   "metadata": {},
   "outputs": [
    {
     "data": {
      "text/plain": [
       "'12345'"
      ]
     },
     "execution_count": 13,
     "metadata": {},
     "output_type": "execute_result"
    }
   ],
   "source": [
    "'12345'  # 문자열 str"
   ]
  },
  {
   "cell_type": "code",
   "execution_count": 14,
   "id": "3becadc7-b7de-40b0-a55d-891e28b0a180",
   "metadata": {},
   "outputs": [
    {
     "data": {
      "text/plain": [
       "str"
      ]
     },
     "execution_count": 14,
     "metadata": {},
     "output_type": "execute_result"
    }
   ],
   "source": [
    "type('12345')"
   ]
  },
  {
   "cell_type": "code",
   "execution_count": 15,
   "id": "ac134d18-1ceb-44fd-b83a-8f42f31b6ab7",
   "metadata": {},
   "outputs": [
    {
     "data": {
      "text/plain": [
       "int"
      ]
     },
     "execution_count": 15,
     "metadata": {},
     "output_type": "execute_result"
    }
   ],
   "source": [
    "type(12345)"
   ]
  },
  {
   "cell_type": "code",
   "execution_count": 16,
   "id": "254dc8c8-7696-4d03-bf94-6f02621bf57c",
   "metadata": {},
   "outputs": [
    {
     "data": {
      "text/plain": [
       "12355"
      ]
     },
     "execution_count": 16,
     "metadata": {},
     "output_type": "execute_result"
    }
   ],
   "source": [
    "12345+10"
   ]
  },
  {
   "cell_type": "code",
   "execution_count": 19,
   "id": "5631cafe-0e1c-4309-8847-6b52bd068393",
   "metadata": {},
   "outputs": [],
   "source": [
    "#'12345'+10  #typeerror"
   ]
  },
  {
   "cell_type": "code",
   "execution_count": 23,
   "id": "598f175e-0210-44f9-9584-b445dbe61b03",
   "metadata": {},
   "outputs": [
    {
     "data": {
      "text/plain": [
       "'123451234512345'"
      ]
     },
     "execution_count": 23,
     "metadata": {},
     "output_type": "execute_result"
    }
   ],
   "source": [
    "\"12345\"*3"
   ]
  },
  {
   "cell_type": "code",
   "execution_count": 29,
   "id": "f644593b-7d6b-4648-98ac-4fcd41dff5fb",
   "metadata": {},
   "outputs": [
    {
     "name": "stdin",
     "output_type": "stream",
     "text": [
      "당신의 이름을 입력하세요 김영리\n"
     ]
    }
   ],
   "source": [
    "name = input('당신의 이름을 입력하세요')"
   ]
  },
  {
   "cell_type": "code",
   "execution_count": 27,
   "id": "0e8d40f4-1a69-4cac-9f27-189f208ca12a",
   "metadata": {},
   "outputs": [
    {
     "name": "stdin",
     "output_type": "stream",
     "text": [
      "당신의 나이를 입력하세요 24\n"
     ]
    },
    {
     "data": {
      "text/plain": [
       "'24'"
      ]
     },
     "execution_count": 27,
     "metadata": {},
     "output_type": "execute_result"
    }
   ],
   "source": [
    "age = input('당신의 나이를 입력하세요')\n",
    "age"
   ]
  },
  {
   "cell_type": "code",
   "execution_count": 28,
   "id": "68b96831-d5a1-4a80-9322-c8de6ceb36c3",
   "metadata": {},
   "outputs": [
    {
     "data": {
      "text/plain": [
       "'24'"
      ]
     },
     "execution_count": 28,
     "metadata": {},
     "output_type": "execute_result"
    }
   ],
   "source": [
    "age"
   ]
  },
  {
   "cell_type": "code",
   "execution_count": 30,
   "id": "89d09e6d-3974-447b-b74f-26c79666b05a",
   "metadata": {},
   "outputs": [
    {
     "data": {
      "text/plain": [
       "'김영리'"
      ]
     },
     "execution_count": 30,
     "metadata": {},
     "output_type": "execute_result"
    }
   ],
   "source": [
    "#입력받은 name을 출력\n",
    "name"
   ]
  },
  {
   "cell_type": "code",
   "execution_count": 32,
   "id": "930d06a4-777c-48e9-8fb8-3fbb6503973b",
   "metadata": {},
   "outputs": [
    {
     "name": "stdout",
     "output_type": "stream",
     "text": [
      "24 김영리\n"
     ]
    }
   ],
   "source": [
    "print(age, name)"
   ]
  },
  {
   "cell_type": "code",
   "execution_count": 34,
   "id": "d8fa9cdb-72a1-48eb-a7c8-3679763fc703",
   "metadata": {},
   "outputs": [
    {
     "name": "stdout",
     "output_type": "stream",
     "text": [
      "나는 김영리이고 나이는 24입니다.\n"
     ]
    }
   ],
   "source": [
    "print( '나는 '+name+'이고 나이는 '+age+'입니다.')"
   ]
  },
  {
   "cell_type": "code",
   "execution_count": 38,
   "id": "c9dc9cf9-e404-47a2-aaa7-322ed3daa68d",
   "metadata": {},
   "outputs": [],
   "source": [
    "age = int(age)"
   ]
  },
  {
   "cell_type": "code",
   "execution_count": 39,
   "id": "afb3a892-fcc2-4715-a2f6-ba89c7bbbf45",
   "metadata": {},
   "outputs": [
    {
     "data": {
      "text/plain": [
       "34"
      ]
     },
     "execution_count": 39,
     "metadata": {},
     "output_type": "execute_result"
    }
   ],
   "source": [
    "age + 10"
   ]
  },
  {
   "cell_type": "code",
   "execution_count": null,
   "id": "4df3d9cc-e1bc-4cb1-8f9f-55b2be8166d6",
   "metadata": {},
   "outputs": [],
   "source": []
  },
  {
   "cell_type": "code",
   "execution_count": null,
   "id": "b44eb056-cb1a-4d04-8cc9-5738573fb656",
   "metadata": {},
   "outputs": [],
   "source": []
  },
  {
   "cell_type": "markdown",
   "id": "e8c0e590-1537-4f72-b740-3252745fcdcc",
   "metadata": {},
   "source": [
    "# 연습"
   ]
  },
  {
   "cell_type": "code",
   "execution_count": 40,
   "id": "9c3c0d31-65a1-4a0c-874d-88278eb1f385",
   "metadata": {},
   "outputs": [
    {
     "name": "stdout",
     "output_type": "stream",
     "text": [
      "바: 바밤바는 \n",
      "밤: 밤이 들어 있는 \n",
      "바: 바이다\n"
     ]
    }
   ],
   "source": [
    "# 자기 이름으로 삼행시 짓기\n",
    "\n",
    "print('바: 바밤바는 ')\n",
    "print('밤: 밤이 들어 있는 ')\n",
    "print('바: 바이다')"
   ]
  },
  {
   "cell_type": "code",
   "execution_count": 42,
   "id": "78bd8850-71a1-4725-947d-c24058572d04",
   "metadata": {},
   "outputs": [
    {
     "name": "stdin",
     "output_type": "stream",
     "text": [
      "바:  바밤바는\n",
      "밤:  밤이 들어 있어 \n",
      "바:  바밤바 먹고 싶다\n"
     ]
    },
    {
     "name": "stdout",
     "output_type": "stream",
     "text": [
      "바밤바는! 밤이 들어 있어 ! 바밤바 먹고 싶다\n"
     ]
    }
   ],
   "source": [
    "line1 = input('바: ')\n",
    "line2 = input('밤: ')\n",
    "line3 = input('바: ')"
   ]
  },
  {
   "cell_type": "code",
   "execution_count": 44,
   "id": "a804f106-6e34-48b7-b78d-3158458c9fe8",
   "metadata": {},
   "outputs": [
    {
     "name": "stdout",
     "output_type": "stream",
     "text": [
      "바밤바는\n",
      " 밤이 들어 있어 \n",
      " 바밤바 먹고 싶다\n"
     ]
    }
   ],
   "source": [
    "print(line1, line2, line3, sep='\\n ')  #줄바꿈 기호"
   ]
  },
  {
   "cell_type": "markdown",
   "id": "845269b2-39d5-489c-9672-70a73517c9ed",
   "metadata": {},
   "source": [
    "문자열의 시작이 \\ 역슬래시 -> 이스케이스 문자, 특수 문자\n",
    "\\n\n",
    "\\t\n",
    "\\\\"
   ]
  },
  {
   "cell_type": "code",
   "execution_count": 57,
   "id": "196ec0dc-a8de-4ec1-9891-8f2740d5ed02",
   "metadata": {},
   "outputs": [
    {
     "name": "stdout",
     "output_type": "stream",
     "text": [
      "바밤바는\n",
      "밤이 들어 있어 \n",
      "바밤바 먹고 싶다\n"
     ]
    },
    {
     "data": {
      "text/plain": [
       "'바밤바는\\n밤이 들어 있어 \\n바밤바 먹고 싶다'"
      ]
     },
     "execution_count": 57,
     "metadata": {},
     "output_type": "execute_result"
    }
   ],
   "source": [
    "삼행시 = line1 +'\\n'+ line2 +'\\n'+ line3\n",
    "print(삼행시)\n",
    "삼행시"
   ]
  },
  {
   "cell_type": "code",
   "execution_count": null,
   "id": "b4256b67-24e3-4b0c-a05a-e1e9f7f46571",
   "metadata": {},
   "outputs": [],
   "source": []
  },
  {
   "cell_type": "code",
   "execution_count": null,
   "id": "b29c2ccd-d0f1-49f2-8f0e-296191f00977",
   "metadata": {},
   "outputs": [],
   "source": []
  },
  {
   "cell_type": "markdown",
   "id": "a7686b0d-f3c0-40b3-9b71-9b2e3ba339a6",
   "metadata": {},
   "source": [
    "# 변수"
   ]
  },
  {
   "cell_type": "markdown",
   "id": "40a40281-7363-4e14-8c37-ad95a6d8236e",
   "metadata": {},
   "source": [
    "변수는 type safe : 변수를 선언할 때 타입(유형)을 지정하지 않아도 되는 특성  \n",
    "변수명 = 값\n"
   ]
  },
  {
   "cell_type": "markdown",
   "id": "40528263-a97c-4ce8-92b9-d9ff388d8488",
   "metadata": {},
   "source": [
    "## 변수의 명명규칙\n",
    "1. 문자, 숫자, 밑줄(_ 언더바)을 가지고 만든다\n",
    "2. 숫자로 시작하면 X\n",
    "3. 대소문자를 구분\n",
    "4. 예약어, 특수기호, 공백 X\n",
    "   "
   ]
  },
  {
   "cell_type": "code",
   "execution_count": 53,
   "id": "39e9e707-c9a1-4837-9ed6-189d0915cf29",
   "metadata": {},
   "outputs": [
    {
     "ename": "SyntaxError",
     "evalue": "invalid syntax (1367459037.py, line 1)",
     "output_type": "error",
     "traceback": [
      "  \u001b[36mCell\u001b[39m\u001b[36m \u001b[39m\u001b[32mIn[53]\u001b[39m\u001b[32m, line 1\u001b[39m\n\u001b[31m    \u001b[39m\u001b[31mfalse dd = 10\u001b[39m\n          ^\n\u001b[31mSyntaxError\u001b[39m\u001b[31m:\u001b[39m invalid syntax\n"
     ]
    }
   ],
   "source": [
    "false dd = 10"
   ]
  },
  {
   "cell_type": "code",
   "execution_count": 54,
   "id": "8f5e848a-01c1-41e4-ab07-5e9899d9b15a",
   "metadata": {},
   "outputs": [
    {
     "data": {
      "text/plain": [
       "(10, 'hello', 3.141592)"
      ]
     },
     "execution_count": 54,
     "metadata": {},
     "output_type": "execute_result"
    }
   ],
   "source": [
    "x = 10\n",
    "y = 'hello'\n",
    "z = 3.141592\n",
    "x,y,z"
   ]
  },
  {
   "cell_type": "code",
   "execution_count": 56,
   "id": "beded082-d2ff-4b98-89e3-f8800c3680f3",
   "metadata": {},
   "outputs": [
    {
     "name": "stdout",
     "output_type": "stream",
     "text": [
      "<class 'int'> <class 'str'> <class 'float'>\n"
     ]
    }
   ],
   "source": [
    "print(type(x), type(y), type(z))"
   ]
  },
  {
   "cell_type": "code",
   "execution_count": 58,
   "id": "550b38b1-f394-4853-843b-6a7d2ee13505",
   "metadata": {},
   "outputs": [
    {
     "data": {
      "text/plain": [
       "(10, 20, 30)"
      ]
     },
     "execution_count": 58,
     "metadata": {},
     "output_type": "execute_result"
    }
   ],
   "source": [
    "a,b,c = 10,20,30\n",
    "a,b,c"
   ]
  },
  {
   "cell_type": "code",
   "execution_count": 60,
   "id": "857fb614-54ed-4f2d-bc5b-203e80ac0363",
   "metadata": {},
   "outputs": [],
   "source": [
    "a=10; b=20; c=30"
   ]
  },
  {
   "cell_type": "code",
   "execution_count": 61,
   "id": "f321a8ee-917b-4a63-ab02-fa98b1cee030",
   "metadata": {},
   "outputs": [
    {
     "data": {
      "text/plain": [
       "(40, 40, 40)"
      ]
     },
     "execution_count": 61,
     "metadata": {},
     "output_type": "execute_result"
    }
   ],
   "source": [
    "a = b = c = 40\n",
    "a,b,c"
   ]
  },
  {
   "cell_type": "code",
   "execution_count": 63,
   "id": "45a61a93-3347-489e-acd5-ca90e58620bc",
   "metadata": {},
   "outputs": [
    {
     "data": {
      "text/plain": [
       "(True, None)"
      ]
     },
     "execution_count": 63,
     "metadata": {},
     "output_type": "execute_result"
    }
   ],
   "source": [
    "d = True #bool형\n",
    "e = None #type이 없음 NoneType \n",
    "d,e"
   ]
  },
  {
   "cell_type": "code",
   "execution_count": 2,
   "id": "020c8b7b-8f82-47ca-bf43-ee072b1136d1",
   "metadata": {},
   "outputs": [
    {
     "name": "stdout",
     "output_type": "stream",
     "text": [
      "10 10\n"
     ]
    },
    {
     "data": {
      "text/plain": [
       "(140731316513496, 140731316513496)"
      ]
     },
     "execution_count": 2,
     "metadata": {},
     "output_type": "execute_result"
    }
   ],
   "source": [
    "a = 10\n",
    "b = a\n",
    "print(a,b)\n",
    "id(a), id(b)"
   ]
  },
  {
   "cell_type": "code",
   "execution_count": 3,
   "id": "81fcbe4f-72fa-4da5-8ca1-3c26be93978b",
   "metadata": {},
   "outputs": [],
   "source": [
    "# 의미 부여 하기 어려운 변수명 > 수식이 아닌 경우는 사용하지 않음\n",
    "x = 100\n",
    "y = 100\n",
    "\n",
    "# 의미 있는 변수명\n",
    "age = 20\n",
    "name = '김영리'\n",
    "user_name = 'Alic'\n",
    "admin_name = 'Bob'\n",
    "\n",
    "#대문자 Upper-case 상수에 사용\n",
    "PI = 3.141592\n",
    "MAX_CONNECTIONS = 10 #최대 연결 수\n",
    "MIN_VALUE = 0 #최소값\n",
    "\n"
   ]
  },
  {
   "cell_type": "markdown",
   "id": "bbc5c351-b765-47a5-a23d-0dc3869cbbfc",
   "metadata": {},
   "source": [
    "## NAME_SPACE\n",
    "\n",
    "변수가 최초로 정의된 영역에 따라 유효범위가 결정됩니다.   \n",
    "\n",
    "- 지역변수 : 함수 영역 내에서 선언한 변수\n",
    "- 전역변수 : 함수 영역 밖에서 선언한 변수, global 키워드\n",
    "- 정적변수 : 클래스에서 사용하는 변수"
   ]
  },
  {
   "cell_type": "code",
   "execution_count": 8,
   "id": "92b48adf-9a75-4736-bd72-04c7a0766e83",
   "metadata": {},
   "outputs": [
    {
     "name": "stdout",
     "output_type": "stream",
     "text": [
      "여기는 함수의 영역입니다.  100\n"
     ]
    }
   ],
   "source": [
    "# 지역변수 local variable\n",
    "def local_example():\n",
    "    local_var = 100\n",
    "    print('여기는 함수의 영역입니다. ', local_var)\n",
    "\n",
    "#local_var #NameError: name 'local_var' is not defined\n",
    "local_example()"
   ]
  },
  {
   "cell_type": "code",
   "execution_count": 11,
   "id": "53869fd8-42d9-4910-9db5-f4692b5ef79d",
   "metadata": {},
   "outputs": [
    {
     "name": "stdout",
     "output_type": "stream",
     "text": [
      "나는 전역이다\n",
      "여기는 함수의 영역입니다.  100 나는 전역이다\n"
     ]
    }
   ],
   "source": [
    "# 전역 변수 global variable\n",
    "global_var = '나는 전역이다'\n",
    "print(global_var)\n",
    "\n",
    "def global_example():\n",
    "    local_var = 100\n",
    "    print('여기는 함수의 영역입니다. ', local_var, global_var)\n",
    "\n",
    "global_example()\n"
   ]
  },
  {
   "cell_type": "code",
   "execution_count": 15,
   "id": "d09bd125-3f4a-44bc-9bc0-e9357ebf210b",
   "metadata": {},
   "outputs": [
    {
     "name": "stdout",
     "output_type": "stream",
     "text": [
      "나는 전역이다\n",
      "여기는 함수의 영역입니다.  100\n",
      "100\n"
     ]
    }
   ],
   "source": [
    "# 전역 변수 global variable\n",
    "var_test = '나는 전역이다'\n",
    "print(var_test)\n",
    "\n",
    "def global_example():\n",
    "    global var_test\n",
    "    var_test = 100\n",
    "    print('여기는 함수의 영역입니다. ', var_test)\n",
    "\n",
    "global_example()\n",
    "print(var_test)"
   ]
  },
  {
   "cell_type": "code",
   "execution_count": 18,
   "id": "7aa2d743-f610-4c15-b709-925db1f93911",
   "metadata": {},
   "outputs": [
    {
     "name": "stdout",
     "output_type": "stream",
     "text": [
      "카운터 :  1\n",
      "카운터 :  2\n",
      "카운터 :  3\n"
     ]
    }
   ],
   "source": [
    "# 변수 영역 연습\n",
    "\n",
    "counter = 0 #global\n",
    "\n",
    "def increment_counter():\n",
    "    #counter = counter + 1\n",
    "    global counter \n",
    "    counter += 1\n",
    "    print('카운터 : ', counter)\n",
    "\n",
    "increment_counter()\n",
    "increment_counter()\n",
    "increment_counter()"
   ]
  },
  {
   "cell_type": "markdown",
   "id": "378a4f36-f2e3-4155-9ec2-837598bb80c3",
   "metadata": {},
   "source": [
    "# 교재 변수 연습 "
   ]
  },
  {
   "cell_type": "code",
   "execution_count": 19,
   "id": "74cf70c5-ed57-47ae-861b-26325404ba6d",
   "metadata": {},
   "outputs": [
    {
     "data": {
      "text/plain": [
       "0"
      ]
     },
     "execution_count": 19,
     "metadata": {},
     "output_type": "execute_result"
    }
   ],
   "source": [
    "a=123\n",
    "a=-178\n",
    "a=0\n",
    "a"
   ]
  },
  {
   "cell_type": "code",
   "execution_count": null,
   "id": "c4610295-893e-4ff9-8a3d-ecc47b3f2b7a",
   "metadata": {},
   "outputs": [],
   "source": []
  },
  {
   "cell_type": "markdown",
   "id": "4ee69768-6d57-47da-9258-713743d29cca",
   "metadata": {},
   "source": [
    "# 자료형 \n",
    "\n",
    "- 기본 자료형 : 숫자형, 문자열형 str, 부울형\n",
    "- 복합 자료형 : 리스트, 셋, 튜플, 딕셔너리\n",
    "  "
   ]
  },
  {
   "cell_type": "markdown",
   "id": "e512a217-5b0c-4c9d-80ff-322ffbaa72e9",
   "metadata": {},
   "source": [
    "| type | 설명 | 예 |\n",
    "|--------|--------|--------| \n",
    "| 정수형 (int) | 정수를 저장하는 자료형 | 1, -5, 100 |\n",
    "|실수형 (float)|소수점이 있는 숫자를 저장하는 자료형 | 3.14, -0.001, 2.0|\n",
    "|문자열 (str)|텍스트를 저장하는 자료형|\"Hello\", '파이썬'|\n",
    "|논리형 (bool)|참/거짓 값을 저장하는 자료형|True, False|"
   ]
  },
  {
   "cell_type": "markdown",
   "id": "be5db0bf-ff8f-4c56-af9c-37f53cfc745a",
   "metadata": {},
   "source": [
    "- 수정 불가능한 데이터 타입 : 수치형, 부울형, 문자열, 튜플\n",
    "- 수정 가능한 데이터 타입 : 리스트, 딕셔너리, 셋"
   ]
  },
  {
   "cell_type": "code",
   "execution_count": 21,
   "id": "2b6c6b7d-7386-4a29-abe1-55a9a076066a",
   "metadata": {},
   "outputs": [
    {
     "data": {
      "text/plain": [
       "(20, int)"
      ]
     },
     "execution_count": 21,
     "metadata": {},
     "output_type": "execute_result"
    }
   ],
   "source": [
    "# 수치형 - int\n",
    "20, type(20)"
   ]
  },
  {
   "cell_type": "code",
   "execution_count": 22,
   "id": "ed7ef9ba-03ee-4964-ad7d-3e1b1962f443",
   "metadata": {},
   "outputs": [
    {
     "data": {
      "text/plain": [
       "int"
      ]
     },
     "execution_count": 22,
     "metadata": {},
     "output_type": "execute_result"
    }
   ],
   "source": [
    "age = 20\n",
    "type(age)"
   ]
  },
  {
   "cell_type": "markdown",
   "id": "08dd02a5-ff32-4c74-aa42-bc95a2b74308",
   "metadata": {},
   "source": [
    "1. 진법 : 10진수, 2진수, 8진수, 16진수\n",
    "2. 입력하는 방법은 다르지만, print() 결과는 동일하다."
   ]
  },
  {
   "cell_type": "code",
   "execution_count": 23,
   "id": "80b455ff-7a06-41a3-b2c4-daba46e9eccb",
   "metadata": {},
   "outputs": [
    {
     "data": {
      "text/plain": [
       "(10, 5)"
      ]
     },
     "execution_count": 23,
     "metadata": {},
     "output_type": "execute_result"
    }
   ],
   "source": [
    "a = 10\n",
    "b = 0b0101 #2진수 - 0/1 로 표현하는 방법 -> 0101 = 2^3 + 2^2 + 2^1 + 2^0 = \n",
    "a,b"
   ]
  },
  {
   "cell_type": "code",
   "execution_count": 24,
   "id": "3f83b452-88fd-4bca-a700-9d8db45795d0",
   "metadata": {},
   "outputs": [
    {
     "data": {
      "text/plain": [
       "8"
      ]
     },
     "execution_count": 24,
     "metadata": {},
     "output_type": "execute_result"
    }
   ],
   "source": [
    "c = 0o10 # 0o 8진수 , 10 -> 8^1 + 8^0 = 8*1 + 0*0 = 8\n",
    "c"
   ]
  },
  {
   "cell_type": "code",
   "execution_count": 25,
   "id": "af55a391-e502-497a-b336-786062d5bcd3",
   "metadata": {},
   "outputs": [
    {
     "data": {
      "text/plain": [
       "8"
      ]
     },
     "execution_count": 25,
     "metadata": {},
     "output_type": "execute_result"
    }
   ],
   "source": [
    "d = 0b1000\n",
    "d"
   ]
  },
  {
   "cell_type": "code",
   "execution_count": 30,
   "id": "f81ee434-41c8-45b3-b0ad-644c6af44701",
   "metadata": {},
   "outputs": [
    {
     "data": {
      "text/plain": [
       "(256, 96, 365)"
      ]
     },
     "execution_count": 30,
     "metadata": {},
     "output_type": "execute_result"
    }
   ],
   "source": [
    "e = 0x16d #> 1*16^2 + 6 * 16^1 + d(13)*16^0(1) = 256 + 96 + 16\n",
    "16**2, 16*6, e"
   ]
  },
  {
   "cell_type": "code",
   "execution_count": 32,
   "id": "9e92c03d-6fd6-4eb1-aea0-aecda213ca7d",
   "metadata": {},
   "outputs": [
    {
     "data": {
      "text/plain": [
       "(3.14, float)"
      ]
     },
     "execution_count": 32,
     "metadata": {},
     "output_type": "execute_result"
    }
   ],
   "source": [
    "# float\n",
    "b = 3.14\n",
    "b, type(b)"
   ]
  },
  {
   "cell_type": "markdown",
   "id": "117aa884-55b4-43c1-95dc-625771a1d62d",
   "metadata": {},
   "source": [
    "지수의 표기\n",
    "\n",
    "숫자 e2 -> 10^2의 곱 = 10**2\n",
    "숫자 e-2 -> 10^-2의 곱 = 10**-2"
   ]
  },
  {
   "cell_type": "code",
   "execution_count": 86,
   "id": "984f6e03-375b-4010-9c1e-9450b1e481fe",
   "metadata": {},
   "outputs": [
    {
     "data": {
      "text/plain": [
       "(1000.0, 1000)"
      ]
     },
     "execution_count": 86,
     "metadata": {},
     "output_type": "execute_result"
    }
   ],
   "source": [
    "fa = 10e2\n",
    "fa, 10* 10**2"
   ]
  },
  {
   "cell_type": "code",
   "execution_count": 87,
   "id": "9f8deb19-b1c7-45ab-8084-61cd72b9de37",
   "metadata": {},
   "outputs": [
    {
     "data": {
      "text/plain": [
       "(0.1, 0.1)"
      ]
     },
     "execution_count": 87,
     "metadata": {},
     "output_type": "execute_result"
    }
   ],
   "source": [
    "fb = 10e-2\n",
    "fb, 10* 10**-2"
   ]
  },
  {
   "cell_type": "code",
   "execution_count": 88,
   "id": "bb3e8472-0666-4998-b6cd-aa42d513efe0",
   "metadata": {},
   "outputs": [
    {
     "data": {
      "text/plain": [
       "(3141500000.0, 3141500000.0)"
      ]
     },
     "execution_count": 88,
     "metadata": {},
     "output_type": "execute_result"
    }
   ],
   "source": [
    "fc = 3.1415e9\n",
    "fc, 3.1415 * 10**9"
   ]
  },
  {
   "cell_type": "markdown",
   "id": "ca361bee-88f9-4051-83c6-de01fe4fa261",
   "metadata": {},
   "source": [
    "BOOLEAN값 - True, False   \n",
    "논리연산, 비교연산"
   ]
  },
  {
   "cell_type": "code",
   "execution_count": 38,
   "id": "fe16c11a-0473-4124-a9cd-04adf863aec8",
   "metadata": {},
   "outputs": [
    {
     "ename": "NameError",
     "evalue": "name 'true' is not defined",
     "output_type": "error",
     "traceback": [
      "\u001b[31m---------------------------------------------------------------------------\u001b[39m",
      "\u001b[31mNameError\u001b[39m                                 Traceback (most recent call last)",
      "\u001b[36mCell\u001b[39m\u001b[36m \u001b[39m\u001b[32mIn[38]\u001b[39m\u001b[32m, line 2\u001b[39m\n\u001b[32m      1\u001b[39m ba = \u001b[38;5;28;01mTrue\u001b[39;00m\n\u001b[32m----> \u001b[39m\u001b[32m2\u001b[39m bb = true\n\u001b[32m      3\u001b[39m \u001b[38;5;28mtype\u001b[39m(ba), \u001b[38;5;28mtype\u001b[39m(bb)\n",
      "\u001b[31mNameError\u001b[39m: name 'true' is not defined"
     ]
    }
   ],
   "source": [
    "ba = True\n",
    "bb = true\n",
    "type(ba), type(bb)"
   ]
  },
  {
   "cell_type": "code",
   "execution_count": 41,
   "id": "ede72be8-a05e-4665-b5d3-d6c71148fbd1",
   "metadata": {},
   "outputs": [
    {
     "data": {
      "text/plain": [
       "False"
      ]
     },
     "execution_count": 41,
     "metadata": {},
     "output_type": "execute_result"
    }
   ],
   "source": [
    "ba == 0"
   ]
  },
  {
   "cell_type": "code",
   "execution_count": 42,
   "id": "cf13cce2-7af5-4c48-8519-8e25b54b4da1",
   "metadata": {},
   "outputs": [
    {
     "data": {
      "text/plain": [
       "False"
      ]
     },
     "execution_count": 42,
     "metadata": {},
     "output_type": "execute_result"
    }
   ],
   "source": [
    "ba == 'True'"
   ]
  },
  {
   "cell_type": "code",
   "execution_count": 43,
   "id": "4c5de5f6-7e9f-4233-bbeb-d52751705014",
   "metadata": {},
   "outputs": [
    {
     "data": {
      "text/plain": [
       "1"
      ]
     },
     "execution_count": 43,
     "metadata": {},
     "output_type": "execute_result"
    }
   ],
   "source": [
    "#논리 연산자 - and or not\n",
    "\n",
    "bc = 1\n",
    "ba and bc"
   ]
  },
  {
   "cell_type": "code",
   "execution_count": 44,
   "id": "a878665f-5982-421b-9e91-09968786986b",
   "metadata": {},
   "outputs": [],
   "source": [
    "# 사칙연산 + - * / // %\n",
    "a=2\n",
    "b=3"
   ]
  },
  {
   "cell_type": "code",
   "execution_count": 51,
   "id": "3c841d0d-eed4-40fb-aeed-6d856b70b514",
   "metadata": {},
   "outputs": [
    {
     "data": {
      "text/plain": [
       "(0.6666666666666666, 0, 2)"
      ]
     },
     "execution_count": 51,
     "metadata": {},
     "output_type": "execute_result"
    }
   ],
   "source": [
    "a+b\n",
    "a-b\n",
    "a*b\n",
    "a/b, a//b , a%b #몫, 나머지"
   ]
  },
  {
   "cell_type": "code",
   "execution_count": 57,
   "id": "1108e64c-2342-4597-a4eb-922c3e3e1a00",
   "metadata": {},
   "outputs": [
    {
     "data": {
      "text/plain": [
       "True"
      ]
     },
     "execution_count": 57,
     "metadata": {},
     "output_type": "execute_result"
    }
   ],
   "source": [
    "#비교 연산자\n",
    "1+2 == 3\n",
    "1+2 != 3\n",
    "1+3 > 3\n",
    "1+3 <= 4"
   ]
  },
  {
   "cell_type": "code",
   "execution_count": 58,
   "id": "da6cfc8a-aa28-4242-81c3-6091099b06f7",
   "metadata": {},
   "outputs": [
    {
     "data": {
      "text/plain": [
       "True"
      ]
     },
     "execution_count": 58,
     "metadata": {},
     "output_type": "execute_result"
    }
   ],
   "source": [
    "# 비교연산자와 논리연산자의 결합\n",
    "10%2 == 0 and 12%3 == 0"
   ]
  },
  {
   "cell_type": "code",
   "execution_count": 60,
   "id": "2ffec4d0-bbed-445b-a303-3bdf233a5066",
   "metadata": {},
   "outputs": [
    {
     "data": {
      "text/plain": [
       "('1234', '5678', 1468055656832, 1468092948352)"
      ]
     },
     "execution_count": 60,
     "metadata": {},
     "output_type": "execute_result"
    }
   ],
   "source": [
    "a = '1234'\n",
    "b = '5678'\n",
    "a,b, id(a), id(b)"
   ]
  },
  {
   "cell_type": "code",
   "execution_count": 61,
   "id": "ebfdfd4e-f5fc-440e-91ce-d6ea267d8de4",
   "metadata": {},
   "outputs": [
    {
     "data": {
      "text/plain": [
       "False"
      ]
     },
     "execution_count": 61,
     "metadata": {},
     "output_type": "execute_result"
    }
   ],
   "source": [
    "id(a) == id(b)"
   ]
  },
  {
   "cell_type": "code",
   "execution_count": 62,
   "id": "813f2186-6c3c-41ca-8733-86b6e46510e9",
   "metadata": {},
   "outputs": [
    {
     "data": {
      "text/plain": [
       "(10, 12)"
      ]
     },
     "execution_count": 62,
     "metadata": {},
     "output_type": "execute_result"
    }
   ],
   "source": [
    "# 대입연산자\n",
    "a = 10\n",
    "b = a+2\n",
    "a,b"
   ]
  },
  {
   "cell_type": "code",
   "execution_count": 63,
   "id": "2243f615-d804-4262-ba07-7162f40e9f2b",
   "metadata": {},
   "outputs": [
    {
     "data": {
      "text/plain": [
       "21"
      ]
     },
     "execution_count": 63,
     "metadata": {},
     "output_type": "execute_result"
    }
   ],
   "source": [
    "a = 20\n",
    "a += 1  # a = a + 1\n",
    "a"
   ]
  },
  {
   "cell_type": "code",
   "execution_count": 64,
   "id": "cbcc39e8-4107-4d8d-82c3-230b414fda61",
   "metadata": {},
   "outputs": [
    {
     "data": {
      "text/plain": [
       "20"
      ]
     },
     "execution_count": 64,
     "metadata": {},
     "output_type": "execute_result"
    }
   ],
   "source": [
    "a -= 1 # a = a - 1  , 21 - 1 = 20\n",
    "a"
   ]
  },
  {
   "cell_type": "code",
   "execution_count": 66,
   "id": "17811f6e-ab96-474f-b381-56a59fe42ea2",
   "metadata": {},
   "outputs": [
    {
     "data": {
      "text/plain": [
       "7"
      ]
     },
     "execution_count": 66,
     "metadata": {},
     "output_type": "execute_result"
    }
   ],
   "source": [
    "a = 3\n",
    "b=2\n",
    "a += 2 + b\n",
    "a"
   ]
  },
  {
   "cell_type": "markdown",
   "id": "2ea51cda-9a91-464f-8327-cb7e3793e42b",
   "metadata": {},
   "source": [
    "# 문자열 str\n",
    "' ' , \" \" , \"\"\" \"\"\", ''' '''  docstring\n",
    "\n",
    "인코딩 > 코드 > 숫자값 정해져 있어요 \"코드표\""
   ]
  },
  {
   "cell_type": "markdown",
   "id": "0d828e08-018f-41cf-9a75-0176186f7ced",
   "metadata": {},
   "source": [
    "유니코드 문자 표준\n",
    "영어는 ascii -> 유니코드\n",
    "한국어도 유니코드 \n",
    "\n",
    "유니코드: 글자의 크기에 따라 utf-8, [utf-16, utf-32]\n",
    "\n",
    "파이썬의 문자열 str -> unicode 기반이다.\n",
    "\n",
    "euc-kr : 예전에 우리나라에서 쓰던 한글 코드\n",
    "cp949 : MS 윈도우즈의 한글코드"
   ]
  },
  {
   "cell_type": "code",
   "execution_count": 3,
   "id": "769d5660-8dad-4f6f-a4c3-1d4a76d48322",
   "metadata": {},
   "outputs": [
    {
     "name": "stdout",
     "output_type": "stream",
     "text": [
      "파이썬\n",
      "54028\n"
     ]
    }
   ],
   "source": [
    "text = '파이썬'\n",
    "print(text)\n",
    "print( ord('파') )"
   ]
  },
  {
   "cell_type": "code",
   "execution_count": 5,
   "id": "4222b761-1854-4dc0-906d-670b990bf665",
   "metadata": {},
   "outputs": [
    {
     "data": {
      "text/plain": [
       "b'\\xed\\x8c\\x8c\\xec\\x9d\\xb4\\xec\\x8d\\xac'"
      ]
     },
     "execution_count": 5,
     "metadata": {},
     "output_type": "execute_result"
    }
   ],
   "source": [
    "#인코딩\n",
    "enc_text = text.encode('utf-8')\n",
    "enc_text"
   ]
  },
  {
   "cell_type": "code",
   "execution_count": 6,
   "id": "3773cd8e-716c-4235-bd17-b633738a16c4",
   "metadata": {},
   "outputs": [
    {
     "data": {
      "text/plain": [
       "'파이썬'"
      ]
     },
     "execution_count": 6,
     "metadata": {},
     "output_type": "execute_result"
    }
   ],
   "source": [
    "#디코딩\n",
    "dec_text = enc_text.decode('utf-8')\n",
    "dec_text"
   ]
  },
  {
   "cell_type": "code",
   "execution_count": null,
   "id": "4ddb90e2-173c-403f-8844-396037a7c14d",
   "metadata": {},
   "outputs": [],
   "source": []
  },
  {
   "cell_type": "code",
   "execution_count": 67,
   "id": "80d0c98d-4e95-49a2-980a-7f18e1f6c0ed",
   "metadata": {},
   "outputs": [
    {
     "data": {
      "text/plain": [
       "'hellopython'"
      ]
     },
     "execution_count": 67,
     "metadata": {},
     "output_type": "execute_result"
    }
   ],
   "source": [
    "a = 'hello'\n",
    "b = 'python'\n",
    "a + b  #+ 는 문자열끼리 연산"
   ]
  },
  {
   "cell_type": "code",
   "execution_count": 68,
   "id": "b2e84c98-e54c-4b03-b514-d78c67d4e6f3",
   "metadata": {},
   "outputs": [
    {
     "data": {
      "text/plain": [
       "'**********'"
      ]
     },
     "execution_count": 68,
     "metadata": {},
     "output_type": "execute_result"
    }
   ],
   "source": [
    "c = '*'\n",
    "c*10 #*는 숫자와 연산"
   ]
  },
  {
   "cell_type": "code",
   "execution_count": 70,
   "id": "fc2a63d4-1b33-4db9-a8c7-a831e987ba02",
   "metadata": {},
   "outputs": [
    {
     "data": {
      "text/plain": [
       "\"Kim's family\""
      ]
     },
     "execution_count": 70,
     "metadata": {},
     "output_type": "execute_result"
    }
   ],
   "source": [
    "d = \"Kim's family\"\n",
    "d"
   ]
  },
  {
   "cell_type": "code",
   "execution_count": 71,
   "id": "f51015b4-90fb-4021-b986-6315edf40527",
   "metadata": {},
   "outputs": [
    {
     "data": {
      "text/plain": [
       "True"
      ]
     },
     "execution_count": 71,
     "metadata": {},
     "output_type": "execute_result"
    }
   ],
   "source": [
    "e = '1'\n",
    "e == '1'"
   ]
  },
  {
   "cell_type": "markdown",
   "id": "8aafdb19-0b6b-480e-8e4d-2c921803b5c6",
   "metadata": {},
   "source": [
    "파이썬의 인덱스는 0부터 시작   \n",
    "음수인덱스 : 뒤에서부터 -1"
   ]
  },
  {
   "cell_type": "code",
   "execution_count": 73,
   "id": "3124cf30-7ce8-457d-ac99-168d4bbd6e66",
   "metadata": {},
   "outputs": [
    {
     "data": {
      "text/plain": [
       "'2'"
      ]
     },
     "execution_count": 73,
     "metadata": {},
     "output_type": "execute_result"
    }
   ],
   "source": [
    "# 문자열은 리스트, 열거형\n",
    "a = '20010331Rabcd' #13개의 글자의 목록\n",
    "a[0] #숫자 자리수 > 인덱스"
   ]
  },
  {
   "cell_type": "code",
   "execution_count": 74,
   "id": "3beb0a54-e2fa-4d71-9169-d61fa063c4a8",
   "metadata": {},
   "outputs": [
    {
     "data": {
      "text/plain": [
       "'1'"
      ]
     },
     "execution_count": 74,
     "metadata": {},
     "output_type": "execute_result"
    }
   ],
   "source": [
    "a[3]  #인덱싱"
   ]
  },
  {
   "cell_type": "code",
   "execution_count": 78,
   "id": "59503eb7-004c-4b29-a145-f076f9711b81",
   "metadata": {},
   "outputs": [
    {
     "data": {
      "text/plain": [
       "'2001'"
      ]
     },
     "execution_count": 78,
     "metadata": {},
     "output_type": "execute_result"
    }
   ],
   "source": [
    "a[0:4] #영역을 지정할 때 : (콜론), 슬라이싱 slice\n",
    "a[:4]"
   ]
  },
  {
   "cell_type": "code",
   "execution_count": 77,
   "id": "3955bf1d-84fd-4728-8665-db384eee6f01",
   "metadata": {},
   "outputs": [
    {
     "data": {
      "text/plain": [
       "'Rab'"
      ]
     },
     "execution_count": 77,
     "metadata": {},
     "output_type": "execute_result"
    }
   ],
   "source": [
    "#Rab  a = '20010331Rabcd'\n",
    "a[8:11]\n"
   ]
  },
  {
   "cell_type": "code",
   "execution_count": 79,
   "id": "b295e744-be50-4155-bc88-855efa219782",
   "metadata": {},
   "outputs": [
    {
     "data": {
      "text/plain": [
       "'abcd'"
      ]
     },
     "execution_count": 79,
     "metadata": {},
     "output_type": "execute_result"
    }
   ],
   "source": [
    "a[9:] #index = 0에서 시작한다"
   ]
  },
  {
   "cell_type": "code",
   "execution_count": 80,
   "id": "7d9b7c57-2fd9-43da-b409-9bf303b4203d",
   "metadata": {},
   "outputs": [
    {
     "data": {
      "text/plain": [
       "True"
      ]
     },
     "execution_count": 80,
     "metadata": {},
     "output_type": "execute_result"
    }
   ],
   "source": [
    "s = 'abc'\n",
    "a = s\n",
    "a is s"
   ]
  },
  {
   "cell_type": "code",
   "execution_count": 81,
   "id": "02e03b4d-0c22-4d64-8bbc-3d802c8fcd16",
   "metadata": {},
   "outputs": [
    {
     "data": {
      "text/plain": [
       "True"
      ]
     },
     "execution_count": 81,
     "metadata": {},
     "output_type": "execute_result"
    }
   ],
   "source": [
    "b = s[:]\n",
    "a is b"
   ]
  },
  {
   "cell_type": "code",
   "execution_count": 83,
   "id": "25778423-35df-4538-b2de-e0c0ea173a86",
   "metadata": {},
   "outputs": [
    {
     "data": {
      "text/plain": [
       "True"
      ]
     },
     "execution_count": 83,
     "metadata": {},
     "output_type": "execute_result"
    }
   ],
   "source": [
    "s1 = '1'*1000\n",
    "b = s1[:]\n",
    "s1 == b\n"
   ]
  },
  {
   "cell_type": "code",
   "execution_count": 85,
   "id": "563451b1-c305-47f5-a8c0-de9d149d2b4b",
   "metadata": {},
   "outputs": [
    {
     "data": {
      "text/plain": [
       "True"
      ]
     },
     "execution_count": 85,
     "metadata": {},
     "output_type": "execute_result"
    }
   ],
   "source": [
    "#구성원 연산자\n",
    "'a' in s"
   ]
  },
  {
   "cell_type": "markdown",
   "id": "fd2f25aa-0a1b-4394-a5c1-80a4b5af2da4",
   "metadata": {},
   "source": [
    "`''' docstring \\n\n",
    "start \\n\n",
    "end \\n\n",
    "'''\n",
    "`\n",
    "\n",
    "\"\"\" \"\"\"\n",
    "\n",
    "shift+tab 키 > 함수의 문서가 열린다."
   ]
  },
  {
   "cell_type": "code",
   "execution_count": 9,
   "id": "9ca7aee6-71b7-4bf7-9dab-b564d24a064d",
   "metadata": {},
   "outputs": [
    {
     "name": "stdout",
     "output_type": "stream",
     "text": [
      " docstring\n",
      "start\n",
      "end\n",
      "\n"
     ]
    },
    {
     "data": {
      "text/plain": [
       "' docstring\\nstart\\nend\\n'"
      ]
     },
     "execution_count": 9,
     "metadata": {},
     "output_type": "execute_result"
    }
   ],
   "source": [
    "doc_string = ''' docstring\n",
    "start\n",
    "end\n",
    "'''\n",
    "print(doc_string)\n",
    "doc_string"
   ]
  },
  {
   "cell_type": "code",
   "execution_count": 11,
   "id": "e1065fbb-a04e-40f8-8ce5-9291182ad0a0",
   "metadata": {},
   "outputs": [
    {
     "data": {
      "text/plain": [
       "str"
      ]
     },
     "execution_count": 11,
     "metadata": {},
     "output_type": "execute_result"
    }
   ],
   "source": [
    "type(text)"
   ]
  },
  {
   "cell_type": "markdown",
   "id": "289c72f6-6e07-48eb-ac80-99275a98dd45",
   "metadata": {},
   "source": [
    "# str 의 함수\n",
    "\n",
    "dir()"
   ]
  },
  {
   "cell_type": "code",
   "execution_count": 12,
   "id": "56acaa33-054e-4184-bc37-5d84cbd36b4e",
   "metadata": {},
   "outputs": [
    {
     "data": {
      "text/plain": [
       "['__add__',\n",
       " '__class__',\n",
       " '__contains__',\n",
       " '__delattr__',\n",
       " '__dir__',\n",
       " '__doc__',\n",
       " '__eq__',\n",
       " '__format__',\n",
       " '__ge__',\n",
       " '__getattribute__',\n",
       " '__getitem__',\n",
       " '__getnewargs__',\n",
       " '__getstate__',\n",
       " '__gt__',\n",
       " '__hash__',\n",
       " '__init__',\n",
       " '__init_subclass__',\n",
       " '__iter__',\n",
       " '__le__',\n",
       " '__len__',\n",
       " '__lt__',\n",
       " '__mod__',\n",
       " '__mul__',\n",
       " '__ne__',\n",
       " '__new__',\n",
       " '__reduce__',\n",
       " '__reduce_ex__',\n",
       " '__repr__',\n",
       " '__rmod__',\n",
       " '__rmul__',\n",
       " '__setattr__',\n",
       " '__sizeof__',\n",
       " '__str__',\n",
       " '__subclasshook__',\n",
       " 'capitalize',\n",
       " 'casefold',\n",
       " 'center',\n",
       " 'count',\n",
       " 'encode',\n",
       " 'endswith',\n",
       " 'expandtabs',\n",
       " 'find',\n",
       " 'format',\n",
       " 'format_map',\n",
       " 'index',\n",
       " 'isalnum',\n",
       " 'isalpha',\n",
       " 'isascii',\n",
       " 'isdecimal',\n",
       " 'isdigit',\n",
       " 'isidentifier',\n",
       " 'islower',\n",
       " 'isnumeric',\n",
       " 'isprintable',\n",
       " 'isspace',\n",
       " 'istitle',\n",
       " 'isupper',\n",
       " 'join',\n",
       " 'ljust',\n",
       " 'lower',\n",
       " 'lstrip',\n",
       " 'maketrans',\n",
       " 'partition',\n",
       " 'removeprefix',\n",
       " 'removesuffix',\n",
       " 'replace',\n",
       " 'rfind',\n",
       " 'rindex',\n",
       " 'rjust',\n",
       " 'rpartition',\n",
       " 'rsplit',\n",
       " 'rstrip',\n",
       " 'split',\n",
       " 'splitlines',\n",
       " 'startswith',\n",
       " 'strip',\n",
       " 'swapcase',\n",
       " 'title',\n",
       " 'translate',\n",
       " 'upper',\n",
       " 'zfill']"
      ]
     },
     "execution_count": 12,
     "metadata": {},
     "output_type": "execute_result"
    }
   ],
   "source": [
    "dir(text)"
   ]
  },
  {
   "cell_type": "code",
   "execution_count": 17,
   "id": "badd0b32-d8bf-4dac-93cb-9c9ac8989e5d",
   "metadata": {},
   "outputs": [
    {
     "data": {
      "text/plain": [
       "'파이썬4'"
      ]
     },
     "execution_count": 17,
     "metadata": {},
     "output_type": "execute_result"
    }
   ],
   "source": [
    "text.__add__(\"4\")"
   ]
  },
  {
   "cell_type": "code",
   "execution_count": 19,
   "id": "2dcd4be3-e778-47c8-9705-37dcbe856c12",
   "metadata": {},
   "outputs": [
    {
     "data": {
      "text/plain": [
       "'파이썬4'"
      ]
     },
     "execution_count": 19,
     "metadata": {},
     "output_type": "execute_result"
    }
   ],
   "source": [
    "text + \"4\""
   ]
  },
  {
   "cell_type": "code",
   "execution_count": 26,
   "id": "bc7d15cd-ed90-4f52-903d-a470adbe9bae",
   "metadata": {},
   "outputs": [
    {
     "data": {
      "text/plain": [
       "'파이썬파이썬파이썬파이썬'"
      ]
     },
     "execution_count": 26,
     "metadata": {},
     "output_type": "execute_result"
    }
   ],
   "source": [
    "text * 4"
   ]
  },
  {
   "cell_type": "code",
   "execution_count": 27,
   "id": "6ccec164-bd22-4360-94ef-474734659cdc",
   "metadata": {},
   "outputs": [
    {
     "data": {
      "text/plain": [
       "'파이썬파이썬파이썬파이썬'"
      ]
     },
     "execution_count": 27,
     "metadata": {},
     "output_type": "execute_result"
    }
   ],
   "source": [
    "text.__mul__(4)"
   ]
  },
  {
   "cell_type": "code",
   "execution_count": 30,
   "id": "939b4156-691b-4196-9cf6-47d9d7825bac",
   "metadata": {},
   "outputs": [
    {
     "data": {
      "text/plain": [
       "'================================================================================'"
      ]
     },
     "execution_count": 30,
     "metadata": {},
     "output_type": "execute_result"
    }
   ],
   "source": [
    "'='*80"
   ]
  },
  {
   "cell_type": "code",
   "execution_count": 16,
   "id": "fc7972d4-4fa1-4f61-a830-2c798f8ad7db",
   "metadata": {},
   "outputs": [
    {
     "data": {
      "text/plain": [
       "0"
      ]
     },
     "execution_count": 16,
     "metadata": {},
     "output_type": "execute_result"
    }
   ],
   "source": [
    "text.count('t')"
   ]
  },
  {
   "cell_type": "markdown",
   "id": "4e99c226-a8d6-4985-aef3-bddc5b8ca345",
   "metadata": {},
   "source": [
    "excape 문자\n",
    "\n",
    "\\  '역슬래시'\n",
    "\n"
   ]
  },
  {
   "cell_type": "code",
   "execution_count": 24,
   "id": "454571f3-0f1a-4106-ab22-0312be01579c",
   "metadata": {},
   "outputs": [
    {
     "name": "stdout",
     "output_type": "stream",
     "text": [
      "hello\n",
      "world's\n"
     ]
    }
   ],
   "source": [
    "print(\"hello\\nworld's\")"
   ]
  },
  {
   "cell_type": "code",
   "execution_count": 25,
   "id": "bd90f4d3-2427-48b0-b6e2-60838470d5dd",
   "metadata": {},
   "outputs": [
    {
     "name": "stdout",
     "output_type": "stream",
     "text": [
      "hello\n",
      "world's\n"
     ]
    }
   ],
   "source": [
    "print('hello\\nworld\\'s') #escape 문자는 특수문자를 그냥 텍스트로 인식하게 한다."
   ]
  },
  {
   "cell_type": "markdown",
   "id": "2157039a-c037-4605-9c12-04844a8201f2",
   "metadata": {},
   "source": [
    "raw-string  : 모두다 문자열이다  r'str?\\'   \n",
    "f-string : 형식코드가내포된문자열 f'str{text}'"
   ]
  },
  {
   "cell_type": "code",
   "execution_count": 33,
   "id": "7f54bb8a-1e2e-4e45-b2e8-73db88e0d1cf",
   "metadata": {},
   "outputs": [
    {
     "data": {
      "text/plain": [
       "'12\\\\4'"
      ]
     },
     "execution_count": 33,
     "metadata": {},
     "output_type": "execute_result"
    }
   ],
   "source": [
    "str_1 = '12\\\\4' #'12\\x04'  \\는 escape 문자 > 무시하는 방법은 r-string\n",
    "str_1"
   ]
  },
  {
   "cell_type": "code",
   "execution_count": 34,
   "id": "28585e84-7807-41d5-a8d2-f14b3f497e85",
   "metadata": {},
   "outputs": [
    {
     "data": {
      "text/plain": [
       "'12\\\\4'"
      ]
     },
     "execution_count": 34,
     "metadata": {},
     "output_type": "execute_result"
    }
   ],
   "source": [
    "raw_str = r'12\\4'\n",
    "raw_str"
   ]
  },
  {
   "cell_type": "code",
   "execution_count": 36,
   "id": "d5b3beb4-2293-48c2-bbcf-f4ae9758fc3f",
   "metadata": {},
   "outputs": [
    {
     "name": "stdout",
     "output_type": "stream",
     "text": [
      "Hello\\nWorld\n"
     ]
    }
   ],
   "source": [
    "raw_str_1 = r'Hello\\nWorld'\n",
    "print(raw_str_1)"
   ]
  },
  {
   "cell_type": "markdown",
   "id": "73d11d49-ab3d-4d19-92f2-3c34e597df01",
   "metadata": {},
   "source": [
    "f'  {수식} 문자열이에요  {변수} '"
   ]
  },
  {
   "cell_type": "code",
   "execution_count": 43,
   "id": "8b1ef193-0eb5-4736-ab0e-3a5677e576fc",
   "metadata": {},
   "outputs": [
    {
     "name": "stdout",
     "output_type": "stream",
     "text": [
      "제 이름은  ylee  내 나이는  25\n"
     ]
    }
   ],
   "source": [
    "name = 'ylee'\n",
    "age = 25\n",
    "\n",
    "print( '제 이름은 ', name, ' 내 나이는 ' , age )\n"
   ]
  },
  {
   "cell_type": "code",
   "execution_count": 44,
   "id": "ef814bc8-7daa-414a-88b0-dd5af8947594",
   "metadata": {},
   "outputs": [
    {
     "data": {
      "text/plain": [
       "'제 이름은 ylee 내 나이는 25 입니다. '"
      ]
     },
     "execution_count": 44,
     "metadata": {},
     "output_type": "execute_result"
    }
   ],
   "source": [
    "f_str_1 = f'제 이름은 {name} 내 나이는 {age} 입니다. '\n",
    "f_str_1"
   ]
  },
  {
   "cell_type": "code",
   "execution_count": null,
   "id": "e453d705-eeeb-4f8e-bd9f-0ae923e98a49",
   "metadata": {},
   "outputs": [],
   "source": [
    "# 이름과 자기소개를 입력받아서 출력하는 프로그램 작성"
   ]
  },
  {
   "cell_type": "code",
   "execution_count": null,
   "id": "9cbac8b0-9191-46ab-95e6-398ebe976087",
   "metadata": {},
   "outputs": [],
   "source": []
  },
  {
   "cell_type": "markdown",
   "id": "17f5550b-cd14-4ee2-b33d-4f7731ab70e6",
   "metadata": {},
   "source": [
    "문자열.format()\n",
    "\n",
    "문자열에 위치 인덱스를 사용해 포맷한 값을 지정할 수 있다."
   ]
  },
  {
   "cell_type": "code",
   "execution_count": 49,
   "id": "ae1ad464-3577-4377-9c64-8da183544a7a",
   "metadata": {},
   "outputs": [
    {
     "data": {
      "text/plain": [
       "' 99.9900 dollars are worth US$ 100 입니다.'"
      ]
     },
     "execution_count": 49,
     "metadata": {},
     "output_type": "execute_result"
    }
   ],
   "source": [
    "#dir(f_str_1)\n",
    "format_str = ' {0:.4f} {1:s} are worth US$ {2:d} 입니다.'  #template\n",
    "format_str.format(99.99, 'dollars', 100)"
   ]
  },
  {
   "cell_type": "code",
   "execution_count": null,
   "id": "1f27d812-1455-4387-9e0f-fbca819dd84d",
   "metadata": {},
   "outputs": [],
   "source": [
    "menu = input('주문할 메뉴를 입력하세요 ')\n",
    "price = input('한 개 가격이 얼마인가요? ') #5000\n",
    "count = input('몇 개나 주문하세요? ')  #3\n",
    "\n",
    "total = price*count\n",
    "msg = ' {} 메뉴의 {}개 가격은 총 {:,}입니다. '  #15,000\n",
    "print(msg.format(menu, count, total))"
   ]
  },
  {
   "attachments": {
    "ba63ae8a-b25f-45fa-83ef-d88765be5fe0.png": {
     "image/png": "[encoded data removed]"
    }
   },
   "cell_type": "markdown",
   "id": "abaafb54-b623-4fde-b447-79fa01e64d1e",
   "metadata": {},
   "source": [
    "![image.png](attachment:ba63ae8a-b25f-45fa-83ef-d88765be5fe0.png)"
   ]
  },
  {
   "cell_type": "code",
   "execution_count": 59,
   "id": "17a55e84-bc59-4608-93d2-30bf69cbf8bb",
   "metadata": {},
   "outputs": [
    {
     "name": "stdout",
     "output_type": "stream",
     "text": [
      "상품명       가격        수량        총액        \n",
      "--------------------------------------------------\n",
      "아메리카노          3,000         2     6,000\n",
      "카페라떼           4,000         1     4,000\n",
      "샌드위치           5,500         3    16,500\n"
     ]
    }
   ],
   "source": [
    "items = [\n",
    "    {\"name\": \"아메리카노\", \"price\": 3000, \"qty\": 2},\n",
    "    {\"name\": \"카페라떼\", \"price\": 4000, \"qty\": 1},\n",
    "    {\"name\": \"샌드위치\", \"price\": 5500, \"qty\": 3}\n",
    "]\n",
    "header_str = '{0:10}{1:10}{2:10}{3:10}'  #인덱스:데이터길이\n",
    "print(header_str.format('상품명', '가격', '수량', '총액'))\n",
    "print('-'*50)\n",
    "\n",
    "data_str = '{0:10}{1:10,}원{2:10}개{3:10,}원'\n",
    "for item in items :\n",
    "    item_name = item['name']\n",
    "    item_price = item['price'] + '원'\n",
    "    item_qty = item['qty']\n",
    "    total_price = item_price * item_qty\n",
    "    print(data_str.format(item_name, item_price, item_qty, total_price))\n",
    "\n"
   ]
  },
  {
   "cell_type": "code",
   "execution_count": null,
   "id": "3f83efb7-0199-4eb3-86ee-93b78b8484c1",
   "metadata": {},
   "outputs": [],
   "source": []
  },
  {
   "cell_type": "code",
   "execution_count": null,
   "id": "3ab3a9e5-5032-42a8-86af-8cfc5879957c",
   "metadata": {},
   "outputs": [],
   "source": []
  },
  {
   "cell_type": "markdown",
   "id": "d4f2a0c8-86d1-430e-8bab-7c635540dae9",
   "metadata": {},
   "source": [
    "TypeError, ValueError"
   ]
  },
  {
   "cell_type": "code",
   "execution_count": 40,
   "id": "5d323fe0-fa79-41bb-af5b-ed6dee01a252",
   "metadata": {},
   "outputs": [
    {
     "data": {
      "text/plain": [
       "5"
      ]
     },
     "execution_count": 40,
     "metadata": {},
     "output_type": "execute_result"
    }
   ],
   "source": [
    "b = 2\n",
    "c = '3'\n",
    "#b+c  #typeerror\n",
    "b + int(c)"
   ]
  },
  {
   "cell_type": "code",
   "execution_count": 42,
   "id": "f621b7c7-2329-443a-aa41-c1dab967c8eb",
   "metadata": {},
   "outputs": [
    {
     "data": {
      "text/plain": [
       "5"
      ]
     },
     "execution_count": 42,
     "metadata": {},
     "output_type": "execute_result"
    }
   ],
   "source": [
    "c = '3a'\n",
    "b + int(c[:1])  #ValueError                                "
   ]
  },
  {
   "cell_type": "markdown",
   "id": "0b0712a7-e827-46da-969b-c1eecf3d5aa8",
   "metadata": {},
   "source": [
    "| 함수                  | 설명                  | 예시                                        |\n",
    "| ------------------- | ------------------- | ----------------------------------------- |\n",
    "| `lower()`           | 모두 소문자로 변환          | `\"Python\".lower()` → `\"python\"`           |\n",
    "| `upper()`           | 모두 대문자로 변환          | `\"python\".upper()` → `\"PYTHON\"`           |\n",
    "| `capitalize()`      | 첫 글자만 대문자           | `\"hello\".capitalize()` → `\"Hello\"`        |\n",
    "| `title()`           | 각 단어의 첫 글자 대문자      | `\"hello world\".title()` → `\"Hello World\"` |\n",
    "| `strip()`           | 앞뒤 공백 제거            | `\" hello \".strip()` → `\"hello\"`           |\n",
    "| `lstrip()`          | 왼쪽 공백 제거            | `\" hello\".lstrip()`                       |\n",
    "| `rstrip()`          | 오른쪽 공백 제거           | `\"hello \".rstrip()`                       |\n",
    "| `replace(old, new)` | 문자열 바꾸기             | `\"hello\".replace(\"l\", \"x\")` → `\"hexxo\"`   |\n",
    "| `split()`           | 문자열 나누기 (기본: 공백)    | `\"a b c\".split()` → `['a', 'b', 'c']`     |\n",
    "| `join(list)`        | 리스트를 문자열로 결합        | `\" \".join(['a', 'b'])` → `\"a b\"`          |\n",
    "| `find(sub)`         | 처음 등장하는 위치 (없으면 -1) | `\"apple\".find(\"p\")` → `1`                 |\n",
    "| `index(sub)`        | 처음 등장하는 위치 (없으면 오류) | `\"apple\".index(\"p\")` → `1`                |\n",
    "| `count(sub)`        | 부분 문자열 개수           | `\"banana\".count(\"a\")` → `3`               |\n",
    "| `startswith(sub)`   | 해당 문자열로 시작?         | `\"python\".startswith(\"py\")` → `True`      |\n",
    "| `endswith(sub)`     | 해당 문자열로 끝남?         | `\"python\".endswith(\"on\")` → `True`        |\n",
    "| `isalnum()`         | 영문자+숫자인가?           | `\"abc123\".isalnum()` → `True`             |\n",
    "| `isalpha()`         | 영문자만인가?             | `\"abc\".isalpha()` → `True`                |\n",
    "| `isdigit()`         | 숫자만인가?              | `\"123\".isdigit()` → `True`                |\n",
    "| `isspace()`         | 공백문자만 있는가?          | `\" \\t\\n\".isspace()` → `True`              |\n"
   ]
  },
  {
   "cell_type": "markdown",
   "id": "11ff8bfe-c9dc-44b5-86c4-f85d3ea9e59d",
   "metadata": {},
   "source": [
    "# 문자열 함수 연습"
   ]
  },
  {
   "cell_type": "markdown",
   "id": "cd1ed1ec-ead0-491f-a16b-794b0d48926a",
   "metadata": {},
   "source": [
    "Q1. 홍길동 씨의 주민등록번호는 881120-1068234이다. 홍길동씨의 주민등록번호를 연월일 [YYYYMMDD] 부분과 그 뒤의 숫자 부분으로 나누어 출력해 보자."
   ]
  },
  {
   "cell_type": "markdown",
   "id": "d94067b5-705a-4c7e-9375-507e48b4570b",
   "metadata": {},
   "source": [
    " Q2. 주민등록번호 뒷자리의 맨 첫 번째 숫자는 성별을 나타낸다. 주민등록번호에서 성별을 나타내는 숫자를 출력해 보자"
   ]
  },
  {
   "cell_type": "markdown",
   "id": "e3f41ac0-cc1a-4f44-95b9-4cdd0048cb3d",
   "metadata": {},
   "source": [
    "Q3. 숫자와 문자를 나누어 a1,a2 변수에 넣으세요.\n",
    "\n",
    "a = '20010331Rainy'"
   ]
  },
  {
   "cell_type": "markdown",
   "id": "bde914bd-33e1-409e-afdc-51353d6312cd",
   "metadata": {},
   "source": [
    "Q4. 모두 대문자로, 모두 소문자로 바꾸세요.\n",
    "\n",
    "a = 'Hi'"
   ]
  },
  {
   "cell_type": "markdown",
   "id": "aa580023-f319-42a5-a45f-c3b2a26b9c71",
   "metadata": {},
   "source": [
    "Q5. 아래 변수의 화이트 스페이스를 제거하고 출력하세요.\n",
    "\n",
    "a = '   hi   '"
   ]
  },
  {
   "cell_type": "markdown",
   "id": "7b569f4c-2852-42c5-b11f-d725992520e9",
   "metadata": {},
   "source": [
    "Q6. 아기상어 동요 속에는 '뚜루' 가 몇개나 들어 있을까요?\n"
   ]
  },
  {
   "cell_type": "code",
   "execution_count": 61,
   "id": "7bb71a24-cd27-4413-a9f9-0003f43bf04c",
   "metadata": {
    "jupyter": {
     "source_hidden": true
    }
   },
   "outputs": [],
   "source": [
    "lylics = '''\n",
    "아기상어\n",
    "뚜루루뚜루\n",
    "귀여운\n",
    "뚜루루뚜루\n",
    "바닷속\n",
    "뚜루루뚜루\n",
    "아기상어!\n",
    "엄마상어\n",
    "뚜루루뚜루\n",
    "어여쁜\n",
    "뚜루루뚜루\n",
    "바닷속\n",
    "뚜루루뚜루\n",
    "엄마상어!\n",
    "아빠상어\n",
    "뚜루루뚜루\n",
    "힘이 센\n",
    "뚜루루뚜루\n",
    "바닷속\n",
    "뚜루루뚜루\n",
    "아빠상어!\n",
    "할머니상어\n",
    "뚜루루뚜루\n",
    "자상한\n",
    "뚜루루뚜루\n",
    "바닷속\n",
    "뚜루루뚜루\n",
    "할머니상어!\n",
    "할아버지상어\n",
    "뚜루루뚜루\n",
    "멋있는\n",
    "뚜루루뚜루\n",
    "바닷속\n",
    "뚜루루뚜루\n",
    "할아버지상어!\n",
    "우리는\n",
    "뚜루루뚜루\n",
    "바다의\n",
    "뚜루루뚜루\n",
    "사냥꾼\n",
    "뚜루루뚜루\n",
    "상어가족!\n",
    "상어다\n",
    "뚜루루뚜루\n",
    "도망쳐\n",
    "뚜루루뚜루\n",
    "도망쳐\n",
    "뚜루루뚜루\n",
    "숨자! 으악!\n",
    "한번 더!\n",
    "상어다\n",
    "뚜루루뚜루\n",
    "도망쳐\n",
    "뚜루루뚜루\n",
    "도망쳐\n",
    "뚜루루뚜루\n",
    "숨자! 으악!\n",
    "아기상어\n",
    "뚜루루뚜루\n",
    "귀여운\n",
    "뚜루루뚜루\n",
    "바닷속\n",
    "뚜루루뚜루\n",
    "아기상어!\n",
    "엄마상어\n",
    "뚜루루뚜루\n",
    "어여쁜\n",
    "뚜루루뚜루\n",
    "바닷속\n",
    "뚜루루뚜루\n",
    "엄마상어!\n",
    "아빠상어\n",
    "뚜루루뚜루\n",
    "힘이 센\n",
    "뚜루루뚜루\n",
    "바닷속\n",
    "뚜루루뚜루\n",
    "아빠상어!\n",
    "할머니상어\n",
    "뚜루루뚜루\n",
    "자상한\n",
    "뚜루루뚜루\n",
    "바닷속\n",
    "뚜루루뚜루\n",
    "할머니상어!\n",
    "할아버지상어\n",
    "뚜루루뚜루\n",
    "멋있는\n",
    "뚜루루뚜루\n",
    "바닷속\n",
    "뚜루루뚜루\n",
    "할아버지상어!\n",
    "우리는\n",
    "뚜루루뚜루\n",
    "바다의\n",
    "뚜루루뚜루\n",
    "사냥꾼\n",
    "뚜루루뚜루\n",
    "상어가족!\n",
    "상어다\n",
    "뚜루루뚜루\n",
    "도망쳐\n",
    "뚜루루뚜루\n",
    "도망쳐\n",
    "뚜루루뚜루\n",
    "숨자! 으악!\n",
    "살았다\n",
    "뚜루루뚜루\n",
    "살았다\n",
    "뚜루루뚜루\n",
    "오늘도\n",
    "뚜루루뚜루\n",
    "살았다!\n",
    "신난다\n",
    "뚜루루뚜루\n",
    "신난다\n",
    "뚜루루뚜루\n",
    "춤을 춰\n",
    "뚜루루뚜루\n",
    "노래 끝!\n",
    "'''"
   ]
  },
  {
   "cell_type": "code",
   "execution_count": 62,
   "id": "199619f5-d370-4059-a9c8-1f1ddc823ad5",
   "metadata": {},
   "outputs": [
    {
     "data": {
      "text/plain": [
       "51"
      ]
     },
     "execution_count": 62,
     "metadata": {},
     "output_type": "execute_result"
    }
   ],
   "source": [
    "lylics.count('뚜루루뚜루')"
   ]
  },
  {
   "cell_type": "code",
   "execution_count": null,
   "id": "92c8c1fe-6b42-4ede-825c-1c9ce8e2ed5f",
   "metadata": {},
   "outputs": [],
   "source": []
  }
 ],
 "metadata": {
  "kernelspec": {
   "display_name": "Python 3 (ipykernel)",
   "language": "python",
   "name": "python3"
  },
  "language_info": {
   "codemirror_mode": {
    "name": "ipython",
    "version": 3
   },
   "file_extension": ".py",
   "mimetype": "text/x-python",
   "name": "python",
   "nbconvert_exporter": "python",
   "pygments_lexer": "ipython3",
   "version": "3.12.9"
  }
 },
 "nbformat": 4,
 "nbformat_minor": 5
}
