{
 "cells": [
  {
   "cell_type": "code",
   "execution_count": 2,
   "id": "72171276-0477-4fa4-b9c0-08f5bf90a855",
   "metadata": {},
   "outputs": [
    {
     "name": "stdout",
     "output_type": "stream",
     "text": [
      "hello\n",
      "2nd hello\n",
      "3nd hello\n",
      "hello\n"
     ]
    }
   ],
   "source": [
    "import first as fr\n",
    "\n",
    "#first.my_func()\n",
    "#first.my_func1()\n",
    "\n",
    "fr.my_func()\n",
    "fr.my_func1()\n",
    "fr.my_func2()\n",
    "fr.my_func()\n"
   ]
  },
  {
   "cell_type": "code",
   "execution_count": 8,
   "id": "c67e9af9-1562-404f-9010-20dea68b4302",
   "metadata": {},
   "outputs": [
    {
     "name": "stdout",
     "output_type": "stream",
     "text": [
      "hello\n"
     ]
    }
   ],
   "source": [
    "from first import my_func\n",
    "\n",
    "my_func()"
   ]
  },
  {
   "cell_type": "code",
   "execution_count": null,
   "id": "1b520a8f-9bdb-439c-aca9-920768b19f1d",
   "metadata": {},
   "outputs": [],
   "source": []
  },
  {
   "cell_type": "code",
   "execution_count": 22,
   "id": "267cf087-b69c-4d42-bf26-97075ceb1b74",
   "metadata": {},
   "outputs": [
    {
     "ename": "ModuleNotFoundError",
     "evalue": "No module named 'my_first_package'",
     "output_type": "error",
     "traceback": [
      "\u001b[31m---------------------------------------------------------------------------\u001b[39m",
      "\u001b[31mModuleNotFoundError\u001b[39m                       Traceback (most recent call last)",
      "\u001b[36mCell\u001b[39m\u001b[36m \u001b[39m\u001b[32mIn[22]\u001b[39m\u001b[32m, line 1\u001b[39m\n\u001b[32m----> \u001b[39m\u001b[32m1\u001b[39m \u001b[38;5;28;01mimport\u001b[39;00m\u001b[38;5;250m \u001b[39m\u001b[34;01mmy_first_package\u001b[39;00m\u001b[34;01m.\u001b[39;00m\u001b[34;01msecond\u001b[39;00m\n",
      "\u001b[31mModuleNotFoundError\u001b[39m: No module named 'my_first_package'"
     ]
    }
   ],
   "source": [
    "import my_first_package.second"
   ]
  },
  {
   "cell_type": "code",
   "execution_count": 18,
   "id": "68038d27-9df4-4957-86be-94add78bdab3",
   "metadata": {},
   "outputs": [
    {
     "name": "stderr",
     "output_type": "stream",
     "text": [
      "UsageError: %%writefile is a cell magic, but the cell body is empty.\n"
     ]
    }
   ],
   "source": [
    "%%writefile my_first_package..magic_calc.basic"
   ]
  },
  {
   "cell_type": "code",
   "execution_count": 29,
   "id": "d0cca06d-536a-4af5-a610-abf0bce8591f",
   "metadata": {},
   "outputs": [
    {
     "ename": "ModuleNotFoundError",
     "evalue": "No module named 'magic_calc'",
     "output_type": "error",
     "traceback": [
      "\u001b[31m---------------------------------------------------------------------------\u001b[39m",
      "\u001b[31mModuleNotFoundError\u001b[39m                       Traceback (most recent call last)",
      "\u001b[36mCell\u001b[39m\u001b[36m \u001b[39m\u001b[32mIn[29]\u001b[39m\u001b[32m, line 1\u001b[39m\n\u001b[32m----> \u001b[39m\u001b[32m1\u001b[39m \u001b[38;5;28;01mimport\u001b[39;00m\u001b[38;5;250m \u001b[39m\u001b[34;01mmagic_calc\u001b[39;00m\n\u001b[32m      3\u001b[39m result_add = magic_calc.basic_ops.add(\u001b[32m10\u001b[39m,\u001b[32m5\u001b[39m)\n\u001b[32m      4\u001b[39m \u001b[38;5;28mprint\u001b[39m(result_add)\n",
      "\u001b[31mModuleNotFoundError\u001b[39m: No module named 'magic_calc'"
     ]
    }
   ],
   "source": [
    "import magic_calc\n",
    "\n",
    "result_add = magic_calc.basic_ops.add(10,5)\n",
    "print(result_add)"
   ]
  },
  {
   "cell_type": "code",
   "execution_count": 28,
   "id": "74ff42a7-3433-4dac-b035-45163492f377",
   "metadata": {},
   "outputs": [
    {
     "ename": "ModuleNotFoundError",
     "evalue": "No module named 'magic_calc'",
     "output_type": "error",
     "traceback": [
      "\u001b[31m---------------------------------------------------------------------------\u001b[39m",
      "\u001b[31mModuleNotFoundError\u001b[39m                       Traceback (most recent call last)",
      "\u001b[36mCell\u001b[39m\u001b[36m \u001b[39m\u001b[32mIn[28]\u001b[39m\u001b[32m, line 1\u001b[39m\n\u001b[32m----> \u001b[39m\u001b[32m1\u001b[39m \u001b[38;5;28;01mimport\u001b[39;00m\u001b[38;5;250m \u001b[39m\u001b[34;01mmagic_calc\u001b[39;00m\u001b[34;01m.\u001b[39;00m\u001b[34;01madvenced_ops\u001b[39;00m\u001b[38;5;250m \u001b[39m\u001b[38;5;28;01mas\u001b[39;00m\u001b[38;5;250m \u001b[39m\u001b[34;01madops\u001b[39;00m\n\u001b[32m      2\u001b[39m adops.magic_multiply(\u001b[32m7\u001b[39m,\u001b[32m8\u001b[39m)\n",
      "\u001b[31mModuleNotFoundError\u001b[39m: No module named 'magic_calc'"
     ]
    }
   ],
   "source": [
    "import magic_calc.advenced_ops as adops\n",
    "adops.magic_multiply(7,8)"
   ]
  }
 ],
 "metadata": {
  "kernelspec": {
   "display_name": "Python 3 (ipykernel)",
   "language": "python",
   "name": "python3"
  },
  "language_info": {
   "codemirror_mode": {
    "name": "ipython",
    "version": 3
   },
   "file_extension": ".py",
   "mimetype": "text/x-python",
   "name": "python",
   "nbconvert_exporter": "python",
   "pygments_lexer": "ipython3",
   "version": "3.12.9"
  }
 },
 "nbformat": 4,
 "nbformat_minor": 5
}
