{
 "cells": [
  {
   "cell_type": "code",
   "execution_count": 12,
   "id": "2a831e98-5565-40f1-9f3c-4a65100172d2",
   "metadata": {},
   "outputs": [],
   "source": [
    "ra = range(2,20,2)\n"
   ]
  }
 ],
 "metadata": {
  "kernelspec": {
   "display_name": "Python 3 (ipykernel)",
   "language": "python",
   "name": "python3"
  },
  "language_info": {
   "codemirror_mode": {
    "name": "ipython",
    "version": 3
   },
   "file_extension": ".py",
   "mimetype": "text/x-python",
   "name": "python",
   "nbconvert_exporter": "python",
   "pygments_lexer": "ipython3",
   "version": "3.12.9"
  }
 },
 "nbformat": 4,
 "nbformat_minor": 5
}
