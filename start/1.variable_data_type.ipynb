{
 "cells": [
  {
   "cell_type": "code",
   "execution_count": 2,
   "id": "a35c2036-1de8-4e77-814c-f89ccc416ce5",
   "metadata": {},
   "outputs": [
    {
     "data": {
      "text/plain": [
       "'hellopython'"
      ]
     },
     "execution_count": 2,
     "metadata": {},
     "output_type": "execute_result"
    }
   ],
   "source": [
    "a=\"hello\"\n",
    "b='python'\n",
    "a+b\n",
    "view- tabelcontents"
   ]
  },
  {
   "cell_type": "code",
   "execution_count": null,
   "id": "b1f023d2-16b3-454c-8284-0767cb59640f",
   "metadata": {},
   "outputs": [],
   "source": [
    "#문자열 str\n",
    "'', \"\",\"\"\"\"\"\",''' ''' docstring\n",
    "인코딩 > ㅋ노드 > 숫자값 정해져 있다."
   ]
  },
  {
   "cell_type": "markdown",
   "id": "5697f3e4-1505-4a88-8eae-5d2f1a0b1f93",
   "metadata": {},
   "source": [
    "유니코드 문자 표준\n",
    "영어는 ascli -> 유니코드\n",
    "한국어도 유니코드\n",
    "\n",
    "유니코드의 종류가 글자의 크기에 따라서 utf-8, [utf-16, utf-32]\n",
    "파이썬의 문자열 str -> unicode 기반이다.\n",
    "\n",
    "euc-kr : 예전에 우리나라에서 쓰던코드\n",
    "cp949 : MS 윈도우즈의 한글코드"
   ]
  },
  {
   "cell_type": "code",
   "execution_count": 4,
   "id": "e13715a2-917e-4d35-8e6e-f8f1d7d93f74",
   "metadata": {},
   "outputs": [
    {
     "name": "stdout",
     "output_type": "stream",
     "text": [
      "파이썬\n",
      "54028\n"
     ]
    }
   ],
   "source": [
    "text = '파이썬'\n",
    "print(text)\n",
    "print(ord('파'))"
   ]
  },
  {
   "cell_type": "code",
   "execution_count": 7,
   "id": "1e77f6e4-5b96-45bd-8a38-35c129199c60",
   "metadata": {
    "scrolled": true
   },
   "outputs": [
    {
     "data": {
      "text/plain": [
       "b'\\xed\\x8c\\x8c\\xec\\x9d\\xb4\\xec\\x8d\\xac'"
      ]
     },
     "execution_count": 7,
     "metadata": {},
     "output_type": "execute_result"
    }
   ],
   "source": [
    "#인코딩\n",
    "text = '파이썬'\n",
    "enc_text = text.encode('utf-8')\n",
    "enc_text"
   ]
  },
  {
   "cell_type": "code",
   "execution_count": 14,
   "id": "13f2a4c3-5a1b-4c4f-a244-74b8866c0029",
   "metadata": {},
   "outputs": [
    {
     "data": {
      "text/plain": [
       "'파이썬'"
      ]
     },
     "execution_count": 14,
     "metadata": {},
     "output_type": "execute_result"
    }
   ],
   "source": [
    "#디코딩\n",
    "dec_text = enc_text.decode('utf-8')\n",
    "dec_text"
   ]
  },
  {
   "cell_type": "code",
   "execution_count": null,
   "id": "094b8611-32a1-47b4-8b24-e39ae18bbb3e",
   "metadata": {},
   "outputs": [],
   "source": [
    "# 문자열은 리스트, 열거형\n",
    "a='20010331Rabcd'#13개의 글자목록\n",
    "파이썬의 인덱스는 0부터 시작\n",
    "-1 => 뒤에서부터 -1"
   ]
  },
  {
   "cell_type": "code",
   "execution_count": null,
   "id": "a851f1eb-e908-459b-9dfe-e4bd8ad0c45c",
   "metadata": {},
   "outputs": [],
   "source": [
    "'''' docstring '''\n",
    "start\n",
    "end\n",
    "'\n",
    "'''"
   ]
  },
  {
   "cell_type": "code",
   "execution_count": 19,
   "id": "8f225914-79c5-4e6a-8c26-2ff210e23ac9",
   "metadata": {
    "scrolled": true
   },
   "outputs": [
    {
     "name": "stdout",
     "output_type": "stream",
     "text": [
      "docstring \n",
      "\n",
      "stsrt \n",
      "\n",
      "end \n",
      "\n",
      "\n"
     ]
    },
    {
     "data": {
      "text/plain": [
       "'docstring \\n\\nstsrt \\n\\nend \\n\\n'"
      ]
     },
     "execution_count": 19,
     "metadata": {},
     "output_type": "execute_result"
    }
   ],
   "source": [
    "doc_string = '''docstring \\n\n",
    "stsrt \\n\n",
    "end \\n\n",
    "'''\n",
    "print(doc_string)\n",
    "doc_string"
   ]
  },
  {
   "cell_type": "code",
   "execution_count": 20,
   "id": "b236b43f-19a1-4453-9078-d4fd926337a0",
   "metadata": {
    "collapsed": true,
    "jupyter": {
     "outputs_hidden": true
    }
   },
   "outputs": [
    {
     "name": "stdout",
     "output_type": "stream",
     "text": [
      "docstring \n",
      "stsrt \n",
      "end \n",
      "\n"
     ]
    },
    {
     "data": {
      "text/plain": [
       "'docstring \\nstsrt \\nend \\n'"
      ]
     },
     "execution_count": 20,
     "metadata": {},
     "output_type": "execute_result"
    }
   ],
   "source": [
    "#shift+tab -> 함수의 문서가 열린다.\n",
    "doc_string = '''docstring \n",
    "stsrt \n",
    "end \n",
    "'''\n",
    "print(doc_string)\n",
    "doc_string"
   ]
  },
  {
   "cell_type": "code",
   "execution_count": 26,
   "id": "dc19d678-f62b-4df7-a12e-69db3c24a787",
   "metadata": {
    "collapsed": true,
    "jupyter": {
     "outputs_hidden": true
    }
   },
   "outputs": [
    {
     "data": {
      "text/plain": [
       "['__add__',\n",
       " '__class__',\n",
       " '__contains__',\n",
       " '__delattr__',\n",
       " '__dir__',\n",
       " '__doc__',\n",
       " '__eq__',\n",
       " '__format__',\n",
       " '__ge__',\n",
       " '__getattribute__',\n",
       " '__getitem__',\n",
       " '__getnewargs__',\n",
       " '__getstate__',\n",
       " '__gt__',\n",
       " '__hash__',\n",
       " '__init__',\n",
       " '__init_subclass__',\n",
       " '__iter__',\n",
       " '__le__',\n",
       " '__len__',\n",
       " '__lt__',\n",
       " '__mod__',\n",
       " '__mul__',\n",
       " '__ne__',\n",
       " '__new__',\n",
       " '__reduce__',\n",
       " '__reduce_ex__',\n",
       " '__repr__',\n",
       " '__rmod__',\n",
       " '__rmul__',\n",
       " '__setattr__',\n",
       " '__sizeof__',\n",
       " '__str__',\n",
       " '__subclasshook__',\n",
       " 'capitalize',\n",
       " 'casefold',\n",
       " 'center',\n",
       " 'count',\n",
       " 'encode',\n",
       " 'endswith',\n",
       " 'expandtabs',\n",
       " 'find',\n",
       " 'format',\n",
       " 'format_map',\n",
       " 'index',\n",
       " 'isalnum',\n",
       " 'isalpha',\n",
       " 'isascii',\n",
       " 'isdecimal',\n",
       " 'isdigit',\n",
       " 'isidentifier',\n",
       " 'islower',\n",
       " 'isnumeric',\n",
       " 'isprintable',\n",
       " 'isspace',\n",
       " 'istitle',\n",
       " 'isupper',\n",
       " 'join',\n",
       " 'ljust',\n",
       " 'lower',\n",
       " 'lstrip',\n",
       " 'maketrans',\n",
       " 'partition',\n",
       " 'removeprefix',\n",
       " 'removesuffix',\n",
       " 'replace',\n",
       " 'rfind',\n",
       " 'rindex',\n",
       " 'rjust',\n",
       " 'rpartition',\n",
       " 'rsplit',\n",
       " 'rstrip',\n",
       " 'split',\n",
       " 'splitlines',\n",
       " 'startswith',\n",
       " 'strip',\n",
       " 'swapcase',\n",
       " 'title',\n",
       " 'translate',\n",
       " 'upper',\n",
       " 'zfill']"
      ]
     },
     "execution_count": 26,
     "metadata": {},
     "output_type": "execute_result"
    }
   ],
   "source": [
    "dir(text)"
   ]
  },
  {
   "cell_type": "code",
   "execution_count": 36,
   "id": "6d8273d8-e387-48c0-9574-0019aa18366c",
   "metadata": {
    "scrolled": true
   },
   "outputs": [
    {
     "data": {
      "text/plain": [
       "'파이썬4'"
      ]
     },
     "execution_count": 36,
     "metadata": {},
     "output_type": "execute_result"
    }
   ],
   "source": [
    "text.__add__('4')"
   ]
  },
  {
   "cell_type": "code",
   "execution_count": 37,
   "id": "8d201b55-adac-4392-baec-db4b66297aa8",
   "metadata": {},
   "outputs": [
    {
     "data": {
      "text/plain": [
       "0"
      ]
     },
     "execution_count": 37,
     "metadata": {},
     "output_type": "execute_result"
    }
   ],
   "source": [
    "text.count('t')"
   ]
  },
  {
   "cell_type": "code",
   "execution_count": 47,
   "id": "531771a6-a566-4bc9-a33f-6f7893cbef91",
   "metadata": {},
   "outputs": [
    {
     "data": {
      "text/plain": [
       "2"
      ]
     },
     "execution_count": 47,
     "metadata": {},
     "output_type": "execute_result"
    }
   ],
   "source": [
    "text.find(\"썬\")"
   ]
  },
  {
   "cell_type": "code",
   "execution_count": 54,
   "id": "b26ff5d3-6da7-47e1-a71b-64df36033a63",
   "metadata": {},
   "outputs": [
    {
     "name": "stdout",
     "output_type": "stream",
     "text": [
      "hello \n",
      "   world\n"
     ]
    }
   ],
   "source": [
    "\n",
    "# escape 문자 \\ '역슬래시'\n",
    "print('hello \\n   world')"
   ]
  },
  {
   "cell_type": "code",
   "execution_count": 56,
   "id": "52feb62f-14df-4b38-86db-9f3f146130c7",
   "metadata": {},
   "outputs": [
    {
     "name": "stdout",
     "output_type": "stream",
     "text": [
      "hello \n",
      " world's\n"
     ]
    }
   ],
   "source": [
    "print('hello \\n world\\'s')"
   ]
  },
  {
   "cell_type": "code",
   "execution_count": 62,
   "id": "f672b7fc-83bd-4d34-958c-7744bb513ecb",
   "metadata": {},
   "outputs": [
    {
     "data": {
      "text/plain": [
       "'파이썬파이썬파이썬파이썬'"
      ]
     },
     "execution_count": 62,
     "metadata": {},
     "output_type": "execute_result"
    }
   ],
   "source": [
    "\n",
    "#text * 4\n",
    "text.__mul__(4)"
   ]
  },
  {
   "cell_type": "code",
   "execution_count": 63,
   "id": "034ec3f7-73c0-437f-aff5-a6d253d12eeb",
   "metadata": {},
   "outputs": [
    {
     "data": {
      "text/plain": [
       "'===================================================================================================='"
      ]
     },
     "execution_count": 63,
     "metadata": {},
     "output_type": "execute_result"
    }
   ],
   "source": [
    "'='*100"
   ]
  },
  {
   "cell_type": "code",
   "execution_count": 65,
   "id": "32a4f13e-100f-4a4d-aff5-dfd8b78086cb",
   "metadata": {},
   "outputs": [],
   "source": [
    "# raw-string : 모두 다 문자열이다 'str?\\'\n",
    "# f-string : 형식코드가 내포된 문자열 f'str{text}'"
   ]
  },
  {
   "cell_type": "code",
   "execution_count": 72,
   "id": "e3deb114-1db5-44ef-a9ab-d23a76176c5d",
   "metadata": {},
   "outputs": [
    {
     "data": {
      "text/plain": [
       "'12\\\\4'"
      ]
     },
     "execution_count": 72,
     "metadata": {},
     "output_type": "execute_result"
    }
   ],
   "source": [
    "str_1='12\\4'   #무시하는 방법 r-string \n",
    "str_1\n",
    "str_2='12\\\\4'  \n",
    "str_2"
   ]
  },
  {
   "cell_type": "code",
   "execution_count": 73,
   "id": "5bfa97d5-8208-433b-a963-3d7c80c4b9ef",
   "metadata": {},
   "outputs": [
    {
     "data": {
      "text/plain": [
       "'12\\\\4'"
      ]
     },
     "execution_count": 73,
     "metadata": {},
     "output_type": "execute_result"
    }
   ],
   "source": [
    "raw_str = r'12\\4'  #무시하는 방법 r-string \n",
    "raw_str"
   ]
  },
  {
   "cell_type": "code",
   "execution_count": 74,
   "id": "3a689eb6-a2bd-4cc6-a2c0-9861e951f373",
   "metadata": {
    "scrolled": true
   },
   "outputs": [
    {
     "name": "stdout",
     "output_type": "stream",
     "text": [
      "hello\\nworld\n"
     ]
    }
   ],
   "source": [
    "raw_str_1 = r'hello\\nworld'\n",
    "print(raw_str_1)"
   ]
  },
  {
   "cell_type": "code",
   "execution_count": 79,
   "id": "34f78449-c81b-4cc2-a5fe-03006bef8945",
   "metadata": {},
   "outputs": [
    {
     "data": {
      "text/plain": [
       "5"
      ]
     },
     "execution_count": 79,
     "metadata": {},
     "output_type": "execute_result"
    }
   ],
   "source": [
    "TypeError, ValueError\n",
    "b=2\n",
    "c='3'\n",
    "b+int(c) #typeerror"
   ]
  },
  {
   "cell_type": "code",
   "execution_count": 84,
   "id": "8889cbd4-3dec-4e79-a5f6-fa716d1d27f6",
   "metadata": {},
   "outputs": [
    {
     "data": {
      "text/plain": [
       "5"
      ]
     },
     "execution_count": 84,
     "metadata": {},
     "output_type": "execute_result"
    }
   ],
   "source": [
    "c='3a' \n",
    "b+int(c[:1])  #value Errer"
   ]
  },
  {
   "cell_type": "code",
   "execution_count": 87,
   "id": "de794630-fe0e-4c0c-a714-fe2838f6cbef",
   "metadata": {},
   "outputs": [
    {
     "name": "stdout",
     "output_type": "stream",
     "text": [
      "제 이름은 beom 내 나이는 33\n"
     ]
    }
   ],
   "source": [
    "# f' [수식} 문자열이에요 {변수}'\n",
    "name ='beom'\n",
    "age='33'\n",
    "print('제 이름은', name, '내 나이는', age)"
   ]
  },
  {
   "cell_type": "code",
   "execution_count": 92,
   "id": "ebd7237e-c270-467e-b327-aa6aaebf4a91",
   "metadata": {},
   "outputs": [
    {
     "data": {
      "text/plain": [
       "'제 이름은 beom 내 나이는 33 입니다.'"
      ]
     },
     "execution_count": 92,
     "metadata": {},
     "output_type": "execute_result"
    }
   ],
   "source": [
    "f_str_1 = f'제 이름은 {name} 내 나이는 {age} 입니다.'\n",
    "f_str_1"
   ]
  },
  {
   "cell_type": "code",
   "execution_count": 97,
   "id": "b9261de9-a546-4dcf-8304-dc6e80aef43b",
   "metadata": {
    "scrolled": true
   },
   "outputs": [
    {
     "name": "stdin",
     "output_type": "stream",
     "text": [
      "이름 :  백승범\n",
      "자기소개 :  공부하는자\n"
     ]
    },
    {
     "data": {
      "text/plain": [
       "'제 이릉은 백승범이고 저는 공부하는자입니다.'"
      ]
     },
     "execution_count": 97,
     "metadata": {},
     "output_type": "execute_result"
    }
   ],
   "source": [
    "#이름과 자기소개를 입력받아서 출력하는 프로그램 작성\n",
    "name = input('이름 : ')\n",
    "intro = input('자기소개 : ')\n",
    "\n",
    "f_str_2 = f'제 이릉은 {name}이고 저는 {intro}입니다.'\n",
    "f_str_2"
   ]
  },
  {
   "cell_type": "code",
   "execution_count": null,
   "id": "1c6365ec-b953-4e1c-a4b3-7c17336c54a4",
   "metadata": {},
   "outputs": [],
   "source": [
    "문자열.format()\n",
    "문자열에 위치 인덱스를 사용해 포멧한 값을 지정할수 있다."
   ]
  },
  {
   "cell_type": "code",
   "execution_count": 106,
   "id": "c7ef7f6c-6cc2-4903-ba7d-a717f2a94b40",
   "metadata": {},
   "outputs": [
    {
     "data": {
      "text/plain": [
       "' 99.99 dollers are worth US$ 100 입니다 '"
      ]
     },
     "execution_count": 106,
     "metadata": {},
     "output_type": "execute_result"
    }
   ],
   "source": [
    "dir(f_str_1)  #소수점 두자리, str이어야함, 2:d - 백의자리\n",
    "format_str = ' {0:.2f} {1:s} are worth US$ {2:d} 입니다 '#templete\n",
    "format_str.format(99.99, 'dollers',100)\n"
   ]
  },
  {
   "cell_type": "code",
   "execution_count": 116,
   "id": "0640f4f8-fffb-47d8-aeee-1c06feccfbe6",
   "metadata": {},
   "outputs": [
    {
     "name": "stdin",
     "output_type": "stream",
     "text": [
      "주문할 메뉴를 입력하세요 15000\n",
      "한개 가격이 얼마인가요? 3\n",
      "몇개나 주문하세요 ? 3\n"
     ]
    },
    {
     "name": "stdout",
     "output_type": "stream",
     "text": [
      " 15000 메뉴의 3개 가격은 총 9입니다. \n"
     ]
    }
   ],
   "source": [
    "menu = input('주문할 메뉴를 입력하세요')\n",
    "price = input('한개 가격이 얼마인가요?')\n",
    "count = input('몇개나 주문하세요 ?')\n",
    "total = int(price) * int(count)\n",
    "msg = ' {} 메뉴의 {}개 가격은 총 {:,}입니다. '\n",
    "print(msg.format(menu,int(count),total))"
   ]
  },
  {
   "cell_type": "code",
   "execution_count": 180,
   "id": "67899a7c-2443-4bdd-b4c7-448cb347dc53",
   "metadata": {},
   "outputs": [
    {
     "name": "stdout",
     "output_type": "stream",
     "text": [
      "상품명       가격        수량        총액        \n",
      "--------------------------------------------------\n",
      "아메리카노           3000         2      6000\n",
      "카페라떼            4000         1      4000\n",
      "샌드위치            5500         3     16500\n"
     ]
    }
   ],
   "source": [
    "items = [\n",
    "    {\"name\": \"아메리카노\", \"price\": 3000, \"qty\": 2},\n",
    "    {\"name\": \"카페라떼\", \"price\": 4000, \"qty\": 1},\n",
    "    {\"name\": \"샌드위치\", \"price\": 5500, \"qty\": 3}\n",
    "]\n",
    "\n",
    "header_str = '{0:10}{1:10}{2:10}{3:10}'\n",
    "print(header_str.format('상품명', '가격', '수량', '총액'))\n",
    "print('-'*50)\n",
    "\n",
    "data_str = '{0:10}{1:10,}원{2:10}개{3:10}'\n",
    "\n",
    "for item in items : \n",
    "    item_name = item['name']\n",
    "    item_price = item['price']b\n",
    "    item_qty = item['qty']\n",
    "\n",
    "    total_price = item_price * item_qty\n",
    " #   print(data_str.format(item_name, item_price, item_qty, total_price))\n",
    "    print(headear_str.format(item_name, item_price, item_qty, total_price))\n",
    "#data_Str = {name[\"이름\"]}{}{}{} #인텍스 데이터길이 #:,"
   ]
  },
  {
   "cell_type": "code",
   "execution_count": 197,
   "id": "131efe7b-78bb-4b2f-92d4-2a003477390c",
   "metadata": {},
   "outputs": [
    {
     "data": {
      "text/plain": [
       "'hello'"
      ]
     },
     "execution_count": 197,
     "metadata": {},
     "output_type": "execute_result"
    }
   ],
   "source": [
    "\"Python\".lower()\n",
    "\"python\".upper()\n",
    "\"hello\".capitalize()\n",
    "\"hello world\".title()\n",
    "\" hello \".strip() \n",
    "\" hello\".lstrip()\n",
    "\"hello \".rstrip()"
   ]
  }
 ],
 "metadata": {
  "kernelspec": {
   "display_name": "Python 3 (ipykernel)",
   "language": "python",
   "name": "python3"
  },
  "language_info": {
   "codemirror_mode": {
    "name": "ipython",
    "version": 3
   },
   "file_extension": ".py",
   "mimetype": "text/x-python",
   "name": "python",
   "nbconvert_exporter": "python",
   "pygments_lexer": "ipython3",
   "version": "3.12.9"
  }
 },
 "nbformat": 4,
 "nbformat_minor": 5
}
