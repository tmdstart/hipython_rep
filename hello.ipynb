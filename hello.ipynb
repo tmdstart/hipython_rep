{
 "cells": [
  {
   "cell_type": "code",
   "execution_count": 3,
   "id": "151a847a-6c99-43ff-9859-2be8015f809f",
   "metadata": {},
   "outputs": [
    {
     "name": "stdin",
     "output_type": "stream",
     "text": [
      "이것은 설명입니다 ㅎㄹㅇㅎㄹㄴ\n"
     ]
    },
    {
     "name": "stdout",
     "output_type": "stream",
     "text": [
      "ㅎㄹㅇㅎㄹㄴ\n"
     ]
    }
   ],
   "source": [
    "#age\n"
   ]
  },
  {
   "cell_type": "code",
   "execution_count": 17,
   "id": "b8e1060f-6cd5-4edc-b2b8-c34394bb52a2",
   "metadata": {},
   "outputs": [
    {
     "name": "stdout",
     "output_type": "stream",
     "text": [
      "7\n"
     ]
    }
   ],
   "source": [
    "def calculate_sum(a,b) : \n",
    "    result = a + b\n",
    "    return result\n",
    "print(calculate_sum(3,4)) "
   ]
  },
  {
   "cell_type": "code",
   "execution_count": null,
   "id": "4f23b244-cbb9-4825-9e1b-3e3a220cacf4",
   "metadata": {},
   "outputs": [],
   "source": []
  }
 ],
 "metadata": {
  "kernelspec": {
   "display_name": "Python 3 (ipykernel)",
   "language": "python",
   "name": "python3"
  },
  "language_info": {
   "codemirror_mode": {
    "name": "ipython",
    "version": 3
   },
   "file_extension": ".py",
   "mimetype": "text/x-python",
   "name": "python",
   "nbconvert_exporter": "python",
   "pygments_lexer": "ipython3",
   "version": "3.12.9"
  }
 },
 "nbformat": 4,
 "nbformat_minor": 5
}
