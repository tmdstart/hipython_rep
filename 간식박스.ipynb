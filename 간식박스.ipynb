{
 "cells": [
  {
   "cell_type": "code",
   "execution_count": 1,
   "id": "fc101ea1-3175-498b-a28d-79465141b41a",
   "metadata": {},
   "outputs": [
    {
     "name": "stdin",
     "output_type": "stream",
     "text": [
      "먹고 싶은 간식을 추가하세요.  단, 쉼표(,)로 연결하세요 사과\n"
     ]
    },
    {
     "name": "stdout",
     "output_type": "stream",
     "text": [
      "['초코파이', '사과']\n"
     ]
    },
    {
     "name": "stdin",
     "output_type": "stream",
     "text": [
      "간식박스 몇 세트로 포장할까요? 예: 2 -> 2box 1\n"
     ]
    },
    {
     "name": "stdout",
     "output_type": "stream",
     "text": [
      "['초코파이', '사과']\n"
     ]
    },
    {
     "ename": "IndexError",
     "evalue": "list index out of range",
     "output_type": "error",
     "traceback": [
      "\u001b[31m---------------------------------------------------------------------------\u001b[39m",
      "\u001b[31mIndexError\u001b[39m                                Traceback (most recent call last)",
      "\u001b[36mCell\u001b[39m\u001b[36m \u001b[39m\u001b[32mIn[1]\u001b[39m\u001b[32m, line 13\u001b[39m\n\u001b[32m     10\u001b[39m snack_box *= qty\n\u001b[32m     11\u001b[39m \u001b[38;5;28mprint\u001b[39m(snack_box)\n\u001b[32m---> \u001b[39m\u001b[32m13\u001b[39m \u001b[38;5;28mprint\u001b[39m(\u001b[33mf\u001b[39m\u001b[33m'\u001b[39m\u001b[33m주문하신 간식상자는 \u001b[39m\u001b[38;5;132;01m{\u001b[39;00msnack_box[\u001b[32m0\u001b[39m]\u001b[38;5;132;01m}\u001b[39;00m\u001b[33m,\u001b[39m\u001b[38;5;132;01m{\u001b[39;00msnack_box[\u001b[32m1\u001b[39m]\u001b[38;5;132;01m}\u001b[39;00m\u001b[33m,\u001b[39m\u001b[38;5;132;01m{\u001b[39;00msnack_box[\u001b[32m2\u001b[39m]\u001b[38;5;132;01m}\u001b[39;00m\u001b[33m 등입니다. 확인해주세요.\u001b[39m\u001b[33m'\u001b[39m)\n\u001b[32m     15\u001b[39m \u001b[38;5;66;03m# 간식박스 관리 프로그램 3\u001b[39;00m\n\u001b[32m     16\u001b[39m msg = \u001b[33mf\u001b[39m\u001b[33m'\u001b[39m\u001b[33m혹시 빼고싶은 간식이 있으면 번호를 입력하세요 (0~\u001b[39m\u001b[38;5;132;01m{\u001b[39;00m\u001b[38;5;28mlen\u001b[39m(snack_box)-\u001b[32m1\u001b[39m\u001b[38;5;132;01m}\u001b[39;00m\u001b[33m)\u001b[39m\u001b[33m'\u001b[39m\n",
      "\u001b[31mIndexError\u001b[39m: list index out of range"
     ]
    }
   ],
   "source": [
    "# 간식박스 관리 프로그램 1\n",
    "snack_box = ['초코파이']\n",
    "new_snack = input('먹고 싶은 간식을 추가하세요.  단, 쉼표(,)로 연결하세요').split(',')\n",
    "snack_box += new_snack\n",
    "\n",
    "print(snack_box)\n",
    "\n",
    "# 간식박스 관리 프로그램 2\n",
    "qty = int(input('간식박스 몇 세트로 포장할까요? 예: 2 -> 2box'))\n",
    "snack_box *= qty\n",
    "print(snack_box)\n",
    "\n",
    "print(f'주문하신 간식상자는 {snack_box[0]},{snack_box[1]},{snack_box[2]} 등입니다. 확인해주세요.')\n",
    "\n",
    "# 간식박스 관리 프로그램 3\n",
    "msg = f'혹시 빼고싶은 간식이 있으면 번호를 입력하세요 (0~{len(snack_box)-1})'\n",
    "snack_no = int(input(msg))\n",
    "del snack_box[snack_no]\n",
    "\n",
    "# 간식박스 관리 프로그램 4\n",
    "# 찾고 싶은 간식이름을 입력하세요\n",
    "# 있어요 OR 없어요 출력\n",
    "snack_name = input('찾고 싶은 간식을 입력하세요')\n",
    "if snack_name in snack_box :\n",
    "    print('있어요')\n",
    "else:\n",
    "    print('없어요')\n",
    "\n",
    "# 간식박스 관리 프로그램 5\n",
    "print('주문하신 간식박스는 뒤에서부터 다음과 같습니다.')\n",
    "print(f'{snack_box[::-1]} , 총 {len(snack_box)}개입니다.')"
   ]
  },
  {
   "cell_type": "code",
   "execution_count": null,
   "id": "1fa5d829-ada1-4df0-b015-d37b6813fecf",
   "metadata": {},
   "outputs": [],
   "source": []
  },
  {
   "cell_type": "markdown",
   "id": "4119d9d9-a669-42e1-9762-7db1182df6c0",
   "metadata": {},
   "source": [
    "CRUD\n",
    "간식박스 관리프로그램(함수기반)\n",
    "간식박스 생성\n",
    "간식세트 포장 \n",
    "간식박스 미리보기\n",
    "간식 삭제\n",
    "간식 찾기\n",
    "간식박스 전체보기\n",
    "간식박스 요약\n",
    "메뉴 형식으로 구조를 개편"
   ]
  },
  {
   "cell_type": "code",
   "execution_count": 3,
   "id": "a03c4c09-277d-4fc3-a2d0-ceed33870177",
   "metadata": {},
   "outputs": [],
   "source": [
    "#1. 간식박스 생성 create\n",
    "# 함수 구현\n",
    "# 문제점- 오류처리, 예외처리\n",
    "def make_snack_box():\n",
    "    snack_box = ['초코파이']\n",
    "    new_snack = input('먹고 싶은 간식을 추가하세요.  단, 쉼표(,)로 연결하세요').split(',')\n",
    "    snack_box += new_snack\n",
    "    return snack_box"
   ]
  },
  {
   "cell_type": "code",
   "execution_count": 24,
   "id": "cb0b9141-6b8b-4aac-b7ec-f7a228e63ba3",
   "metadata": {},
   "outputs": [],
   "source": [
    "# 간식세트 포장 *2 * update\n",
    "\n",
    "def mulply_snack_box(snack_box) :\n",
    "    qty = int(input('간식박스 몇 세트로 포장할까요? 예: 2 -> 2box'))\n",
    "    snack_box *= qty\n",
    "    return  snack_box * qty"
   ]
  },
  {
   "cell_type": "code",
   "execution_count": 6,
   "id": "84675a86-4f5c-4344-9802-60ea900909e3",
   "metadata": {},
   "outputs": [],
   "source": [
    "def display_snack_box(snack_box):\n",
    "    print(f'{snack_box[::-1]}, 총 {len(snack_box)}개 입니다.')"
   ]
  },
  {
   "cell_type": "code",
   "execution_count": 32,
   "id": "aff30d60-e17b-4169-91d2-89d12254b242",
   "metadata": {},
   "outputs": [],
   "source": [
    "def preview_snack_box(snack_box):\n",
    "    preview = ','.join(snack_box[:3])\n",
    "    print(f'선택하신 간식은 {preview} 등 입니다')                   "
   ]
  },
  {
   "cell_type": "code",
   "execution_count": 26,
   "id": "fcf578c7-ec7a-4980-ae0a-2cd4fd6c9c2c",
   "metadata": {},
   "outputs": [],
   "source": [
    "def remove_snack_box(snack_box):\n",
    "    del_snack = input('삭제할 메뉴를 말해주세요')\n",
    "\n",
    "    if del_snack in snack_box:\n",
    "        snack_box.remove(del_snack)\n",
    "    else:\n",
    "        print(\"해당 메뉴가 없습니다!\")\n",
    "    return snack_box"
   ]
  },
  {
   "cell_type": "code",
   "execution_count": null,
   "id": "43e017d4-a291-4109-aef6-28144426f56c",
   "metadata": {},
   "outputs": [],
   "source": [
    "def remove_snack_box2(snack_box):\n",
    "    if not snack_box\n",
    "        print('간식박스가 비어있어요')\n",
    "        return\n",
    "    display_snack_box()\n",
    "    \n",
    "    msg = f'혹시 뺴고 싶은 간식이 있으면 번호를 입력하세요 (0~(len(snack_box)-1))'\n",
    "    snack_no = int(input(msg)\n",
    "                   \n",
    "    return snack_box"
   ]
  },
  {
   "cell_type": "code",
   "execution_count": 38,
   "id": "ebd5970e-f952-4cb2-961e-9d5b14e3d37f",
   "metadata": {},
   "outputs": [],
   "source": [
    "def remove_snack_box3(snack_box):\n",
    "    #예외처리\n",
    "    if not snack_box:\n",
    "        print('간식박스가 비어 있어요')\n",
    "        return\n",
    "\n",
    "    display_snack_box(snack_box)\n",
    "\n",
    "    msg = f'혹시 빼고싶은 간식이 있으면 번호를 입력하세요 (0~{len(snack_box)-1})'\n",
    "    snack_no = int(input(msg))\n",
    "\n",
    "    #snack_no validation\n",
    "\n",
    "    del snack_box[snack_no]\n",
    "    return snack_box"
   ]
  },
  {
   "cell_type": "code",
   "execution_count": 35,
   "id": "20c07bdc-6849-4f16-8f9a-850b97290b7f",
   "metadata": {},
   "outputs": [],
   "source": [
    "\n",
    "def search_snack(snack_box):\n",
    "    snack_name = input(\"찾고 싶은 간식을 입력하세요: \")\n",
    "    print(\"있어요\" if snack_name in snack_box else \"없어요\")"
   ]
  },
  {
   "cell_type": "code",
   "execution_count": 45,
   "id": "bbc1efbd-1ef5-49f8-8632-5220c85c553e",
   "metadata": {},
   "outputs": [],
   "source": [
    "def summerize_snack(snack_box) :\n",
    "    summary = {}\n",
    "    for snack in snack_box:\n",
    "        summary[snack] =  summary.get(snack, 0) +1\n",
    "    print('간식박스 정리')\n",
    "    for snack, qty in summary.items():\n",
    "        print(f' -{snack}:{qty}개')    \n",
    "    return summary"
   ]
  },
  {
   "cell_type": "code",
   "execution_count": 40,
   "id": "ec7ca9e3-63f7-4013-a0b7-ad5705f7dd0b",
   "metadata": {},
   "outputs": [
    {
     "name": "stdin",
     "output_type": "stream",
     "text": [
      "먹고 싶은 간식을 추가하세요.  단, 쉼표(,)로 연결하세요 아사히\n"
     ]
    },
    {
     "name": "stdout",
     "output_type": "stream",
     "text": [
      "간식박스가 만들어졌어요\n",
      "['아사히', '초코파이'], 총 2개 입니다.\n"
     ]
    },
    {
     "name": "stdin",
     "output_type": "stream",
     "text": [
      "간식박스 몇 세트로 포장할까요? 예: 2 -> 2box 2\n"
     ]
    },
    {
     "name": "stdout",
     "output_type": "stream",
     "text": [
      "['아사히', '초코파이', '아사히', '초코파이', '아사히', '초코파이', '아사히', '초코파이'], 총 8개 입니다.\n",
      "선택하신 간식은 초코파이,아사히,초코파이 등 입니다\n"
     ]
    },
    {
     "name": "stdin",
     "output_type": "stream",
     "text": [
      "삭제할 메뉴를 말해주세요 아사히\n"
     ]
    },
    {
     "name": "stdout",
     "output_type": "stream",
     "text": [
      "['아사히', '초코파이', '아사히', '초코파이', '아사히', '초코파이', '초코파이'], 총 7개 입니다.\n"
     ]
    },
    {
     "name": "stdin",
     "output_type": "stream",
     "text": [
      "찾고 싶은 간식을 입력하세요:  초코파이\n"
     ]
    },
    {
     "name": "stdout",
     "output_type": "stream",
     "text": [
      "있어요\n",
      "['아사히', '초코파이', '아사히', '초코파이', '아사히', '초코파이', '초코파이'], 총 7개 입니다.\n"
     ]
    },
    {
     "name": "stdin",
     "output_type": "stream",
     "text": [
      "혹시 빼고싶은 간식이 있으면 번호를 입력하세요 (0~6) 2\n"
     ]
    },
    {
     "data": {
      "text/plain": [
       "['초코파이', '초코파이', '초코파이', '아사히', '초코파이', '아사히']"
      ]
     },
     "execution_count": 40,
     "metadata": {},
     "output_type": "execute_result"
    }
   ],
   "source": [
    "box = make_snack_box()\n",
    "print('간식박스가 만들어졌어요');\n",
    "display_snack_box(box)\n",
    "box = mulply_snack_box(box)\n",
    "display_snack_box(box)\n",
    "preview_snack_box(box)\n",
    "box = remove_snack_box(box)\n",
    "display_snack_box(box)\n",
    "search_snack(box)\n",
    "remove_snack_box3(box)\n"
   ]
  },
  {
   "cell_type": "code",
   "execution_count": 46,
   "id": "5f4a68c0-483b-4155-b7bd-91bf120afa8c",
   "metadata": {
    "scrolled": true
   },
   "outputs": [
    {
     "name": "stdout",
     "output_type": "stream",
     "text": [
      "간식박스 정리\n",
      " -초코파이:4개\n",
      " -아사히:2개\n"
     ]
    },
    {
     "data": {
      "text/plain": [
       "{'초코파이': 4, '아사히': 2}"
      ]
     },
     "execution_count": 46,
     "metadata": {},
     "output_type": "execute_result"
    }
   ],
   "source": [
    "summerize_snack(box)"
   ]
  },
  {
   "cell_type": "code",
   "execution_count": null,
   "id": "04351aa5-91a6-47ff-a7db-4e3f795c6a4e",
   "metadata": {},
   "outputs": [],
   "source": [
    "# 선택, 반복\n",
    "# 기본함수 정의\n",
    "# utiliy 함수"
   ]
  },
  {
   "cell_type": "code",
   "execution_count": 82,
   "id": "e70d9a52-0e07-451c-9ad2-ae3089e11157",
   "metadata": {},
   "outputs": [],
   "source": [
    "#숫자검증\n",
    "def get_valid_number_input(msg, min_no=1, max_no=5):\n",
    "    try :\n",
    "        number = int(input(msg))\n",
    "        if number < min_no :\n",
    "            print(f'{min_no}이상 숫자를 입력하세요')\n",
    "        elif number > max_no:\n",
    "            print(f'{max_no}이하 숫자를 입력하세요')\n",
    "        else:\n",
    "            return number\n",
    "    except ValueError :\n",
    "        print('숫자로 입력하세요')\n",
    "        return None"
   ]
  },
  {
   "cell_type": "code",
   "execution_count": null,
   "id": "ef8a3998-1acc-4ae4-b452-9c0602eab4a6",
   "metadata": {},
   "outputs": [
    {
     "name": "stdout",
     "output_type": "stream",
     "text": [
      "간식박스 관리 프로그램 메뉴\n",
      "1. 간식박스 생성\n",
      "2. 세트 생성\n",
      "3. 세트 미리보기\n",
      "4. 간식 삭제\n",
      "5. 간식 검색\n",
      "6. 간식박스 요약\n",
      "7. 최종 간식박스 확인\n"
     ]
    },
    {
     "name": "stdin",
     "output_type": "stream",
     "text": [
      "원하는 메뉴 번호를 입력하세요 : 1\n",
      "먹고싶은 간식을 추가해주세요  단, 쉼표(,)로 연결하세요 2\n"
     ]
    },
    {
     "name": "stdout",
     "output_type": "stream",
     "text": [
      "간식박스 관리 프로그램 메뉴\n",
      "1. 간식박스 생성\n",
      "2. 세트 생성\n",
      "3. 세트 미리보기\n",
      "4. 간식 삭제\n",
      "5. 간식 검색\n",
      "6. 간식박스 요약\n",
      "7. 최종 간식박스 확인\n"
     ]
    },
    {
     "name": "stdin",
     "output_type": "stream",
     "text": [
      "원하는 메뉴 번호를 입력하세요 : 1\n",
      "먹고싶은 간식을 추가해주세요  단, 쉼표(,)로 연결하세요 탕수육, 빙수, 타코야끼\n"
     ]
    },
    {
     "name": "stdout",
     "output_type": "stream",
     "text": [
      "간식박스 관리 프로그램 메뉴\n",
      "1. 간식박스 생성\n",
      "2. 세트 생성\n",
      "3. 세트 미리보기\n",
      "4. 간식 삭제\n",
      "5. 간식 검색\n",
      "6. 간식박스 요약\n",
      "7. 최종 간식박스 확인\n"
     ]
    },
    {
     "name": "stdin",
     "output_type": "stream",
     "text": [
      "원하는 메뉴 번호를 입력하세요 : 6\n"
     ]
    },
    {
     "name": "stdout",
     "output_type": "stream",
     "text": [
      "간식박스 정리\n",
      " -초코파이:1개\n",
      " -탕수육:2개\n",
      " -빙수:1개\n",
      " -타코야끼:1개\n",
      " - 빙수:1개\n",
      " - 타코야끼:1개\n",
      "간식박스 관리 프로그램 메뉴\n",
      "1. 간식박스 생성\n",
      "2. 세트 생성\n",
      "3. 세트 미리보기\n",
      "4. 간식 삭제\n",
      "5. 간식 검색\n",
      "6. 간식박스 요약\n",
      "7. 최종 간식박스 확인\n"
     ]
    },
    {
     "name": "stdin",
     "output_type": "stream",
     "text": [
      "원하는 메뉴 번호를 입력하세요 : 7\n"
     ]
    },
    {
     "name": "stdout",
     "output_type": "stream",
     "text": [
      "[' 타코야끼', ' 빙수', '탕수육', '타코야끼', '빙수', '탕수육', '초코파이'], 총 7개 입니다.\n",
      "간식박스 관리 프로그램 메뉴\n",
      "1. 간식박스 생성\n",
      "2. 세트 생성\n",
      "3. 세트 미리보기\n",
      "4. 간식 삭제\n",
      "5. 간식 검색\n",
      "6. 간식박스 요약\n",
      "7. 최종 간식박스 확인\n"
     ]
    },
    {
     "name": "stdin",
     "output_type": "stream",
     "text": [
      "원하는 메뉴 번호를 입력하세요 : 1\n",
      "먹고싶은 간식을 추가해주세요  단, 쉼표(,)로 연결하세요 2\n"
     ]
    },
    {
     "name": "stdout",
     "output_type": "stream",
     "text": [
      "간식박스 관리 프로그램 메뉴\n",
      "1. 간식박스 생성\n",
      "2. 세트 생성\n",
      "3. 세트 미리보기\n",
      "4. 간식 삭제\n",
      "5. 간식 검색\n",
      "6. 간식박스 요약\n",
      "7. 최종 간식박스 확인\n"
     ]
    },
    {
     "name": "stdin",
     "output_type": "stream",
     "text": [
      "원하는 메뉴 번호를 입력하세요 : 7\n"
     ]
    },
    {
     "name": "stdout",
     "output_type": "stream",
     "text": [
      "['2', '2', '초코파이'], 총 3개 입니다.\n",
      "간식박스 관리 프로그램 메뉴\n",
      "1. 간식박스 생성\n",
      "2. 세트 생성\n",
      "3. 세트 미리보기\n",
      "4. 간식 삭제\n",
      "5. 간식 검색\n",
      "6. 간식박스 요약\n",
      "7. 최종 간식박스 확인\n"
     ]
    },
    {
     "name": "stdin",
     "output_type": "stream",
     "text": [
      "원하는 메뉴 번호를 입력하세요 : 7\n"
     ]
    },
    {
     "name": "stdout",
     "output_type": "stream",
     "text": [
      "['2', '2', '초코파이'], 총 3개 입니다.\n",
      "간식박스 관리 프로그램 메뉴\n",
      "1. 간식박스 생성\n",
      "2. 세트 생성\n",
      "3. 세트 미리보기\n",
      "4. 간식 삭제\n",
      "5. 간식 검색\n",
      "6. 간식박스 요약\n",
      "7. 최종 간식박스 확인\n"
     ]
    },
    {
     "name": "stdin",
     "output_type": "stream",
     "text": [
      "원하는 메뉴 번호를 입력하세요 : 1\n"
     ]
    }
   ],
   "source": [
    "def make_snack_box():\n",
    "    snack_box = ['초코파이']\n",
    "    make_msg =\"먹고싶은 간식을 추가해주세요  단, 쉼표(,)로 연결하세요\"\n",
    "    new_snack = get_valid_text_input(make_msg).split(',')\n",
    "    snack_box += [item.strip() for item in new_snack]\n",
    "    snack_box += new_snack\n",
    "    return snack_box\n",
    "    \n",
    "def mulply_snack_box(snack_box) :\n",
    "    mul_msg = '간식박스 몇 세트로 포장할까요? 예 2 : 2box'\n",
    "    qty =get_valid_number_input(mul_msg, 2, 5)\n",
    "    snack_box *= qty\n",
    "    return  snack_box * qty\n",
    "\n",
    "def display_snack_box(snack_box):\n",
    "    print(f'{snack_box[::-1]}, 총 {len(snack_box)}개 입니다.')\n",
    "\n",
    "def preview_snack_box(snack_box):\n",
    "    preview = ','.join(snack_box[:3])\n",
    "    print(f'선택하신 간식은 {preview} 등 입니다')\n",
    "\n",
    "def remove_snack_box(snack_box):\n",
    "    del_snack = input('삭제할 메뉴를 말해주세요')\n",
    "\n",
    "    if del_snack in snack_box:\n",
    "        snack_box.remove(del_snack)\n",
    "    else:\n",
    "        print(\"해당 메뉴가 없습니다!\")\n",
    "    return snack_box\n",
    "\n",
    "def remove_snack_box3(snack_box):\n",
    "    #예외처리\n",
    "    if not snack_box:\n",
    "        print('간식박스가 비어 있어요')\n",
    "        return\n",
    "\n",
    "    display_snack_box(snack_box)\n",
    "    snack_cny=len(snack_box)-1\n",
    "    rem_msg = f'혹시 빼고싶은 간식이 있으면 번호를 입력하세요 (0~{len(snack_box)-1})'\n",
    "    snack_no = get_valid_number_input(rem_msg, 0 ,snack_count)\n",
    "    #snack_no validation\n",
    "\n",
    "    del snack_box[snack_no]\n",
    "    return snack_box\n",
    "\n",
    "def search_snack(snack_box):\n",
    "    snack_name = input(\"찾고 싶은 간식을 입력하세요: \")\n",
    "    print(\"있어요\" if snack_name in snack_box else \"없어요\")\n",
    "\n",
    "def summarize_snacks(snack_box) :\n",
    "    summary = {}\n",
    "    for snack in snack_box:\n",
    "        summary[snack] =  summary.get(snack, 0) +1\n",
    "    print('간식박스 정리')\n",
    "    for snack, qty in summary.items():\n",
    "        print(f' -{snack}:{qty}개')    \n",
    "    return summary\n",
    "#서비스 흐름  선택과 반복\n",
    "\n",
    "def choice_list():\n",
    "     print('간식박스 관리 프로그램 메뉴')\n",
    "     print('1. 간식박스 생성')\n",
    "     print('2. 세트 생성')\n",
    "     print('3. 세트 미리보기')\n",
    "     print('4. 간식 삭제')\n",
    "     print('5. 간식 검색')\n",
    "     print('6. 간식박스 요약')\n",
    "     print('7. 최종 간식박스 확인')\n",
    "\n",
    "\n",
    "\n",
    "def get_valid_text_input(msg):\n",
    "    user_input = input(msg).strip()\n",
    "    if not user_input : \n",
    "        print('입력값을 확인하세요')\n",
    "        return None\n",
    "    return user_input\n",
    "\n",
    "def run_menu_program():\n",
    "    snack_box = []\n",
    "    while True:\n",
    "       \n",
    "      #  choice_list()\n",
    "      # choice = input('원하는 메뉴 번호를 입력하세요 : ')\n",
    "        choice_list()\n",
    "        menu_msg = '원하는 메뉴 번호를 입력하세요 :'\n",
    "        choice = str(get_valid_number_input(menu_msg, 1, 7))\n",
    "        \n",
    "        if choice == '1':\n",
    "            snack_box = make_snack_box()\n",
    "        elif choice == '2':\n",
    "            snack_box = multiply_snack_box(snack_box)\n",
    "        elif choice == '3':\n",
    "            preview_snack_box(snack_box)\n",
    "        elif choice == '4':\n",
    "            remove_snack_box(snack_box)\n",
    "        elif choice == '5':\n",
    "            search_snack(snack_box)\n",
    "        elif choice == '6': \n",
    "            summarize_snacks(snack_box)\n",
    "        elif choice == '7':\n",
    "            display_snack_box(snack_box)\n",
    "run_menu_program()"
   ]
  },
  {
   "cell_type": "markdown",
   "id": "2967270b-f1bd-42a1-a4a4-cac70f4ba76b",
   "metadata": {},
   "source": []
  }
 ],
 "metadata": {
  "kernelspec": {
   "display_name": "Python 3 (ipykernel)",
   "language": "python",
   "name": "python3"
  },
  "language_info": {
   "codemirror_mode": {
    "name": "ipython",
    "version": 3
   },
   "file_extension": ".py",
   "mimetype": "text/x-python",
   "name": "python",
   "nbconvert_exporter": "python",
   "pygments_lexer": "ipython3",
   "version": "3.12.9"
  }
 },
 "nbformat": 4,
 "nbformat_minor": 5
}
