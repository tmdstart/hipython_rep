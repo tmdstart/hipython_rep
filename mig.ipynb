{
 "cells": [
  {
   "cell_type": "code",
   "execution_count": null,
   "id": "5f317ef4",
   "metadata": {},
   "outputs": [],
   "source": [
    "import pandas as pd\n",
    "import mysql.connector\n",
    "    \n",
    "# 1. MySQL 연결\n",
    "conn = mysql.connector.connect(\n",
    "    host=\"localhost\",\n",
    "    user=\"root\",\n",
    "    password=\"1234\",\n",
    "    database=\"분석실습\"\n",
    ")\n",
    "cursor = conn.cursor()"
   ]
  },
  {
   "cell_type": "code",
   "execution_count": 2,
   "id": "0a212045",
   "metadata": {},
   "outputs": [
    {
     "data": {
      "text/plain": [
       "(5369, 8)"
      ]
     },
     "execution_count": 2,
     "metadata": {},
     "output_type": "execute_result"
    }
   ],
   "source": [
    "df_customer = pd.read_csv(\"mig/customer.txt\", sep=\"\\t\", dtype=str,  encoding='cp949')\n",
    "df_customer.shape\n",
    "#(5369, 8)"
   ]
  },
  {
   "cell_type": "code",
   "execution_count": 3,
   "id": "021e1bd9",
   "metadata": {},
   "outputs": [
    {
     "data": {
      "text/plain": [
       "(541909, 8)"
      ]
     },
     "execution_count": 3,
     "metadata": {},
     "output_type": "execute_result"
    }
   ],
   "source": [
    "df_sales = pd.read_csv(\"mig/sales.txt\", sep=\"\\t\", dtype=str,  encoding='cp949')\n",
    "df_sales.shape\n",
    "#(541909, 8)"
   ]
  },
  {
   "cell_type": "code",
   "execution_count": 4,
   "id": "bc09a3f6",
   "metadata": {},
   "outputs": [
    {
     "name": "stdout",
     "output_type": "stream",
     "text": [
      "총 5369건 삽입 완료\n"
     ]
    }
   ],
   "source": [
    "# 3. CUSTOMER INSERT\n",
    "for row in df_customer.itertuples(index=False, name=None):\n",
    "    cursor.execute(\"\"\"\n",
    "        INSERT INTO CUSTOMER (mem_no, last_name, first_name, gd, birth_dt, entr_dt, grade, sign_up_ch)\n",
    "        VALUES (%s, %s, %s, %s, %s, %s, %s, %s)\n",
    "    \"\"\", row)\n",
    "    \n",
    "conn.commit()  # 변경사항 저장\n",
    "\n",
    "cursor.execute(\"SELECT COUNT(*) FROM CUSTOMER\")\n",
    "print(f\"총 {cursor.fetchone()[0]}건 삽입 완료\")"
   ]
  },
  {
   "cell_type": "code",
   "execution_count": 8,
   "id": "b3682c81",
   "metadata": {},
   "outputs": [
    {
     "data": {
      "text/plain": [
       "InvoiceNo      0\n",
       "StockCode      0\n",
       "Description    0\n",
       "Quantity       0\n",
       "InvoiceDate    0\n",
       "UnitPrice      0\n",
       "CustomerID     0\n",
       "Country        0\n",
       "dtype: int64"
      ]
     },
     "execution_count": 8,
     "metadata": {},
     "output_type": "execute_result"
    }
   ],
   "source": [
    "df_sales = df_sales.dropna(subset=[\"CustomerID\"])\n",
    "df_sales[\"CustomerID\"] = df_sales[\"CustomerID\"].astype(int)\n",
    "\n",
    "# 날짜 및 숫자 변환\n",
    "df_sales[\"Quantity\"] = df_sales[\"Quantity\"].astype(int)\n",
    "df_sales[\"UnitPrice\"] = df_sales[\"UnitPrice\"].astype(float)\n",
    "df_sales[\"CustomerID\"] = df_sales[\"CustomerID\"].astype(int)\n",
    "\n",
    "# DATETIME 변환\n",
    "df_sales[\"InvoiceDate\"] = pd.to_datetime(df_sales[\"InvoiceDate\"], errors='coerce')\n",
    "df_sales[\"InvoiceDate\"] = df_sales[\"InvoiceDate\"].dt.strftime('%Y-%m-%d %H:%M:%S')\n",
    "df_sales.isna().sum()"
   ]
  },
  {
   "cell_type": "code",
   "execution_count": 6,
   "id": "1068f16d",
   "metadata": {},
   "outputs": [
    {
     "name": "stdout",
     "output_type": "stream",
     "text": [
      "총 406829건 삽입 완료\n"
     ]
    }
   ],
   "source": [
    "df_sales = df_sales.astype(object)\n",
    "rows = [tuple(x) for x in df_sales.to_records(index=False)]\n",
    "cursor.executemany(\"\"\"\n",
    "    INSERT INTO SALES (InvoiceNo, StockCode, Description, Quantity, InvoiceDate, UnitPrice, CustomerID, Country)\n",
    "    VALUES (%s, %s, %s, %s, %s, %s, %s, %s)\n",
    "\"\"\", rows)\n",
    "\n",
    "conn.commit()\n",
    "\n",
    "cursor.execute(\"SELECT COUNT(*) FROM SALES\")\n",
    "print(f\"총 {cursor.fetchone()[0]}건 삽입 완료\")"
   ]
  },
  {
   "cell_type": "code",
   "execution_count": 36,
   "id": "38d968ff",
   "metadata": {},
   "outputs": [
    {
     "name": "stdout",
     "output_type": "stream",
     "text": [
      "데이터 삽입 완료\n"
     ]
    }
   ],
   "source": [
    "# 6. 종료\n",
    "cursor.close()\n",
    "conn.close()\n",
    "print(\"데이터 삽입 완료\")\n"
   ]
  },
  {
   "cell_type": "code",
   "execution_count": 35,
   "id": "37e10d61",
   "metadata": {},
   "outputs": [
    {
     "name": "stdout",
     "output_type": "stream",
     "text": [
      "총 [('536365', '84406B', 'CREAM CUPID HEARTS COAT HANGER', 8, datetime.datetime(2010, 12, 1, 8, 26), Decimal('2.75'), 17850, 'United Kingdom'), ('536365', '84029G', 'KNITTED UNION FLAG HOT WATER BOTTLE', 6, datetime.datetime(2010, 12, 1, 8, 26), Decimal('3.39'), 17850, 'United Kingdom'), ('536365', '84029E', 'RED WOOLLY HOTTIE WHITE HEART.', 6, datetime.datetime(2010, 12, 1, 8, 26), Decimal('3.39'), 17850, 'United Kingdom'), ('536365', '22752', 'SET 7 BABUSHKA NESTING BOXES', 2, datetime.datetime(2010, 12, 1, 8, 26), Decimal('7.65'), 17850, 'United Kingdom'), ('536365', '21730', 'GLASS STAR FROSTED T-LIGHT HOLDER', 6, datetime.datetime(2010, 12, 1, 8, 26), Decimal('4.25'), 17850, 'United Kingdom'), ('536366', '22633', 'HAND WARMER UNION JACK', 6, datetime.datetime(2010, 12, 1, 8, 28), Decimal('1.85'), 17850, 'United Kingdom'), ('536366', '22632', 'HAND WARMER RED POLKA DOT', 6, datetime.datetime(2010, 12, 1, 8, 28), Decimal('1.85'), 17850, 'United Kingdom'), ('536367', '84879', 'ASSORTED COLOUR BIRD ORNAMENT', 32, datetime.datetime(2010, 12, 1, 8, 34), Decimal('1.69'), 13047, 'United Kingdom')]\n"
     ]
    }
   ],
   "source": [
    "# 1. MySQL 연결\n",
    "conn = mysql.connector.connect(\n",
    "    host=\"localhost\",\n",
    "    user=\"root\",\n",
    "    password=\"1234\",\n",
    "    database=\"분석실습\"\n",
    ")\n",
    "cursor = conn.cursor()\n",
    "\n",
    "cursor.execute(\"SELECT * FROM SALES\")\n",
    "print(f\"총 {cursor.fetchall()[2:10]}\")"
   ]
  }
 ],
 "metadata": {
  "kernelspec": {
   "display_name": "hipython",
   "language": "python",
   "name": "python3"
  },
  "language_info": {
   "codemirror_mode": {
    "name": "ipython",
    "version": 3
   },
   "file_extension": ".py",
   "mimetype": "text/x-python",
   "name": "python",
   "nbconvert_exporter": "python",
   "pygments_lexer": "ipython3",
   "version": "3.12.9"
  }
 },
 "nbformat": 4,
 "nbformat_minor": 5
}
