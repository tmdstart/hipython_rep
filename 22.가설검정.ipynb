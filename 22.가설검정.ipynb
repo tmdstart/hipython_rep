{
 "cells": [
  {
   "cell_type": "code",
   "execution_count": 5,
   "id": "93015a2d",
   "metadata": {},
   "outputs": [],
   "source": [
    "import numpy as np\n",
    "import pandas as pd\n",
    "import matplotlib.pyplot as plt\n",
    "%matplotlib inline\n",
    "plt.rc('figure', figsize=(10, 6))\n",
    "from matplotlib import rcParams\n",
    "rcParams['font.family'] = 'New Gulim'\n",
    "rcParams['font.size'] = 10\n",
    "rcParams['axes.unicode_minus'] = False\n",
    "import scipy.stats as stats\n",
    "#가설검정단계"
   ]
  },
  {
   "cell_type": "code",
   "execution_count": 23,
   "id": "b2535dc5",
   "metadata": {},
   "outputs": [
    {
     "name": "stdout",
     "output_type": "stream",
     "text": [
      "평균: 70.08573280308887\n",
      "p-value: 0.953913826658112\n",
      "검정 결과: 귀무가설 채택\n",
      "대립가설: 대한민국 남성의 평균 몸무게는 70kg이다.\n"
     ]
    }
   ],
   "source": [
    "#1 가설수립\n",
    "#H0: 대한민국 남성의 평균 몸무게는 70kg이다.(차이가 없다.)\n",
    "# 대립가설: 대한민국 남성의 평균 몸무게는 70kg이 아니다.\n",
    "\n",
    "#통계량 산출 - 데이터 수집\n",
    "\n",
    "\n",
    "np.random.seed(123)\n",
    "weight = np.random.uniform(40, 100, 100)\n",
    "\n",
    "# 귀무가설: 대한민국 남성의 평균 몸무게는 70kg이다.\n",
    "# 대립가설: 대한민국 남성의 평균 몸무게는 70kg이 아니다.\n",
    "\n",
    "# 단일표본 t-검정 수행\n",
    "test_result = stats.ttest_1samp(weight, 70)\n",
    "\n",
    "# 결과 출력\n",
    "print(f\"평균: {np.mean(weight)}\")\n",
    "print(f\"p-value: {test_result.pvalue}\")\n",
    "print(f\"검정 결과: {'귀무가설 기각 (대립가설 채택)' if test_result.pvalue < 0.05 else '귀무가설 채택'}\")\n",
    "\n",
    "if test_result.pvalue<0.05:\n",
    "    print(f'귀무가설: 대한민국 남성의 평균 몸무게는 70kg이 아니다.')\n",
    "else:\n",
    "    print(f'대립가설: 대한민국 남성의 평균 몸무게는 70kg이다.')"
   ]
  },
  {
   "cell_type": "code",
   "execution_count": 11,
   "id": "4219fc68",
   "metadata": {},
   "outputs": [
    {
     "name": "stdout",
     "output_type": "stream",
     "text": [
      "t값 = 7.031, p값 = 0.0000000986\n",
      "검정 결과: 귀무가설 기각 (대립가설 채택)\n",
      "귀무가설: 2.5잔 에서 크기 벗어 나지 않아서 유의미한 차이가 없다.\n"
     ]
    }
   ],
   "source": [
    "# 표본 데이터 (30명)\n",
    "coffee_data = [2.9, 2.4, 2.7, 3.0, 2.6, 2.8, 2.9, 3.1, 2.7, 2.6,\n",
    "               2.8, 2.5, 3.2, 3.0, 2.4, 2.6, 2.7, 3.1, 2.8, 2.7,\n",
    "               2.5, 2.9, 2.6, 2.8, 2.9, 2.5, 2.7, 2.8, 3.0, 2.9]\n",
    "\n",
    "# 단일표본 t-검정\n",
    "t_stat, p_value = stats.ttest_1samp(coffee_data, popmean=2.5)\n",
    "\n",
    "print(f\"t값 = {t_stat:.3f}, p값 = {p_value:.10f}\")\n",
    "\n",
    "#p<0.05 귀무가설\n",
    "#p>0.05 대립가설\n",
    "\n",
    "print(f\"검정 결과: {'귀무가설 기각 (대립가설 채택)' if p_value < 0.05 else '귀무가설 채택'}\")\n",
    "\n",
    "if p_value<0.05:\n",
    "    print(f'귀무가설: 2.5잔 에서 크기 벗어 나지 않아서 유의미한 차이가 없다.')\n",
    "else:\n",
    "    print(f'대립가설:  2.5잔 에서 벗어나서  유의미한 차이가 있다.')\n",
    "\n"
   ]
  },
  {
   "cell_type": "code",
   "execution_count": 20,
   "id": "4fe733db",
   "metadata": {},
   "outputs": [
    {
     "name": "stdout",
     "output_type": "stream",
     "text": [
      " 통계량 t값 = 5.331, 유의 확률 p값 = 0.0000604698\n",
      "검정 결과: 귀무가설 기각 (대립가설 채택)\n",
      "대립가설 채택:  AB수업과의 유의 확률 0.0000604698 유의미한 차이가 있다.\n"
     ]
    }
   ],
   "source": [
    "group_A = [78, 85, 82, 88, 76, 81, 79, 84, 82, 80]\n",
    "group_B = [72, 75, 78, 74, 71, 77, 70, 76, 75, 73]\n",
    "\n",
    "t_stat, p_value = stats.ttest_ind(group_A, group_B, equal_var=False)\n",
    "print(f\" 통계량 t값 = {t_stat:.3f}, 유의 확률 p값 = {p_value:.10f}\")\n",
    "# 표준오차의 5배\n",
    "print(f\"검정 결과: {'귀무가설 기각 (대립가설 채택)' if p_value < 0.05 else '귀무가설 채택'}\")\n",
    "\n",
    "if p_value>0.05:\n",
    "    print(f'귀무가설 : AB 수업과의 유의 확률 {p_value:.10f} 유의미한 차이가 없다.')\n",
    "else:\n",
    "    print(f'대립가설 채택:  AB수업과의 유의 확률 {p_value:.10f} 유의미한 차이가 있다.')\n"
   ]
  },
  {
   "cell_type": "code",
   "execution_count": 27,
   "id": "5840c0f1",
   "metadata": {},
   "outputs": [
    {
     "name": "stdout",
     "output_type": "stream",
     "text": [
      "t값 = 25.327, p값 = 0.000\n",
      " 통계량 t값 = 25.327, 유의 확률 p값 = 0.0000000011\n",
      "검정 결과: 귀무가설 기각 (대립가설 채택)\n",
      "대립가설 채택:  AB수업과의 유의 확률 0.0000000011 유의미한 차이가 있다.\n"
     ]
    }
   ],
   "source": [
    "\n",
    "# 대응 표본 t-검정 예제: 약물 투여 전후 혈압 비교\n",
    "before = [120, 122, 143, 130, 135, 118, 127, 140, 132, 125]\n",
    "after = [115, 117, 138, 125, 129, 112, 120, 135, 126, 119]\n",
    "\n",
    "t_stat, p_value = stats.ttest_rel(before, after)\n",
    "print(f\"t값 = {t_stat:.3f}, p값 = {p_value:.3f}\")\n",
    "\n",
    "\n",
    "print(f\" 통계량 t값 = {t_stat:.3f}, 유의 확률 p값 = {p_value:.10f}\")\n",
    "# 표준오차의 5배\n",
    "print(f\"검정 결과: {'귀무가설 기각 (대립가설 채택)' if p_value < 0.05 else '귀무가설 채택'}\")\n",
    "\n",
    "if p_value>0.05:\n",
    "    print(f'귀무가설 : AB 수업과의 유의 확률 {p_value:.10f} 유의미한 차이가 없다.')\n",
    "else:\n",
    "    print(f'대립가설 채택:  AB수업과의 유의 확률 {p_value:.10f} 유의미한 차이가 있다.')"
   ]
  },
  {
   "cell_type": "code",
   "execution_count": 38,
   "id": "b5619bdf",
   "metadata": {},
   "outputs": [
    {
     "name": "stdout",
     "output_type": "stream",
     "text": [
      "chi2 = 3.857, p값 = 0.050\n",
      " 통계량 t값 = 3.857, 유의 확률 p값 = 0.0495346134\n",
      "검정 결과: 귀무가설 기각 (대립가설 채택)\n",
      "대립가설 채택:  AB수업과의 유의 확률 0.0495346134 유의미한 차이가 있다.\n"
     ]
    }
   ],
   "source": [
    "#성별에 따라 커피를 선호하는지\n",
    "\n",
    "import numpy as np\n",
    "obs = np.array([[40, 10],  # 남자 (좋아함, 안좋아함) 교차표\n",
    "                [30, 20]]) # 여자\n",
    "\n",
    "chi2, p, dof, expected = stats.chi2_contingency(obs)\n",
    "print(f\"chi2 = {chi2:.3f}, p값 = {p:.3f}\")\n",
    "\n",
    "\n",
    "\n",
    "print(f\" 통계량 t값 = {chi2:.3f}, 유의 확률 p값 = {p:.10f}\")\n",
    "# 표준오차의 5배\n",
    "print(f\"검정 결과: {'귀무가설 기각 (대립가설 채택)' if p < 0.05 else '귀무가설 채택'}\")\n",
    "\n",
    "if p>0.05:\n",
    "    print(f'귀무가설 : AB 수업과의 유의 확률 {p:.10f} 유의미한 차이가 없다.')\n",
    "else:\n",
    "    print(f'대립가설 채택:  AB수업과의 유의 확률 {p:.10f} 유의미한 차이가 있다.')"
   ]
  },
  {
   "cell_type": "code",
   "execution_count": 44,
   "id": "916a8402",
   "metadata": {},
   "outputs": [
    {
     "name": "stdout",
     "output_type": "stream",
     "text": [
      "F값: 24.28, p값: 0.0013\n",
      " 통계량 t값 = 24.280, 유의 확률 p값 = 0.0013299767\n",
      "검정 결과: 귀무가설 기각 (대립가설 채택)\n",
      "대립가설 채택:  AB수업과의 유의 확률 0.0013299767 유의미한 차이가 있다.\n"
     ]
    }
   ],
   "source": [
    "from scipy.stats import f_oneway\n",
    "\n",
    "# 세 그룹의 점수\n",
    "group1 = [80, 85, 90]\n",
    "group2 = [70, 75, 78]\n",
    "group3 = [60, 65, 62]\n",
    "\n",
    "f_stat, p_value = f_oneway(group1, group2, group3)\n",
    "print(f\"F값: {f_stat:.2f}, p값: {p_value:.4f}\")\n",
    "\n",
    "\n",
    "\n",
    "print(f\" 통계량 t값 = {f_stat:.3f}, 유의 확률 p값 = {p_value:.10f}\")\n",
    "# 표준오차의 5배\n",
    "print(f\"검정 결과: {'귀무가설 기각 (대립가설 채택)' if p_value < 0.05 else '귀무가설 채택'}\")\n",
    "\n",
    "if p_value>0.05:\n",
    "    print(f'귀무가설 : AB 수업과의 유의 확률 {p_value:.10f} 유의미한 차이가 없다.')\n",
    "else:\n",
    "    print(f'대립가설 채택:  AB수업과의 유의 확률 {p_value:.10f} 유의미한 차이가 있다.')\n",
    "    \n",
    "    #h0 세계 그룹은 평균은 차이가 없다. 같다.\n",
    "    #h1 : 적어도 1개 그룹은 다르다.\n",
    "    \n",
    "    #결과: f값 24 - 그룹간 분산의 차이가 그룹내 분산보다 크다\n",
    "    # p-value = 0.013 -> 유의 수준보다 적다\n",
    "    # 귀무가설을 가각하고 그룹간 평균은 유의미한 차이가 적다."
   ]
  },
  {
   "cell_type": "code",
   "execution_count": null,
   "id": "56d9685c",
   "metadata": {},
   "outputs": [],
   "source": []
  },
  {
   "cell_type": "markdown",
   "id": "59ba5090",
   "metadata": {},
   "source": [
    "양성진단 - > 실제암 \n",
    "95%\n",
    "5% 암이아닐 확률\n",
    "\n",
    "암 P(A)\n",
    "양성 P(B)\n",
    "\n",
    "5%오진 P(양성|!암) =0.05 \n",
    "5%오진 P(양성|암) =0.95 = P(B|A')\n",
    "\n",
    "P(B|A) = P(A|B) * P(B) / P(A)\n",
    "\n",
    "암환자 비율 - 전국민의 10%\n",
    "\n",
    "문제 양성진단 실제암일 확률\n",
    "진단의 정확도 95% 암환자의 비율 10%\n",
    "\n",
    "- 5% 오진 P(양성|암') = 0.05 = P(B|A) \n",
    "- 5% 오진 P(양성|암) = 0.95 = P(B|A')\n",
    "\n",
    "암 P(A) = 0.1\n",
    "암' P(A') = 0.9\n",
    "\n",
    "양성 P(B) = 암&양성 + 암'&양성 = 0.095+0.045= 0.14\n",
    "암&양성  P(A교B) = P(A) * P(B|A) = 0.1*0.95\n",
    "암'&양성  P(A'교B) = P(A') * P(B|A') = 0.9*0.05\n",
    "\n"
   ]
  },
  {
   "cell_type": "code",
   "execution_count": 46,
   "id": "e7858dd0",
   "metadata": {},
   "outputs": [
    {
     "data": {
      "text/plain": [
       "0.6785714285714285"
      ]
     },
     "execution_count": 46,
     "metadata": {},
     "output_type": "execute_result"
    }
   ],
   "source": [
    "P_A = 0.1 #암의 확률\n",
    "P_not_A = 1-P_A # 암이아닐 확률\n",
    "P_B_given_A =  0.95 #양성판정의 정확도\n",
    "P_B_given_not_A = 0.05 #오진 암이아닌데 양성판정\n",
    "\n",
    "# 베이즈의 확률 \n",
    "P_A_given_B = P_B_given_A * P_A / ((P_B_given_A*P_A) + (P_B_given_not_A*P_not_A))\n",
    "P_A_given_B\n",
    "\n"
   ]
  },
  {
   "cell_type": "markdown",
   "id": "2868aa26",
   "metadata": {},
   "source": [
    "# 확률의 계산 , 동전던지기"
   ]
  },
  {
   "cell_type": "code",
   "execution_count": 54,
   "id": "b926a757",
   "metadata": {},
   "outputs": [
    {
     "data": {
      "text/plain": [
       "0.5"
      ]
     },
     "execution_count": 54,
     "metadata": {},
     "output_type": "execute_result"
    }
   ],
   "source": [
    "space = ['앞면', '뒷면']\n",
    "event=['앞면']\n",
    "\n",
    "prob = lambda event, space : len(event)/len(space)\n",
    "\n",
    "prob(event, space)"
   ]
  },
  {
   "cell_type": "code",
   "execution_count": 59,
   "id": "602f8262",
   "metadata": {},
   "outputs": [
    {
     "data": {
      "text/plain": [
       "0.16666666666666666"
      ]
     },
     "execution_count": 59,
     "metadata": {},
     "output_type": "execute_result"
    }
   ],
   "source": [
    "#주사위\n",
    "space = [1,2,3,4,5,6]\n",
    "event = [3]\n",
    "prob = lambda event, space : len(event)/len(space)\n",
    "prob( event, space)"
   ]
  },
  {
   "cell_type": "code",
   "execution_count": 70,
   "id": "f678ad30",
   "metadata": {},
   "outputs": [
    {
     "data": {
      "text/plain": [
       "0.6666666666666666"
      ]
     },
     "execution_count": 70,
     "metadata": {},
     "output_type": "execute_result"
    }
   ],
   "source": [
    "#확률의 덧셈 짝수이거나 4보다 큰 수가 나올 확률\n",
    "space = {1,2,3,4,5,6}\n",
    "event_A = {2,4,6}\n",
    "event_B= {5,6}\n",
    "\n",
    "합집합 = event_A | event_B\n",
    "합집합\n",
    "\n",
    "합집합의갯수 = len(합집합)\n",
    "전체경우의수 = len(space)\n",
    "확률_1 = 합집합의갯수/전체경우의수\n",
    "확률_1  # 짝수 또는 4보다 클 확률"
   ]
  },
  {
   "cell_type": "code",
   "execution_count": 76,
   "id": "b3d21aaa",
   "metadata": {},
   "outputs": [
    {
     "data": {
      "text/plain": [
       "0.6666666666666666"
      ]
     },
     "execution_count": 76,
     "metadata": {},
     "output_type": "execute_result"
    }
   ],
   "source": [
    "#2 이하이거나 5이상인눈이 나올확률\n",
    "space = {1,2,3,4,5,6}\n",
    "event_2 = {1,2}\n",
    "event_5= {5,6}\n",
    "\n",
    "\n",
    "합집합 = event_2 | event_5\n",
    "합집합\n",
    "\n",
    "union = len(합집합)\n",
    "total = len(space)\n",
    "확률_1 = union/total\n",
    "확률_1  # 짝수 또는 4보다 클 확률\n"
   ]
  },
  {
   "cell_type": "code",
   "execution_count": null,
   "id": "422b0842",
   "metadata": {},
   "outputs": [
    {
     "data": {
      "text/plain": [
       "0.16666666666666666"
      ]
     },
     "execution_count": 84,
     "metadata": {},
     "output_type": "execute_result"
    }
   ],
   "source": [
    "#확률의 교집합\n",
    "space = {1,2,3,4,5,6}\n",
    "event_A = {2,4,6}\n",
    "event_B= {2}\n",
    "\n",
    "P_A =len(event_A)& len(space) \n",
    "P_B = len(event_B)& len(space)\n",
    "\n",
    "P_B_and_A_ele = set(event_A) & set(event_B)\n",
    "P_B_and_A_ele\n",
    "\n",
    "P_B_and_A = len(P_B_and_A_ele)/len(space) # 교집합이 나올 확률\n",
    "P_B_and_A"
   ]
  },
  {
   "cell_type": "code",
   "execution_count": 87,
   "id": "0caed58a",
   "metadata": {},
   "outputs": [
    {
     "data": {
      "text/plain": [
       "0.08333333333333333"
      ]
     },
     "execution_count": 87,
     "metadata": {},
     "output_type": "execute_result"
    }
   ],
   "source": [
    "#조건부 확률 : 짝수이면서 2가 나올 확률\n",
    "#P(B|A) = P(B_AND_A)/P_A\n",
    "P_B_given_A=P_B_and_A/P_A\n",
    "\n",
    "P_B_given_A"
   ]
  },
  {
   "cell_type": "code",
   "execution_count": null,
   "id": "32fe9c76",
   "metadata": {},
   "outputs": [],
   "source": [
    "#우도와 확률값"
   ]
  }
 ],
 "metadata": {
  "kernelspec": {
   "display_name": "hipython",
   "language": "python",
   "name": "python3"
  },
  "language_info": {
   "codemirror_mode": {
    "name": "ipython",
    "version": 3
   },
   "file_extension": ".py",
   "mimetype": "text/x-python",
   "name": "python",
   "nbconvert_exporter": "python",
   "pygments_lexer": "ipython3",
   "version": "3.12.9"
  }
 },
 "nbformat": 4,
 "nbformat_minor": 5
}
