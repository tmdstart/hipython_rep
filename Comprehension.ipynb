{
 "cells": [
  {
   "cell_type": "code",
   "execution_count": 1,
   "id": "bba18dd9-7bd9-4d8c-ad86-1ada34f219ad",
   "metadata": {},
   "outputs": [
    {
     "name": "stdout",
     "output_type": "stream",
     "text": [
      "[(1, 5), (2, 4), (2, 6), (3, 5)]\n"
     ]
    }
   ],
   "source": [
    "list1 = [1, 2, 3]\n",
    "list2 = [4, 5, 6]\n",
    "even_sums = [(x, y) for x in list1 for y in list2 if (x + y) % 2 == 0]\n",
    "print(even_sums)  # [(1, 5), (2, 4), (2, 6), (3, 5)]"
   ]
  },
  {
   "cell_type": "code",
   "execution_count": 2,
   "id": "f38fdc86-50eb-4280-bccc-dfb76e0a91fa",
   "metadata": {},
   "outputs": [
    {
     "name": "stdout",
     "output_type": "stream",
     "text": [
      "{'Kim': 3, 'Park': 4, 'Lee': 3, 'Choi': 4}\n"
     ]
    }
   ],
   "source": [
    "names = ['Kim', 'Park', 'Lee', 'Choi']\n",
    "name_lengths = {name: len(name) for name in names}\n",
    "print(name_lengths)  # {'Kim': 3, 'Park': 4, 'Lee': 3, 'Choi': 4}"
   ]
  },
  {
   "cell_type": "code",
   "execution_count": null,
   "id": "9a432ba1-8da5-448c-aa07-aa595535354c",
   "metadata": {},
   "outputs": [],
   "source": []
  }
 ],
 "metadata": {
  "kernelspec": {
   "display_name": "Python 3 (ipykernel)",
   "language": "python",
   "name": "python3"
  },
  "language_info": {
   "codemirror_mode": {
    "name": "ipython",
    "version": 3
   },
   "file_extension": ".py",
   "mimetype": "text/x-python",
   "name": "python",
   "nbconvert_exporter": "python",
   "pygments_lexer": "ipython3",
   "version": "3.12.9"
  }
 },
 "nbformat": 4,
 "nbformat_minor": 5
}
