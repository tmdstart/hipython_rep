{
 "cells": [
  {
   "cell_type": "code",
   "execution_count": null,
   "id": "564eccae",
   "metadata": {},
   "outputs": [],
   "source": [
    "#파일 읽기\n",
    "with open('abc/text.txt','w') as f :\n",
    "     f.write('hello')\n",
    "\n",
    "f = open('abc/text.txt','r')\n",
    "f.read()\n",
    "f.close()\n",
    "\n"
   ]
  },
  {
   "cell_type": "code",
   "execution_count": null,
   "id": "af95f7b0",
   "metadata": {},
   "outputs": [],
   "source": [
    "with open(\"abc/text.txt\", \"w\", encoding=\"utf-8\") as f:\n",
    "    f.write(\"안녕하세요\")\n",
    "    f.write(\"졸리네요\")"
   ]
  },
  {
   "cell_type": "code",
   "execution_count": null,
   "id": "b11d7cbc",
   "metadata": {},
   "outputs": [
    {
     "name": "stdout",
     "output_type": "stream",
     "text": [
      "안녕하세요졸리네요추가할께\n",
      "요렇게\n",
      "\n",
      "이렇게\\m또 추가요렇게\n",
      "\n",
      "이렇게\n",
      "또 추가요렇게\n",
      "\n",
      "이렇게\n",
      "또 추가요렇게\n",
      "\n"
     ]
    }
   ],
   "source": []
  },
  {
   "cell_type": "code",
   "execution_count": 23,
   "id": "89d92f3d",
   "metadata": {},
   "outputs": [],
   "source": [
    "with open(\"abc/text.txt\", \"a\", encoding=\"utf-8\") as f:\n",
    "    f.write(\"\\n이렇게\\n\")\n",
    "    f.write(\"또 추가요렇게\\n\")"
   ]
  },
  {
   "cell_type": "code",
   "execution_count": 24,
   "id": "7a2bcd2b",
   "metadata": {},
   "outputs": [
    {
     "name": "stdout",
     "output_type": "stream",
     "text": [
      "안녕하세요졸리네요추가할께\n",
      "요렇게\n",
      "\n",
      "이렇게 또 추가요렇게\n",
      "\n",
      "이렇게\n",
      "또 추가요렇게\n",
      "\n",
      "이렇게\n",
      "또 추가요렇게\n",
      "\n",
      "이렇게\n",
      "또 추가요렇게\n",
      "\n"
     ]
    }
   ],
   "source": [
    "with open(\"abc/text.txt\", \"r\", encoding=\"utf-8\") as f:\n",
    "   txtfile= f.read()\n",
    "   print(txtfile)"
   ]
  },
  {
   "cell_type": "code",
   "execution_count": 25,
   "id": "237850d2",
   "metadata": {},
   "outputs": [
    {
     "name": "stdout",
     "output_type": "stream",
     "text": [
      "안녕하세요졸리네요추가할께\n",
      "\n"
     ]
    }
   ],
   "source": [
    "with open(\"abc/text.txt\", \"r\", encoding=\"utf-8\") as file:\n",
    "    line = file.readline()\n",
    "    print(line)"
   ]
  },
  {
   "cell_type": "code",
   "execution_count": 27,
   "id": "a56b53ed",
   "metadata": {},
   "outputs": [
    {
     "name": "stdout",
     "output_type": "stream",
     "text": [
      "안녕하세요졸리네요추가할께\n",
      "요렇게\n",
      "\n",
      "이렇게 또 추가요렇게\n",
      "\n",
      "이렇게\n",
      "또 추가요렇게\n",
      "\n",
      "이렇게\n",
      "또 추가요렇게\n",
      "\n",
      "이렇게\n",
      "또 추가요렇게\n"
     ]
    }
   ],
   "source": [
    "with open(\"abc/text.txt\", \"r\", encoding=\"utf-8\") as file:\n",
    "    lines = file.readlines()\n",
    "\n",
    "for line in lines:\n",
    "    print(line.strip())\n",
    "file.close()"
   ]
  },
  {
   "cell_type": "code",
   "execution_count": 30,
   "id": "66fe61e9",
   "metadata": {},
   "outputs": [],
   "source": [
    "\n",
    "\n",
    "import pickle\n",
    "\n",
    "# 직렬화할 데이터\n",
    "data = {\n",
    "    'name': '홍길동',\n",
    "    'age': 30,\n",
    "    'scores': [90, 85, 88]\n",
    "}\n",
    "\n",
    "# 직렬화하여 파일에 저장\n",
    "with open('abc/data.pickle', 'wb') as f:\n",
    "    pickle.dump(data, f)\n"
   ]
  },
  {
   "cell_type": "code",
   "execution_count": 31,
   "id": "58b519da",
   "metadata": {},
   "outputs": [
    {
     "name": "stdout",
     "output_type": "stream",
     "text": [
      "{'name': '홍길동', 'age': 30, 'scores': [90, 85, 88]}\n"
     ]
    }
   ],
   "source": [
    "\n",
    "# 파일에서 역직렬화하여 읽기\n",
    "with open('abc/data.pickle', 'rb') as f:\n",
    "    loaded_data = pickle.load(f)\n",
    "\n",
    "print(loaded_data)  # 원본 데이터가 그대로 복원됨"
   ]
  },
  {
   "cell_type": "code",
   "execution_count": 33,
   "id": "aa866271",
   "metadata": {},
   "outputs": [],
   "source": [
    "data\n",
    "import json\n"
   ]
  },
  {
   "cell_type": "code",
   "execution_count": 42,
   "id": "5e5343a4",
   "metadata": {},
   "outputs": [],
   "source": [
    "with open('abc/data.json', 'w') as f:\n",
    "    json.dump(data,f, ensure_ascii=False)"
   ]
  },
  {
   "cell_type": "code",
   "execution_count": 56,
   "id": "cd72b78a",
   "metadata": {},
   "outputs": [
    {
     "name": "stdout",
     "output_type": "stream",
     "text": [
      "[['name', 'age'], ['bob', 20], ['alice', 15]]\n"
     ]
    }
   ],
   "source": [
    "with open('abc/data.json', 'r') as f:\n",
    "    loaded_txt = json.load(f)\n",
    "print(loaded_txt)"
   ]
  },
  {
   "cell_type": "code",
   "execution_count": 57,
   "id": "91282987",
   "metadata": {},
   "outputs": [],
   "source": [
    "import csv\n",
    "data = [['name', 'age'], ['bob',20] , ['alice',15] ]\n",
    "with open('abc/data.csv', 'w') as f:\n",
    "    wrt = csv.writer(f)\n",
    "    wrt.writerows(data)"
   ]
  },
  {
   "cell_type": "code",
   "execution_count": 70,
   "id": "3c2ddfac",
   "metadata": {},
   "outputs": [],
   "source": [
    "import pandas as pd\n",
    "\n",
    "\n",
    "df = pd.DataFrame(data)\n",
    "df.columns = df.iloc[0]                           # 첫 번째 행을 컬럼 이름으로 설정\n",
    "df = df.drop(index=0)                             # 컬럼이 되었던 첫 행 제거\n",
    "df = df.reset_index(drop=True)                    # 인덱스 재정렬\n",
    "\n",
    "df.to_csv('abc/data_df.csv')\n"
   ]
  },
  {
   "cell_type": "code",
   "execution_count": 71,
   "id": "17915c3c",
   "metadata": {},
   "outputs": [
    {
     "data": {
      "text/html": [
       "<div>\n",
       "<style scoped>\n",
       "    .dataframe tbody tr th:only-of-type {\n",
       "        vertical-align: middle;\n",
       "    }\n",
       "\n",
       "    .dataframe tbody tr th {\n",
       "        vertical-align: top;\n",
       "    }\n",
       "\n",
       "    .dataframe thead th {\n",
       "        text-align: right;\n",
       "    }\n",
       "</style>\n",
       "<table border=\"1\" class=\"dataframe\">\n",
       "  <thead>\n",
       "    <tr style=\"text-align: right;\">\n",
       "      <th></th>\n",
       "      <th>Unnamed: 0</th>\n",
       "      <th>name</th>\n",
       "      <th>age</th>\n",
       "    </tr>\n",
       "  </thead>\n",
       "  <tbody>\n",
       "    <tr>\n",
       "      <th>0</th>\n",
       "      <td>0</td>\n",
       "      <td>bob</td>\n",
       "      <td>20</td>\n",
       "    </tr>\n",
       "    <tr>\n",
       "      <th>1</th>\n",
       "      <td>1</td>\n",
       "      <td>alice</td>\n",
       "      <td>15</td>\n",
       "    </tr>\n",
       "  </tbody>\n",
       "</table>\n",
       "</div>"
      ],
      "text/plain": [
       "   Unnamed: 0   name  age\n",
       "0           0    bob   20\n",
       "1           1  alice   15"
      ]
     },
     "execution_count": 71,
     "metadata": {},
     "output_type": "execute_result"
    }
   ],
   "source": [
    "df.columns = ['name', 'age']\n",
    "pd.read_csv('abc/data_df.csv')\n"
   ]
  },
  {
   "cell_type": "code",
   "execution_count": null,
   "id": "562c08c7",
   "metadata": {},
   "outputs": [],
   "source": []
  }
 ],
 "metadata": {
  "kernelspec": {
   "display_name": "hipython",
   "language": "python",
   "name": "python3"
  },
  "language_info": {
   "codemirror_mode": {
    "name": "ipython",
    "version": 3
   },
   "file_extension": ".py",
   "mimetype": "text/x-python",
   "name": "python",
   "nbconvert_exporter": "python",
   "pygments_lexer": "ipython3",
   "version": "3.12.9"
  }
 },
 "nbformat": 4,
 "nbformat_minor": 5
}
