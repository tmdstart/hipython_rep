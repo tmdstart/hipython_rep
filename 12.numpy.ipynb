{
 "cells": [
  {
   "cell_type": "code",
   "execution_count": 74,
   "id": "1933fe49",
   "metadata": {},
   "outputs": [],
   "source": [
    "#가성환경에서 numby 설치 pip install numpy"
   ]
  },
  {
   "cell_type": "markdown",
   "id": "040b27ca",
   "metadata": {},
   "source": [
    "\n",
    "\n",
    "#넘파이의 사용\n",
    "1. 데이터 분석프로젝트 : 수치형 데이터의 요약, 통계 ,시각화\n",
    "2. 이미지 처리 프로젝트\n",
    "3. 게임, 시뮬레이션 프로그램\n",
    "4. 머신러닝/딥러닝 모델 프로젝트 : 금융데이터, 의료, 실험데이터"
   ]
  },
  {
   "cell_type": "code",
   "execution_count": 2,
   "id": "b2f1ff80",
   "metadata": {},
   "outputs": [],
   "source": [
    "import numpy as np\n",
    "\n",
    "data = [[120,135,150,145], [100,110,140,130],[90,100,95,105]]"
   ]
  },
  {
   "cell_type": "code",
   "execution_count": 76,
   "id": "777fa48e",
   "metadata": {},
   "outputs": [
    {
     "data": {
      "text/plain": [
       "array([550, 480, 390])"
      ]
     },
     "execution_count": 76,
     "metadata": {},
     "output_type": "execute_result"
    }
   ],
   "source": [
    "sales_data = np.array(data)\n",
    "np.sum(sales_data, axis=1)"
   ]
  },
  {
   "cell_type": "code",
   "execution_count": 77,
   "id": "06ab4ddb",
   "metadata": {},
   "outputs": [
    {
     "data": {
      "text/plain": [
       "array([7650, 8500, 9575, 9425])"
      ]
     },
     "execution_count": 77,
     "metadata": {},
     "output_type": "execute_result"
    }
   ],
   "source": [
    "profit_per_unit = np.array([20,30,25])\n",
    "total_sales=np.dot(profit_per_unit, sales_data)\n",
    "total_sales"
   ]
  },
  {
   "cell_type": "markdown",
   "id": "7f8484b5",
   "metadata": {},
   "source": [
    "#이미지처리"
   ]
  },
  {
   "cell_type": "code",
   "execution_count": null,
   "id": "5b64807d",
   "metadata": {},
   "outputs": [],
   "source": []
  },
  {
   "cell_type": "code",
   "execution_count": 78,
   "id": "b820b526",
   "metadata": {},
   "outputs": [],
   "source": [
    "from PIL import Image\n",
    "img = Image.open('sample.jpg')\n",
    "img_ary = np.array(img)\n",
    "new_img = np.clip(img_ary+100,50,255).astype(np.uint8)\n",
    "Image.fromarray(new_img).save('new_sample.jpg')\n"
   ]
  },
  {
   "cell_type": "code",
   "execution_count": 79,
   "id": "f618eaf1",
   "metadata": {},
   "outputs": [
    {
     "data": {
      "text/plain": [
       "[<matplotlib.lines.Line2D at 0x1a92ceea870>]"
      ]
     },
     "execution_count": 79,
     "metadata": {},
     "output_type": "execute_result"
    },
    {
     "data": {
      "image/png": "[encoded data removed]",
      "text/plain": [
       "<Figure size 640x480 with 1 Axes>"
      ]
     },
     "metadata": {},
     "output_type": "display_data"
    }
   ],
   "source": [
    "import matplotlib.pyplot as plt\n",
    "\n",
    "n_step = 100000\n",
    "step = np.random.choice([-1,1],size=n_step)\n",
    "walk = np.cumsum(step)\n",
    "\n",
    "plt.plot(walk)"
   ]
  },
  {
   "cell_type": "code",
   "execution_count": 80,
   "id": "40fbc345",
   "metadata": {},
   "outputs": [
    {
     "name": "stdout",
     "output_type": "stream",
     "text": [
      "배열의 차원: 2\n",
      "배열의 형태: (3, 3)\n",
      "배열의 크기: 9\n",
      "배열의 데이터 타입: int64\n",
      "배열 요소의 크기: 8\n",
      "배열의 strides: (24, 8)\n"
     ]
    }
   ],
   "source": [
    "arr = np.array([[1, 2, 3],\n",
    "                [4, 5, 6],\n",
    "                [7, 8, 9]])\n",
    "\n",
    "print('배열의 차원:', arr.ndim)         # 2\n",
    "print('배열의 형태:', arr.shape)        # (3, 3)\n",
    "print('배열의 크기:', arr.size)         # 9\n",
    "print('배열의 데이터 타입:', arr.dtype) # int64\n",
    "print('배열 요소의 크기:', arr.itemsize) # 8 (바이트)\n",
    "print('배열의 strides:', arr.strides)   # (24, 8)"
   ]
  },
  {
   "cell_type": "markdown",
   "id": "3e0a07b5",
   "metadata": {},
   "source": [
    "#rank 0 : 스칼라 rank 0 : 백터 rank 0 : 행렬 rank 0 : 텐서 "
   ]
  },
  {
   "cell_type": "code",
   "execution_count": 81,
   "id": "c0f2a1ee",
   "metadata": {},
   "outputs": [
    {
     "data": {
      "text/plain": [
       "array([1, 2, 3, 4, 5])"
      ]
     },
     "execution_count": 81,
     "metadata": {},
     "output_type": "execute_result"
    }
   ],
   "source": [
    "arr1 = np.array([1, 2, 3, 4, 5])\n",
    "arr1"
   ]
  },
  {
   "cell_type": "code",
   "execution_count": 82,
   "id": "4e40037d",
   "metadata": {},
   "outputs": [
    {
     "data": {
      "text/plain": [
       "array([0., 0., 0., 0., 0.])"
      ]
     },
     "execution_count": 82,
     "metadata": {},
     "output_type": "execute_result"
    }
   ],
   "source": [
    "arr2 = np.zeros(5)\n",
    "arr2"
   ]
  },
  {
   "cell_type": "code",
   "execution_count": 83,
   "id": "8a603882",
   "metadata": {},
   "outputs": [
    {
     "data": {
      "text/plain": [
       "array([[1., 1., 1.],\n",
       "       [1., 1., 1.],\n",
       "       [1., 1., 1.]])"
      ]
     },
     "execution_count": 83,
     "metadata": {},
     "output_type": "execute_result"
    }
   ],
   "source": [
    "arr3 = np.ones((3, 3))\n",
    "arr3"
   ]
  },
  {
   "cell_type": "code",
   "execution_count": 84,
   "id": "cb8aa955",
   "metadata": {},
   "outputs": [
    {
     "name": "stdout",
     "output_type": "stream",
     "text": [
      "[1 3 5 7 9]\n"
     ]
    }
   ],
   "source": [
    "range_arr = np.arange(1, 10, 2)  \n",
    "print(range_arr)"
   ]
  },
  {
   "cell_type": "code",
   "execution_count": 85,
   "id": "55eeac7f",
   "metadata": {},
   "outputs": [
    {
     "name": "stdout",
     "output_type": "stream",
     "text": [
      "[  0.  25.  50.  75. 100.]\n"
     ]
    }
   ],
   "source": [
    "linspace_arr = np.linspace(0, 100, 5) \n",
    "print(linspace_arr)"
   ]
  },
  {
   "cell_type": "code",
   "execution_count": 86,
   "id": "0d0ca6a7",
   "metadata": {},
   "outputs": [
    {
     "name": "stdout",
     "output_type": "stream",
     "text": [
      "[[0.29774591 0.99641904 0.77503077]\n",
      " [0.89800837 0.40227427 0.78470909]]\n"
     ]
    }
   ],
   "source": [
    "random_arr = np.random.rand(2, 3) \n",
    "print(random_arr)"
   ]
  },
  {
   "cell_type": "code",
   "execution_count": 87,
   "id": "bfcd7464",
   "metadata": {},
   "outputs": [
    {
     "name": "stdout",
     "output_type": "stream",
     "text": [
      "<class 'numpy.ndarray'>\n",
      "배열의 형태: (4, 3, 4)\n"
     ]
    }
   ],
   "source": [
    "tensor_list = [[[1,2,3,4],[1,2,3,4],[1,2,3,4]],\n",
    "               [[1,2,3,4],[1,2,3,4],[1,2,3,4]],\n",
    "               [[1,2,3,4],[1,2,3,4],[1,2,3,4]],\n",
    "               [[1,2,3,4],[1,2,3,4],[1,2,3,4]]]\n",
    "type(tensor_list)\n",
    "\n",
    "#4*3*4 z,y,x 면 행 열 순서 terser\n",
    "\n",
    "np.array(tensor_list)\n",
    "type(np.array(tensor_list)) #numpy.ndarray 실제로 텐서\n",
    "\n",
    "arr1 =  np.array(tensor_list) \n",
    "print(type(arr1))\n",
    "print('배열의 형태:', arr1.shape)  "
   ]
  },
  {
   "cell_type": "code",
   "execution_count": 88,
   "id": "0bdca0f3",
   "metadata": {},
   "outputs": [],
   "source": [
    "# 리스트로부터 배열 생성\n",
    "arr1 = np.array([1, 2, 3, 4, 5])\n",
    "\n"
   ]
  },
  {
   "cell_type": "code",
   "execution_count": 89,
   "id": "f6e3f370",
   "metadata": {},
   "outputs": [
    {
     "name": "stdout",
     "output_type": "stream",
     "text": [
      "배열의 차원: 2\n",
      "배열의 형태: (3, 3)\n",
      "배열의 크기: 9\n",
      "배열의 데이터 타입: int64\n",
      "배열 요소의 크기: 8\n",
      "배열의 strides: (24, 8)\n"
     ]
    }
   ],
   "source": [
    "arr = np.array([[1, 2, 3],\n",
    "                [4, 5, 6],\n",
    "                [7, 8, 9]])\n",
    "\n",
    "print('배열의 차원:', arr.ndim)         # 2\n",
    "print('배열의 형태:', arr.shape)        # (3, 3)\n",
    "print('배열의 크기:', arr.size)         # 9\n",
    "print('배열의 데이터 타입:', arr.dtype) # int64\n",
    "print('배열 요소의 크기:', arr.itemsize) # 8 (바이트)\n",
    "print('배열의 strides:', arr.strides)   # (24, 8)"
   ]
  },
  {
   "cell_type": "code",
   "execution_count": 90,
   "id": "9947977f",
   "metadata": {},
   "outputs": [
    {
     "data": {
      "text/plain": [
       "numpy.ndarray"
      ]
     },
     "execution_count": 90,
     "metadata": {},
     "output_type": "execute_result"
    }
   ],
   "source": [
    "arr3=np.array([1,2,3])\n",
    "type(arr3)"
   ]
  },
  {
   "cell_type": "code",
   "execution_count": 91,
   "id": "47c29ae9",
   "metadata": {},
   "outputs": [
    {
     "data": {
      "text/plain": [
       "dtype('int64')"
      ]
     },
     "execution_count": 91,
     "metadata": {},
     "output_type": "execute_result"
    }
   ],
   "source": [
    "arr.dtype\n",
    "arr3.dtype"
   ]
  },
  {
   "cell_type": "code",
   "execution_count": 92,
   "id": "a52f90f5",
   "metadata": {},
   "outputs": [
    {
     "name": "stdout",
     "output_type": "stream",
     "text": [
      "<class 'list'>\n",
      "<U21\n",
      "['1' '2' '4' '5' '10']\n"
     ]
    },
    {
     "data": {
      "text/plain": [
       "dtype('float64')"
      ]
     },
     "execution_count": 92,
     "metadata": {},
     "output_type": "execute_result"
    }
   ],
   "source": [
    "#type 변환\n",
    "list2 = [1,2,4, '5', 10] \n",
    "print(type(list2))\n",
    "t_1 = np.array(list2)\n",
    "print(t_1.dtype), \n",
    "print(t_1)\n",
    "np.array(list2, float).dtype # 데이터 타입\n"
   ]
  },
  {
   "cell_type": "code",
   "execution_count": 93,
   "id": "d74031bc",
   "metadata": {},
   "outputs": [
    {
     "data": {
      "text/plain": [
       "1"
      ]
     },
     "execution_count": 93,
     "metadata": {},
     "output_type": "execute_result"
    }
   ],
   "source": [
    "list2 = [1,2,3,4,5,6,7,8]\n",
    "t_2 = np.array(list2)\n",
    "t_2.shape\n",
    "t_2.ndim"
   ]
  },
  {
   "cell_type": "code",
   "execution_count": 94,
   "id": "d089160c",
   "metadata": {},
   "outputs": [
    {
     "data": {
      "text/plain": [
       "2"
      ]
     },
     "execution_count": 94,
     "metadata": {},
     "output_type": "execute_result"
    }
   ],
   "source": [
    "list3 = [[1,2,3,4],[5,6,7,8],[9,10,11,12]]\n",
    "t_3 = np.array(list3)\n",
    "t_3.shape\n",
    "t_3.ndim"
   ]
  },
  {
   "cell_type": "code",
   "execution_count": 99,
   "id": "153bc1e7",
   "metadata": {},
   "outputs": [
    {
     "ename": "ValueError",
     "evalue": "cannot reshape array of size 3 into shape (3,4)",
     "output_type": "error",
     "traceback": [
      "\u001b[31m---------------------------------------------------------------------------\u001b[39m",
      "\u001b[31mValueError\u001b[39m                                Traceback (most recent call last)",
      "\u001b[36mCell\u001b[39m\u001b[36m \u001b[39m\u001b[32mIn[99]\u001b[39m\u001b[32m, line 2\u001b[39m\n\u001b[32m      1\u001b[39m list_3 = \u001b[38;5;28mrange\u001b[39m(\u001b[32m1\u001b[39m,\u001b[32m13\u001b[39m)\n\u001b[32m----> \u001b[39m\u001b[32m2\u001b[39m t_4=np.array(list4).reshape((\u001b[32m3\u001b[39m,\u001b[32m4\u001b[39m))\n\u001b[32m      3\u001b[39m \u001b[38;5;28mprint\u001b[39m(t_4)\n\u001b[32m      4\u001b[39m t_5=np.array(list4).reshape((\u001b[32m4\u001b[39m,\u001b[32m3\u001b[39m))\n",
      "\u001b[31mValueError\u001b[39m: cannot reshape array of size 3 into shape (3,4)"
     ]
    }
   ],
   "source": [
    "list_3 = range(1,13)\n",
    "t_4=np.array(list4).reshape((3,4))\n",
    "print(t_4)\n",
    "t_5=np.array(list4).reshape((4,3))\n",
    "print(t_5)"
   ]
  },
  {
   "cell_type": "code",
   "execution_count": 98,
   "id": "dcfff259",
   "metadata": {},
   "outputs": [
    {
     "data": {
      "text/plain": [
       "array([1, 2, 3])"
      ]
     },
     "execution_count": 98,
     "metadata": {},
     "output_type": "execute_result"
    }
   ],
   "source": [
    "list4[np.newaxis]\n",
    "list4[np.newaxis:]"
   ]
  },
  {
   "cell_type": "code",
   "execution_count": 102,
   "id": "f40d3b52",
   "metadata": {},
   "outputs": [
    {
     "data": {
      "text/plain": [
       "array([0, 1, 2, 3, 4, 5, 6, 7, 8, 9])"
      ]
     },
     "execution_count": 102,
     "metadata": {},
     "output_type": "execute_result"
    }
   ],
   "source": [
    "#arange()\n",
    "np.arange(10)"
   ]
  },
  {
   "cell_type": "code",
   "execution_count": 103,
   "id": "0599f1b5",
   "metadata": {},
   "outputs": [
    {
     "data": {
      "text/plain": [
       "array([-5, -4, -3, -2, -1,  0,  1,  2,  3,  4])"
      ]
     },
     "execution_count": 103,
     "metadata": {},
     "output_type": "execute_result"
    }
   ],
   "source": [
    "np.arange(-5,5)"
   ]
  },
  {
   "cell_type": "code",
   "execution_count": 104,
   "id": "98a46d2e",
   "metadata": {},
   "outputs": [
    {
     "data": {
      "text/plain": [
       "array([0. , 0.5, 1. , 1.5, 2. , 2.5, 3. , 3.5, 4. , 4.5])"
      ]
     },
     "execution_count": 104,
     "metadata": {},
     "output_type": "execute_result"
    }
   ],
   "source": [
    "np.arange(0,5,0.5)"
   ]
  },
  {
   "cell_type": "code",
   "execution_count": 107,
   "id": "7b6d7266",
   "metadata": {},
   "outputs": [
    {
     "data": {
      "text/plain": [
       "(2, 3)"
      ]
     },
     "execution_count": 107,
     "metadata": {},
     "output_type": "execute_result"
    }
   ],
   "source": [
    "np.arange(1,7).reshape((2,3))\n",
    "np.arange(1,7).reshape((2,3)).shape #메소드 체이닝\n"
   ]
  },
  {
   "cell_type": "code",
   "execution_count": 126,
   "id": "cd63551b",
   "metadata": {},
   "outputs": [
    {
     "data": {
      "text/plain": [
       "array([ 1,  2,  3,  4,  5,  6,  7,  8,  9, 10, 11, 12, 13, 14, 15, 16, 17,\n",
       "       18, 19, 20, 21, 22, 23, 24])"
      ]
     },
     "execution_count": 126,
     "metadata": {},
     "output_type": "execute_result"
    }
   ],
   "source": [
    "np.arange(1,25).reshape((2,3,4))\n",
    "np.arange(1,25).reshape((2,3,4)).shape\n",
    "np.arange(1,25).reshape((2,3,4)).reshape((1,24))\n",
    "np.arange(1,25).reshape((2,3,4)).reshape((-1))  #1차원\n"
   ]
  },
  {
   "cell_type": "code",
   "execution_count": 127,
   "id": "e75e2d71",
   "metadata": {},
   "outputs": [
    {
     "name": "stdout",
     "output_type": "stream",
     "text": [
      "[[1. 0. 0.]\n",
      " [0. 1. 0.]\n",
      " [0. 0. 1.]]\n"
     ]
    }
   ],
   "source": [
    "identity_matrix = np.identity(3)\n",
    "print(identity_matrix)\n",
    "# [[1. 0. 0.]\n",
    "#  [0. 1. 0.]\n",
    "#  [0. 0. 1.]]"
   ]
  },
  {
   "cell_type": "code",
   "execution_count": 128,
   "id": "c33377e6",
   "metadata": {},
   "outputs": [
    {
     "name": "stdout",
     "output_type": "stream",
     "text": [
      "[[1 0 0]\n",
      " [0 2 0]\n",
      " [0 0 3]]\n"
     ]
    }
   ],
   "source": [
    "diagonal_matrix = np.diag([1, 2, 3])\n",
    "print(diagonal_matrix)\n",
    "# [[1 0 0]\n",
    "#  [0 2 0]\n",
    "#  [0 0 3]]"
   ]
  },
  {
   "cell_type": "code",
   "execution_count": 134,
   "id": "145db903",
   "metadata": {},
   "outputs": [
    {
     "name": "stdout",
     "output_type": "stream",
     "text": [
      "[0 4 8]\n"
     ]
    }
   ],
   "source": [
    "\n",
    "a = np.arange(9).reshape(3,3) #일반적인 행렬\n",
    "diagonal_matrix_value = np.diag(a) # 대각선만 뽑이둔다\n",
    "print(diagonal_matrix_value )\n",
    "# array([0, 4, 8])"
   ]
  },
  {
   "cell_type": "code",
   "execution_count": 135,
   "id": "bf76c7a8",
   "metadata": {},
   "outputs": [
    {
     "name": "stdout",
     "output_type": "stream",
     "text": [
      "[[1. 0. 0.]\n",
      " [0. 1. 0.]\n",
      " [0. 0. 1.]]\n"
     ]
    }
   ],
   "source": [
    "eye_matrix = np.eye(3)\n",
    "print(eye_matrix)\n",
    "# [[1. 0. 0.]\n",
    "#  [0. 1. 0.]\n",
    "#  [0. 0. 1.]]\n"
   ]
  },
  {
   "cell_type": "code",
   "execution_count": 136,
   "id": "ee31ee5b",
   "metadata": {},
   "outputs": [
    {
     "name": "stdout",
     "output_type": "stream",
     "text": [
      "[[1. 0. 0.]\n",
      " [0. 1. 0.]\n",
      " [0. 0. 1.]\n",
      " [0. 0. 0.]]\n"
     ]
    }
   ],
   "source": [
    "rect_eye = np.eye(4, 3)\n",
    "print(rect_eye)\n",
    "# [[1. 0. 0.]\n",
    "#  [0. 1. 0.]\n",
    "#  [0. 0. 1.]\n",
    "#  [0. 0. 0.]]"
   ]
  },
  {
   "cell_type": "code",
   "execution_count": 140,
   "id": "3d5faf00",
   "metadata": {},
   "outputs": [
    {
     "name": "stdout",
     "output_type": "stream",
     "text": [
      "[[0. 1. 0.]\n",
      " [0. 0. 1.]\n",
      " [0. 0. 0.]]\n"
     ]
    }
   ],
   "source": [
    "# k 매개변수로 대각선 위치 조정 (k=1은 주대각선 위로 한 칸)\n",
    "shifted_eye = np.eye(3, k=1)\n",
    "print(shifted_eye)\n",
    "# [[0. 1. 0.]\n",
    "#  [0. 0. 1.]\n",
    "#  [0. 0. 0.]]"
   ]
  },
  {
   "cell_type": "code",
   "execution_count": 143,
   "id": "60b9b598",
   "metadata": {},
   "outputs": [
    {
     "data": {
      "text/plain": [
       "array([[1, 2, 3],\n",
       "       [4, 5, 6]])"
      ]
     },
     "execution_count": 143,
     "metadata": {},
     "output_type": "execute_result"
    }
   ],
   "source": [
    "arr = np.array([[1, 2, 3], [4, 5, 6]])\n",
    "arr"
   ]
  },
  {
   "cell_type": "code",
   "execution_count": 178,
   "id": "172d6ef8",
   "metadata": {},
   "outputs": [
    {
     "data": {
      "text/plain": [
       "array([[25895968444448860, 23925768161198147, 32370111954616435],\n",
       "       [30681201962451036, 18296268630392937, 27303364806049904]])"
      ]
     },
     "execution_count": 178,
     "metadata": {},
     "output_type": "execute_result"
    }
   ],
   "source": [
    "empty_arr = np.empty_like(arr)\n",
    "empty_arr"
   ]
  },
  {
   "cell_type": "code",
   "execution_count": 180,
   "id": "65a44e2c",
   "metadata": {},
   "outputs": [
    {
     "data": {
      "text/plain": [
       "array([[0, 0, 0],\n",
       "       [0, 0, 0]])"
      ]
     },
     "execution_count": 180,
     "metadata": {},
     "output_type": "execute_result"
    }
   ],
   "source": [
    "zeros_arr = np.zeros_like(arr)\n",
    "zeros_arr"
   ]
  },
  {
   "cell_type": "code",
   "execution_count": 182,
   "id": "4b119d97",
   "metadata": {},
   "outputs": [
    {
     "data": {
      "text/plain": [
       "array([[1, 1, 1],\n",
       "       [1, 1, 1]])"
      ]
     },
     "execution_count": 182,
     "metadata": {},
     "output_type": "execute_result"
    }
   ],
   "source": [
    "ones_arr = np.ones_like(arr)\n",
    "ones_arr"
   ]
  },
  {
   "cell_type": "code",
   "execution_count": 184,
   "id": "54615f2c",
   "metadata": {},
   "outputs": [
    {
     "data": {
      "text/plain": [
       "array([[7, 7, 7],\n",
       "       [7, 7, 7]])"
      ]
     },
     "execution_count": 184,
     "metadata": {},
     "output_type": "execute_result"
    }
   ],
   "source": [
    "full_arr = np.full_like(arr, 7)\n",
    "full_arr"
   ]
  },
  {
   "cell_type": "code",
   "execution_count": 185,
   "id": "b3760302",
   "metadata": {},
   "outputs": [
    {
     "name": "stdout",
     "output_type": "stream",
     "text": [
      "원본 배열의 shape: (2, 3)\n",
      "zeros_like 결과:\n",
      " [[0 0 0]\n",
      " [0 0 0]]\n",
      "ones_like 결과:\n",
      " [[1 1 1]\n",
      " [1 1 1]]\n",
      "full_like 결과:\n",
      " [[7 7 7]\n",
      " [7 7 7]]\n"
     ]
    }
   ],
   "source": [
    "print(\"원본 배열의 shape:\", arr.shape)\n",
    "print(\"zeros_like 결과:\\n\", zeros_arr)\n",
    "print(\"ones_like 결과:\\n\", ones_arr)\n",
    "print(\"full_like 결과:\\n\", full_arr)"
   ]
  },
  {
   "cell_type": "code",
   "execution_count": 186,
   "id": "38a0dda3",
   "metadata": {},
   "outputs": [
    {
     "name": "stdout",
     "output_type": "stream",
     "text": [
      "[[0.86715713 0.71889771 0.97208506]\n",
      " [0.26842822 0.54536284 0.30685686]]\n"
     ]
    }
   ],
   "source": [
    "random_uniform = np.random.rand(2, 3)  # 2x3 행렬\n",
    "print(random_uniform)\n"
   ]
  },
  {
   "cell_type": "code",
   "execution_count": 187,
   "id": "207fa338",
   "metadata": {},
   "outputs": [
    {
     "name": "stdout",
     "output_type": "stream",
     "text": [
      "[[-0.14524992 -0.83147402 -0.80384791]\n",
      " [-1.02178674 -1.3969557  -1.44367414]]\n"
     ]
    }
   ],
   "source": [
    "random_normal = np.random.randn(2, 3)  # 2x3 행렬\n",
    "print(random_normal)"
   ]
  },
  {
   "cell_type": "code",
   "execution_count": 188,
   "id": "44999799",
   "metadata": {},
   "outputs": [
    {
     "name": "stdout",
     "output_type": "stream",
     "text": [
      "[[4 3 4]\n",
      " [8 6 9]]\n"
     ]
    }
   ],
   "source": [
    "random_int = np.random.randint(0, 10, (2, 3))  # 0~9 사이의 정수로 된 2x3 행렬\n",
    "print(random_int)"
   ]
  },
  {
   "cell_type": "code",
   "execution_count": 193,
   "id": "3b1e9815",
   "metadata": {},
   "outputs": [
    {
     "name": "stdout",
     "output_type": "stream",
     "text": [
      "[0.37454012 0.95071431 0.73199394]\n"
     ]
    }
   ],
   "source": [
    "np.random.seed(42)\n",
    "random_seeded = np.random.rand(3)\n",
    "print(random_seeded)"
   ]
  },
  {
   "cell_type": "code",
   "execution_count": 194,
   "id": "20cd69ad",
   "metadata": {},
   "outputs": [
    {
     "name": "stdout",
     "output_type": "stream",
     "text": [
      "무작위 샘플: [10  8  1  4  6]\n"
     ]
    }
   ],
   "source": [
    "population = np.array([1, 2, 3, 4, 5, 6, 7, 8, 9, 10])\n",
    "samples = np.random.choice(population, size=5, replace=False)\n",
    "print(\"무작위 샘플:\", samples)\n"
   ]
  },
  {
   "cell_type": "code",
   "execution_count": 196,
   "id": "e412f3a4",
   "metadata": {},
   "outputs": [
    {
     "name": "stdout",
     "output_type": "stream",
     "text": [
      "[0 1 2 3 4 5 6 7 8 9]\n",
      "셔플된 데이터: [5 2 7 6 8 9 3 0 4 1]\n"
     ]
    }
   ],
   "source": [
    "data = np.arange(10)\n",
    "print(data)\n",
    "np.random.shuffle(data)\n",
    "print(\"셔플된 데이터:\", data)"
   ]
  },
  {
   "cell_type": "code",
   "execution_count": 197,
   "id": "f9d8dc82",
   "metadata": {},
   "outputs": [],
   "source": [
    "normal_dist = np.random.normal(0, 1, 1000)"
   ]
  },
  {
   "cell_type": "code",
   "execution_count": 198,
   "id": "07727703",
   "metadata": {},
   "outputs": [
    {
     "data": {
      "text/plain": [
       "array([-2.43910582e+00,  6.03441225e-01, -2.51043968e-01, -1.63867116e-01,\n",
       "       -1.47632969e+00,  1.48698096e+00, -2.44551775e-02,  3.55551317e-01,\n",
       "        4.17011110e-01,  8.32461857e-01, -2.93399146e-01, -2.98385694e-02,\n",
       "        9.51257843e-02,  6.64654343e-01, -1.40218497e-01, -3.31934001e-02,\n",
       "       -7.49076523e-01, -7.78382007e-01,  9.48842858e-01,  1.58085059e+00,\n",
       "       -3.68170941e-01,  3.75564634e-01, -1.19315823e+00, -4.09051902e-01,\n",
       "       -4.46741471e-01,  1.52424163e+00,  3.22999797e-01, -1.39341694e+00,\n",
       "       -2.17833425e+00, -1.04389641e+00,  1.72693707e-01,  3.24198768e-01,\n",
       "        7.45859542e-01, -1.83658324e+00,  5.64464239e-01,  2.55006681e-02,\n",
       "        4.73193249e-01,  6.59190598e-01,  2.34074633e+00,  1.07098519e+00,\n",
       "        9.64164790e-02,  4.19102106e-01, -9.53027789e-01, -1.04787060e+00,\n",
       "       -1.87567677e+00, -1.36678214e+00,  6.36305108e-01, -9.06720669e-01,\n",
       "        4.76042587e-01,  1.30366127e+00,  2.11587012e-01,  5.97044646e-01,\n",
       "       -8.96335183e-01, -1.11987821e-01,  1.46894129e+00, -1.12389833e+00,\n",
       "        9.50005396e-01,  1.72651647e+00,  4.57885077e-01, -1.68428738e+00,\n",
       "        3.26845224e-01, -8.11189542e-02,  4.67794753e-01,  7.36122351e-01,\n",
       "       -7.79701881e-01, -8.43896360e-01, -1.50533858e-01, -9.65557672e-01,\n",
       "        1.50489078e-01, -1.13421251e-01,  2.63352822e+00, -1.02509089e+00,\n",
       "       -7.82047826e-01,  4.23943070e-01,  8.72705098e-01,  2.28722598e+00,\n",
       "        1.62292050e+00,  8.23733077e-01,  2.93059246e-01,  8.96630384e-01,\n",
       "       -6.10322017e-01, -3.16165897e-01, -1.48242425e+00, -2.28847516e-01,\n",
       "        9.62641290e-01, -2.09692437e-01, -7.74042931e-01, -3.59778145e-01,\n",
       "        7.24083252e-01, -2.55764637e-01,  8.49921204e-01, -1.31132423e+00,\n",
       "       -8.70304955e-01, -5.06643220e-01, -1.30995069e+00,  2.94366342e+00,\n",
       "       -1.09626580e+00,  9.14884322e-01, -6.66060620e-01, -5.13787492e-01,\n",
       "        3.01322801e-01, -1.45851692e+00, -6.62738313e-01, -1.46472807e-01,\n",
       "       -8.46017016e-01, -8.22489369e-01,  1.08672702e+00,  1.00498688e+00,\n",
       "       -4.41766023e-01, -8.41650852e-02,  1.23701607e+00, -1.42647888e+00,\n",
       "        3.38022659e-01,  1.97457120e+00,  1.96503476e+00, -1.93991122e+00,\n",
       "       -7.62626964e-01,  1.68659387e-01, -1.32187695e+00, -6.68246699e-01,\n",
       "       -1.37291004e-01,  1.40132156e+00, -4.54026553e-02,  2.16936726e-01,\n",
       "        5.12423732e-01,  5.43488691e-01,  2.80994633e-02, -1.19708706e+00,\n",
       "        7.89672805e-01,  4.31489463e-01, -1.09675230e+00, -6.82301564e-01,\n",
       "        8.87511614e-01,  6.05483131e-01, -7.20297993e-01, -2.69933769e-01,\n",
       "       -1.43462230e-01,  6.17003776e-01,  1.24894070e+00,  6.56491581e-02,\n",
       "        1.16920765e+00,  8.73316969e-01,  2.05650134e-01, -1.44348335e+00,\n",
       "       -1.02771086e+00,  7.41240635e-01, -1.71052958e+00,  1.18978492e-01,\n",
       "        1.00048561e+00,  1.52420862e-01, -6.01397246e-01, -8.46614357e-01,\n",
       "        8.16152723e-01,  4.71707292e-01, -2.85489301e-01,  1.06529247e+00,\n",
       "        8.53997786e-01,  1.78859386e+00,  5.66894071e-01, -1.64500434e-01,\n",
       "       -1.42990935e-01, -1.93457020e+00,  1.50659043e-01, -1.57149399e-02,\n",
       "       -1.33007407e+00, -2.52876256e-02,  1.34316821e+00, -7.34547650e-01,\n",
       "       -9.59894632e-01,  1.10492822e+00,  6.34240296e-01,  3.06109521e+00,\n",
       "       -1.31857016e+00,  7.20387242e-01,  3.15890907e-01,  5.92812841e-02,\n",
       "        9.10512218e-01, -2.97253577e-02, -1.93637621e+00, -8.47357528e-01,\n",
       "        1.36443345e+00,  1.17202890e+00, -3.73119190e-01,  5.03597064e-01,\n",
       "        2.78393805e+00, -3.11867982e-02, -1.15833198e-02,  1.90598705e-01,\n",
       "        6.06975710e-01, -3.48901183e-01,  6.06129363e-01, -1.94422959e+00,\n",
       "        3.36398764e-01,  5.06298109e-02, -2.17456977e-01, -4.75257348e-01,\n",
       "       -6.09373376e-01, -8.13521097e-01, -2.31806825e+00, -2.68018352e-01,\n",
       "        1.09632979e+00, -3.35411024e-01,  6.35112551e-01, -1.08020087e+00,\n",
       "       -1.30569755e+00, -7.50761843e-01, -1.02549987e+00, -1.18303961e+00,\n",
       "        4.49774038e-01,  1.77892434e+00, -6.66943375e-01, -1.69181826e+00,\n",
       "        6.56797331e-01, -1.43590082e+00, -1.18326562e+00,  4.94995654e-01,\n",
       "       -1.65309615e-01, -6.87175175e-01,  6.83512511e-02, -4.09408831e-01,\n",
       "        1.88954766e+00, -6.75804734e-01, -9.13412537e-01, -4.55033174e-01,\n",
       "       -4.12761613e-01,  5.95643652e-01, -1.99153779e+00,  4.26025867e-01,\n",
       "       -5.41285442e-01,  7.76823004e-01, -4.76437112e-02,  5.18694458e-01,\n",
       "       -3.91401812e-01,  4.38022597e-01,  1.66376979e+00, -7.39236431e-01,\n",
       "       -1.07194475e-01, -4.86217286e-01,  1.59298179e+00, -4.33941599e-01,\n",
       "       -7.32692201e-01, -5.78276914e-01, -1.35717382e-01, -7.93505018e-01,\n",
       "       -3.68449989e-01,  1.57201855e-01, -1.15473410e-01,  8.31708577e-01,\n",
       "       -3.19355078e-01, -2.04616505e-01,  2.71061749e-01,  2.24480661e+00,\n",
       "       -7.87601910e-01,  1.92362441e+00, -1.18357317e+00,  2.28970432e-01,\n",
       "       -3.39386293e-01, -8.15270937e-01,  6.99092382e-01,  5.99896634e-01,\n",
       "       -4.81248134e-01, -2.09379400e+00, -4.20047465e-01,  1.39204111e-01,\n",
       "        1.81361119e-03,  7.55935282e-01,  1.93354263e+00,  4.13874837e-01,\n",
       "        5.67768368e-01,  1.48181731e-01,  1.17243578e+00,  5.31400011e-01,\n",
       "        7.49105677e-01,  1.80895683e+00,  2.26984301e-01, -2.70962262e-01,\n",
       "        4.46289348e-01,  1.13624232e+00,  5.01426757e-01,  1.06063858e+00,\n",
       "       -6.68974827e-01, -8.68084225e-01, -5.45037615e-01, -1.26738230e+00,\n",
       "        1.10299579e-01, -4.30025386e-01,  1.23021135e+00, -1.29122436e+00,\n",
       "        1.55492268e+00, -9.81200335e-01, -1.23823085e+00, -8.24651328e-01,\n",
       "        1.95128009e+00, -4.00851374e-02,  5.29435512e-01, -1.83891738e-01,\n",
       "       -9.00786332e-02, -5.05880053e-01,  5.07439589e-02,  4.94599892e-01,\n",
       "        1.67830551e+00, -1.87446887e+00,  1.61082031e+00,  5.27960427e-01,\n",
       "       -3.67762783e-01, -5.47723483e-01,  1.04367565e+00,  2.28978538e-01,\n",
       "       -1.53406512e+00,  3.63069603e-01,  1.14437154e+00,  8.57864659e-01,\n",
       "       -6.26857870e-01, -1.34200730e+00, -3.25973141e-01,  3.25398513e+00,\n",
       "       -1.54499895e+00, -8.42735096e-01,  3.92041890e-01, -1.24525248e-01,\n",
       "       -2.00204896e-01,  2.02472100e+00, -8.53259942e-01, -1.42805477e-02,\n",
       "        2.01907442e-01, -8.04736685e-01, -1.44065274e+00,  2.69317654e-01,\n",
       "        1.81366658e+00,  4.04582895e-01,  9.00725870e-02,  8.27304358e-02,\n",
       "       -2.58417736e-01,  1.18348232e+00, -5.05442274e-01, -1.35678548e+00,\n",
       "       -1.58165393e+00,  7.90090142e-02,  1.06069246e+00,  2.37485252e-01,\n",
       "       -3.17368785e-01,  4.58441297e-01,  1.86212344e-01,  8.26190474e-01,\n",
       "        1.32650389e+00, -9.54390129e-01, -2.33959656e+00, -3.51536799e-01,\n",
       "       -1.01934147e+00,  8.31958187e-01, -7.24333795e-01, -1.87577864e+00,\n",
       "       -5.74201449e-01, -1.49197433e+00,  1.59015772e+00,  4.71641954e-01,\n",
       "        6.47558109e-01,  5.36026535e-01,  8.40171159e-01,  1.13334203e+00,\n",
       "       -5.39745359e-01, -1.41996163e+00, -8.46933737e-01, -4.52496237e-02,\n",
       "       -2.56434198e+00,  1.14272588e+00, -1.89674722e+00,  5.99093326e-01,\n",
       "       -1.68070789e-01,  2.85175325e-01, -4.71919741e-01,  2.17206478e-01,\n",
       "       -4.71877524e-01, -5.56181146e-01, -8.97236331e-01,  1.52582996e+00,\n",
       "        3.66909417e-01,  2.09496863e-01, -8.75561788e-01, -2.34848334e-01,\n",
       "       -9.87229208e-01, -4.91163529e-01, -1.20912239e+00,  1.58914413e+00,\n",
       "       -7.56906091e-01, -8.75078823e-01, -1.32561028e+00, -7.71205462e-01,\n",
       "       -4.94893428e-01, -4.94795528e-02, -6.45322209e-01, -1.60061101e+00,\n",
       "       -1.51457484e+00,  6.79659669e-01, -1.22788749e-01,  6.48893241e-01,\n",
       "        7.80275164e-01,  1.51079962e-01, -1.23173077e+00,  1.89584920e-01,\n",
       "        1.39959665e+00, -4.47428024e-01,  3.40615251e-01, -1.37779553e-02,\n",
       "        1.37237780e+00, -6.77786093e-01,  1.15353187e+00, -3.75010628e-01,\n",
       "       -6.94145954e-01,  1.09860073e-01,  3.42456918e-01,  1.91152961e+00,\n",
       "        3.19537579e-01,  1.93278062e-01,  1.59614294e+00,  6.01053944e-01,\n",
       "       -6.44275180e-01,  1.35597039e+00, -7.39618769e-01, -6.49247278e-01,\n",
       "       -8.48520699e-01, -9.36245028e-01,  3.33173295e-01, -2.57902165e-01,\n",
       "       -3.47816921e+00, -2.68263062e-01, -5.17912256e-01,  8.92825364e-01,\n",
       "       -5.63258611e-01,  2.53925779e+00,  1.39679358e+00, -3.89910391e-01,\n",
       "        1.14962308e+00,  5.25211713e-01,  2.33465796e-01,  8.02652256e-01,\n",
       "        5.40708743e-02,  2.40351156e-01,  8.23352516e-01,  2.05245274e+00,\n",
       "        2.51194972e-01, -4.53796665e-01, -2.02923086e+00,  1.96130347e+00,\n",
       "       -2.63241713e-01,  5.34809290e-01,  1.90590724e+00,  2.27602321e-01,\n",
       "       -1.94670262e-01,  1.41967298e+00,  4.60737068e-01,  5.86105605e-01,\n",
       "       -1.52316087e+00,  1.20591521e+00,  3.75588068e-01, -1.37158938e+00,\n",
       "        4.85094112e-01, -2.06252567e+00,  2.34197520e+00, -1.10185480e+00,\n",
       "        1.61179277e+00, -8.12955548e-01,  5.60225711e-01, -9.12128257e-01,\n",
       "        9.97115222e-01, -2.35318742e-01,  4.67779546e-01,  1.50643816e-02,\n",
       "       -1.36566479e+00,  5.04106860e-01, -5.03237486e-01,  1.04531279e+00,\n",
       "       -2.35859808e-01, -7.67639090e-02,  1.68292646e+00,  2.38163679e+00,\n",
       "        7.86033956e-01, -2.87140097e-01, -3.74661328e-01, -8.18676985e-01,\n",
       "       -6.25238184e-01, -2.73609744e-01,  1.96425297e+00, -1.97221671e-01,\n",
       "       -1.22605300e+00,  4.16652671e-02,  1.78128426e-01,  3.56354599e-02,\n",
       "        7.99691223e-01,  6.90055114e-02,  7.68727492e-01, -7.80343354e-01,\n",
       "        1.78072944e+00,  2.52479788e-01,  4.00218970e-01, -7.84511894e-01,\n",
       "        4.71826991e-01,  6.51065057e-01, -1.16976843e+00, -1.65909159e+00,\n",
       "        2.93666024e-01, -4.88769823e-01,  2.59921469e-01, -1.29103607e+00,\n",
       "       -1.56050591e+00,  2.06689463e-01, -3.49783761e-01, -2.11069952e+00,\n",
       "        1.34309882e+00, -1.30765707e+00,  2.57332495e+00, -6.24016729e-01,\n",
       "        4.01560568e-01,  1.64694901e+00,  1.47943393e+00,  1.98613641e+00,\n",
       "       -1.52307624e+00, -1.13586550e+00,  2.25997274e-01,  8.39747438e-01,\n",
       "       -1.12274434e-02, -1.63799404e+00,  4.96578159e-01, -1.94251388e-01,\n",
       "       -2.06238959e-01, -2.27795042e+00,  7.97484204e-01,  1.45204060e-01,\n",
       "        1.79516456e+00, -7.45076465e-02,  5.66340131e-01,  8.31818176e-01,\n",
       "       -1.74616156e+00,  2.61669995e+00, -4.30792388e-01,  4.94566602e-01,\n",
       "        6.40582007e-01, -8.14784128e-01,  1.84698033e+00,  2.65955269e-01,\n",
       "       -2.13472637e-01,  1.38507962e-01,  7.64252199e-01,  1.07981648e-02,\n",
       "        8.81929910e-01, -1.68487214e+00, -7.47969990e-01, -2.13880031e+00,\n",
       "        1.99700816e+00,  1.98399213e+00,  6.26616068e-01, -1.01261807e+00,\n",
       "        2.38987827e+00, -6.04414478e-01, -2.13207127e-01,  1.59533406e-01,\n",
       "        4.51515942e-01,  6.43802602e-01,  6.83961637e-01, -1.44524085e-01,\n",
       "        6.68100952e-01, -1.89207659e-01,  5.79303437e-01,  4.97291778e-01,\n",
       "        7.62847291e-01,  6.37966699e-01, -4.42432375e-01,  4.58710172e-01,\n",
       "        6.53399738e-01, -1.29112439e+00, -2.74044357e-01,  6.08113891e-01,\n",
       "        1.70929249e+00,  8.24900186e-01,  1.77237799e+00, -3.98373390e-01,\n",
       "        2.50190492e-01,  8.05735300e-01, -2.32635171e+00,  1.51080322e+00,\n",
       "       -1.86090988e+00,  9.96940068e-01,  6.86831791e-01, -2.33959300e+00,\n",
       "       -2.28906126e+00,  1.43248192e+00,  1.21472206e+00, -8.80863644e-01,\n",
       "       -8.81878895e-01,  5.12604972e-01, -1.27441505e-02,  1.05439522e+00,\n",
       "        4.79580924e-01,  1.58303079e+00,  9.70077778e-01,  7.20773049e-01,\n",
       "       -3.52124720e-01, -4.25321234e-01, -5.17589847e-02,  1.84094307e+00,\n",
       "       -4.06274729e-01,  2.60528987e-01, -2.24480291e+00,  6.75808730e-01,\n",
       "        2.25719828e+00, -9.33638109e-01,  3.17444214e+00,  1.82240605e-01,\n",
       "       -2.57293124e+00, -3.85538240e-01,  1.33043856e+00,  1.99931721e+00,\n",
       "        7.18098548e-01,  1.56759442e+00, -1.17778554e+00, -6.80261587e-01,\n",
       "       -1.67945928e+00, -6.05063076e-01,  7.61918986e-01,  2.12655762e-01,\n",
       "        8.67849037e-01, -9.36514017e-01, -8.75525027e-01,  2.04610210e-01,\n",
       "       -6.02647805e-01,  1.30184917e+00, -6.27418884e-01, -4.95389243e-01,\n",
       "        4.18839414e-01, -3.89288192e-01, -1.23494439e+00, -1.09935582e+00,\n",
       "        5.37765958e-01, -1.35871151e+00,  1.39716443e+00, -6.90399284e-01,\n",
       "        6.16215817e-01, -6.30412624e-01, -9.15241380e-01,  2.46103682e-01,\n",
       "        1.05178347e+00, -2.47367751e-01, -6.54773538e-02,  8.07417361e-01,\n",
       "        8.40527250e-01, -3.84917200e-02, -4.43479892e-01,  8.26559594e-02,\n",
       "       -1.90911491e-01,  3.12974152e-01, -1.19427043e+00,  2.77181579e-01,\n",
       "       -7.18303416e-01,  9.05887611e-01, -6.72467849e-01, -6.55109767e-01,\n",
       "        4.45398824e-01,  1.42118888e-02,  2.27665163e+00, -1.62930261e+00,\n",
       "        1.09852947e-01,  1.12964948e+00, -5.78313923e-01, -9.10557845e-01,\n",
       "       -8.70864648e-01, -1.61196118e+00,  1.34970463e+00, -3.29617342e-01,\n",
       "       -4.48027140e-01, -2.12409807e+00, -1.43370857e+00,  1.46538976e+00,\n",
       "        3.03105666e-01,  1.16650083e+00,  1.03999244e+00, -1.00062028e+00,\n",
       "        2.42984773e+00,  1.94973260e+00, -5.63766442e-01, -3.56820530e+00,\n",
       "       -3.56532090e-01,  2.38296262e-01, -5.67719035e-01, -2.21522097e-01,\n",
       "       -8.28658036e-01,  9.21634718e-01,  6.36332404e-02,  9.51514063e-01,\n",
       "        1.22220335e+00, -2.17432356e+00, -7.70522211e-01, -6.24029294e-01,\n",
       "        2.57137236e+00,  1.49005367e-01,  8.12560596e-01, -1.88069177e+00,\n",
       "        1.43215452e-01,  9.78292982e-01,  8.61965085e-01,  6.23399439e-01,\n",
       "        1.30005065e-02,  6.15686206e-02, -1.69326617e+00, -9.00532885e-01,\n",
       "        2.30943956e-01, -7.15975807e-01,  6.88838247e-01,  4.66782550e-01,\n",
       "        1.36737025e+00,  9.58253826e-01,  2.27261409e-01,  7.47980434e-01,\n",
       "        1.00510216e+00, -5.07437286e-01, -3.29330998e-01, -9.68260374e-02,\n",
       "       -4.75530544e-01,  1.01568695e+00, -6.27310542e-01,  1.25165147e+00,\n",
       "       -3.66973199e-01,  4.72396643e-01,  1.66415149e-01, -9.75979808e-01,\n",
       "       -1.98897295e-02,  3.33643531e-01, -6.42926871e-02, -1.34270656e+00,\n",
       "        1.70142924e+00,  8.76994829e-02, -7.94302575e-01,  1.62076802e+00,\n",
       "        6.17389810e-01, -1.20017000e+00, -1.04449475e+00, -2.22394720e-01,\n",
       "        2.97306979e-01,  6.22799831e-01,  9.50178480e-01,  5.39572406e-01,\n",
       "        1.34674598e+00,  1.26793160e-01, -7.59639380e-01, -3.35086966e-03,\n",
       "       -6.89806603e-02, -2.57821543e+00, -5.61366859e-01,  3.14203733e-01,\n",
       "       -4.24215565e-01, -6.46209362e-01,  9.11376196e-01, -9.16545825e-01,\n",
       "        7.11622650e-01, -1.33274447e+00,  2.76076194e+00, -2.15685527e-01,\n",
       "       -3.23265289e-01,  1.14306590e+00, -4.18704841e-01,  1.45492781e+00,\n",
       "        3.71593830e-01, -1.18397901e-01, -2.25005903e-01,  1.20759217e+00,\n",
       "        2.30487215e-01,  4.32308731e-01,  5.41001873e-01,  1.32936185e-01,\n",
       "        5.19872226e-01, -1.18323423e-01, -4.98086318e-02, -1.11911493e+00,\n",
       "        2.97760251e-01, -1.71954101e+00,  2.83558071e-01, -2.80616016e-01,\n",
       "        3.74585109e-01, -1.04882833e+00, -2.11935737e+00, -3.50865307e-01,\n",
       "       -1.04591267e+00, -1.78055668e+00,  7.67983270e-01,  1.60123823e+00,\n",
       "       -7.96951436e-01, -7.57708272e-02, -3.07785617e-01, -6.58898422e-01,\n",
       "        6.63737214e-01,  1.01014146e+00, -8.68607189e-01,  4.47668671e-02,\n",
       "        1.28453303e+00,  6.89036203e-01,  8.37697438e-01,  1.36798531e+00,\n",
       "        1.35484517e+00,  1.02864263e+00,  1.44937415e-01, -3.82483017e-01,\n",
       "        1.03477765e-01, -5.34406686e-01, -1.95248687e+00, -2.79499066e-01,\n",
       "        3.57526244e-01, -5.87269418e-01, -1.92779787e-01, -1.54036716e-01,\n",
       "        1.35685677e+00, -3.59437274e-01,  1.35663338e+00, -2.71249049e+00,\n",
       "        1.34785578e+00,  1.29740611e+00,  9.02254673e-01, -2.01191800e+00,\n",
       "        1.01888700e+00, -5.01191757e-02, -2.52933744e+00,  1.29817771e+00,\n",
       "        1.44417308e+00, -1.90451207e+00,  1.75421075e-01,  1.38859112e+00,\n",
       "        1.23016131e+00,  8.36061051e-01, -2.64725288e+00,  7.29542767e-01,\n",
       "       -2.18103898e-01,  9.95857529e-01,  2.56161458e-01, -1.98816103e-02,\n",
       "        6.40903849e-01, -1.71913371e-01, -2.42772799e-02, -5.55223999e-01,\n",
       "       -1.60540899e+00,  5.67853474e-01, -8.06030320e-01, -2.00791866e-01,\n",
       "        2.86973958e-01, -2.08521764e+00, -1.86134890e+00, -2.99738577e-01,\n",
       "        4.54563482e-01,  7.44038271e-01, -1.59131450e+00,  6.36631484e-01,\n",
       "       -2.45069618e-01, -8.83157245e-01, -6.48551856e-01,  8.01857332e-01,\n",
       "        2.74005785e-01,  5.03065228e-02,  2.43495739e-01,  9.28097777e-01,\n",
       "       -9.70995674e-02,  5.43188865e-02,  1.13817074e+00, -3.31586624e-01,\n",
       "        6.18140595e-01, -5.03704481e-01, -4.15867341e-01, -1.04049757e-01,\n",
       "        5.15272853e-01,  1.19418196e+00,  9.65452635e-02, -1.49983691e+00,\n",
       "        6.31446294e-01,  2.45384217e+00,  1.08668831e-01, -1.70876764e+00,\n",
       "        1.69652889e-01, -3.01260318e-03, -8.71088434e-02,  9.45409900e-01,\n",
       "        1.37827479e+00,  6.83585745e-01, -1.33058085e-01,  1.12567878e+00,\n",
       "       -1.49382964e+00, -7.16056121e-01, -6.04627779e-01, -3.09506479e-02,\n",
       "        5.06734662e-01, -2.00712948e-01, -9.06035795e-01,  9.74850285e-01,\n",
       "       -2.35456722e-01,  1.02128921e-01,  5.51067745e-01,  3.88776079e-02,\n",
       "        4.32716947e-02,  1.03047342e+00,  1.51369475e-01,  8.62796986e-01,\n",
       "        5.44667444e-01,  2.01688754e+00,  4.09413418e-01,  6.37973270e-01,\n",
       "        1.10165671e+00,  6.36177600e-02, -6.37853097e-01, -4.74145581e-01,\n",
       "       -4.64506926e-01, -9.50330968e-01,  3.17805169e-01, -6.29516548e-01,\n",
       "        1.94852821e-01, -1.58674444e-01, -4.16214933e-02,  5.56056648e-01,\n",
       "       -5.41899124e-01,  6.38891046e-01,  1.56730787e+00,  3.43109083e-01,\n",
       "       -7.82095685e-01, -6.15018011e-01, -2.48262901e-01, -5.94890297e-01,\n",
       "       -9.91180310e-01,  1.54407277e-01, -2.21197332e-01,  1.89720884e-01,\n",
       "        1.18638741e+00, -2.36352834e-01, -1.18542000e+00, -3.98892492e-01,\n",
       "        7.70425217e-01,  6.76770271e-01,  5.18639648e-01, -6.24706723e-01,\n",
       "        7.51902618e-01,  9.76899078e-01, -6.95421630e-01, -4.15700975e-02,\n",
       "        2.02040196e+00, -7.39874276e-01, -1.70508667e+00,  1.38290443e+00,\n",
       "        1.13660477e+00, -4.56967324e-01, -1.12991782e-01, -1.22493505e+00,\n",
       "        8.89522726e-02,  1.16591372e+00, -5.42604842e-01,  8.77101979e-01,\n",
       "        4.63723857e-01,  5.77816891e-01, -4.84309181e-01, -3.54624183e-01,\n",
       "       -1.84677243e+00, -5.66669413e-01,  1.16348546e+00, -9.29332194e-01,\n",
       "       -7.80301654e-01,  6.40189824e-01,  4.02768292e-01,  6.89863250e-01,\n",
       "       -1.16322054e+00,  2.56405795e+00, -1.21575337e+00,  1.54247314e-01,\n",
       "       -1.58655496e-01, -1.18664152e+00, -3.70209423e-01,  2.33076009e-02,\n",
       "       -6.49973212e-01,  9.37223622e-01, -1.61625745e-01, -1.34127467e+00,\n",
       "       -1.42612553e+00,  6.06165091e-01, -1.48677078e+00,  3.16426073e-01,\n",
       "        4.44655186e-01, -9.95355364e-01,  8.90738084e-01, -1.71779362e+00,\n",
       "        2.96458934e-01, -4.08579336e-02, -1.18997976e-01, -1.17789664e+00,\n",
       "       -9.37022004e-01,  1.61880203e+00,  1.21515501e+00,  7.42084589e-01,\n",
       "        9.39848104e-01,  8.46013545e-01, -3.23356212e-01,  4.76035518e-02,\n",
       "       -1.47250838e+00, -8.96956268e-02,  1.18341425e+00, -6.60707248e-01,\n",
       "        1.02314120e+00,  9.15857387e-02, -1.38537187e+00, -1.10731951e+00])"
      ]
     },
     "execution_count": 198,
     "metadata": {},
     "output_type": "execute_result"
    }
   ],
   "source": [
    "normal_dist "
   ]
  },
  {
   "cell_type": "code",
   "execution_count": null,
   "id": "87b4b978",
   "metadata": {},
   "outputs": [],
   "source": [
    "binomial_dist = np.random.binomial(n=10, p=0.5, size=1000)"
   ]
  },
  {
   "cell_type": "code",
   "execution_count": 200,
   "id": "53cdd537",
   "metadata": {},
   "outputs": [
    {
     "data": {
      "text/plain": [
       "array([8, 4, 6, 6, 2, 6, 8, 3, 7, 5, 5, 5, 4, 7, 8, 6, 6, 5, 5, 6, 5, 5,\n",
       "       6, 5, 2, 3, 5, 6, 5, 6, 5, 5, 4, 5, 6, 7, 5, 2, 3, 2, 6, 4, 5, 5,\n",
       "       3, 5, 4, 5, 4, 7, 4, 8, 5, 7, 6, 6, 6, 5, 5, 5, 5, 2, 5, 5, 5, 6,\n",
       "       6, 9, 4, 4, 5, 5, 7, 4, 6, 5, 5, 6, 4, 5, 5, 3, 5, 3, 5, 5, 5, 6,\n",
       "       3, 6, 4, 5, 7, 1, 5, 5, 5, 4, 4, 7, 5, 4, 5, 6, 3, 5, 5, 8, 4, 4,\n",
       "       5, 5, 4, 5, 6, 6, 5, 7, 5, 5, 2, 8, 3, 4, 2, 6, 4, 4, 3, 3, 5, 6,\n",
       "       5, 5, 6, 2, 4, 8, 5, 4, 5, 4, 5, 3, 3, 3, 7, 6, 3, 4, 6, 3, 4, 8,\n",
       "       4, 6, 8, 4, 2, 4, 7, 7, 6, 3, 6, 7, 5, 7, 6, 6, 5, 4, 3, 5, 4, 7,\n",
       "       9, 6, 3, 4, 3, 6, 6, 7, 5, 7, 7, 4, 7, 4, 4, 6, 4, 6, 5, 5, 5, 5,\n",
       "       5, 5, 5, 2, 5, 3, 6, 6, 5, 5, 8, 7, 7, 6, 3, 3, 5, 4, 5, 5, 5, 6,\n",
       "       6, 5, 6, 5, 7, 3, 8, 6, 5, 4, 5, 4, 3, 5, 5, 6, 7, 5, 5, 3, 6, 5,\n",
       "       8, 6, 5, 3, 7, 6, 4, 4, 6, 4, 7, 5, 3, 6, 4, 5, 3, 1, 6, 5, 5, 6,\n",
       "       6, 4, 4, 7, 6, 5, 4, 4, 6, 7, 6, 6, 6, 3, 5, 3, 4, 7, 5, 5, 4, 4,\n",
       "       4, 4, 6, 4, 6, 3, 3, 4, 5, 6, 5, 5, 6, 2, 4, 6, 5, 4, 7, 6, 4, 6,\n",
       "       5, 5, 4, 4, 5, 5, 7, 6, 3, 6, 4, 5, 6, 4, 5, 4, 2, 5, 4, 9, 5, 4,\n",
       "       5, 3, 8, 6, 6, 3, 5, 5, 6, 1, 4, 8, 5, 5, 3, 8, 2, 6, 6, 4, 6, 3,\n",
       "       4, 6, 7, 5, 5, 3, 3, 3, 4, 4, 5, 4, 4, 5, 6, 4, 7, 7, 3, 6, 5, 5,\n",
       "       5, 5, 5, 5, 6, 6, 5, 6, 3, 4, 6, 4, 2, 3, 4, 8, 5, 7, 5, 5, 4, 5,\n",
       "       3, 7, 7, 4, 8, 6, 6, 3, 5, 5, 4, 3, 6, 3, 5, 7, 7, 4, 7, 0, 2, 5,\n",
       "       4, 5, 5, 4, 4, 5, 6, 5, 4, 5, 3, 3, 6, 4, 4, 6, 5, 6, 4, 4, 4, 4,\n",
       "       6, 7, 6, 6, 5, 6, 4, 5, 5, 4, 5, 8, 4, 3, 5, 6, 5, 6, 4, 5, 4, 7,\n",
       "       6, 4, 3, 2, 4, 4, 6, 5, 4, 3, 3, 7, 4, 6, 6, 5, 7, 5, 8, 3, 3, 6,\n",
       "       7, 6, 3, 4, 7, 4, 6, 6, 5, 5, 5, 4, 7, 5, 7, 3, 8, 5, 2, 2, 6, 6,\n",
       "       6, 3, 2, 5, 5, 5, 9, 8, 7, 6, 4, 5, 5, 7, 3, 5, 3, 5, 7, 6, 4, 8,\n",
       "       6, 1, 4, 4, 3, 8, 5, 7, 4, 3, 5, 3, 5, 7, 5, 5, 3, 2, 3, 5, 3, 4,\n",
       "       5, 5, 3, 4, 7, 6, 5, 2, 9, 6, 4, 7, 4, 5, 6, 4, 8, 6, 5, 4, 2, 4,\n",
       "       6, 4, 5, 6, 3, 6, 3, 8, 5, 3, 4, 5, 6, 6, 5, 3, 3, 3, 5, 7, 5, 3,\n",
       "       5, 6, 6, 7, 4, 4, 7, 6, 4, 6, 6, 5, 6, 4, 5, 5, 7, 7, 7, 2, 6, 6,\n",
       "       6, 6, 7, 5, 5, 3, 5, 6, 6, 4, 3, 6, 1, 4, 2, 3, 4, 5, 5, 7, 5, 6,\n",
       "       3, 4, 6, 2, 5, 5, 5, 2, 4, 6, 3, 6, 6, 8, 4, 6, 5, 4, 3, 6, 4, 4,\n",
       "       3, 6, 6, 6, 4, 4, 6, 5, 4, 6, 9, 6, 6, 8, 4, 5, 8, 3, 6, 5, 5, 6,\n",
       "       7, 6, 3, 7, 4, 4, 5, 5, 5, 7, 6, 6, 2, 7, 7, 6, 1, 3, 4, 3, 5, 7,\n",
       "       5, 2, 4, 2, 2, 4, 4, 6, 8, 4, 5, 7, 4, 3, 7, 2, 5, 5, 4, 4, 6, 3,\n",
       "       4, 6, 5, 3, 7, 5, 6, 6, 6, 5, 8, 3, 6, 4, 4, 4, 8, 8, 4, 2, 6, 5,\n",
       "       3, 6, 5, 8, 4, 5, 5, 6, 5, 5, 4, 7, 5, 3, 6, 4, 3, 7, 5, 6, 4, 6,\n",
       "       3, 4, 8, 6, 5, 4, 7, 5, 6, 6, 2, 3, 6, 3, 4, 8, 5, 6, 5, 5, 3, 4,\n",
       "       4, 5, 6, 4, 5, 5, 3, 5, 4, 4, 3, 4, 6, 4, 4, 6, 4, 7, 5, 5, 5, 3,\n",
       "       5, 4, 7, 3, 5, 5, 2, 4, 6, 6, 4, 6, 8, 7, 3, 6, 4, 8, 5, 3, 6, 4,\n",
       "       9, 8, 6, 3, 6, 3, 2, 6, 4, 5, 8, 4, 4, 7, 3, 6, 8, 7, 6, 4, 4, 6,\n",
       "       7, 5, 4, 3, 3, 6, 5, 7, 6, 4, 5, 5, 5, 6, 6, 7, 4, 2, 6, 3, 4, 1,\n",
       "       6, 3, 6, 9, 3, 3, 4, 7, 4, 4, 3, 6, 5, 6, 7, 4, 6, 3, 7, 6, 7, 0,\n",
       "       3, 5, 5, 4, 5, 3, 5, 6, 5, 2, 5, 2, 8, 3, 6, 8, 6, 6, 7, 8, 5, 5,\n",
       "       6, 5, 6, 5, 4, 3, 3, 4, 2, 5, 4, 6, 3, 4, 6, 5, 3, 7, 7, 4, 4, 8,\n",
       "       6, 5, 7, 4, 5, 4, 6, 5, 6, 4, 4, 5, 6, 5, 2, 7, 3, 8, 2, 6, 3, 7,\n",
       "       5, 3, 4, 3, 3, 8, 5, 6, 6, 6, 3, 4, 6, 8, 4, 4, 5, 8, 4, 5, 7, 1,\n",
       "       2, 5, 7, 4, 5, 5, 5, 5, 5, 5], dtype=int32)"
      ]
     },
     "execution_count": 200,
     "metadata": {},
     "output_type": "execute_result"
    }
   ],
   "source": [
    "binomial_dist"
   ]
  },
  {
   "cell_type": "code",
   "execution_count": 3,
   "id": "1b5e4175",
   "metadata": {},
   "outputs": [],
   "source": [
    "poisson_dist = np.random.poisson(lam=2, size=1000)"
   ]
  },
  {
   "cell_type": "code",
   "execution_count": 4,
   "id": "92c7550c",
   "metadata": {},
   "outputs": [
    {
     "data": {
      "text/plain": [
       "array([5, 3, 0, 3, 0, 4, 1, 2, 7, 4, 1, 0, 3, 2, 1, 4, 2, 0, 3, 2, 2, 2,\n",
       "       3, 2, 0, 2, 1, 2, 2, 1, 4, 4, 5, 2, 3, 2, 3, 1, 0, 4, 1, 1, 3, 2,\n",
       "       3, 6, 1, 1, 0, 0, 1, 0, 3, 1, 1, 4, 2, 3, 2, 5, 5, 2, 3, 3, 4, 3,\n",
       "       1, 2, 1, 6, 3, 3, 4, 1, 1, 1, 1, 0, 3, 6, 4, 1, 0, 2, 4, 0, 3, 5,\n",
       "       5, 1, 2, 2, 2, 0, 3, 4, 4, 0, 0, 1, 6, 2, 1, 1, 2, 2, 2, 3, 2, 0,\n",
       "       0, 2, 0, 1, 1, 0, 5, 4, 0, 2, 2, 4, 1, 3, 4, 1, 0, 0, 2, 2, 2, 4,\n",
       "       0, 1, 3, 0, 4, 1, 5, 2, 1, 3, 2, 1, 1, 1, 4, 1, 3, 3, 0, 3, 1, 1,\n",
       "       0, 0, 1, 4, 3, 3, 1, 0, 0, 3, 0, 3, 3, 1, 3, 3, 3, 0, 3, 1, 0, 2,\n",
       "       1, 1, 2, 1, 2, 2, 1, 3, 0, 2, 2, 2, 2, 1, 3, 3, 2, 4, 2, 2, 5, 1,\n",
       "       1, 2, 1, 0, 1, 1, 4, 1, 4, 0, 3, 2, 2, 3, 2, 2, 3, 0, 1, 2, 3, 2,\n",
       "       3, 3, 0, 1, 2, 1, 0, 2, 2, 3, 2, 0, 5, 3, 4, 3, 4, 3, 2, 2, 1, 1,\n",
       "       1, 3, 1, 2, 0, 2, 4, 4, 3, 2, 3, 2, 1, 2, 2, 4, 0, 1, 0, 1, 3, 1,\n",
       "       1, 1, 4, 0, 1, 2, 1, 0, 2, 3, 2, 3, 0, 2, 0, 3, 2, 2, 1, 1, 0, 1,\n",
       "       3, 0, 1, 3, 1, 1, 2, 0, 0, 3, 1, 0, 0, 1, 0, 3, 4, 1, 1, 2, 2, 2,\n",
       "       1, 0, 0, 1, 4, 0, 3, 3, 2, 5, 1, 2, 1, 2, 2, 0, 2, 2, 2, 1, 2, 5,\n",
       "       1, 4, 3, 1, 1, 4, 2, 1, 2, 2, 3, 3, 4, 2, 2, 2, 1, 2, 2, 4, 0, 3,\n",
       "       1, 3, 1, 1, 3, 0, 1, 4, 1, 1, 3, 3, 3, 2, 2, 2, 4, 3, 1, 2, 0, 4,\n",
       "       1, 2, 3, 3, 4, 1, 6, 2, 1, 2, 3, 1, 3, 2, 3, 2, 5, 2, 1, 2, 0, 2,\n",
       "       5, 1, 1, 0, 4, 3, 1, 1, 1, 4, 3, 0, 1, 1, 1, 2, 1, 4, 0, 3, 3, 3,\n",
       "       1, 1, 1, 2, 4, 2, 0, 5, 2, 0, 2, 2, 0, 1, 3, 1, 2, 3, 1, 3, 1, 2,\n",
       "       2, 4, 4, 0, 2, 1, 2, 0, 1, 2, 1, 3, 1, 5, 3, 2, 3, 2, 3, 2, 2, 3,\n",
       "       2, 0, 1, 2, 2, 3, 7, 1, 7, 4, 1, 4, 2, 4, 2, 2, 7, 2, 4, 2, 3, 3,\n",
       "       1, 0, 0, 2, 4, 2, 5, 2, 4, 4, 2, 2, 0, 2, 1, 0, 4, 4, 0, 2, 3, 1,\n",
       "       3, 1, 1, 6, 2, 1, 2, 1, 5, 2, 1, 2, 1, 2, 2, 0, 2, 2, 1, 1, 3, 4,\n",
       "       2, 2, 1, 2, 1, 3, 1, 0, 0, 4, 2, 4, 2, 1, 5, 3, 1, 1, 1, 5, 3, 0,\n",
       "       1, 1, 2, 3, 3, 2, 2, 2, 1, 1, 3, 1, 0, 4, 3, 3, 0, 4, 2, 0, 0, 2,\n",
       "       1, 2, 3, 3, 1, 1, 3, 6, 1, 2, 3, 1, 2, 3, 2, 4, 3, 3, 2, 2, 1, 2,\n",
       "       2, 2, 3, 1, 3, 3, 0, 1, 2, 3, 2, 0, 2, 3, 2, 4, 2, 5, 2, 2, 4, 1,\n",
       "       0, 0, 0, 3, 1, 0, 1, 2, 2, 5, 1, 2, 2, 3, 4, 2, 3, 2, 2, 1, 4, 1,\n",
       "       1, 5, 3, 3, 2, 1, 3, 1, 3, 3, 8, 1, 2, 1, 1, 1, 3, 1, 1, 5, 3, 1,\n",
       "       1, 5, 6, 1, 5, 4, 3, 1, 2, 1, 2, 1, 2, 2, 3, 2, 3, 2, 2, 0, 2, 0,\n",
       "       2, 2, 0, 3, 3, 2, 1, 3, 3, 1, 0, 3, 4, 0, 2, 2, 2, 3, 1, 2, 3, 0,\n",
       "       1, 1, 1, 1, 2, 1, 1, 3, 2, 1, 2, 2, 2, 3, 2, 2, 4, 1, 3, 3, 2, 3,\n",
       "       0, 3, 1, 0, 1, 5, 2, 3, 2, 3, 2, 1, 2, 1, 6, 2, 5, 5, 4, 1, 2, 0,\n",
       "       3, 6, 1, 2, 3, 3, 3, 3, 1, 1, 1, 0, 2, 2, 3, 0, 1, 2, 1, 2, 1, 0,\n",
       "       4, 2, 1, 0, 1, 4, 4, 5, 2, 1, 1, 1, 0, 1, 1, 1, 2, 3, 1, 1, 0, 1,\n",
       "       2, 3, 2, 3, 0, 1, 1, 3, 3, 2, 4, 3, 4, 3, 0, 2, 3, 3, 3, 5, 1, 2,\n",
       "       3, 3, 2, 1, 2, 1, 2, 0, 1, 5, 2, 1, 2, 1, 2, 1, 1, 2, 2, 3, 3, 4,\n",
       "       1, 3, 0, 1, 3, 3, 0, 1, 4, 1, 4, 4, 3, 2, 2, 1, 5, 2, 1, 1, 3, 3,\n",
       "       2, 1, 8, 2, 3, 1, 1, 3, 3, 2, 3, 7, 0, 2, 2, 4, 1, 1, 1, 0, 0, 0,\n",
       "       2, 2, 6, 3, 1, 1, 2, 2, 1, 5, 3, 2, 4, 0, 3, 4, 3, 2, 4, 2, 2, 3,\n",
       "       2, 1, 0, 4, 3, 7, 8, 0, 0, 5, 1, 1, 1, 3, 3, 0, 2, 2, 1, 2, 2, 0,\n",
       "       0, 1, 1, 2, 1, 2, 1, 1, 1, 2, 3, 2, 2, 1, 2, 3, 1, 0, 2, 1, 5, 4,\n",
       "       2, 1, 1, 1, 2, 2, 0, 3, 1, 6, 4, 3, 3, 2, 2, 0, 3, 1, 0, 2, 1, 1,\n",
       "       1, 1, 1, 2, 1, 0, 0, 1, 1, 1, 3, 1, 2, 1, 2, 4, 3, 1, 1, 2, 1, 2,\n",
       "       1, 5, 1, 2, 2, 1, 2, 0, 1, 2], dtype=int32)"
      ]
     },
     "execution_count": 4,
     "metadata": {},
     "output_type": "execute_result"
    }
   ],
   "source": [
    "poisson_dist"
   ]
  },
  {
   "cell_type": "code",
   "execution_count": 5,
   "id": "a9b15413",
   "metadata": {},
   "outputs": [],
   "source": [
    "int_array = np.array([1, 2, 3], dtype=np.int32)"
   ]
  },
  {
   "cell_type": "code",
   "execution_count": 6,
   "id": "46350b00",
   "metadata": {},
   "outputs": [
    {
     "data": {
      "text/plain": [
       "array([1, 2, 3], dtype=int32)"
      ]
     },
     "execution_count": 6,
     "metadata": {},
     "output_type": "execute_result"
    }
   ],
   "source": [
    "int_array"
   ]
  },
  {
   "cell_type": "code",
   "execution_count": 7,
   "id": "45eb8ccb",
   "metadata": {},
   "outputs": [],
   "source": [
    "float_array = np.array([1.0, 2.0, 3.0], dtype=np.float64)"
   ]
  },
  {
   "cell_type": "code",
   "execution_count": 8,
   "id": "a6bdf0b5",
   "metadata": {},
   "outputs": [
    {
     "data": {
      "text/plain": [
       "array([1., 2., 3.])"
      ]
     },
     "execution_count": 8,
     "metadata": {},
     "output_type": "execute_result"
    }
   ],
   "source": [
    "float_array"
   ]
  },
  {
   "cell_type": "code",
   "execution_count": 9,
   "id": "e7733593",
   "metadata": {},
   "outputs": [],
   "source": [
    "bool_array = np.array([True, False, True], dtype=np.bool_)"
   ]
  },
  {
   "cell_type": "code",
   "execution_count": 10,
   "id": "bf1479dc",
   "metadata": {},
   "outputs": [
    {
     "data": {
      "text/plain": [
       "array([ True, False,  True])"
      ]
     },
     "execution_count": 10,
     "metadata": {},
     "output_type": "execute_result"
    }
   ],
   "source": [
    "bool_array"
   ]
  },
  {
   "cell_type": "code",
   "execution_count": 11,
   "id": "86da7d7a",
   "metadata": {},
   "outputs": [
    {
     "name": "stdout",
     "output_type": "stream",
     "text": [
      "정수 배열의 dtype: int32\n",
      "실수 배열의 dtype: float64\n",
      "불리언 배열의 dtype: bool\n"
     ]
    }
   ],
   "source": [
    "print(\"정수 배열의 dtype:\", int_array.dtype)\n",
    "print(\"실수 배열의 dtype:\", float_array.dtype)\n",
    "print(\"불리언 배열의 dtype:\", bool_array.dtype)"
   ]
  },
  {
   "cell_type": "code",
   "execution_count": 12,
   "id": "604c25b2",
   "metadata": {},
   "outputs": [
    {
     "name": "stdout",
     "output_type": "stream",
     "text": [
      "변환 전: [1.1 2.2 3.3] float64\n",
      "변환 후: [1 2 3] int32\n"
     ]
    }
   ],
   "source": [
    "float_arr = np.array([1.1, 2.2, 3.3])\n",
    "int_arr = float_arr.astype(np.int32)  # 실수를 정수로 변환\n",
    "print(\"변환 전:\", float_arr, float_arr.dtype)\n",
    "print(\"변환 후:\", int_arr, int_arr.dtype)"
   ]
  },
  {
   "cell_type": "code",
   "execution_count": 13,
   "id": "c78651f5",
   "metadata": {},
   "outputs": [
    {
     "name": "stdout",
     "output_type": "stream",
     "text": [
      "[ 0  1  2  3  4  5  6  7  8  9 10 11]\n"
     ]
    }
   ],
   "source": [
    "a = np.arange(12)\n",
    "print(a) "
   ]
  },
  {
   "cell_type": "code",
   "execution_count": 14,
   "id": "a050a2d3",
   "metadata": {},
   "outputs": [
    {
     "name": "stdout",
     "output_type": "stream",
     "text": [
      "[[ 0  1  2  3]\n",
      " [ 4  5  6  7]\n",
      " [ 8  9 10 11]]\n"
     ]
    }
   ],
   "source": [
    "b = a.reshape(3, 4)\n",
    "print(b)\n"
   ]
  },
  {
   "cell_type": "code",
   "execution_count": 15,
   "id": "75bedf2d",
   "metadata": {},
   "outputs": [
    {
     "name": "stdout",
     "output_type": "stream",
     "text": [
      "[[[ 0  1  2]\n",
      "  [ 3  4  5]]\n",
      "\n",
      " [[ 6  7  8]\n",
      "  [ 9 10 11]]]\n"
     ]
    }
   ],
   "source": [
    "c = a.reshape(2, 2, 3)\n",
    "print(c)"
   ]
  },
  {
   "cell_type": "code",
   "execution_count": 16,
   "id": "e5adaa41",
   "metadata": {},
   "outputs": [
    {
     "name": "stdout",
     "output_type": "stream",
     "text": [
      "(4, 3, 4, 3)\n",
      "[[[[  0   1   2]\n",
      "   [  3   4   5]\n",
      "   [  6   7   8]\n",
      "   [  9  10  11]]\n",
      "\n",
      "  [[ 12  13  14]\n",
      "   [ 15  16  17]\n",
      "   [ 18  19  20]\n",
      "   [ 21  22  23]]\n",
      "\n",
      "  [[ 24  25  26]\n",
      "   [ 27  28  29]\n",
      "   [ 30  31  32]\n",
      "   [ 33  34  35]]]\n",
      "\n",
      "\n",
      " [[[ 36  37  38]\n",
      "   [ 39  40  41]\n",
      "   [ 42  43  44]\n",
      "   [ 45  46  47]]\n",
      "\n",
      "  [[ 48  49  50]\n",
      "   [ 51  52  53]\n",
      "   [ 54  55  56]\n",
      "   [ 57  58  59]]\n",
      "\n",
      "  [[ 60  61  62]\n",
      "   [ 63  64  65]\n",
      "   [ 66  67  68]\n",
      "   [ 69  70  71]]]\n",
      "\n",
      "\n",
      " [[[ 72  73  74]\n",
      "   [ 75  76  77]\n",
      "   [ 78  79  80]\n",
      "   [ 81  82  83]]\n",
      "\n",
      "  [[ 84  85  86]\n",
      "   [ 87  88  89]\n",
      "   [ 90  91  92]\n",
      "   [ 93  94  95]]\n",
      "\n",
      "  [[ 96  97  98]\n",
      "   [ 99 100 101]\n",
      "   [102 103 104]\n",
      "   [105 106 107]]]\n",
      "\n",
      "\n",
      " [[[108 109 110]\n",
      "   [111 112 113]\n",
      "   [114 115 116]\n",
      "   [117 118 119]]\n",
      "\n",
      "  [[120 121 122]\n",
      "   [123 124 125]\n",
      "   [126 127 128]\n",
      "   [129 130 131]]\n",
      "\n",
      "  [[132 133 134]\n",
      "   [135 136 137]\n",
      "   [138 139 140]\n",
      "   [141 142 143]]]]\n"
     ]
    }
   ],
   "source": [
    "arr_4d_example = np.arange(144).reshape(4, 3, 4, 3)\n",
    "print(arr_4d_example.shape)  # (4, 3, 4, 3)\n",
    "print(arr_4d_example)"
   ]
  },
  {
   "cell_type": "code",
   "execution_count": 17,
   "id": "85c51665",
   "metadata": {},
   "outputs": [
    {
     "name": "stdout",
     "output_type": "stream",
     "text": [
      "[3 4 5 6 7]\n",
      "[ 3  6  9 12 15]\n",
      "[ 2  4  8 16 32]\n"
     ]
    }
   ],
   "source": [
    "arr = np.array([1, 2, 3, 4, 5])\n",
    "print(arr + 2)  # [3, 4, 5, 6, 7]\n",
    "print(arr * 3)  # [3, 6, 9, 12, 15]\n",
    "print(2 ** arr)  # [2, 4, 8, 16, 32]\n"
   ]
  },
  {
   "cell_type": "code",
   "execution_count": 18,
   "id": "b4387719",
   "metadata": {},
   "outputs": [],
   "source": [
    "arr1 = np.array([1, 2, 3, 4])\n",
    "arr2 = np.array([5, 6, 7, 8])"
   ]
  },
  {
   "cell_type": "code",
   "execution_count": 19,
   "id": "2b25354b",
   "metadata": {},
   "outputs": [
    {
     "name": "stdout",
     "output_type": "stream",
     "text": [
      "덧셈: [ 6  8 10 12]\n"
     ]
    }
   ],
   "source": [
    "print(\"덧셈:\", arr1 + arr2)  # [6 8 10 12]"
   ]
  },
  {
   "cell_type": "code",
   "execution_count": 20,
   "id": "f0d34412",
   "metadata": {},
   "outputs": [
    {
     "name": "stdout",
     "output_type": "stream",
     "text": [
      "뺄셈: [4 4 4 4]\n"
     ]
    }
   ],
   "source": [
    "print(\"뺄셈:\", arr2 - arr1)  # [4 4 4 4]\n"
   ]
  },
  {
   "cell_type": "code",
   "execution_count": 21,
   "id": "eb17e4f5",
   "metadata": {},
   "outputs": [
    {
     "name": "stdout",
     "output_type": "stream",
     "text": [
      "곱셈: [ 5 12 21 32]\n"
     ]
    }
   ],
   "source": [
    "print(\"곱셈:\", arr1 * arr2)  # [5 12 21 32]\n"
   ]
  },
  {
   "cell_type": "code",
   "execution_count": 22,
   "id": "9d4b6858",
   "metadata": {},
   "outputs": [
    {
     "name": "stdout",
     "output_type": "stream",
     "text": [
      "나눗셈: [5.         3.         2.33333333 2.        ]\n"
     ]
    }
   ],
   "source": [
    "print(\"나눗셈:\", arr2 / arr1)  # [5. 3. 2.33... 2.]"
   ]
  },
  {
   "cell_type": "code",
   "execution_count": 23,
   "id": "3a1a73dc",
   "metadata": {},
   "outputs": [
    {
     "name": "stdout",
     "output_type": "stream",
     "text": [
      "제곱: [ 1  4  9 16]\n"
     ]
    }
   ],
   "source": [
    "print(\"제곱:\", np.square(arr1))"
   ]
  },
  {
   "cell_type": "code",
   "execution_count": 24,
   "id": "3d915aaf",
   "metadata": {},
   "outputs": [
    {
     "name": "stdout",
     "output_type": "stream",
     "text": [
      "제곱근: [1.         1.41421356 1.73205081 2.        ]\n"
     ]
    }
   ],
   "source": [
    "print(\"제곱근:\", np.sqrt(arr1))  # [1. 1.41421356 1.73205081 2.]"
   ]
  },
  {
   "cell_type": "code",
   "execution_count": 25,
   "id": "9c5b7566",
   "metadata": {},
   "outputs": [
    {
     "name": "stdout",
     "output_type": "stream",
     "text": [
      "지수: [ 2.71828183  7.3890561  20.08553692 54.59815003]\n"
     ]
    }
   ],
   "source": [
    "print(\"지수:\", np.exp(arr1))"
   ]
  },
  {
   "cell_type": "code",
   "execution_count": 26,
   "id": "b7d34202",
   "metadata": {},
   "outputs": [
    {
     "name": "stdout",
     "output_type": "stream",
     "text": [
      "로그: [0.         0.69314718 1.09861229 1.38629436]\n"
     ]
    }
   ],
   "source": [
    "print(\"로그:\", np.log(arr1))"
   ]
  },
  {
   "cell_type": "code",
   "execution_count": 27,
   "id": "04ed4fb2",
   "metadata": {},
   "outputs": [],
   "source": [
    "a = np.array([[1, 2], [3, 4]])\n",
    "b = np.array([[5, 6], [7, 8]])"
   ]
  },
  {
   "cell_type": "code",
   "execution_count": 28,
   "id": "5270f000",
   "metadata": {},
   "outputs": [
    {
     "name": "stdout",
     "output_type": "stream",
     "text": [
      "덧셈:\n",
      " [[ 6  8]\n",
      " [10 12]]\n",
      "뺄셈:\n",
      " [[-4 -4]\n",
      " [-4 -4]]\n",
      "곱셈:\n",
      " [[ 5 12]\n",
      " [21 32]]\n",
      "나눗셈:\n",
      " [[0.2        0.33333333]\n",
      " [0.42857143 0.5       ]]\n"
     ]
    }
   ],
   "source": [
    "print(\"덧셈:\\n\", a + b)\n",
    "print(\"뺄셈:\\n\", a - b)\n",
    "print(\"곱셈:\\n\", a * b)\n",
    "print(\"나눗셈:\\n\", a / b)"
   ]
  },
  {
   "cell_type": "code",
   "execution_count": 29,
   "id": "d6e5027c",
   "metadata": {},
   "outputs": [],
   "source": [
    "c = np.array([[1, 2, 3], [4, 5, 6]])  # shape: (2, 3)\n",
    "d = np.array([[1, 2], [3, 4]])        # shape: (2, 2)"
   ]
  },
  {
   "cell_type": "code",
   "execution_count": 31,
   "id": "e86dc3bc",
   "metadata": {},
   "outputs": [
    {
     "data": {
      "text/plain": [
       "array([[1, 2, 3],\n",
       "       [4, 5, 6]])"
      ]
     },
     "execution_count": 31,
     "metadata": {},
     "output_type": "execute_result"
    }
   ],
   "source": [
    "c"
   ]
  },
  {
   "cell_type": "code",
   "execution_count": 32,
   "id": "3e8f13eb",
   "metadata": {},
   "outputs": [
    {
     "data": {
      "text/plain": [
       "array([[1, 2],\n",
       "       [3, 4]])"
      ]
     },
     "execution_count": 32,
     "metadata": {},
     "output_type": "execute_result"
    }
   ],
   "source": [
    "d"
   ]
  },
  {
   "cell_type": "code",
   "execution_count": 33,
   "id": "0ea3f602",
   "metadata": {},
   "outputs": [],
   "source": [
    "arr1 = np.array([1, 2, 3, 4, 5])\n",
    "arr2 = np.array([1, 3, 3, 0, 5])"
   ]
  },
  {
   "cell_type": "code",
   "execution_count": 34,
   "id": "02052d5b",
   "metadata": {},
   "outputs": [
    {
     "data": {
      "text/plain": [
       "array([1, 2, 3, 4, 5])"
      ]
     },
     "execution_count": 34,
     "metadata": {},
     "output_type": "execute_result"
    }
   ],
   "source": [
    "arr1"
   ]
  },
  {
   "cell_type": "code",
   "execution_count": 35,
   "id": "b3f75892",
   "metadata": {},
   "outputs": [
    {
     "data": {
      "text/plain": [
       "array([1, 3, 3, 0, 5])"
      ]
     },
     "execution_count": 35,
     "metadata": {},
     "output_type": "execute_result"
    }
   ],
   "source": [
    "arr2"
   ]
  },
  {
   "cell_type": "code",
   "execution_count": 36,
   "id": "06056dc1",
   "metadata": {},
   "outputs": [
    {
     "name": "stdout",
     "output_type": "stream",
     "text": [
      "같음: [ True False  True False  True]\n"
     ]
    }
   ],
   "source": [
    "print(\"같음:\", arr1 == arr2)  # [ True False  True False  True]"
   ]
  },
  {
   "cell_type": "code",
   "execution_count": 37,
   "id": "f2c307cd",
   "metadata": {},
   "outputs": [
    {
     "name": "stdout",
     "output_type": "stream",
     "text": [
      "더 큼: [False False False  True False]\n",
      "더 작음: [False  True False False False]\n"
     ]
    }
   ],
   "source": [
    "print(\"더 큼:\", arr1 > arr2)  # [False False False  True False]\n",
    "print(\"더 작음:\", arr1 < arr2)  # [False  True False False False]"
   ]
  },
  {
   "cell_type": "code",
   "execution_count": 38,
   "id": "25b8ee83",
   "metadata": {},
   "outputs": [
    {
     "name": "stdout",
     "output_type": "stream",
     "text": [
      "복합 조건: [False False  True  True False]\n"
     ]
    }
   ],
   "source": [
    "mask = (arr1 >= 3) & (arr2 <= 4)\n",
    "print(\"복합 조건:\", mask)  # [False False  True False False]"
   ]
  },
  {
   "cell_type": "code",
   "execution_count": 39,
   "id": "9d74bf07",
   "metadata": {},
   "outputs": [
    {
     "name": "stdout",
     "output_type": "stream",
     "text": [
      "3보다 큰 값: [4 5]\n"
     ]
    }
   ],
   "source": [
    "filtered = arr1[arr1 > 3]\n",
    "print(\"3보다 큰 값:\", filtered)  # [4 5]"
   ]
  },
  {
   "cell_type": "code",
   "execution_count": 40,
   "id": "0a8ed893",
   "metadata": {},
   "outputs": [],
   "source": [
    "a = np.array([1, 2, 3])\n",
    "b = np.array([4, 5, 6])"
   ]
  },
  {
   "cell_type": "code",
   "execution_count": 41,
   "id": "cdec78d6",
   "metadata": {},
   "outputs": [
    {
     "name": "stdout",
     "output_type": "stream",
     "text": [
      "요소별 덧셈: [5 7 9]\n",
      "요소별 곱셈: [ 4 10 18]\n",
      "요소별 제곱: [1 4 9]\n",
      "요소별 제곱근: [1.         1.41421356 1.73205081]\n"
     ]
    }
   ],
   "source": [
    "print(\"요소별 덧셈:\", a + b)      # [5 7 9]\n",
    "print(\"요소별 곱셈:\", a * b)      # [4 10 18]\n",
    "print(\"요소별 제곱:\", np.square(a))  # [1 4 9]\n",
    "print(\"요소별 제곱근:\", np.sqrt(a))  # [1. 1.41421356 1.73205081]"
   ]
  },
  {
   "cell_type": "code",
   "execution_count": 43,
   "id": "639eab3c",
   "metadata": {},
   "outputs": [
    {
     "data": {
      "text/plain": [
       "[1, 2, 3, 4, 5, 1, 2, 3, 4, 5]"
      ]
     },
     "execution_count": 43,
     "metadata": {},
     "output_type": "execute_result"
    }
   ],
   "source": [
    "#파이썬 자료형과의 비교\n",
    "lst_data = [1,2,3,4,5]\n",
    "lst_data + lst_data #EXTEND()"
   ]
  },
  {
   "cell_type": "code",
   "execution_count": 56,
   "id": "4431de4d",
   "metadata": {},
   "outputs": [
    {
     "data": {
      "text/plain": [
       "array([ 3,  4,  6,  8, 10])"
      ]
     },
     "execution_count": 56,
     "metadata": {},
     "output_type": "execute_result"
    }
   ],
   "source": [
    "a1=np.array(lst_data)\n",
    "a1\n",
    "a1+5\n",
    "a1*5\n",
    "a1/5\n",
    "a1-5\n",
    "a2=np.array([2,2,3,4,5])\n",
    "a1+a2"
   ]
  },
  {
   "cell_type": "code",
   "execution_count": 59,
   "id": "2984accd",
   "metadata": {},
   "outputs": [
    {
     "data": {
      "text/plain": [
       "array([1, 2])"
      ]
     },
     "execution_count": 59,
     "metadata": {},
     "output_type": "execute_result"
    }
   ],
   "source": [
    "a3=np.array([1,2])\n",
    "a3"
   ]
  },
  {
   "cell_type": "code",
   "execution_count": 62,
   "id": "2c1f43f9",
   "metadata": {},
   "outputs": [],
   "source": [
    "#브로드 캐스팅\n",
    "#크기가 다른 배열에서 작은쪽이 큰쪽에 맞춰 크기를 확장하는 기능"
   ]
  },
  {
   "cell_type": "code",
   "execution_count": 79,
   "id": "18f4f788",
   "metadata": {},
   "outputs": [
    {
     "name": "stdout",
     "output_type": "stream",
     "text": [
      "[0 1 2]\n",
      "[[0]\n",
      " [1]\n",
      " [2]]\n",
      "C+:\n",
      "[[0 1 2]\n",
      " [1 2 3]\n",
      " [2 3 4]]\n",
      "C*:\n",
      "[[0 0 0]\n",
      " [0 1 2]\n",
      " [0 2 4]]\n",
      "C-:\n",
      "[[ 0 -1 -2]\n",
      " [ 1  0 -1]\n",
      " [ 2  1  0]]\n",
      "C/:\n",
      "[[nan 0.  0. ]\n",
      " [inf 1.  0.5]\n",
      " [inf 2.  1. ]]\n"
     ]
    },
    {
     "name": "stderr",
     "output_type": "stream",
     "text": [
      "C:\\Users\\Admin\\AppData\\Local\\Temp\\ipykernel_4232\\3160689705.py:13: RuntimeWarning: divide by zero encountered in divide\n",
      "  c_array=b_array / a_array\n",
      "C:\\Users\\Admin\\AppData\\Local\\Temp\\ipykernel_4232\\3160689705.py:13: RuntimeWarning: invalid value encountered in divide\n",
      "  c_array=b_array / a_array\n"
     ]
    }
   ],
   "source": [
    "a_array = np.arange(3)\n",
    "print(a_array)\n",
    "b_array = np.arange(3)[:, np.newaxis]\n",
    "print(b_array)\n",
    "b_array, a_array\n",
    "c_array=b_array + a_array\n",
    "print(f'C+:\\n{c_array}')\n",
    "c_array=b_array * a_array\n",
    "print(f'C*:\\n{c_array}')\n",
    "\n",
    "c_array=b_array - a_array\n",
    "print(f'C-:\\n{c_array}')\n",
    "c_array=b_array / a_array\n",
    "print(f'C/:\\n{c_array}')\n",
    "# 0 0 0    0 1 2\n",
    "# 1 1 1  + 0 1 2\n",
    "# 2 2 2    0 1 2"
   ]
  },
  {
   "cell_type": "code",
   "execution_count": 80,
   "id": "4025dcf9",
   "metadata": {},
   "outputs": [
    {
     "name": "stdout",
     "output_type": "stream",
     "text": [
      "[[11 12 13 14]\n",
      " [21 22 23 24]\n",
      " [31 32 33 34]]\n"
     ]
    }
   ],
   "source": [
    "arr1 = np.array([1, 2, 3, 4])   # 차원: (4,)\n",
    "arr2 = np.array([[10], [20], [30]])  # 차원: (3, 1)\n",
    "\n",
    "# arr1: (4,) -> (1, 4)로 변환\n",
    "# arr2: (3, 1)\n",
    "# 결과: (3, 4)로 확장되어 연산 가능\n",
    "result = arr2 + arr1\n",
    "print(result)\n"
   ]
  },
  {
   "cell_type": "code",
   "execution_count": 81,
   "id": "cbeea782",
   "metadata": {},
   "outputs": [
    {
     "name": "stdout",
     "output_type": "stream",
     "text": [
      "[[11 12 13]\n",
      " [24 25 26]]\n"
     ]
    }
   ],
   "source": [
    "arr1 = np.array([[1, 2, 3], #차원 (2,3)\n",
    "                 [4, 5, 6]])\n",
    "\n",
    "arr2 = np.array([[10], [20]])  # 차원: (2, 1)\n",
    "\n",
    "# arr2가 (2, 1)에서 (2, 3)으로 확장되어 브로드캐스팅 성공\n",
    "result = arr1 + arr2\n",
    "print(result)\n"
   ]
  },
  {
   "cell_type": "code",
   "execution_count": 82,
   "id": "f924a63d",
   "metadata": {},
   "outputs": [
    {
     "name": "stdout",
     "output_type": "stream",
     "text": [
      "[[11 12 13]\n",
      " [24 25 26]]\n"
     ]
    }
   ],
   "source": [
    "arr1 = np.array([[1, 2, 3], #차원 (2,3)\n",
    "                 [4, 5, 6]])\n",
    "\n",
    "arr2 = np.array([[10], [20]])  # 차원: (2, 1)\n",
    "\n",
    "# arr2가 (2, 1)에서 (2, 3)으로 확장되어 브로드캐스팅 성공\n",
    "result = arr1 + arr2\n",
    "print(result)\n"
   ]
  },
  {
   "cell_type": "code",
   "execution_count": null,
   "id": "f1c5ae99",
   "metadata": {},
   "outputs": [],
   "source": [
    "## 배열의 결합, 연결\n",
    "concatenate(), vstack(), hstack()"
   ]
  },
  {
   "cell_type": "code",
   "execution_count": 83,
   "id": "dcf0036e",
   "metadata": {},
   "outputs": [
    {
     "name": "stdout",
     "output_type": "stream",
     "text": [
      "[0 1 2]\n",
      "[[0]\n",
      " [1]\n",
      " [2]]\n",
      "C+:\n",
      "[[0 1 2]\n",
      " [1 2 3]\n",
      " [2 3 4]]\n",
      "C*:\n",
      "[[0 0 0]\n",
      " [0 1 2]\n",
      " [0 2 4]]\n",
      "C-:\n",
      "[[ 0 -1 -2]\n",
      " [ 1  0 -1]\n",
      " [ 2  1  0]]\n",
      "C/:\n",
      "[[nan 0.  0. ]\n",
      " [inf 1.  0.5]\n",
      " [inf 2.  1. ]]\n"
     ]
    },
    {
     "name": "stderr",
     "output_type": "stream",
     "text": [
      "C:\\Users\\Admin\\AppData\\Local\\Temp\\ipykernel_4232\\1522802720.py:13: RuntimeWarning: divide by zero encountered in divide\n",
      "  c_array=b_array / a_array\n",
      "C:\\Users\\Admin\\AppData\\Local\\Temp\\ipykernel_4232\\1522802720.py:13: RuntimeWarning: invalid value encountered in divide\n",
      "  c_array=b_array / a_array\n"
     ]
    }
   ],
   "source": [
    "a_array = np.arange(3)\n",
    "print(a_array)\n",
    "b_array = np.arange(3)[:, np.newaxis]\n",
    "print(b_array)\n",
    "b_array, a_array\n",
    "c_array=b_array + a_array\n",
    "print(f'C+:\\n{c_array}')\n",
    "c_array=b_array * a_array\n",
    "print(f'C*:\\n{c_array}')\n",
    "\n",
    "c_array=b_array - a_array\n",
    "print(f'C-:\\n{c_array}')\n",
    "c_array=b_array / a_array\n",
    "print(f'C/:\\n{c_array}')"
   ]
  },
  {
   "cell_type": "code",
   "execution_count": 99,
   "id": "36f05ac2",
   "metadata": {},
   "outputs": [
    {
     "name": "stdout",
     "output_type": "stream",
     "text": [
      "[[1 2 3 1 2 3]\n",
      " [1 2 3 1 2 3]]\n",
      "[[1 2 3]\n",
      " [1 2 3]]\n"
     ]
    }
   ],
   "source": [
    "v1 = [1,2,3]\n",
    "v2 = [4,5,6,7]\n",
    "np.concatenate([v1,v2],axis=0)\n",
    "\n",
    "grid = np.array([[1,2,3],[1,2,3]])\n",
    "np.concatenate([grid, grid], axis=1)\n",
    "\n",
    "print(np.concatenate([grid, grid], axis=1))\n",
    "\n",
    "np.vstack([v1,v1]) # 같은 스텍을 붙인다\n",
    "print(np.vstack([v1,v1]) )"
   ]
  },
  {
   "cell_type": "code",
   "execution_count": 100,
   "id": "4959b530",
   "metadata": {},
   "outputs": [],
   "source": [
    "arr_2d = np.array([[1, 2, 3],\n",
    "                   [4, 5, 6]])\n"
   ]
  },
  {
   "cell_type": "code",
   "execution_count": 101,
   "id": "0852fb05",
   "metadata": {},
   "outputs": [
    {
     "data": {
      "text/plain": [
       "array([[1, 2, 3],\n",
       "       [4, 5, 6]])"
      ]
     },
     "execution_count": 101,
     "metadata": {},
     "output_type": "execute_result"
    }
   ],
   "source": [
    "arr_2d"
   ]
  },
  {
   "cell_type": "code",
   "execution_count": 103,
   "id": "ff254e86",
   "metadata": {},
   "outputs": [
    {
     "data": {
      "text/plain": [
       "array([5, 7, 9])"
      ]
     },
     "execution_count": 103,
     "metadata": {},
     "output_type": "execute_result"
    }
   ],
   "source": [
    "# axis=0 방향 합계 (열 방향 합)\n",
    "sum_axis0 = np.sum(arr_2d, axis=0)  # [5, 7, 9]\n",
    "sum_axis0 "
   ]
  },
  {
   "cell_type": "code",
   "execution_count": 105,
   "id": "7cff12f4",
   "metadata": {},
   "outputs": [
    {
     "data": {
      "text/plain": [
       "array([ 6, 15])"
      ]
     },
     "execution_count": 105,
     "metadata": {},
     "output_type": "execute_result"
    }
   ],
   "source": [
    "# axis=1 방향 합계 (행 방향 합)\n",
    "sum_axis1 = np.sum(arr_2d, axis=1)  # [6, 15]\n",
    "sum_axis1"
   ]
  },
  {
   "cell_type": "code",
   "execution_count": 113,
   "id": "387f5310",
   "metadata": {},
   "outputs": [
    {
     "name": "stdout",
     "output_type": "stream",
     "text": [
      "21\n",
      "[5 7 9]\n",
      "[ 6 15]\n"
     ]
    }
   ],
   "source": [
    "arr_2d = np.array([[1, 2, 3],\n",
    "                   [4, 5, 6]])\n",
    "np.sum(arr_2d)\n",
    "print(np.sum(arr_2d))\n",
    "np.sum(arr_2d)\n",
    "\n",
    "sum_axis1 = np.sum(arr_2d, axis=0) \n",
    "print(sum_axis1)\n",
    "\n",
    "sum_axis1 = np.sum(arr_2d, axis=1) \n",
    "print(sum_axis1)"
   ]
  },
  {
   "cell_type": "code",
   "execution_count": 114,
   "id": "f1262c95",
   "metadata": {},
   "outputs": [
    {
     "name": "stdout",
     "output_type": "stream",
     "text": [
      "1\n",
      "5\n"
     ]
    }
   ],
   "source": [
    "## 배열의 인덱싱\n",
    "arr = np.array([1, 2, 3, 4, 5])\n",
    "print(arr[0])    # 첫 번째 요소: 1\n",
    "print(arr[-1])   # 마지막 요소: 5\n"
   ]
  },
  {
   "cell_type": "code",
   "execution_count": 119,
   "id": "4c0881ba",
   "metadata": {},
   "outputs": [
    {
     "name": "stdout",
     "output_type": "stream",
     "text": [
      "2\n",
      "6\n",
      "3\n",
      "5\n"
     ]
    },
    {
     "data": {
      "text/plain": [
       "array([[ 1,  2,  3],\n",
       "       [ 4, 10,  6]])"
      ]
     },
     "execution_count": 119,
     "metadata": {},
     "output_type": "execute_result"
    }
   ],
   "source": [
    "arr_2d = np.array([[1, 2, 3],\n",
    "                   [4, 5, 6]])\n",
    "print(arr_2d[0, 1])    # 첫 번째 행, 두 번째 열: 2\n",
    "print(arr_2d[1, -1])   # 두 번째 행, 마지막 열: 6\n",
    "print(arr_2d[0, -1]) \n",
    "print(arr_2d[1, 1]) \n",
    "arr_2d[1, 1]=10\n",
    "arr_2d"
   ]
  },
  {
   "cell_type": "code",
   "execution_count": 122,
   "id": "7a298aa0",
   "metadata": {},
   "outputs": [
    {
     "name": "stdout",
     "output_type": "stream",
     "text": [
      "[2 3 4]\n",
      "[0 2 4]\n"
     ]
    }
   ],
   "source": [
    "arr = np.array([0, 1, 2, 3, 4, 5])\n",
    "print(arr[2:5])\n",
    "print(arr[::2])"
   ]
  },
  {
   "cell_type": "code",
   "execution_count": 125,
   "id": "2cacd2d1",
   "metadata": {},
   "outputs": [
    {
     "name": "stdout",
     "output_type": "stream",
     "text": [
      "[[2 3]\n",
      " [6 7]]\n"
     ]
    }
   ],
   "source": [
    "arr_2d = np.array([[1, 2, 3, 4],\n",
    "                   [5, 6, 7, 8],\n",
    "                   [9, 10, 11, 12]])\n",
    "\n",
    "\n",
    "print(arr_2d[:2, 1:3])"
   ]
  },
  {
   "cell_type": "code",
   "execution_count": 126,
   "id": "58d777be",
   "metadata": {},
   "outputs": [],
   "source": [
    "##슬라이싱 \n",
    "#[:] 전체\n",
    "#[0:n] 0~n-1까지\n",
    "#[0:5] 0~4까지\n",
    "\n",
    "#리스트의 차이점\n",
    "# 리스트 : 복사본을 리턴\n",
    "# 배열 : 원본 배열의 뷰 -> 복사 X\n",
    "# 슬라이싱 -> copy\n"
   ]
  },
  {
   "cell_type": "code",
   "execution_count": 127,
   "id": "999464db",
   "metadata": {},
   "outputs": [
    {
     "data": {
      "text/plain": [
       "array([0, 1, 2, 3, 4, 5, 6, 7, 8, 9])"
      ]
     },
     "execution_count": 127,
     "metadata": {},
     "output_type": "execute_result"
    }
   ],
   "source": [
    "x = np.arange(10)\n",
    "x"
   ]
  },
  {
   "cell_type": "code",
   "execution_count": 131,
   "id": "3ddf37dc",
   "metadata": {},
   "outputs": [
    {
     "data": {
      "text/plain": [
       "array([4, 5, 6])"
      ]
     },
     "execution_count": 131,
     "metadata": {},
     "output_type": "execute_result"
    }
   ],
   "source": [
    "x[4:7]\n",
    "new_x = x[4:7]\n",
    "new_x"
   ]
  },
  {
   "cell_type": "code",
   "execution_count": 140,
   "id": "747715b7",
   "metadata": {},
   "outputs": [
    {
     "data": {
      "text/plain": [
       "array([  0,   1,   2,   3, 200,   5,   6,   7,   8,   9])"
      ]
     },
     "execution_count": 140,
     "metadata": {},
     "output_type": "execute_result"
    }
   ],
   "source": [
    "new_x[0]=200\n",
    "new_x #view\n",
    "x #view의 값을 변경하면 원본의 값도 변경이 된다."
   ]
  },
  {
   "cell_type": "code",
   "execution_count": 143,
   "id": "40ad76be",
   "metadata": {},
   "outputs": [
    {
     "name": "stdout",
     "output_type": "stream",
     "text": [
      "[200   5   6]\n"
     ]
    },
    {
     "data": {
      "text/plain": [
       "array([  0,   1,   2,   3, 200,   5,   6,   7,   8,   9])"
      ]
     },
     "execution_count": 143,
     "metadata": {},
     "output_type": "execute_result"
    }
   ],
   "source": [
    "new_x1=x[4:7].copy()\n",
    "print(new_x1)\n",
    "x"
   ]
  },
  {
   "cell_type": "code",
   "execution_count": 144,
   "id": "0272e289",
   "metadata": {},
   "outputs": [
    {
     "name": "stdout",
     "output_type": "stream",
     "text": [
      "1\n",
      "5\n",
      "2\n",
      "6\n"
     ]
    }
   ],
   "source": [
    "# 1차원 배열 인덱싱\n",
    "arr = np.array([1, 2, 3, 4, 5])\n",
    "print(arr[0])    # 첫 번째 요소: 1\n",
    "print(arr[-1])   # 마지막 요소: 5\n",
    "\n",
    "# 2차원 배열 인덱싱\n",
    "arr_2d = np.array([[1, 2, 3],\n",
    "                   [4, 5, 6]])\n",
    "print(arr_2d[0, 1])    # 첫 번째 행, 두 번째 열: 2\n",
    "print(arr_2d[1, -1])   # 두 번째 행, 마지막 열: 6"
   ]
  },
  {
   "cell_type": "code",
   "execution_count": 149,
   "id": "bf95626a",
   "metadata": {},
   "outputs": [
    {
     "name": "stdout",
     "output_type": "stream",
     "text": [
      "[2 3 4]\n",
      "[0 2 4]\n",
      "[[2 3]\n",
      " [6 7]]\n"
     ]
    }
   ],
   "source": [
    "arr = np.array([0, 1, 2, 3, 4, 5])\n",
    "print(arr[2:5])    # [2 3 4]\n",
    "print(arr[::2])    # [0 2 4]\n",
    "\n",
    "# 2차원 배열 슬라이싱\n",
    "arr_2d = np.array([[1, 2, 3, 4],\n",
    "                   [5, 6, 7, 8],\n",
    "                   [9, 10, 11, 12]])\n",
    "print(arr_2d[:2, 1:3])    # 처음 두 행, 두 번째와 세 번째 열\n",
    "# [[2 3]\n",
    "#  [6 7]]"
   ]
  },
  {
   "cell_type": "code",
   "execution_count": 253,
   "id": "1e6a0300",
   "metadata": {},
   "outputs": [
    {
     "name": "stdout",
     "output_type": "stream",
     "text": [
      "원본 4x4 배열:\n",
      "[[ 0  1  2  3]\n",
      " [ 4  5  6  7]\n",
      " [ 8  9 10 11]\n",
      " [12 13 14 15]]\n",
      "------------------------------\n"
     ]
    }
   ],
   "source": [
    "import numpy as np\n",
    "\n",
    "# 기준이 될 4x4 배열 생성 (이미지와 동일하게 0부터 15까지의 숫자로 채움)\n",
    "arr_2d = np.arange(16).reshape((4, 4))\n",
    "\n",
    "print(\"원본 4x4 배열:\")\n",
    "print(arr_2d)\n",
    "print(\"-\" * 30)"
   ]
  },
  {
   "cell_type": "code",
   "execution_count": null,
   "id": "388074d4",
   "metadata": {},
   "outputs": [],
   "source": [
    "# 첫 번째 행 전체\n",
    "# #마지막 열 전체\n",
    "# 첫 번째 행과 마지막 행만 선택, 각 행의 첫번째, 마지막 열 선택\n",
    "# 짝수 인덱스 행(0번째, 2번째 행), 홀수 인덱스 열 선택택"
   ]
  },
  {
   "cell_type": "code",
   "execution_count": null,
   "id": "f5495e78",
   "metadata": {},
   "outputs": [
    {
     "name": "stdout",
     "output_type": "stream",
     "text": [
      "[[ 0]\n",
      " [ 4]\n",
      " [ 8]\n",
      " [12]]\n",
      "\n",
      "\n",
      "[[ 3]\n",
      " [ 7]\n",
      " [11]\n",
      " [15]]\n"
     ]
    }
   ],
   "source": [
    "#print(arr_2d[:1,:4])\n",
    "#print('\\n')\n",
    "#print(arr_2d[:4,3:4])\n",
    "#print('\\n')\n",
    "\n",
    "#print(arr_2d[:1,:4])\n",
    "#print(arr_2d[3:4,:4])\n",
    "#print('\\n')\n",
    "\n",
    "print(arr_2d[1:4,:1])\n",
    "print('\\n')\n",
    "print(arr_2d[:4,3:4])\n"
   ]
  },
  {
   "cell_type": "code",
   "execution_count": null,
   "id": "9eb191c7",
   "metadata": {},
   "outputs": [
    {
     "name": "stdout",
     "output_type": "stream",
     "text": [
      "\n",
      "\n",
      "[[16 18 20 22]]\n",
      "\n",
      "\n",
      "aaa\n",
      "\n",
      "[[ 0]\n",
      " [ 4]\n",
      " [ 8]\n",
      " [12]]\n",
      "[[ 2]\n",
      " [ 6]\n",
      " [10]\n",
      " [14]]\n",
      "aaa\n",
      "\n",
      "[[ 5  6]\n",
      " [ 9 10]]\n"
     ]
    }
   ],
   "source": [
    "print('\\n')\n",
    "\n",
    "print(arr_2d[1:2,:4]+arr_2d[3:4,:4])\n",
    "print('\\n')\n",
    "\n",
    "\n",
    "print('aaa\\n')\n",
    "print(arr_2d[:4,0:1])\n",
    "print(arr_2d[:4,2:3])\n",
    "print('aaa\\n')\n",
    "print(arr_2d[1:3,1:-1])\n",
    "\n"
   ]
  },
  {
   "cell_type": "code",
   "execution_count": 277,
   "id": "f8eaaffa",
   "metadata": {},
   "outputs": [
    {
     "name": "stdout",
     "output_type": "stream",
     "text": [
      "원본 4x4 배열:\n",
      "[[ 0  1  2  3]\n",
      " [ 4  5  6  7]\n",
      " [ 8  9 10 11]\n",
      " [12 13 14 15]]\n",
      "------------------------------\n",
      "[[4]\n",
      " [8]]\n",
      "[[ 7]\n",
      " [11]]\n",
      "------------------------------\n",
      "[[ 3  1]\n",
      " [11  9]]\n"
     ]
    }
   ],
   "source": [
    "\n",
    "import numpy as np\n",
    "\n",
    "# 기준이 될 4x4 배열 생성 (이미지와 동일하게 0부터 15까지의 숫자로 채움)\n",
    "arr_2d = np.arange(16).reshape((4, 4))\n",
    "\n",
    "print(\"원본 4x4 배열:\")\n",
    "print(arr_2d)\n",
    "print(\"-\" * 30)\n",
    "\n",
    "#0123\n",
    "\n",
    "print(arr_2d[1:3,0:1])\n",
    "\n",
    "print(arr_2d[1:3,-1:4])\n",
    "\n",
    "print(\"-\" * 30)\n",
    "\n",
    "print(arr_2d[0:3:2,3:0:-2])\n"
   ]
  },
  {
   "cell_type": "code",
   "execution_count": 255,
   "id": "a8e4bbe8",
   "metadata": {},
   "outputs": [
    {
     "data": {
      "text/plain": [
       "array([ 1,  3,  9, 11])"
      ]
     },
     "execution_count": 255,
     "metadata": {},
     "output_type": "execute_result"
    }
   ],
   "source": [
    "arr_2d[[0, 0, 2, 2], [1, 3, 1, 3]]\n"
   ]
  },
  {
   "cell_type": "code",
   "execution_count": 256,
   "id": "150b0832",
   "metadata": {},
   "outputs": [
    {
     "name": "stdout",
     "output_type": "stream",
     "text": [
      "원본 4x4 배열:\n",
      "[[[  0   1   2   3   4   5]\n",
      "  [  6   7   8   9  10  11]\n",
      "  [ 12  13  14  15  16  17]\n",
      "  [ 18  19  20  21  22  23]\n",
      "  [ 24  25  26  27  28  29]\n",
      "  [ 30  31  32  33  34  35]]\n",
      "\n",
      " [[ 36  37  38  39  40  41]\n",
      "  [ 42  43  44  45  46  47]\n",
      "  [ 48  49  50  51  52  53]\n",
      "  [ 54  55  56  57  58  59]\n",
      "  [ 60  61  62  63  64  65]\n",
      "  [ 66  67  68  69  70  71]]\n",
      "\n",
      " [[ 72  73  74  75  76  77]\n",
      "  [ 78  79  80  81  82  83]\n",
      "  [ 84  85  86  87  88  89]\n",
      "  [ 90  91  92  93  94  95]\n",
      "  [ 96  97  98  99 100 101]\n",
      "  [102 103 104 105 106 107]]\n",
      "\n",
      " [[108 109 110 111 112 113]\n",
      "  [114 115 116 117 118 119]\n",
      "  [120 121 122 123 124 125]\n",
      "  [126 127 128 129 130 131]\n",
      "  [132 133 134 135 136 137]\n",
      "  [138 139 140 141 142 143]]]\n",
      "------------------------------\n"
     ]
    }
   ],
   "source": [
    "arr_3d = np.arange(144).reshape((4, 6, 6))\n",
    "\n",
    "print(\"원본 4x4 배열:\")\n",
    "print(arr_3d)\n",
    "print(\"-\" * 30)"
   ]
  },
  {
   "cell_type": "code",
   "execution_count": 312,
   "id": "73efaf79",
   "metadata": {},
   "outputs": [
    {
     "name": "stdout",
     "output_type": "stream",
     "text": [
      "원본 4x4 배열:\n",
      "------------------------------\n",
      "[[[36 37 38 39 40 41]\n",
      "  [42 43 44 45 46 47]\n",
      "  [48 49 50 51 52 53]\n",
      "  [54 55 56 57 58 59]\n",
      "  [60 61 62 63 64 65]\n",
      "  [66 67 68 69 70 71]]]\n",
      "a\n",
      "\n",
      "[[37]\n",
      " [43]\n",
      " [49]\n",
      " [55]\n",
      " [61]\n",
      " [67]]\n"
     ]
    }
   ],
   "source": [
    "arr_3d = np.arange(144).reshape((4, 6, 6))\n",
    "\n",
    "print(\"원본 4x4 배열:\")\n",
    "#print(arr_3d)\n",
    "print(\"-\" * 30)\n",
    "print(arr_3d[1:2,:6,:6])\n",
    "arr_4d=arr_3d[1:2,:6,:6].reshape(6,6)\n",
    "\n",
    "print('a\\n')\n",
    "\n",
    "\n",
    "print(arr_4d[:6,1:2])\n"
   ]
  },
  {
   "cell_type": "code",
   "execution_count": null,
   "id": "f8a655c3",
   "metadata": {},
   "outputs": [],
   "source": [
    "\n"
   ]
  }
 ],
 "metadata": {
  "kernelspec": {
   "display_name": "hipython",
   "language": "python",
   "name": "python3"
  },
  "language_info": {
   "codemirror_mode": {
    "name": "ipython",
    "version": 3
   },
   "file_extension": ".py",
   "mimetype": "text/x-python",
   "name": "python",
   "nbconvert_exporter": "python",
   "pygments_lexer": "ipython3",
   "version": "3.12.9"
  }
 },
 "nbformat": 4,
 "nbformat_minor": 5
}
