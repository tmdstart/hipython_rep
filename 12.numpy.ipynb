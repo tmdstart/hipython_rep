{
 "cells": [
  {
   "cell_type": "code",
   "execution_count": null,
   "id": "1933fe49",
   "metadata": {},
   "outputs": [],
   "source": [
    "#가성환경에서 numby 설치 pip install numpy"
   ]
  },
  {
   "cell_type": "markdown",
   "id": "040b27ca",
   "metadata": {},
   "source": [
    "\n",
    "\n",
    "#넘파이의 사용\n",
    "1. 데이터 분석프로젝트 : 수치형 데이터의 요약, 통계 ,시각화\n",
    "2. 이미지 처리 프로젝트\n",
    "3. 게임, 시뮬레이션 프로그램\n",
    "4. 머신러닝/딥러닝 모델 프로젝트 : 금융데이터, 의료, 실험데이터"
   ]
  },
  {
   "cell_type": "code",
   "execution_count": 31,
   "id": "b2f1ff80",
   "metadata": {},
   "outputs": [],
   "source": [
    "import numpy as np\n",
    "\n",
    "data = [[120,135,150,145], [100,110,140,130],[90,100,95,105]]"
   ]
  },
  {
   "cell_type": "code",
   "execution_count": 16,
   "id": "777fa48e",
   "metadata": {},
   "outputs": [
    {
     "data": {
      "text/plain": [
       "array([550, 480, 390])"
      ]
     },
     "execution_count": 16,
     "metadata": {},
     "output_type": "execute_result"
    }
   ],
   "source": [
    "sales_data = np.array(data)\n",
    "np.sum(sales_data, axis=1)"
   ]
  },
  {
   "cell_type": "code",
   "execution_count": 19,
   "id": "06ab4ddb",
   "metadata": {},
   "outputs": [
    {
     "data": {
      "text/plain": [
       "array([7650, 8500, 9575, 9425])"
      ]
     },
     "execution_count": 19,
     "metadata": {},
     "output_type": "execute_result"
    }
   ],
   "source": [
    "profit_per_unit = np.array([20,30,25])\n",
    "total_sales=np.dot(profit_per_unit, sales_data)\n",
    "total_sales"
   ]
  },
  {
   "cell_type": "markdown",
   "id": "7f8484b5",
   "metadata": {},
   "source": [
    "#이미지처리"
   ]
  },
  {
   "cell_type": "code",
   "execution_count": 35,
   "id": "b820b526",
   "metadata": {},
   "outputs": [],
   "source": [
    "from PIL import Image\n",
    "img = Image.open('sample.jpg')\n",
    "img_ary = np.array(img)\n",
    "new_img = np.clip(img_ary+100,50,255).astype(np.uint8)\n",
    "Image.fromarray(new_img).save('new_sample.jpg')"
   ]
  },
  {
   "cell_type": "code",
   "execution_count": null,
   "id": "f618eaf1",
   "metadata": {},
   "outputs": [],
   "source": []
  }
 ],
 "metadata": {
  "kernelspec": {
   "display_name": "hipython",
   "language": "python",
   "name": "python3"
  },
  "language_info": {
   "codemirror_mode": {
    "name": "ipython",
    "version": 3
   },
   "file_extension": ".py",
   "mimetype": "text/x-python",
   "name": "python",
   "nbconvert_exporter": "python",
   "pygments_lexer": "ipython3",
   "version": "3.12.9"
  }
 },
 "nbformat": 4,
 "nbformat_minor": 5
}
