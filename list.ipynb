{
 "cells": [
  {
   "cell_type": "markdown",
   "id": "a8822c8b-fe83-4747-aa7f-08b1377337ae",
   "metadata": {},
   "source": [
    "| append(x)          | lst.append(4)          | 맨 뒤에 x 추가       |\n",
    "| insert(i, x)       | lst.insert(1, \"a\")     | i 위치에 x 삽입    |\n",
    "| extend(iter)       | lst.extend([4, 5])     | 리스트에 여러 값 추가      |\n",
    "| remove(x)          | lst.remove(\"a\")        | x와 일치하는 첫 항목 삭제 |\n",
    "| pop()              | lst.pop()              | 마지막 항목 제거하고 반환    |\n",
    "| pop(i)             | lst.pop(0)             | i번째 항목 제거하고 반환  |\n",
    "| clear()            | lst.clear()            | 리스트 전체 비우기        |\n",
    "| index(x)           | lst.index(\"a\")         | x의 위치(인덱스) 반환   |\n",
    "| count(x)           | lst.count(\"a\")         | x의 개수 세기        |\n",
    "| sort()             | lst.sort()             | 오름차순 정렬 (원본 변경)   |\n",
    "| sort(reverse=True) | lst.sort(reverse=True) | 내림차순 정렬           |\n",
    "| reverse()          | lst.reverse()          | 항목 순서 뒤집기         |\n",
    "| copy()             | lst2 = lst.copy()      | 리스트 복사            |"
   ]
  },
  {
   "cell_type": "code",
   "execution_count": 4,
   "id": "821027cf-37ba-492b-a78a-22ef7c67c21f",
   "metadata": {},
   "outputs": [
    {
     "name": "stdout",
     "output_type": "stream",
     "text": [
      "[1, 2, 3, 4]\n"
     ]
    }
   ],
   "source": [
    "lst = [1,2,3,4]\n",
    "print(lst)"
   ]
  },
  {
   "cell_type": "code",
   "execution_count": 6,
   "id": "4dbc7b93-1a14-4b45-bccc-f6e0d866be00",
   "metadata": {},
   "outputs": [
    {
     "data": {
      "text/plain": [
       "[1, 2, 3, 4, 5]"
      ]
     },
     "execution_count": 6,
     "metadata": {},
     "output_type": "execute_result"
    }
   ],
   "source": [
    "lst.append(5)\n",
    "lst"
   ]
  },
  {
   "cell_type": "code",
   "execution_count": 7,
   "id": "f9766acd-f14b-4be5-9264-f6f0ae116cef",
   "metadata": {},
   "outputs": [
    {
     "data": {
      "text/plain": [
       "[1, 'a', 2, 3, 4, 5]"
      ]
     },
     "execution_count": 7,
     "metadata": {},
     "output_type": "execute_result"
    }
   ],
   "source": [
    "lst.insert(1, \"a\")\n",
    "lst"
   ]
  },
  {
   "cell_type": "code",
   "execution_count": 10,
   "id": "3c85557d-8de4-4b42-8f59-499834915762",
   "metadata": {},
   "outputs": [
    {
     "data": {
      "text/plain": [
       "[1, 'a', 2, 3, 4, 5, 7, 8]"
      ]
     },
     "execution_count": 10,
     "metadata": {},
     "output_type": "execute_result"
    }
   ],
   "source": [
    "lst.extend([7,8])\n",
    "lst"
   ]
  },
  {
   "cell_type": "code",
   "execution_count": 21,
   "id": "859d6154-33ed-4197-9bfc-11ebedd40d9c",
   "metadata": {},
   "outputs": [
    {
     "data": {
      "text/plain": [
       "[2, 3, 4, 5, 7, 8]"
      ]
     },
     "execution_count": 21,
     "metadata": {},
     "output_type": "execute_result"
    }
   ],
   "source": [
    "lst.remove(1)\n",
    "lst"
   ]
  },
  {
   "cell_type": "code",
   "execution_count": 22,
   "id": "8239d6fa-bd38-4574-ae44-8e4f80ecee4a",
   "metadata": {},
   "outputs": [
    {
     "data": {
      "text/plain": [
       "8"
      ]
     },
     "execution_count": 22,
     "metadata": {},
     "output_type": "execute_result"
    }
   ],
   "source": [
    "lst.pop()"
   ]
  },
  {
   "cell_type": "code",
   "execution_count": 23,
   "id": "3d659fe2-59ac-48c4-bbc0-ad3a45079b9a",
   "metadata": {},
   "outputs": [
    {
     "data": {
      "text/plain": [
       "[2, 3, 4, 5, 7]"
      ]
     },
     "execution_count": 23,
     "metadata": {},
     "output_type": "execute_result"
    }
   ],
   "source": [
    "lst"
   ]
  },
  {
   "cell_type": "code",
   "execution_count": 24,
   "id": "596014a5-57b3-4252-a870-acbfd3b6c690",
   "metadata": {},
   "outputs": [
    {
     "data": {
      "text/plain": [
       "[3, 4, 5, 7]"
      ]
     },
     "execution_count": 24,
     "metadata": {},
     "output_type": "execute_result"
    }
   ],
   "source": [
    "lst.pop(0)\n",
    "lst"
   ]
  },
  {
   "cell_type": "code",
   "execution_count": 26,
   "id": "7f959b58-3113-4502-b406-fa7e2c99b548",
   "metadata": {},
   "outputs": [],
   "source": [
    "lst.clear()"
   ]
  },
  {
   "cell_type": "code",
   "execution_count": 27,
   "id": "8088ea8d-b283-4370-811a-74a1f547204c",
   "metadata": {},
   "outputs": [
    {
     "name": "stdout",
     "output_type": "stream",
     "text": [
      "[1, 2, 3, 4]\n"
     ]
    }
   ],
   "source": [
    "lst = [1,2,3,4]\n",
    "print(lst)"
   ]
  },
  {
   "cell_type": "code",
   "execution_count": 31,
   "id": "ae303261-7464-437d-832d-9d556c05b59d",
   "metadata": {},
   "outputs": [
    {
     "data": {
      "text/plain": [
       "1"
      ]
     },
     "execution_count": 31,
     "metadata": {},
     "output_type": "execute_result"
    }
   ],
   "source": [
    "lst.count(1)"
   ]
  },
  {
   "cell_type": "code",
   "execution_count": 29,
   "id": "6a412ae0-62ae-4ff1-adc7-dd79f21db025",
   "metadata": {},
   "outputs": [
    {
     "data": {
      "text/plain": [
       "0"
      ]
     },
     "execution_count": 29,
     "metadata": {},
     "output_type": "execute_result"
    }
   ],
   "source": [
    "lst.index(1)"
   ]
  },
  {
   "cell_type": "code",
   "execution_count": 33,
   "id": "9b8333f4-2d8d-46b2-b1e9-3a25ccacfaf1",
   "metadata": {},
   "outputs": [
    {
     "data": {
      "text/plain": [
       "[1, 2, 3, 4]"
      ]
     },
     "execution_count": 33,
     "metadata": {},
     "output_type": "execute_result"
    }
   ],
   "source": [
    "lst.sort()\n",
    "lst"
   ]
  },
  {
   "cell_type": "code",
   "execution_count": 35,
   "id": "b2fac789-de19-44f7-9a2b-6003c1995685",
   "metadata": {},
   "outputs": [
    {
     "data": {
      "text/plain": [
       "[4, 3, 2, 1]"
      ]
     },
     "execution_count": 35,
     "metadata": {},
     "output_type": "execute_result"
    }
   ],
   "source": [
    "lst.sort(reverse=True)\n",
    "lst"
   ]
  },
  {
   "cell_type": "code",
   "execution_count": 37,
   "id": "3d9732ce-f27a-46e6-853b-c900e19ee186",
   "metadata": {},
   "outputs": [
    {
     "data": {
      "text/plain": [
       "[4, 3, 2, 1]"
      ]
     },
     "execution_count": 37,
     "metadata": {},
     "output_type": "execute_result"
    }
   ],
   "source": [
    "lst.reverse() \n",
    "lst"
   ]
  },
  {
   "cell_type": "code",
   "execution_count": 39,
   "id": "e603434c-18eb-4051-8cfe-f198d0c1918c",
   "metadata": {},
   "outputs": [
    {
     "data": {
      "text/plain": [
       "[4, 3, 2, 1]"
      ]
     },
     "execution_count": 39,
     "metadata": {},
     "output_type": "execute_result"
    }
   ],
   "source": [
    "lst2 = lst.copy() \n",
    "lst2"
   ]
  },
  {
   "cell_type": "code",
   "execution_count": 45,
   "id": "c25dc414-3f22-482c-b88f-128900736612",
   "metadata": {
    "scrolled": true
   },
   "outputs": [
    {
     "name": "stdin",
     "output_type": "stream",
     "text": [
      "먹고싶은 간식을 추가하세요. 단, 쉼표(,)로 연결하세요 사이다\n",
      "간식박스를 몇 세트로 포장할까요? 예2->2box 2\n"
     ]
    },
    {
     "name": "stdout",
     "output_type": "stream",
     "text": [
      "주문하신 간식상자는 초보파이, 홈런볼, 사이다 등입니다 확인하세요\n"
     ]
    },
    {
     "name": "stdin",
     "output_type": "stream",
     "text": [
      "혹시 빼고싶은 간식이 있으면 번호를 입력하세요 (0~7) 4\n",
      "찾고싶은 간식 이름을 입력하세요 (0~) 사이다\n",
      "혹시 찾고싶은 간식을 입력하세요 사이다\n"
     ]
    },
    {
     "name": "stdout",
     "output_type": "stream",
     "text": [
      "있어요\n",
      "주문하신 간식박스는 첫번쨰부터 다음과 같다.\n",
      "['초보파이', '홈런볼', '하리보젤리', '사이다', '홈런볼', '하리보젤리', '사이다'], 총 7 입니다 \n"
     ]
    }
   ],
   "source": [
    "#간식박스 관리 프로그램\n",
    "snack_box = ['초보파이', '홈런볼', '하리보젤리']\n",
    "new_snack=input(\"먹고싶은 간식을 추가하세요. 단, 쉼표(,)로 연결하세요\").split(',')\n",
    "snack_box += new_snack\n",
    "\n",
    "snack_box\n",
    "\n",
    "qty=int(input(\"간식박스를 몇 세트로 포장할까요? 예2->2box\"))\n",
    "snack_box=snack_box*qty\n",
    "\n",
    "\n",
    "print(f'주문하신 간식상자는 {snack_box[0]}, {snack_box[1]}, {snack_box[3]} 등입니다 확인하세요')\n",
    "\n",
    "msg = f'혹시 빼고싶은 간식이 있으면 번호를 입력하세요 (0~{len(snack_box)-1})'\n",
    "snack_no=int(input(msg))\n",
    "\n",
    "del snack_box[snack_no]\n",
    " \n",
    "#간식박스프로그램 4\n",
    "#찾고 싶은 간식번호를 입력하세요\n",
    "msg = f'찾고싶은 간식 이름을 입력하세요 (0~)'\n",
    "name=input(msg)\n",
    "name in snack_box\n",
    "\n",
    "#간식박스 관리프로그램\n",
    "snack_name = input('혹시 찾고싶은 간식을 입력하세요')\n",
    "if snack_name in snack_box : \n",
    "    print(\"있어요\")\n",
    "else:\n",
    "    print('없어요')\n",
    "\n",
    "#간식박스 프로그램\n",
    "print(\"주문하신 간식박스는 첫번쨰부터 다음과 같다.\")\n",
    "print(f'{snack_box[::1]}, 총 {len(snack_box)} 입니다 ')"
   ]
  },
  {
   "cell_type": "code",
   "execution_count": 47,
   "id": "276a712c-76ac-45f2-b42e-7ce760209e6a",
   "metadata": {
    "scrolled": true
   },
   "outputs": [
    {
     "name": "stdout",
     "output_type": "stream",
     "text": [
      "축구\n"
     ]
    }
   ],
   "source": [
    "sports = {\"baseball\": \"야구\", \"soccer\": \"축구\"}\n",
    "print(sports[\"soccer\"])"
   ]
  },
  {
   "cell_type": "code",
   "execution_count": 49,
   "id": "011be20b-7ad6-4abd-ac92-aff1b8fba7f1",
   "metadata": {},
   "outputs": [
    {
     "data": {
      "text/plain": [
       "{'이름': 'Alice', '나이': 25, '도시': '서울'}"
      ]
     },
     "execution_count": 49,
     "metadata": {},
     "output_type": "execute_result"
    }
   ],
   "source": [
    "person = {\"이름\": \"Alice\", \"나이\": 25, \"도시\": \"서울\"}\n",
    "person"
   ]
  },
  {
   "cell_type": "code",
   "execution_count": 50,
   "id": "bb70f292-b08c-4d7f-ab74-e7e0ebc6b44d",
   "metadata": {},
   "outputs": [],
   "source": [
    "person[\"직업\"] = \"개발자\""
   ]
  },
  {
   "cell_type": "code",
   "execution_count": 51,
   "id": "7342ed03-3933-4a8c-9614-79040ba25925",
   "metadata": {},
   "outputs": [
    {
     "data": {
      "text/plain": [
       "{'이름': 'Alice', '나이': 25, '도시': '서울', '직업': '개발자'}"
      ]
     },
     "execution_count": 51,
     "metadata": {},
     "output_type": "execute_result"
    }
   ],
   "source": [
    "person"
   ]
  },
  {
   "cell_type": "code",
   "execution_count": 52,
   "id": "df1b0185-389c-4845-981b-cfc645225ff4",
   "metadata": {},
   "outputs": [],
   "source": [
    "person[\"나이\"] = 26"
   ]
  },
  {
   "cell_type": "code",
   "execution_count": 53,
   "id": "e6d850f1-85d4-4e39-9061-b555e414d516",
   "metadata": {
    "scrolled": true
   },
   "outputs": [
    {
     "data": {
      "text/plain": [
       "{'이름': 'Alice', '나이': 26, '도시': '서울', '직업': '개발자'}"
      ]
     },
     "execution_count": 53,
     "metadata": {},
     "output_type": "execute_result"
    }
   ],
   "source": [
    "person"
   ]
  },
  {
   "cell_type": "code",
   "execution_count": 54,
   "id": "e5e1ac83-2f8a-49fd-8e69-3dee1a752e4b",
   "metadata": {},
   "outputs": [],
   "source": [
    "del person[\"도시\"]"
   ]
  },
  {
   "cell_type": "code",
   "execution_count": 55,
   "id": "398345ec-2654-448c-b77c-8adb422f5d43",
   "metadata": {},
   "outputs": [
    {
     "data": {
      "text/plain": [
       "{'이름': 'Alice', '나이': 26, '직업': '개발자'}"
      ]
     },
     "execution_count": 55,
     "metadata": {},
     "output_type": "execute_result"
    }
   ],
   "source": [
    "person"
   ]
  },
  {
   "cell_type": "code",
   "execution_count": 58,
   "id": "563d829f-ac24-42fe-a411-7a0b7402532d",
   "metadata": {},
   "outputs": [
    {
     "data": {
      "text/plain": [
       "{'이름': 'Alice', '나이': 26, '직업': '개발자', '도시': '서울'}"
      ]
     },
     "execution_count": 58,
     "metadata": {},
     "output_type": "execute_result"
    }
   ],
   "source": [
    "person"
   ]
  },
  {
   "cell_type": "code",
   "execution_count": 59,
   "id": "df8a3ead-4a43-48e8-8416-5ed9ecc62bad",
   "metadata": {},
   "outputs": [
    {
     "name": "stdout",
     "output_type": "stream",
     "text": [
      "dict_keys(['이름', '나이', '직업', '도시'])\n"
     ]
    }
   ],
   "source": [
    "print(person.keys())     "
   ]
  },
  {
   "cell_type": "code",
   "execution_count": 61,
   "id": "506140d2-a8c3-48f1-914c-dea5845ed3b8",
   "metadata": {},
   "outputs": [
    {
     "name": "stdout",
     "output_type": "stream",
     "text": [
      "dict_values(['Alice', 26, '개발자', '서울'])\n"
     ]
    }
   ],
   "source": [
    "print(person.values())"
   ]
  },
  {
   "cell_type": "code",
   "execution_count": 63,
   "id": "f7eedac6-f318-4fcd-8cc9-d340d02db800",
   "metadata": {},
   "outputs": [
    {
     "name": "stdout",
     "output_type": "stream",
     "text": [
      "dict_items([('이름', 'Alice'), ('나이', 26), ('직업', '개발자'), ('도시', '서울')])\n"
     ]
    }
   ],
   "source": [
    "print(person.items())"
   ]
  },
  {
   "cell_type": "code",
   "execution_count": 64,
   "id": "5dbe29d9-28c0-43c2-9578-6722de60c006",
   "metadata": {},
   "outputs": [
    {
     "data": {
      "text/plain": [
       "{'이름': 'Alice', '나이': 26, '직업': '개발자', '도시': '서울'}"
      ]
     },
     "execution_count": 64,
     "metadata": {},
     "output_type": "execute_result"
    }
   ],
   "source": [
    "person"
   ]
  },
  {
   "cell_type": "code",
   "execution_count": 65,
   "id": "ef3c5f7f-95a7-4b14-b72d-9ae124161b8b",
   "metadata": {},
   "outputs": [
    {
     "name": "stdout",
     "output_type": "stream",
     "text": [
      "26\n"
     ]
    }
   ],
   "source": [
    "print(person.pop(\"나이\"))"
   ]
  },
  {
   "cell_type": "code",
   "execution_count": 66,
   "id": "6352dae4-1e31-4606-b6ba-583b97f580d6",
   "metadata": {},
   "outputs": [
    {
     "data": {
      "text/plain": [
       "{'이름': 'Alice', '직업': '개발자', '도시': '서울'}"
      ]
     },
     "execution_count": 66,
     "metadata": {},
     "output_type": "execute_result"
    }
   ],
   "source": [
    "person"
   ]
  },
  {
   "cell_type": "code",
   "execution_count": 67,
   "id": "40eb8c34-dfc8-44ab-aeb1-fc8c791738f6",
   "metadata": {},
   "outputs": [],
   "source": [
    "person[\"나이\"] = 26"
   ]
  },
  {
   "cell_type": "code",
   "execution_count": 68,
   "id": "8f73db36-f35e-46db-b6f0-ee79e9333a60",
   "metadata": {
    "jupyter": {
     "source_hidden": true
    },
    "scrolled": true
   },
   "outputs": [
    {
     "data": {
      "text/plain": [
       "{'이름': 'Alice', '직업': '개발자', '도시': '서울', '나이': 26}"
      ]
     },
     "execution_count": 68,
     "metadata": {},
     "output_type": "execute_result"
    }
   ],
   "source": [
    "person"
   ]
  },
  {
   "cell_type": "code",
   "execution_count": 70,
   "id": "1acb2281-e061-4e24-a78b-01147e22b523",
   "metadata": {},
   "outputs": [],
   "source": [
    "s = {1, 2, 2, 3, 3, 4}"
   ]
  },
  {
   "cell_type": "code",
   "execution_count": 71,
   "id": "7fba58aa-7d05-4a3c-adb2-c2722a1c33e6",
   "metadata": {
    "scrolled": true
   },
   "outputs": [
    {
     "name": "stdout",
     "output_type": "stream",
     "text": [
      "{1, 2, 3, 4}\n"
     ]
    }
   ],
   "source": [
    "print(s)"
   ]
  },
  {
   "cell_type": "code",
   "execution_count": null,
   "id": "3a58fb2c-4bc6-4116-8eb2-52ad763ab235",
   "metadata": {
    "jupyter": {
     "source_hidden": true
    }
   },
   "outputs": [],
   "source": []
  },
  {
   "cell_type": "code",
   "execution_count": null,
   "id": "8de64be1-5b56-4b6b-9132-fc7b13060f1b",
   "metadata": {
    "jupyter": {
     "source_hidden": true
    }
   },
   "outputs": [],
   "source": [
    "# 메뉴 정의\n",
    "menu = [\n",
    "    [1, \"요거트 아이스크림\", 3000],\n",
    "    [2, \"딸기 요거트\", 3500],\n",
    "    [3, \"초코 요거트\", 3700]\n",
    "]\n",
    "\n",
    "orders = {} # 주문 목록을 딕셔너리로 구성: {메뉴번호: [이름, 단가, 수량]}\n",
    "\n",
    "# 1. 주문요청 후 값을 받는 함수\n",
    "def request_menu_number():\n",
    "    print(\"\\n📋 메뉴\")\n",
    "    for item in menu:\n",
    "        print(f\"{item[0]}. {item[1]} : {item[2]}원\")\n",
    "    print(\"0. 주문 종료\")\n",
    "    return input(\"메뉴 번호를 입력하세요: \")\n",
    "\n",
    "# 2. 주문번호 유효성 판단 함수\n",
    "def is_valid_number(choice):\n",
    "    if not choice.isdigit():\n",
    "        print(\"❌ 숫자를 입력해주세요.\")\n",
    "        return False\n",
    "    number = int(choice)\n",
    "    valid_numbers = [item[0] for item in menu]\n",
    "    if number != 0 and number not in valid_numbers:\n",
    "        print(\"❌ 존재하지 않는 메뉴입니다.\")\n",
    "        return False\n",
    "    return True\n",
    "\n",
    "# 3. 주문번호가 올바를 때 메뉴 추가 함수 (수량 관리 포함)\n",
    "def add_order(num):\n",
    "    for item in menu:\n",
    "        if item[0] == num:\n",
    "            if num in orders:\n",
    "                orders[num][2] += 1 # 수량 증가\n",
    "            else:\n",
    "                orders[num] = [item[1], item[2], 1] # 이름, 가격, 수량 1\n",
    "            print(f\"✔ {item[1]} 1개가 주문에 추가되었습니다.\")\n",
    "            print_summary()\n",
    "            return\n",
    "\n",
    "# 4. 주문 내역 출력 함수 (수량 포함)\n",
    "def print_summary():\n",
    "    print(\"\\n🧾 주문 내역\")\n",
    "    total = 0\n",
    "    for num, (name, price, qty) in orders.items():\n",
    "        print(f\"- {name} x {qty} = {price * qty}원\")\n",
    "        total += price * qty\n",
    "    print(f\"총합: {total}원\")\n",
    "\n",
    "# 전체 실행 흐름\n",
    "def run_kiosk():\n",
    "    while True:\n",
    "        choice = request_menu_number()\n",
    "        if not is_valid_number(choice):\n",
    "            continue\n",
    "        num = int(choice)\n",
    "        if num == 0:\n",
    "            break\n",
    "        add_order(num)\n",
    "    print_summary()\n",
    "\n",
    "# 실행\n",
    "run_kiosk()"
   ]
  },
  {
   "cell_type": "markdown",
   "id": "2ade336a-fb26-4bed-9757-450f9b7c7061",
   "metadata": {},
   "source": [
    "#연산자 \n",
    "\n",
    "- 비식별연산자\n",
    "1.수치연산 : 사칙연산\n",
    "  # add() => 특별메소드를 정의하고 객체를 쓸 수 있다.\n",
    "  #숫자일 때는 기본연산\n",
    "  #형변환이 자동으로 일어난다 int+fosat -> float, int/int -> floaat\n",
    "\n",
    "2. 대입연산 : assign, 할당  '='\n",
    "   변수 = 값 \n",
    "   자기 자신에게 대입하는 연산 > +=, -=, *-. /=  () 자동적용\n",
    "   \n",
    "    \n",
    "3.비교연산\n",
    "4.논리연산\n",
    "\n",
    "\n",
    "- 식별 연산자\n",
    "  1. is, is not"
   ]
  },
  {
   "cell_type": "code",
   "execution_count": 2,
   "id": "26d5852e-3242-4d39-bc11-ff455cca6c4c",
   "metadata": {},
   "outputs": [
    {
     "name": "stdout",
     "output_type": "stream",
     "text": [
      "10\n"
     ]
    }
   ],
   "source": [
    "a=5\n",
    "a +=5\n",
    "print(a)"
   ]
  },
  {
   "cell_type": "code",
   "execution_count": 4,
   "id": "9429c527-cdcd-4982-9866-9e4773f50a08",
   "metadata": {},
   "outputs": [
    {
     "data": {
      "text/plain": [
       "20"
      ]
     },
     "execution_count": 4,
     "metadata": {},
     "output_type": "execute_result"
    }
   ],
   "source": [
    "a=5\n",
    "b=2\n",
    "a *=2+b\n",
    "a\n"
   ]
  },
  {
   "cell_type": "code",
   "execution_count": null,
   "id": "5a8afc9d-149c-41da-8d07-15c782e9eadc",
   "metadata": {},
   "outputs": [],
   "source": [
    "비교연산 '=' 와 '==' \n",
    "비교연산 '=' , '=='\n",
    "'!=\", '>=\", \"<=\"\n",
    "\n",
    "리스트 비교 '==' > 내용이 같은가? > 리스트의 주소가 같은가?\n",
    "7. 논리연산\n",
    "\n",
    "- 식별연산자\n",
    "1. is, is not\n",
    "\n",
    "7.논리연산 \n",
    " and, or, not\n",
    "&, &&, | , !\n",
    "id= 주소가져오기\n"
   ]
  },
  {
   "cell_type": "code",
   "execution_count": null,
   "id": "a5212be1-333a-43a2-9598-0c30cc3753b2",
   "metadata": {},
   "outputs": [],
   "source": [
    "students = [\n",
    "               {'num':'1','name':'김철수','kor':90,'eng':80,'math':85,'total':0,'avg':0.0,'order':0 },\n",
    "               {'num':'2','name':'박제동','kor':90,'eng':85,'math':90,'total':0,'avg':0.0,'order':0 },\n",
    "               {'num':'3','name':'홍길동','kor':80,'eng':80,'math':80,'total':0,'avg':0.0,'order':0 }\n",
    "           ]"
   ]
  },
  {
   "cell_type": "code",
   "execution_count": 8,
   "id": "b5a90040-71cb-460c-b941-4a11316da4ff",
   "metadata": {
    "collapsed": true,
    "jupyter": {
     "outputs_hidden": true
    },
    "scrolled": true
   },
   "outputs": [
    {
     "data": {
      "text/plain": [
       "[{'num': '1',\n",
       "  'name': '김철수',\n",
       "  'kor': 90,\n",
       "  'eng': 80,\n",
       "  'math': 85,\n",
       "  'total': 0,\n",
       "  'avg': 0.0,\n",
       "  'order': 0},\n",
       " {'num': '2',\n",
       "  'name': '박제동',\n",
       "  'kor': 90,\n",
       "  'eng': 85,\n",
       "  'math': 90,\n",
       "  'total': 0,\n",
       "  'avg': 0.0,\n",
       "  'order': 0},\n",
       " {'num': '3',\n",
       "  'name': '홍길동',\n",
       "  'kor': 80,\n",
       "  'eng': 80,\n",
       "  'math': 80,\n",
       "  'total': 0,\n",
       "  'avg': 0.0,\n",
       "  'order': 0}]"
      ]
     },
     "execution_count": 8,
     "metadata": {},
     "output_type": "execute_result"
    }
   ],
   "source": [
    "students"
   ]
  },
  {
   "cell_type": "code",
   "execution_count": 17,
   "id": "e9ff1be6-6f24-40e9-b9a5-afafb75206b5",
   "metadata": {},
   "outputs": [],
   "source": [
    "\n",
    "for item in students :\n",
    " students[0]['total'] = (students[0]['kor'] \n",
    "                        + students[0]['eng'] \n",
    "                        + students[0]['math']) \n"
   ]
  },
  {
   "cell_type": "code",
   "execution_count": 20,
   "id": "8de9b167-ad65-4428-9607-86e21cde6946",
   "metadata": {
    "scrolled": true
   },
   "outputs": [
    {
     "data": {
      "text/plain": [
       "255"
      ]
     },
     "execution_count": 20,
     "metadata": {},
     "output_type": "execute_result"
    }
   ],
   "source": [
    "students[0]['total']"
   ]
  },
  {
   "cell_type": "code",
   "execution_count": 27,
   "id": "b4df2358-0aba-4a02-8b99-d00b2c5e0859",
   "metadata": {
    "scrolled": true
   },
   "outputs": [
    {
     "name": "stdout",
     "output_type": "stream",
     "text": [
      "255\n",
      "265\n",
      "240\n"
     ]
    }
   ],
   "source": [
    "for i in range(3):  # 인덱스 0부터 2까지 반복\n",
    "    students[i]['total'] = (students[i]['kor'] \n",
    "                            + students[i]['eng'] \n",
    "                            + students[i]['math'])\n",
    "    print(students[i]['total'])"
   ]
  },
  {
   "cell_type": "code",
   "execution_count": 36,
   "id": "c751ded5-afe8-428f-9c14-13279a214eae",
   "metadata": {},
   "outputs": [
    {
     "name": "stdout",
     "output_type": "stream",
     "text": [
      "255 {'num': '1', 'name': '김철수', 'kor': 90, 'eng': 80, 'math': 85, 'total': 255, 'avg': 85.0, 'order': 0}\n",
      "265 {'num': '2', 'name': '박제동', 'kor': 90, 'eng': 85, 'math': 90, 'total': 265, 'avg': 88.33333333333333, 'order': 0}\n",
      "240 {'num': '3', 'name': '홍길동', 'kor': 80, 'eng': 80, 'math': 80, 'total': 240, 'avg': 80.0, 'order': 0}\n"
     ]
    }
   ],
   "source": [
    "\n",
    "\n",
    "for student in students :     #for문에서는 list의 요소를 하나씩 꺼낼 수 있다. 0>1>2 iterator\n",
    "     student['total'] = (student['kor'] \n",
    "                            + student['eng'] \n",
    "                            + student['math'])\n",
    "     student['avg'] = student['total']/3\n",
    "\n",
    "\n",
    "    \n",
    "    \n",
    "     print(student['total'], student)"
   ]
  },
  {
   "cell_type": "code",
   "execution_count": 41,
   "id": "43d3fec4-263b-4c4b-b06c-5302bb870979",
   "metadata": {},
   "outputs": [
    {
     "name": "stdout",
     "output_type": "stream",
     "text": [
      "번호: 1, 이름: 김철수, 순위: 2\n",
      "번호: 2, 이름: 박제동, 순위: 1\n",
      "번호: 3, 이름: 홍길동, 순위: 3\n"
     ]
    }
   ],
   "source": [
    "for i in range(len(students)):\n",
    "    rank = 1  # 기본 순위는 1등\n",
    "    for j in range(len(students)):\n",
    "        if students[j]['total'] > students[i]['total']:  # 총점이 높은 학생이 있으면 순위 증가\n",
    "            rank += 1\n",
    "    students[i]['order'] = rank  # 순위 저장\n",
    "\n",
    "# 결과 출력\n",
    "for student in students:\n",
    "    print(f\"번호: {student['num']}, 이름: {student['name']}, 순위: {student['order']}\")"
   ]
  },
  {
   "cell_type": "code",
   "execution_count": 102,
   "id": "359a36d2-2f95-4eac-8365-e5120b8fd04f",
   "metadata": {},
   "outputs": [],
   "source": [
    "for student in students : #student[0] 자료 꺼낸것이 student\n",
    "    rank = 1\n",
    "    for other in students : \n",
    "        if other['total'] > student['total'] :\n",
    "             rank+=1\n",
    "    student['order']  = rank         "
   ]
  },
  {
   "cell_type": "code",
   "execution_count": 101,
   "id": "2738c74e-4542-4825-b096-0e67f2320569",
   "metadata": {
    "scrolled": true
   },
   "outputs": [
    {
     "name": "stdout",
     "output_type": "stream",
     "text": [
      "번호: 1, 이름: 김철수, 순위: 2\n",
      "번호: 2, 이름: 박제동, 순위: 1\n",
      "번호: 3, 이름: 홍길동, 순위: 3\n"
     ]
    }
   ],
   "source": [
    "for student in students:\n",
    "    print(f\"번호: {student['num']}, 이름: {student['name']}, 순위: {student['order']}\")"
   ]
  },
  {
   "cell_type": "code",
   "execution_count": 73,
   "id": "40fcd600-d04e-4073-a324-c4e787439d4e",
   "metadata": {
    "scrolled": true
   },
   "outputs": [
    {
     "data": {
      "text/plain": [
       "False"
      ]
     },
     "execution_count": 73,
     "metadata": {},
     "output_type": "execute_result"
    }
   ],
   "source": [
    "lunch1 = ['주먹밥', '치킨', '칼국수' ]\n",
    "lunch2 = ['주먹밥', '치킨', '칼국수' ]\n",
    "lunch1 == lunch2\n",
    "id(lunch1) == id(lunch2)"
   ]
  },
  {
   "cell_type": "markdown",
   "id": "a80acba3-32e0-4ea7-9022-dc5a680d1313",
   "metadata": {},
   "source": [
    "lunch1 is lunch2 #주소를 비교\n",
    "리스트의 비교 '==' > 내용이 같은가\n",
    "리스트의 비교 'is' > 주소가 같은가"
   ]
  },
  {
   "cell_type": "code",
   "execution_count": null,
   "id": "530a79a2-df46-4bc2-ae49-f2fcb28c8d01",
   "metadata": {},
   "outputs": [],
   "source": [
    "type(),\n",
    "sorted(),\n",
    "dir(),\n",
    "id(),\n",
    "len(),\n",
    "sum(), max(), min()\n"
   ]
  },
  {
   "cell_type": "code",
   "execution_count": 103,
   "id": "cfe6f76e-a194-400c-aa2b-d5af5dbffe93",
   "metadata": {},
   "outputs": [
    {
     "data": {
      "text/plain": [
       "3000"
      ]
     },
     "execution_count": 103,
     "metadata": {},
     "output_type": "execute_result"
    }
   ],
   "source": [
    "lunch1 = ['주먹밥', '치킨', '칼국수' ]\n",
    "lunch2 = ['주먹밥', '치킨', '칼국수' ]\n",
    "lunch3 = [3000, 4000, 5000 ]\n",
    "\n",
    "type(lunch1)\n",
    "sorted(lunch1)\n",
    "dir(lunch1)\n",
    "id(lunch1)\n",
    "len(lunch1)\n",
    "sum(lunch3)  #, max(), min()\n",
    "max(lunch3)\n",
    "min(lunch3)"
   ]
  },
  {
   "cell_type": "code",
   "execution_count": null,
   "id": "7793c6e8-5af2-404b-980d-21f4181865f9",
   "metadata": {},
   "outputs": [],
   "source": [
    "for student in students : #student[0] 자료 꺼낸것이 student\n",
    "    rank = 1\n",
    "    for other in students : \n",
    "        if other['total'] > student['total'] :\n",
    "             rank+=1\n",
    "    student['order']  = rank     "
   ]
  },
  {
   "cell_type": "code",
   "execution_count": null,
   "id": "2840e772-e115-4209-9438-bdbb477c78c3",
   "metadata": {},
   "outputs": [],
   "source": [
    "[1,3,5,4,2] 리스트를 [1,2,3,4,5]로 만들어보자"
   ]
  },
  {
   "cell_type": "code",
   "execution_count": 104,
   "id": "38d64877-b94d-4cd9-97d2-fd124e777123",
   "metadata": {
    "scrolled": true
   },
   "outputs": [
    {
     "data": {
      "text/plain": [
       "[1, 2, 3, 4, 5]"
      ]
     },
     "execution_count": 104,
     "metadata": {},
     "output_type": "execute_result"
    }
   ],
   "source": [
    "lst = [1,3,5,4,2] \n",
    "lst=sorted(lst)\n",
    "lst"
   ]
  },
  {
   "cell_type": "code",
   "execution_count": null,
   "id": "a6d43168-8a7a-4294-ac80-ed9865514d60",
   "metadata": {},
   "outputs": [],
   "source": [
    "Q1. [1,3,5,4,2]라는 리스트를 [5,4,3,2,1]로 만들어보자\n",
    "\n",
    "Q2. ['Life','is','too','short']라는 리스트를 Life is too short라는 문자열로 만들어 출력해 보자\n",
    "\n",
    "Q3. 다음 리스트 L의 순서를 아래와 같이 변경하시오. (힌트: pop())\n",
    "\n",
    "변경 전\n",
    "\n",
    "[1, 3, 5, 7, 9]\n",
    "\n",
    "변경 후\n",
    "\n",
    "[3, 5, 7, 9, 1]"
   ]
  },
  {
   "cell_type": "code",
   "execution_count": 107,
   "id": "55b1309c-7aa8-4377-a48f-ea73fbdf8fd1",
   "metadata": {},
   "outputs": [
    {
     "data": {
      "text/plain": [
       "[1, 3, 5, 7, 9]"
      ]
     },
     "execution_count": 107,
     "metadata": {},
     "output_type": "execute_result"
    }
   ],
   "source": [
    "lst = [3, 5, 7, 9, 1]\n",
    "lst=sorted(lst)\n",
    "lst"
   ]
  },
  {
   "cell_type": "code",
   "execution_count": 109,
   "id": "5fd7f6ae-2557-4f01-b7af-22a039ed16af",
   "metadata": {},
   "outputs": [
    {
     "data": {
      "text/plain": [
       "'Life is too short'"
      ]
     },
     "execution_count": 109,
     "metadata": {},
     "output_type": "execute_result"
    }
   ],
   "source": [
    "words = ['Life','is','too','short']\n",
    "sentence = ' '.join(words)\n",
    "sentence"
   ]
  },
  {
   "cell_type": "code",
   "execution_count": 131,
   "id": "3ad71a61-8636-4ab4-924a-9b5a88038042",
   "metadata": {},
   "outputs": [
    {
     "data": {
      "text/plain": [
       "[3, 5, 7, 9, 1]"
      ]
     },
     "execution_count": 131,
     "metadata": {},
     "output_type": "execute_result"
    }
   ],
   "source": [
    "lst = [3, 5, 7, 9, 1]\n",
    "lst2 = [] \n",
    "\n",
    "#lst2=lst.pop()\n",
    "#lst2=lst.pop()\n",
    "#lst2=lst.pop()\n",
    "#lst2=lst.pop()\n",
    "#lst2=lst.pop()\n",
    "lst.pop()  \n",
    "lst.append(1)\n",
    "lst"
   ]
  },
  {
   "cell_type": "markdown",
   "id": "36782a6d-7397-4425-834a-297f161adbd6",
   "metadata": {},
   "source": [
    "#딕셔너리\n",
    "{키:값, 키:값}\n",
    "\n",
    "ㅡ"
   ]
  },
  {
   "cell_type": "code",
   "execution_count": 132,
   "id": "78543da8-1ffb-4bde-825e-7e57c9482362",
   "metadata": {},
   "outputs": [
    {
     "data": {
      "text/plain": [
       "{'이름': 'Alice', '나이': 25, '도시': '서울'}"
      ]
     },
     "execution_count": 132,
     "metadata": {},
     "output_type": "execute_result"
    }
   ],
   "source": [
    "person = {\"이름\": \"Alice\", \"나이\": 25, \"도시\": \"서울\"}\n",
    "person"
   ]
  },
  {
   "cell_type": "code",
   "execution_count": 134,
   "id": "56217822-582f-4c0f-b815-692b36f5e880",
   "metadata": {},
   "outputs": [],
   "source": [
    "list()\n",
    "person2=dict()"
   ]
  },
  {
   "cell_type": "code",
   "execution_count": 141,
   "id": "3ef8da6b-f605-4bc7-a3e2-ca991b80c78c",
   "metadata": {},
   "outputs": [],
   "source": [
    "person2 = dict(이름=\"beom\", 나이=30, 도시=\"안양\")"
   ]
  },
  {
   "cell_type": "code",
   "execution_count": 140,
   "id": "71ca67cb-92c8-4cf7-8169-8a2fdd7439c7",
   "metadata": {},
   "outputs": [
    {
     "data": {
      "text/plain": [
       "{'이름': 'beom', '나이': 30, '도시': '서울'}"
      ]
     },
     "execution_count": 140,
     "metadata": {},
     "output_type": "execute_result"
    }
   ],
   "source": [
    "person2"
   ]
  },
  {
   "cell_type": "code",
   "execution_count": 142,
   "id": "f1c9e27d-894c-4768-8bc9-47f0ae20ad62",
   "metadata": {},
   "outputs": [],
   "source": [
    "person[\"이름\"] = '홍길동'"
   ]
  },
  {
   "cell_type": "code",
   "execution_count": 143,
   "id": "b4163acc-660e-47ba-9bd5-3516dc8c02cd",
   "metadata": {},
   "outputs": [
    {
     "data": {
      "text/plain": [
       "{'이름': '홍길동', '나이': 25, '도시': '서울'}"
      ]
     },
     "execution_count": 143,
     "metadata": {},
     "output_type": "execute_result"
    }
   ],
   "source": [
    "person"
   ]
  },
  {
   "cell_type": "code",
   "execution_count": 144,
   "id": "1eedc102-f184-46ed-b9da-df03aa675f73",
   "metadata": {},
   "outputs": [],
   "source": [
    "person[0]='bob'"
   ]
  },
  {
   "cell_type": "code",
   "execution_count": 145,
   "id": "d7af332a-6645-4453-9e0b-972bab7458c1",
   "metadata": {},
   "outputs": [
    {
     "data": {
      "text/plain": [
       "{'이름': '홍길동', '나이': 25, '도시': '서울', 0: 'bob'}"
      ]
     },
     "execution_count": 145,
     "metadata": {},
     "output_type": "execute_result"
    }
   ],
   "source": [
    "person"
   ]
  },
  {
   "cell_type": "code",
   "execution_count": 146,
   "id": "cade2288-da4b-441c-b74c-94f2bba9cd03",
   "metadata": {},
   "outputs": [
    {
     "data": {
      "text/plain": [
       "dict"
      ]
     },
     "execution_count": 146,
     "metadata": {},
     "output_type": "execute_result"
    }
   ],
   "source": [
    "type(person)"
   ]
  },
  {
   "cell_type": "code",
   "execution_count": 147,
   "id": "366290f1-d847-4cc1-8f4b-d0ac3c234235",
   "metadata": {
    "collapsed": true,
    "jupyter": {
     "outputs_hidden": true
    },
    "scrolled": true
   },
   "outputs": [
    {
     "data": {
      "text/plain": [
       "['__class__',\n",
       " '__class_getitem__',\n",
       " '__contains__',\n",
       " '__delattr__',\n",
       " '__delitem__',\n",
       " '__dir__',\n",
       " '__doc__',\n",
       " '__eq__',\n",
       " '__format__',\n",
       " '__ge__',\n",
       " '__getattribute__',\n",
       " '__getitem__',\n",
       " '__getstate__',\n",
       " '__gt__',\n",
       " '__hash__',\n",
       " '__init__',\n",
       " '__init_subclass__',\n",
       " '__ior__',\n",
       " '__iter__',\n",
       " '__le__',\n",
       " '__len__',\n",
       " '__lt__',\n",
       " '__ne__',\n",
       " '__new__',\n",
       " '__or__',\n",
       " '__reduce__',\n",
       " '__reduce_ex__',\n",
       " '__repr__',\n",
       " '__reversed__',\n",
       " '__ror__',\n",
       " '__setattr__',\n",
       " '__setitem__',\n",
       " '__sizeof__',\n",
       " '__str__',\n",
       " '__subclasshook__',\n",
       " 'clear',\n",
       " 'copy',\n",
       " 'fromkeys',\n",
       " 'get',\n",
       " 'items',\n",
       " 'keys',\n",
       " 'pop',\n",
       " 'popitem',\n",
       " 'setdefault',\n",
       " 'update',\n",
       " 'values']"
      ]
     },
     "execution_count": 147,
     "metadata": {},
     "output_type": "execute_result"
    }
   ],
   "source": [
    "dir(person)"
   ]
  },
  {
   "cell_type": "code",
   "execution_count": 148,
   "id": "0141dc3d-2ac9-4cd9-b587-42c930195a7d",
   "metadata": {},
   "outputs": [
    {
     "data": {
      "text/plain": [
       "dict_items([('이름', '홍길동'), ('나이', 25), ('도시', '서울'), (0, 'bob')])"
      ]
     },
     "execution_count": 148,
     "metadata": {},
     "output_type": "execute_result"
    }
   ],
   "source": [
    "person.items()"
   ]
  },
  {
   "cell_type": "code",
   "execution_count": 153,
   "id": "c8a8d779-3229-4d22-bbc2-7e77cbb2ebee",
   "metadata": {},
   "outputs": [],
   "source": [
    "keys = person.keys()"
   ]
  },
  {
   "cell_type": "code",
   "execution_count": 154,
   "id": "52e27603-3e89-4b50-ba19-2bded71b0b27",
   "metadata": {},
   "outputs": [
    {
     "name": "stdout",
     "output_type": "stream",
     "text": [
      "이름\n",
      "나이\n",
      "도시\n",
      "0\n"
     ]
    }
   ],
   "source": [
    "for k in keys :\n",
    "    print(k)"
   ]
  },
  {
   "cell_type": "code",
   "execution_count": 189,
   "id": "2e1da11e-c2ab-4f83-a903-3d26db164cbb",
   "metadata": {},
   "outputs": [
    {
     "data": {
      "text/plain": [
       "dict_keys(['이름', '나이', '도시', 0, '성별', '취미'])"
      ]
     },
     "execution_count": 189,
     "metadata": {},
     "output_type": "execute_result"
    }
   ],
   "source": [
    "p_list = person.keys()\n",
    "p_list"
   ]
  },
  {
   "cell_type": "code",
   "execution_count": 161,
   "id": "c1c9f285-55d6-4bdd-9531-f8173f43d390",
   "metadata": {},
   "outputs": [
    {
     "data": {
      "text/plain": [
       "{'이름': 'beom', '나이': 30, '도시': '안양', 0: 'bob'}"
      ]
     },
     "execution_count": 161,
     "metadata": {},
     "output_type": "execute_result"
    }
   ],
   "source": [
    "#update()는 딕셔너리에 딕셔너리를 추가합니다.\n",
    "person.update(person2)\n",
    "person"
   ]
  },
  {
   "cell_type": "code",
   "execution_count": 166,
   "id": "7fde790d-fac0-44a1-8d23-e8e5dbd73783",
   "metadata": {},
   "outputs": [
    {
     "data": {
      "text/plain": [
       "{'이름': 'beom', '나이': 30, '도시': '안양', 0: 'bob', '성별': '여자', '취미': '판타지'}"
      ]
     },
     "execution_count": 166,
     "metadata": {},
     "output_type": "execute_result"
    }
   ],
   "source": [
    "pernson3 = {'성별' : '여자', '취미' : \"판타지\"}\n",
    "person.update(pernson3)\n",
    "person\n"
   ]
  },
  {
   "cell_type": "code",
   "execution_count": 190,
   "id": "313a5cbe-db54-4691-b523-f73360375e59",
   "metadata": {},
   "outputs": [
    {
     "name": "stdout",
     "output_type": "stream",
     "text": [
      "****************************************\n",
      "어서오세요 바리스타 엘리's 카페에 오신것을 환영합니다\n",
      "1. 에스프레소  3000\n",
      "2. 아이스아메리카노  4000\n",
      "3. 따듯한 라떼  5000\n",
      "****************************************\n"
     ]
    },
    {
     "name": "stdin",
     "output_type": "stream",
     "text": [
      "주문할 메뉴 번호를 입력하세요 : 1\n",
      "주문할 수량을 숫자로 입력하세요 :  2\n"
     ]
    },
    {
     "name": "stdout",
     "output_type": "stream",
     "text": [
      "주문하신 메뉴는 에스프레소 입니다, 결재하실 금액은 6000 입니다\n"
     ]
    },
    {
     "data": {
      "text/plain": [
       "[]"
      ]
     },
     "execution_count": 190,
     "metadata": {},
     "output_type": "execute_result"
    }
   ],
   "source": [
    "store_name = \"바리스타 엘리's 카페\"\n",
    "menu_list = ['에스프레소', '아이스아메리카노','따듯한 라떼']\n",
    "price_list = [3000,4000,5000]\n",
    "b_list = [] \n",
    "\n",
    "print(\"*\"*40)\n",
    "print(f'어서오세요 {store_name}에 오신것을 환영합니다')\n",
    "\n",
    "\n",
    "for i in range(len(menu_list)) :\n",
    "          print(f'{i+1}. {menu_list[i]}  {price_list[i]}')\n",
    "    \n",
    "          \n",
    "print(\"*\"*40)\n",
    "order_num = int(input('주문할 메뉴 번호를 입력하세요 :'))\n",
    "qty = int(input('주문할 수량을 숫자로 입력하세요 : '))\n",
    "\n",
    "print(f'주문하신 메뉴는 {menu_list[order_num-1]} 입니다, 결재하실 금액은 {qty*price_list[order_num-1]} 입니다')\n",
    "b_list"
   ]
  },
  {
   "cell_type": "code",
   "execution_count": 188,
   "id": "1752ccd2-fd89-43f6-842d-27f1175f8f4e",
   "metadata": {
    "scrolled": true
   },
   "outputs": [
    {
     "name": "stdout",
     "output_type": "stream",
     "text": [
      "\n",
      " 메뉴\n",
      "1. 요거트 아이스크림 : 3000원\n",
      "2. 딸기 요거트 : 3500원\n",
      "3. 초코 요거트 : 3700원\n",
      "0. 주문 종료\n"
     ]
    },
    {
     "name": "stdin",
     "output_type": "stream",
     "text": [
      "메뉴 번호를 입력하세요:  1\n"
     ]
    },
    {
     "name": "stdout",
     "output_type": "stream",
     "text": [
      " 요거트 아이스크림 1개가 주문에 추가되었습니다.\n",
      "\n",
      " 주문 내역\n",
      "- 요거트 아이스크림 x 1 = 3000원\n",
      "총합: 3000원\n",
      "\n",
      " 메뉴\n",
      "1. 요거트 아이스크림 : 3000원\n",
      "2. 딸기 요거트 : 3500원\n",
      "3. 초코 요거트 : 3700원\n",
      "0. 주문 종료\n"
     ]
    },
    {
     "name": "stdin",
     "output_type": "stream",
     "text": [
      "메뉴 번호를 입력하세요:  2\n"
     ]
    },
    {
     "name": "stdout",
     "output_type": "stream",
     "text": [
      " 딸기 요거트 1개가 주문에 추가되었습니다.\n",
      "\n",
      " 주문 내역\n",
      "- 요거트 아이스크림 x 1 = 3000원\n",
      "- 딸기 요거트 x 1 = 3500원\n",
      "총합: 6500원\n",
      "\n",
      " 메뉴\n",
      "1. 요거트 아이스크림 : 3000원\n",
      "2. 딸기 요거트 : 3500원\n",
      "3. 초코 요거트 : 3700원\n",
      "0. 주문 종료\n"
     ]
    },
    {
     "name": "stdin",
     "output_type": "stream",
     "text": [
      "메뉴 번호를 입력하세요:  3\n"
     ]
    },
    {
     "name": "stdout",
     "output_type": "stream",
     "text": [
      " 초코 요거트 1개가 주문에 추가되었습니다.\n",
      "\n",
      " 주문 내역\n",
      "- 요거트 아이스크림 x 1 = 3000원\n",
      "- 딸기 요거트 x 1 = 3500원\n",
      "- 초코 요거트 x 1 = 3700원\n",
      "총합: 10200원\n",
      "\n",
      " 메뉴\n",
      "1. 요거트 아이스크림 : 3000원\n",
      "2. 딸기 요거트 : 3500원\n",
      "3. 초코 요거트 : 3700원\n",
      "0. 주문 종료\n"
     ]
    },
    {
     "name": "stdin",
     "output_type": "stream",
     "text": [
      "메뉴 번호를 입력하세요:  1\n"
     ]
    },
    {
     "name": "stdout",
     "output_type": "stream",
     "text": [
      " 요거트 아이스크림 1개가 주문에 추가되었습니다.\n",
      "\n",
      " 주문 내역\n",
      "- 요거트 아이스크림 x 2 = 6000원\n",
      "- 딸기 요거트 x 1 = 3500원\n",
      "- 초코 요거트 x 1 = 3700원\n",
      "총합: 13200원\n",
      "\n",
      " 메뉴\n",
      "1. 요거트 아이스크림 : 3000원\n",
      "2. 딸기 요거트 : 3500원\n",
      "3. 초코 요거트 : 3700원\n",
      "0. 주문 종료\n"
     ]
    },
    {
     "name": "stdin",
     "output_type": "stream",
     "text": [
      "메뉴 번호를 입력하세요:  2\n"
     ]
    },
    {
     "name": "stdout",
     "output_type": "stream",
     "text": [
      " 딸기 요거트 1개가 주문에 추가되었습니다.\n",
      "\n",
      " 주문 내역\n",
      "- 요거트 아이스크림 x 2 = 6000원\n",
      "- 딸기 요거트 x 2 = 7000원\n",
      "- 초코 요거트 x 1 = 3700원\n",
      "총합: 16700원\n",
      "\n",
      " 메뉴\n",
      "1. 요거트 아이스크림 : 3000원\n",
      "2. 딸기 요거트 : 3500원\n",
      "3. 초코 요거트 : 3700원\n",
      "0. 주문 종료\n"
     ]
    },
    {
     "name": "stdin",
     "output_type": "stream",
     "text": [
      "메뉴 번호를 입력하세요:  3\n"
     ]
    },
    {
     "name": "stdout",
     "output_type": "stream",
     "text": [
      " 초코 요거트 1개가 주문에 추가되었습니다.\n",
      "\n",
      " 주문 내역\n",
      "- 요거트 아이스크림 x 2 = 6000원\n",
      "- 딸기 요거트 x 2 = 7000원\n",
      "- 초코 요거트 x 2 = 7400원\n",
      "총합: 20400원\n",
      "\n",
      " 메뉴\n",
      "1. 요거트 아이스크림 : 3000원\n",
      "2. 딸기 요거트 : 3500원\n",
      "3. 초코 요거트 : 3700원\n",
      "0. 주문 종료\n"
     ]
    },
    {
     "name": "stdin",
     "output_type": "stream",
     "text": [
      "메뉴 번호를 입력하세요:  0\n"
     ]
    },
    {
     "name": "stdout",
     "output_type": "stream",
     "text": [
      "\n",
      " 주문 내역\n",
      "- 요거트 아이스크림 x 2 = 6000원\n",
      "- 딸기 요거트 x 2 = 7000원\n",
      "- 초코 요거트 x 2 = 7400원\n",
      "총합: 20400원\n"
     ]
    }
   ],
   "source": [
    "\n",
    "# 메뉴 정의\n",
    "menu = [\n",
    "    [1, \"요거트 아이스크림\", 3000],\n",
    "    [2, \"딸기 요거트\", 3500],\n",
    "    [3, \"초코 요거트\", 3700]\n",
    "]\n",
    "\n",
    "orders = {} # 주문 목록을 딕셔너리로 구성: {메뉴번호: [이름, 단가, 수량]}\n",
    "\n",
    "# 1. 주문요청 후 값을 받는 함수\n",
    "def request_menu_number():\n",
    "    print(\"\\n 메뉴\")\n",
    "    for item in menu:\n",
    "        print(f\"{item[0]}. {item[1]} : {item[2]}원\")\n",
    "    print(\"0. 주문 종료\")\n",
    "    return input(\"메뉴 번호를 입력하세요: \")\n",
    "\n",
    "# 2. 주문번호 유효성 판단 함수\n",
    "def is_valid_number(choice):\n",
    "    if not choice.isdigit():\n",
    "        print(\" 숫자를 입력해주세요.\")\n",
    "        return False\n",
    "    number = int(choice)\n",
    "    valid_numbers = [item[0] for item in menu]\n",
    "    if number != 0 and number not in valid_numbers:\n",
    "        print(\" 존재하지 않는 메뉴입니다.\")\n",
    "        return False\n",
    "    return True\n",
    "\n",
    "# 3. 주문번호가 올바를 때 메뉴 추가 함수 (수량 관리 포함)\n",
    "def add_order(num):\n",
    "    for item in menu:\n",
    "        if item[0] == num:\n",
    "            if num in orders:\n",
    "                orders[num][2] += 1 # 수량 증가\n",
    "            else:\n",
    "                orders[num] = [item[1], item[2], 1] # 이름, 가격, 수량 1\n",
    "            print(f\" {item[1]} 1개가 주문에 추가되었습니다.\")\n",
    "            print_summary()\n",
    "            return\n",
    "\n",
    "# 4. 주문 내역 출력 함수 (수량 포함)\n",
    "def print_summary():\n",
    "    print(\"\\n 주문 내역\")\n",
    "    total = 0\n",
    "    for num, (name, price, qty) in orders.items():\n",
    "        print(f\"- {name} x {qty} = {price * qty}원\")\n",
    "        total += price * qty\n",
    "    print(f\"총합: {total}원\")\n",
    "\n",
    "# 전체 실행 흐름\n",
    "def run_kiosk():\n",
    "    while True:\n",
    "        choice = request_menu_number()\n",
    "        if not is_valid_number(choice):\n",
    "            continue\n",
    "        num = int(choice)\n",
    "        if num == 0:\n",
    "            break\n",
    "        add_order(num)\n",
    "    print_summary()\n",
    "\n",
    "# 실행\n",
    "run_kiosk()"
   ]
  },
  {
   "cell_type": "code",
   "execution_count": null,
   "id": "feb7a05b-6b5a-4158-b501-38556a8760e0",
   "metadata": {},
   "outputs": [],
   "source": []
  },
  {
   "cell_type": "code",
   "execution_count": 13,
   "id": "a31fad44-7a39-4728-8f1b-511ac14ea8e7",
   "metadata": {},
   "outputs": [
    {
     "name": "stdout",
     "output_type": "stream",
     "text": [
      "****************************************\n",
      "어서오세요 바리스타 엘리's 카페에 오신것을 환영합니다\n",
      "(1, {'name': '에스프레소', 'price': 3000})\n",
      "1 . 에스프레소 3000 \n",
      "(2, {'name': '아이스아메리카노', 'price': 4000})\n",
      "2 . 아이스아메리카노 4000 \n",
      "(3, {'name': '라떼', 'price': 5000})\n",
      "3 . 라떼 5000 \n",
      "(4, {'name': '말차프라푸치노', 'price': 7000})\n",
      "4 . 말차프라푸치노 7000 \n",
      "****************************************\n"
     ]
    },
    {
     "name": "stdin",
     "output_type": "stream",
     "text": [
      "주문할 메뉴 번호를 입력하세요 : 1\n",
      "주문할 수량을 숫자로 입력하세요 :  3\n"
     ]
    },
    {
     "name": "stdout",
     "output_type": "stream",
     "text": [
      "주문하신 메뉴는 아이스아메리카노 입니다, 결재하실 금액은 12000 입니다\n"
     ]
    }
   ],
   "source": [
    "# store_name = \"바리스타 엘리's 카페\"\n",
    "menu_list = [ \n",
    "    {'name':'에스프레소','price':3000},\n",
    "    {'name':'아이스아메리카노','price':4000},\n",
    "    {'name':'라떼','price':5000},\n",
    "    {'name':'말차프라푸치노','price':7000},\n",
    "]\n",
    "\n",
    "#['에스프레소', '아이스아메리카노','따듯한 라떼']\n",
    "#price_list = [3000,4000,5000]\n",
    "\n",
    "\n",
    "\n",
    "print(\"*\"*40)\n",
    "print(f'어서오세요 {store_name}에 오신것을 환영합니다')\n",
    "\n",
    "#메뉴목록 출력\n",
    "for i, menu in enumerate(menu_list) : \n",
    "      print((i+1,menu))\n",
    "      print(f'{i+1} . {menu['name']} {menu['price']} ');\n",
    "\n",
    "\n",
    "print(\"*\"*40)\n",
    "order_num = int(input('주문할 메뉴 번호를 입력하세요 :'))\n",
    "qty = int(input('주문할 수량을 숫자로 입력하세요 : '))\n",
    "\n",
    "amt = qty * menu_list[order_num]['price']\n",
    "name = menu_list[order_num]['name']\n",
    "\n",
    "print(f'주문하신 메뉴는 {name} 입니다, 결재하실 금액은 {amt} 입니다')"
   ]
  },
  {
   "cell_type": "code",
   "execution_count": 14,
   "id": "869a67a8-3995-4001-ab5d-1c6140525684",
   "metadata": {},
   "outputs": [
    {
     "name": "stdout",
     "output_type": "stream",
     "text": [
      "\n",
      " 메뉴\n",
      "1. 요거트 아이스크림 : 3000원\n",
      "2. 딸기 요거트 : 3500원\n",
      "3. 초코 요거트 : 3700원\n",
      "0. 주문 종료\n"
     ]
    },
    {
     "name": "stdin",
     "output_type": "stream",
     "text": [
      "메뉴 번호를 입력하세요:  1\n"
     ]
    },
    {
     "name": "stdout",
     "output_type": "stream",
     "text": [
      " 요거트 아이스크림 1개가 주문에 추가되었습니다.\n",
      "\n",
      " 주문 내역\n",
      "- 요거트 아이스크림 x 1 = 3000원\n",
      "총합: 3000원\n",
      "\n",
      " 메뉴\n",
      "1. 요거트 아이스크림 : 3000원\n",
      "2. 딸기 요거트 : 3500원\n",
      "3. 초코 요거트 : 3700원\n",
      "0. 주문 종료\n"
     ]
    },
    {
     "name": "stdin",
     "output_type": "stream",
     "text": [
      "메뉴 번호를 입력하세요:  1\n"
     ]
    },
    {
     "name": "stdout",
     "output_type": "stream",
     "text": [
      " 요거트 아이스크림 1개가 주문에 추가되었습니다.\n",
      "\n",
      " 주문 내역\n",
      "- 요거트 아이스크림 x 2 = 6000원\n",
      "총합: 6000원\n",
      "\n",
      " 메뉴\n",
      "1. 요거트 아이스크림 : 3000원\n",
      "2. 딸기 요거트 : 3500원\n",
      "3. 초코 요거트 : 3700원\n",
      "0. 주문 종료\n"
     ]
    },
    {
     "name": "stdin",
     "output_type": "stream",
     "text": [
      "메뉴 번호를 입력하세요:  2\n"
     ]
    },
    {
     "name": "stdout",
     "output_type": "stream",
     "text": [
      " 딸기 요거트 1개가 주문에 추가되었습니다.\n",
      "\n",
      " 주문 내역\n",
      "- 요거트 아이스크림 x 2 = 6000원\n",
      "- 딸기 요거트 x 1 = 3500원\n",
      "총합: 9500원\n",
      "\n",
      " 메뉴\n",
      "1. 요거트 아이스크림 : 3000원\n",
      "2. 딸기 요거트 : 3500원\n",
      "3. 초코 요거트 : 3700원\n",
      "0. 주문 종료\n"
     ]
    },
    {
     "name": "stdin",
     "output_type": "stream",
     "text": [
      "메뉴 번호를 입력하세요:  2\n"
     ]
    },
    {
     "name": "stdout",
     "output_type": "stream",
     "text": [
      " 딸기 요거트 1개가 주문에 추가되었습니다.\n",
      "\n",
      " 주문 내역\n",
      "- 요거트 아이스크림 x 2 = 6000원\n",
      "- 딸기 요거트 x 2 = 7000원\n",
      "총합: 13000원\n",
      "\n",
      " 메뉴\n",
      "1. 요거트 아이스크림 : 3000원\n",
      "2. 딸기 요거트 : 3500원\n",
      "3. 초코 요거트 : 3700원\n",
      "0. 주문 종료\n"
     ]
    },
    {
     "name": "stdin",
     "output_type": "stream",
     "text": [
      "메뉴 번호를 입력하세요:  0\n"
     ]
    },
    {
     "name": "stdout",
     "output_type": "stream",
     "text": [
      "\n",
      " 주문 내역\n",
      "- 요거트 아이스크림 x 2 = 6000원\n",
      "- 딸기 요거트 x 2 = 7000원\n",
      "총합: 13000원\n"
     ]
    }
   ],
   "source": [
    "\n",
    "# 메뉴 정의\n",
    "menu = [\n",
    "    [1, \"요거트 아이스크림\", 3000],\n",
    "    [2, \"바나나\", 3500],\n",
    "    [3, \"딸기\", 3700],\n",
    "    [4, \"벌집꿀\", 3700],\n",
    "    [5, \"그레놀라\", 3700],\n",
    "    [6, \"초코쉘\", 3700],\n",
    "    [7, \"초코쉘\", 3700]\n",
    "]\n",
    "\n",
    "orders = {} # 주문 목록을 딕셔너리로 구성: {메뉴번호: [이름, 단가, 수량]}\n",
    "\n",
    "# 1. 주문요청 후 값을 받는 함수\n",
    "def request_menu_number():\n",
    "    print(\"\\n 메뉴\")\n",
    "    for item in menu:\n",
    "        print(f\"{item[0]}. {item[1]} : {item[2]}원\")\n",
    "    print(\"0. 주문 종료\")\n",
    "    return input(\"메뉴 번호를 입력하세요: \")\n",
    "\n",
    "# 2. 주문번호 유효성 판단 함수\n",
    "def is_valid_number(choice):\n",
    "    if not choice.isdigit():\n",
    "        print(\" 숫자를 입력해주세요.\")\n",
    "        return False\n",
    "    number = int(choice)\n",
    "    valid_numbers = [item[0] for item in menu]\n",
    "    if number != 0 and number not in valid_numbers:\n",
    "        print(\" 존재하지 않는 메뉴입니다.\")\n",
    "        return False\n",
    "    return True\n",
    "\n",
    "# 3. 주문번호가 올바를 때 메뉴 추가 함수 (수량 관리 포함)\n",
    "def add_order(num):\n",
    "    for item in menu:\n",
    "        if item[0] == num:\n",
    "            if num in orders:\n",
    "                orders[num][2] += 1 # 수량 증가\n",
    "            else:\n",
    "                orders[num] = [item[1], item[2], 1] # 이름, 가격, 수량 1\n",
    "            print(f\" {item[1]} 1개가 주문에 추가되었습니다.\")\n",
    "            print_summary()\n",
    "            return\n",
    "\n",
    "# 4. 주문 내역 출력 함수 (수량 포함)\n",
    "def print_summary():\n",
    "    print(\"\\n 주문 내역\")\n",
    "    total = 0\n",
    "    for num, (name, price, qty) in orders.items():\n",
    "        print(f\"- {name} x {qty} = {price * qty}원\")\n",
    "        total += price * qty\n",
    "    print(f\"총합: {total}원\")\n",
    "\n",
    "# 전체 실행 흐름\n",
    "def run_kiosk():\n",
    "    while True:\n",
    "        choice = request_menu_number()\n",
    "        if not is_valid_number(choice):\n",
    "            continue\n",
    "        num = int(choice)\n",
    "        if num == 0:\n",
    "            break\n",
    "        add_order(num)\n",
    "    print_summary()\n",
    "\n",
    "# 실행\n",
    "run_kiosk()"
   ]
  },
  {
   "cell_type": "code",
   "execution_count": null,
   "id": "8023706a-1701-42ea-90fe-e4ed6f0507b0",
   "metadata": {},
   "outputs": [],
   "source": [
    "# 메뉴 정의 (딕셔너리 구조)\n",
    "menu = {\n",
    "    1: [\"요거트 아이스크림\", 3000],\n",
    "    2: [\"딸기 요거트\", 3500],\n",
    "    3: [\"초코 요거트\", 3700]\n",
    "}\n",
    "\n",
    "orders = {} # {메뉴번호: [이름, 가격, 수량]}\n",
    "\n",
    "# 1. 주문요청 후 값을 받는 함수\n",
    "def request_menu_number():\n",
    "    print(\"\\n 메뉴\")\n",
    "    for key in menu:\n",
    "        print(f\"{key}. {menu[key][0]} : {menu[key][1]}원\")\n",
    "    print(\"0. 주문 종료\")\n",
    "    return input(\"메뉴 번호를 입력하세요: \")\n",
    "\n",
    "# 2. 주문번호 유효성 판단 함수\n",
    "def is_valid_number(choice):\n",
    "    if not choice.isdigit():\n",
    "        print(\" 숫자를 입력해주세요.\")\n",
    "        return False\n",
    "    number = int(choice)\n",
    "    if number != 0 and number not in menu:\n",
    "        print(\" 존재하지 않는 메뉴입니다.\")\n",
    "        return False\n",
    "    return True\n",
    "\n",
    "# 3. 주문번호가 올바를 때 메뉴 추가 함수\n",
    "def add_order(num):\n",
    "    name, price = menu[num]\n",
    "    if num in orders:\n",
    "        orders[num][2] += 1 # 수량 증가\n",
    "    else:\n",
    "        orders[num] = [name, price, 1] # 이름, 가격, 수량\n",
    "    print(f\"✔ {name} 1개가 주문에 추가되었습니다.\")\n",
    "    print_summary()\n",
    "\n",
    "# 4. 주문 내역 출력 함수\n",
    "def print_summary():\n",
    "    print(\"\\n 주문 내역\")\n",
    "    total = 0\n",
    "    for key in orders:\n",
    "        name, price, qty = orders[key]\n",
    "        print(f\"- {name} x {qty} = {price * qty}원\")\n",
    "        total += price * qty\n",
    "    print(f\"총합: {total}원\")\n",
    "\n",
    "# 전체 실행 흐름 함수\n",
    "def run_kiosk():\n",
    "    while True:\n",
    "        choice = request_menu_number()\n",
    "        if not is_valid_number(choice):\n",
    "            continue\n",
    "        num = int(choice)\n",
    "        if num == 0:\n",
    "            break\n",
    "        add_order(num)\n",
    "    print_summary()\n",
    "\n",
    "# 실행\n",
    "run_kiosk()"
   ]
  },
  {
   "cell_type": "code",
   "execution_count": 20,
   "id": "2f4e6e36-85d0-4fea-9041-2236170ef713",
   "metadata": {},
   "outputs": [
    {
     "name": "stdout",
     "output_type": "stream",
     "text": [
      "\n",
      " 메뉴\n",
      "1. 요거트 아이스크림 : 3000원\n",
      "2. 딸기 : 3500원\n",
      "3. 초코 : 3700원\n",
      "0. 주문 종료\n"
     ]
    },
    {
     "name": "stdin",
     "output_type": "stream",
     "text": [
      "메뉴 번호를 입력하세요:  1\n"
     ]
    },
    {
     "data": {
      "text/plain": [
       "'1'"
      ]
     },
     "execution_count": 20,
     "metadata": {},
     "output_type": "execute_result"
    }
   ],
   "source": [
    "# 메뉴 정의 (딕셔너리 구조)\n",
    "menu = {\n",
    "    1: [\"요거트 아이스크림\", 3000],\n",
    "    2: [\"딸기\", 3500],\n",
    "    3: [\"초코\", 3700]\n",
    "}\n",
    "\n",
    "orders = {} # {메뉴번호: [이름, 가격, 수량]}\n",
    "\n",
    "# 1. 주문요청 후 값을 받는 함수\n",
    "def request_menu_number():\n",
    "    print(\"\\n 메뉴\")\n",
    "    for key in menu:\n",
    "        print(f\"{key}. {menu[key][0]} : {menu[key][1]}원\")\n",
    "    print(\"0. 주문 종료\")\n",
    "    return input(\"메뉴 번호를 입력하세요: \")\n",
    "\n",
    "request_menu_number()"
   ]
  },
  {
   "cell_type": "code",
   "execution_count": 5,
   "id": "9fcfd851-b251-479c-ab2d-f4dfc8320cbe",
   "metadata": {},
   "outputs": [],
   "source": [
    "t1 = (5)\n",
    "t2 = (5,)"
   ]
  },
  {
   "cell_type": "markdown",
   "id": "fda615d5-3c63-4abe-8579-ec58c36415c9",
   "metadata": {},
   "source": [
    "#튜블\n",
    "리스트랑 비슷, 변경이 안된다."
   ]
  },
  {
   "cell_type": "code",
   "execution_count": 7,
   "id": "797fd3e4-6974-49d7-aac6-d1988ceebe79",
   "metadata": {},
   "outputs": [
    {
     "data": {
      "text/plain": [
       "((), tuple)"
      ]
     },
     "execution_count": 7,
     "metadata": {},
     "output_type": "execute_result"
    }
   ],
   "source": [
    "a = tuple() # 생성자\n",
    "a, type(a)"
   ]
  },
  {
   "cell_type": "code",
   "execution_count": 10,
   "id": "114f6667-3138-43ae-9e7a-227606bd44d2",
   "metadata": {},
   "outputs": [
    {
     "data": {
      "text/plain": [
       "(1, int)"
      ]
     },
     "execution_count": 10,
     "metadata": {},
     "output_type": "execute_result"
    }
   ],
   "source": [
    "b = (1)\n",
    "b, type(b)"
   ]
  },
  {
   "cell_type": "code",
   "execution_count": 11,
   "id": "6a4ceb71-a5a8-4425-b5db-ea34094bb46f",
   "metadata": {},
   "outputs": [
    {
     "data": {
      "text/plain": [
       "((1,), tuple)"
      ]
     },
     "execution_count": 11,
     "metadata": {},
     "output_type": "execute_result"
    }
   ],
   "source": [
    "bb = (1,)\n",
    "bb, type(bb)"
   ]
  },
  {
   "cell_type": "code",
   "execution_count": 12,
   "id": "ba4615a4-1710-422d-b669-44a43d98bcbf",
   "metadata": {},
   "outputs": [],
   "source": [
    "c = (1,2,(3,4),'5',[1,2,3])           #immutabe(변경물가"
   ]
  },
  {
   "cell_type": "code",
   "execution_count": 13,
   "id": "63d6cbed-83ee-494c-ac5d-bf3d38596797",
   "metadata": {},
   "outputs": [
    {
     "data": {
      "text/plain": [
       "1"
      ]
     },
     "execution_count": 13,
     "metadata": {},
     "output_type": "execute_result"
    }
   ],
   "source": [
    "c[0]"
   ]
  },
  {
   "cell_type": "code",
   "execution_count": 15,
   "id": "ae52ed77-7be1-4c48-aacc-1bf7f9f4d33f",
   "metadata": {},
   "outputs": [
    {
     "data": {
      "text/plain": [
       "2"
      ]
     },
     "execution_count": 15,
     "metadata": {},
     "output_type": "execute_result"
    }
   ],
   "source": [
    "c[1]"
   ]
  },
  {
   "cell_type": "code",
   "execution_count": 16,
   "id": "d4391e80-e794-49b9-8c70-d0c880648632",
   "metadata": {},
   "outputs": [
    {
     "data": {
      "text/plain": [
       "(('사과', '복숭아', '딸기'), tuple)"
      ]
     },
     "execution_count": 16,
     "metadata": {},
     "output_type": "execute_result"
    }
   ],
   "source": [
    "fruits = '사과', '복숭아', '딸기'\n",
    "fruits, type(fruits)"
   ]
  },
  {
   "cell_type": "code",
   "execution_count": 25,
   "id": "1644ccb1-80d8-4c4d-900a-b548ca9c793c",
   "metadata": {
    "scrolled": true
   },
   "outputs": [
    {
     "data": {
      "text/plain": [
       "(1, 2, 3)"
      ]
     },
     "execution_count": 25,
     "metadata": {},
     "output_type": "execute_result"
    }
   ],
   "source": [
    "#패킹, 언패킹\n",
    "nums = [1,2,3]\n",
    "a,b,c = nums  #list unpacking\n",
    "a,b,c"
   ]
  },
  {
   "cell_type": "code",
   "execution_count": null,
   "id": "a9c5854d-7c59-4a79-99ce-daa54ce560e7",
   "metadata": {},
   "outputs": [],
   "source": []
  },
  {
   "cell_type": "code",
   "execution_count": 28,
   "id": "3e811d87-32b1-4464-ae9c-3478a1d86118",
   "metadata": {},
   "outputs": [
    {
     "data": {
      "text/plain": [
       "'h'"
      ]
     },
     "execution_count": 28,
     "metadata": {},
     "output_type": "execute_result"
    }
   ],
   "source": [
    "#s = 'hello'\n",
    "s = 'hi'\n",
    "a,b =s \n",
    "a"
   ]
  },
  {
   "cell_type": "code",
   "execution_count": 32,
   "id": "dc7f20ef-f062-448f-91d0-783e872772b2",
   "metadata": {},
   "outputs": [
    {
     "data": {
      "text/plain": [
       "('h', ['e', 'l', 'l', 'o'])"
      ]
     },
     "execution_count": 32,
     "metadata": {},
     "output_type": "execute_result"
    }
   ],
   "source": [
    "s = 'hello' #packing  \n",
    "#s = 'hi'  #unpacking\n",
    "a,*b =s     rest로 받는다는 개념\n",
    "a, b"
   ]
  },
  {
   "cell_type": "code",
   "execution_count": 33,
   "id": "4df18e51-614b-4e07-8016-65c29be68a44",
   "metadata": {},
   "outputs": [
    {
     "data": {
      "text/plain": [
       "('홍길동', 20, '1학년')"
      ]
     },
     "execution_count": 33,
     "metadata": {},
     "output_type": "execute_result"
    }
   ],
   "source": [
    "student = ('홍길동', 20, '1학년') # 패킹\n",
    "student"
   ]
  },
  {
   "cell_type": "code",
   "execution_count": 35,
   "id": "a1ebb9db-a726-424d-be65-605690c88490",
   "metadata": {
    "scrolled": true
   },
   "outputs": [
    {
     "data": {
      "text/plain": [
       "' 이름은 홍길동이고요 , 나이는 20이고요, 1학년 학년입니다.'"
      ]
     },
     "execution_count": 35,
     "metadata": {},
     "output_type": "execute_result"
    }
   ],
   "source": [
    "name, age, grade = student\n",
    "f'이름은 {name}이고요 , 나이는 {age}이고요, {grade} 학년입니다.'"
   ]
  },
  {
   "cell_type": "code",
   "execution_count": null,
   "id": "b707e4bd-8109-42d7-9312-3148fdfbb757",
   "metadata": {},
   "outputs": [],
   "source": [
    "x=1\n",
    "y=2\n",
    "#x=2, y=1\n",
    "\n"
   ]
  },
  {
   "cell_type": "code",
   "execution_count": 38,
   "id": "097b85f8-5cb3-48e0-952e-ca802039096c",
   "metadata": {
    "scrolled": true
   },
   "outputs": [
    {
     "data": {
      "text/plain": [
       "1"
      ]
     },
     "execution_count": 38,
     "metadata": {},
     "output_type": "execute_result"
    }
   ],
   "source": [
    "x = 1\n",
    "y = 2\n",
    "\n",
    "# 값 교환\n",
    "x, y = y, x #tuple의 튜플의 패킹과 언패킹이 존재해서이다.\n",
    "\n",
    "#print(f\"x={x}, y={y}\")  # x=2, y=1 출력\n",
    "x\n",
    "y"
   ]
  },
  {
   "cell_type": "code",
   "execution_count": 40,
   "id": "b297fe54-55b5-4b04-b9ca-4754688774ad",
   "metadata": {},
   "outputs": [],
   "source": [
    "tmp = (y,x)\n",
    "x,y = tmp"
   ]
  },
  {
   "cell_type": "code",
   "execution_count": 50,
   "id": "6f0b0dc7-22e3-4338-96ed-e48e94cd0276",
   "metadata": {},
   "outputs": [
    {
     "data": {
      "text/plain": [
       "5"
      ]
     },
     "execution_count": 50,
     "metadata": {},
     "output_type": "execute_result"
    }
   ],
   "source": [
    "def func_a(a):\n",
    "    return a\n",
    "\n",
    "result = func_a(5)\n",
    "result"
   ]
  },
  {
   "cell_type": "code",
   "execution_count": 55,
   "id": "94094a33-6246-4709-8471-46d477203d43",
   "metadata": {},
   "outputs": [
    {
     "name": "stdout",
     "output_type": "stream",
     "text": [
      "5 4 3\n"
     ]
    },
    {
     "data": {
      "text/plain": [
       "3"
      ]
     },
     "execution_count": 55,
     "metadata": {},
     "output_type": "execute_result"
    }
   ],
   "source": [
    "def func_a(a, b, c):\n",
    "    print(a,b,c)\n",
    "    return c,b,a\n",
    "\n",
    "#함수의 호출\n",
    "result = func_a(5,4,3)\n",
    "result\n",
    "result[0]"
   ]
  },
  {
   "cell_type": "code",
   "execution_count": 52,
   "id": "7042e2b8-9bc7-4b8f-880d-52dba4c53a4b",
   "metadata": {
    "scrolled": true
   },
   "outputs": [
    {
     "name": "stdout",
     "output_type": "stream",
     "text": [
      "1 2 3\n"
     ]
    },
    {
     "data": {
      "text/plain": [
       "(3, 2, 1)"
      ]
     },
     "execution_count": 52,
     "metadata": {},
     "output_type": "execute_result"
    }
   ],
   "source": [
    "a1, b1, c1 = func_a(1,2,3)\n",
    "a1,b1,c1"
   ]
  },
  {
   "cell_type": "code",
   "execution_count": 57,
   "id": "bed42b79-92cf-424b-81b7-1e0f56ed78b4",
   "metadata": {},
   "outputs": [
    {
     "data": {
      "text/plain": [
       "('가연', '진우', '지희')"
      ]
     },
     "execution_count": 57,
     "metadata": {},
     "output_type": "execute_result"
    }
   ],
   "source": [
    "#tuple에 값을추가하려면\n",
    "#형변환 > 리스트\n",
    "name_tuple = ('가연', '진우', '지희')\n",
    "name_tuple "
   ]
  },
  {
   "cell_type": "code",
   "execution_count": 58,
   "id": "21cc6bb7-d41c-444f-bfea-542ebbbc5294",
   "metadata": {},
   "outputs": [
    {
     "data": {
      "text/plain": [
       "['가연', '진우', '지희']"
      ]
     },
     "execution_count": 58,
     "metadata": {},
     "output_type": "execute_result"
    }
   ],
   "source": [
    "name_list=list(name_tuple)\n",
    "name_list"
   ]
  },
  {
   "cell_type": "code",
   "execution_count": 60,
   "id": "5d6d304c-3996-4735-9af9-be0ea54166ee",
   "metadata": {},
   "outputs": [
    {
     "data": {
      "text/plain": [
       "['가연', '진우', '지희', '유석', '유석']"
      ]
     },
     "execution_count": 60,
     "metadata": {},
     "output_type": "execute_result"
    }
   ],
   "source": [
    "name_list.append(\"유석\")\n",
    "name_list"
   ]
  },
  {
   "cell_type": "code",
   "execution_count": null,
   "id": "e64f2738-13a8-4c8d-8a9d-8ca645172991",
   "metadata": {},
   "outputs": [],
   "source": []
  },
  {
   "cell_type": "code",
   "execution_count": 61,
   "id": "8a148f75-15f8-4e3a-836a-45ceb7e94a91",
   "metadata": {},
   "outputs": [
    {
     "data": {
      "text/plain": [
       "['__add__',\n",
       " '__class__',\n",
       " '__class_getitem__',\n",
       " '__contains__',\n",
       " '__delattr__',\n",
       " '__dir__',\n",
       " '__doc__',\n",
       " '__eq__',\n",
       " '__format__',\n",
       " '__ge__',\n",
       " '__getattribute__',\n",
       " '__getitem__',\n",
       " '__getnewargs__',\n",
       " '__getstate__',\n",
       " '__gt__',\n",
       " '__hash__',\n",
       " '__init__',\n",
       " '__init_subclass__',\n",
       " '__iter__',\n",
       " '__le__',\n",
       " '__len__',\n",
       " '__lt__',\n",
       " '__mul__',\n",
       " '__ne__',\n",
       " '__new__',\n",
       " '__reduce__',\n",
       " '__reduce_ex__',\n",
       " '__repr__',\n",
       " '__rmul__',\n",
       " '__setattr__',\n",
       " '__sizeof__',\n",
       " '__str__',\n",
       " '__subclasshook__',\n",
       " 'count',\n",
       " 'index']"
      ]
     },
     "execution_count": 61,
     "metadata": {},
     "output_type": "execute_result"
    }
   ],
   "source": [
    "dir(name_tuple)"
   ]
  },
  {
   "cell_type": "code",
   "execution_count": null,
   "id": "325ad415-81ed-4da5-aa62-76bd07253193",
   "metadata": {},
   "outputs": [],
   "source": [
    "#__add__+\n",
    "#__add__*"
   ]
  },
  {
   "cell_type": "code",
   "execution_count": 65,
   "id": "61012c76-3e6d-4e4d-abcd-9d0adf4dac7e",
   "metadata": {},
   "outputs": [],
   "source": [
    "name_tuple = name_tuple.__add__(('유석',))"
   ]
  },
  {
   "cell_type": "code",
   "execution_count": 66,
   "id": "b776ba3a-cb66-46d1-8b39-560ee673dc65",
   "metadata": {
    "scrolled": true
   },
   "outputs": [
    {
     "data": {
      "text/plain": [
       "('가연', '진우', '지희', '유석')"
      ]
     },
     "execution_count": 66,
     "metadata": {},
     "output_type": "execute_result"
    }
   ],
   "source": [
    "name_tuple"
   ]
  },
  {
   "cell_type": "code",
   "execution_count": 68,
   "id": "cbdf644b-ebe7-4808-aab2-6a938b583ced",
   "metadata": {},
   "outputs": [],
   "source": [
    "name_tuple = name_tuple.__mul__(2)"
   ]
  },
  {
   "cell_type": "code",
   "execution_count": 70,
   "id": "d3c5a21e-620d-4403-8281-9ea8771df9c5",
   "metadata": {
    "scrolled": true
   },
   "outputs": [
    {
     "data": {
      "text/plain": [
       "('가연', '진우', '지희', '유석', '가연', '진우', '지희', '유석')"
      ]
     },
     "execution_count": 70,
     "metadata": {},
     "output_type": "execute_result"
    }
   ],
   "source": [
    "name_tuple"
   ]
  },
  {
   "cell_type": "code",
   "execution_count": 71,
   "id": "7c386e20-c15d-409f-910c-9a5922e90286",
   "metadata": {},
   "outputs": [
    {
     "data": {
      "text/plain": [
       "(1, 2, 3, 4, 5, 6)"
      ]
     },
     "execution_count": 71,
     "metadata": {},
     "output_type": "execute_result"
    }
   ],
   "source": [
    "t1 = (1,2,3)\n",
    "t2 = (4,5,6)\n",
    "t1+t2"
   ]
  },
  {
   "cell_type": "code",
   "execution_count": 73,
   "id": "88acfd7f-7671-49af-91c5-6fc1241d3829",
   "metadata": {},
   "outputs": [
    {
     "data": {
      "text/plain": [
       "(1, 2, 3, 1, 2, 3, 1, 2, 3, 1, 2, 3)"
      ]
     },
     "execution_count": 73,
     "metadata": {},
     "output_type": "execute_result"
    }
   ],
   "source": [
    "t3 = t1*2\n",
    "t3"
   ]
  },
  {
   "cell_type": "code",
   "execution_count": 74,
   "id": "f0d5afdc-d61e-4279-9f17-ffc5ff0901a4",
   "metadata": {},
   "outputs": [
    {
     "data": {
      "text/plain": [
       "1"
      ]
     },
     "execution_count": 74,
     "metadata": {},
     "output_type": "execute_result"
    }
   ],
   "source": [
    "t3[0]"
   ]
  },
  {
   "cell_type": "code",
   "execution_count": 75,
   "id": "e923ec32-4e0e-460d-b6c5-cd93a9f0c87a",
   "metadata": {},
   "outputs": [
    {
     "data": {
      "text/plain": [
       "(1, 2, 3)"
      ]
     },
     "execution_count": 75,
     "metadata": {},
     "output_type": "execute_result"
    }
   ],
   "source": [
    "t3[:3]"
   ]
  },
  {
   "cell_type": "code",
   "execution_count": 78,
   "id": "2b980166-b072-4d4d-a8ad-10a5af454e5f",
   "metadata": {},
   "outputs": [
    {
     "data": {
      "text/plain": [
       "1"
      ]
     },
     "execution_count": 78,
     "metadata": {},
     "output_type": "execute_result"
    }
   ],
   "source": [
    "t3[0]"
   ]
  },
  {
   "cell_type": "markdown",
   "id": "27a7d21d-dc9a-4cdd-93a1-e5e02600b33f",
   "metadata": {},
   "source": [
    "#집합\n",
    "-set(), {}\n",
    "- 중복이 안된다, 순서 X, 키 X\n",
    "- 속도 빠름 해싱을 하는 자료 X"
   ]
  },
  {
   "cell_type": "code",
   "execution_count": null,
   "id": "71994101-e812-43e0-a7f8-22c9d8dd638e",
   "metadata": {},
   "outputs": [],
   "source": [
    "set(), {}\n",
    "- 중복이 안된다, 순서도 없다, 키도 없다.\n",
    "- 속도가 빠르다, 해싱을 하는 자료형(딕셔너리 집합)"
   ]
  },
  {
   "cell_type": "code",
   "execution_count": 79,
   "id": "faffcc26-47ce-48b9-b19e-6dc60a79ec96",
   "metadata": {},
   "outputs": [
    {
     "data": {
      "text/plain": [
       "{1, 2, 3}"
      ]
     },
     "execution_count": 79,
     "metadata": {},
     "output_type": "execute_result"
    }
   ],
   "source": [
    "s= set ([1,2,3])\n",
    "s"
   ]
  },
  {
   "cell_type": "code",
   "execution_count": 81,
   "id": "f164173d-d656-4d84-ac3c-fe0cbaf94747",
   "metadata": {},
   "outputs": [
    {
     "data": {
      "text/plain": [
       "(1, 2, 3)"
      ]
     },
     "execution_count": 81,
     "metadata": {},
     "output_type": "execute_result"
    }
   ],
   "source": [
    "s1 = (1,2,3)\n",
    "s1"
   ]
  },
  {
   "cell_type": "code",
   "execution_count": 82,
   "id": "196e990f-484a-4a79-85cd-07211df25919",
   "metadata": {},
   "outputs": [],
   "source": [
    "s2 = {1,2,3,1}"
   ]
  },
  {
   "cell_type": "code",
   "execution_count": 84,
   "id": "e60e759e-6af5-46d0-8a8f-0e17c98f5d7d",
   "metadata": {},
   "outputs": [
    {
     "data": {
      "text/plain": [
       "{1, 2, 3}"
      ]
     },
     "execution_count": 84,
     "metadata": {},
     "output_type": "execute_result"
    }
   ],
   "source": [
    "s2"
   ]
  },
  {
   "cell_type": "code",
   "execution_count": 101,
   "id": "e90ce4fd-abb1-43e6-b3b6-10c62f9ba357",
   "metadata": {},
   "outputs": [
    {
     "data": {
      "text/plain": [
       "[1, 2, 3, 1, 2, 3]"
      ]
     },
     "execution_count": 101,
     "metadata": {},
     "output_type": "execute_result"
    }
   ],
   "source": [
    "l2 = [1,2,3]\n",
    "l2 = l2 *2\n",
    "l2"
   ]
  },
  {
   "cell_type": "code",
   "execution_count": 90,
   "id": "68ede274-3778-4186-92c5-44964ebf6345",
   "metadata": {},
   "outputs": [
    {
     "data": {
      "text/plain": [
       "{1, 2, 3}"
      ]
     },
     "execution_count": 90,
     "metadata": {},
     "output_type": "execute_result"
    }
   ],
   "source": [
    "s3 = set(l2)\n",
    "s3"
   ]
  },
  {
   "cell_type": "code",
   "execution_count": 106,
   "id": "e37f2701-0427-4839-a3b9-674f1e923b2a",
   "metadata": {},
   "outputs": [
    {
     "ename": "AttributeError",
     "evalue": "'NoneType' object has no attribute 'append'",
     "output_type": "error",
     "traceback": [
      "\u001b[31m---------------------------------------------------------------------------\u001b[39m",
      "\u001b[31mAttributeError\u001b[39m                            Traceback (most recent call last)",
      "\u001b[36mCell\u001b[39m\u001b[36m \u001b[39m\u001b[32mIn[106]\u001b[39m\u001b[32m, line 1\u001b[39m\n\u001b[32m----> \u001b[39m\u001b[32m1\u001b[39m l3 = l2.append([\u001b[32m4\u001b[39m,\u001b[32m5\u001b[39m,\u001b[32m6\u001b[39m])\n\u001b[32m      2\u001b[39m l3\n",
      "\u001b[31mAttributeError\u001b[39m: 'NoneType' object has no attribute 'append'"
     ]
    }
   ],
   "source": [
    "l3 = l2.append([4,5,6])\n",
    "l3"
   ]
  },
  {
   "cell_type": "code",
   "execution_count": 108,
   "id": "311db5a1-082c-4c5e-b180-30bf7d18f07e",
   "metadata": {
    "scrolled": true
   },
   "outputs": [
    {
     "data": {
      "text/plain": [
       "7202077192125941989"
      ]
     },
     "execution_count": 108,
     "metadata": {},
     "output_type": "execute_result"
    }
   ],
   "source": [
    "hash('hi') #해쉬코드"
   ]
  },
  {
   "cell_type": "code",
   "execution_count": 109,
   "id": "bb186a6c-2464-4832-9163-853e8e84cb4e",
   "metadata": {},
   "outputs": [
    {
     "data": {
      "text/plain": [
       "123"
      ]
     },
     "execution_count": 109,
     "metadata": {},
     "output_type": "execute_result"
    }
   ],
   "source": [
    "hash(123)"
   ]
  },
  {
   "cell_type": "code",
   "execution_count": 111,
   "id": "522c1c55-6818-4a7b-b919-9c6a0cf8b017",
   "metadata": {},
   "outputs": [
    {
     "ename": "TypeError",
     "evalue": "unhashable type: 'list'",
     "output_type": "error",
     "traceback": [
      "\u001b[31m---------------------------------------------------------------------------\u001b[39m",
      "\u001b[31mTypeError\u001b[39m                                 Traceback (most recent call last)",
      "\u001b[36mCell\u001b[39m\u001b[36m \u001b[39m\u001b[32mIn[111]\u001b[39m\u001b[32m, line 2\u001b[39m\n\u001b[32m      1\u001b[39m l1 = [\u001b[32m1\u001b[39m,\u001b[32m2\u001b[39m,\u001b[32m3\u001b[39m]\n\u001b[32m----> \u001b[39m\u001b[32m2\u001b[39m \u001b[38;5;28mhash\u001b[39m(l1)\n",
      "\u001b[31mTypeError\u001b[39m: unhashable type: 'list'"
     ]
    }
   ],
   "source": [
    "l1 = [1,2,3]\n",
    "hash(l1)"
   ]
  },
  {
   "cell_type": "code",
   "execution_count": 113,
   "id": "2b5d0ab0-b512-4674-a7f4-7f0fa97113ef",
   "metadata": {},
   "outputs": [
    {
     "data": {
      "text/plain": [
       "529344067295497451"
      ]
     },
     "execution_count": 113,
     "metadata": {},
     "output_type": "execute_result"
    }
   ],
   "source": [
    "hash((1,2,3))"
   ]
  },
  {
   "cell_type": "code",
   "execution_count": null,
   "id": "32c265fb-81ba-4bc2-81a6-21f5b22e2bd7",
   "metadata": {},
   "outputs": [],
   "source": [
    "#집합연산\n",
    "\n",
    "-- 교집합& intersection,  합집합 |,  union() ,차집함 -, difference() "
   ]
  },
  {
   "cell_type": "code",
   "execution_count": 122,
   "id": "b70654d3-cee4-4ecf-9576-445b25c38901",
   "metadata": {},
   "outputs": [],
   "source": [
    "s = set([1,2,3,4])\n",
    "x = {2,3,4}\n",
    "y = {3,4,5}"
   ]
  },
  {
   "cell_type": "code",
   "execution_count": 123,
   "id": "71a9304a-f070-4088-956d-f6c4277e9b24",
   "metadata": {},
   "outputs": [
    {
     "data": {
      "text/plain": [
       "{3, 4}"
      ]
     },
     "execution_count": 123,
     "metadata": {},
     "output_type": "execute_result"
    }
   ],
   "source": [
    "x&y"
   ]
  },
  {
   "cell_type": "code",
   "execution_count": 124,
   "id": "efc58d37-0b67-4b89-baa1-1e997102d40b",
   "metadata": {},
   "outputs": [
    {
     "data": {
      "text/plain": [
       "{2, 3, 4, 5}"
      ]
     },
     "execution_count": 124,
     "metadata": {},
     "output_type": "execute_result"
    }
   ],
   "source": [
    "x|y"
   ]
  },
  {
   "cell_type": "code",
   "execution_count": 125,
   "id": "03c7ef5d-38eb-4872-839e-67dfecb82f7a",
   "metadata": {},
   "outputs": [
    {
     "data": {
      "text/plain": [
       "{2}"
      ]
     },
     "execution_count": 125,
     "metadata": {},
     "output_type": "execute_result"
    }
   ],
   "source": [
    "x-y"
   ]
  },
  {
   "cell_type": "code",
   "execution_count": 128,
   "id": "aa116419-fbaf-4718-b950-eecd8ce61c30",
   "metadata": {},
   "outputs": [
    {
     "data": {
      "text/plain": [
       "529344067295497451"
      ]
     },
     "execution_count": 128,
     "metadata": {},
     "output_type": "execute_result"
    }
   ],
   "source": [
    "hash((1,2,3))"
   ]
  },
  {
   "cell_type": "code",
   "execution_count": 134,
   "id": "130a323f-b80b-42e0-990a-41fc2bd57203",
   "metadata": {},
   "outputs": [
    {
     "data": {
      "text/plain": [
       "{1, 2, 3}"
      ]
     },
     "execution_count": 134,
     "metadata": {},
     "output_type": "execute_result"
    }
   ],
   "source": [
    "set((1,2,3))"
   ]
  },
  {
   "cell_type": "code",
   "execution_count": 135,
   "id": "e720c331-ab7c-4c38-ba22-c9c1af83b481",
   "metadata": {},
   "outputs": [
    {
     "data": {
      "text/plain": [
       "7202077192125941989"
      ]
     },
     "execution_count": 135,
     "metadata": {},
     "output_type": "execute_result"
    }
   ],
   "source": [
    "hash('hi')"
   ]
  },
  {
   "cell_type": "markdown",
   "id": "8feff574-b41b-4825-b04e-648eb2e0ac16",
   "metadata": {
    "scrolled": true
   },
   "source": [
    "set(['h1',123])"
   ]
  },
  {
   "cell_type": "markdown",
   "id": "da0e9380-1248-4909-bcc9-703b0dabcab9",
   "metadata": {},
   "source": [
    "# 주피터 노트북"
   ]
  },
  {
   "cell_type": "code",
   "execution_count": 140,
   "id": "341c3af5-9547-4d94-a49f-e2a9385f59a9",
   "metadata": {},
   "outputs": [
    {
     "name": "stdout",
     "output_type": "stream",
     "text": [
      "20\n",
      "40\n",
      "60\n",
      "80\n",
      "100\n",
      "120\n",
      "140\n",
      "160\n",
      "180\n",
      "200\n"
     ]
    }
   ],
   "source": [
    "numbers = [10, 20,  30,  40,  50,  60, 70, 80, 90, 100]\n",
    "\n",
    "#답을 작성하세요.\n",
    "\n",
    "for num in numbers :\n",
    "    num+=num\n",
    "    print(num)"
   ]
  },
  {
   "cell_type": "code",
   "execution_count": 143,
   "id": "9d9f8bb3-a90d-41b8-a2f4-4f3943a881d5",
   "metadata": {},
   "outputs": [],
   "source": [
    "colors = [\"red\", \"green\", \"blue\", \"yellow\", \"purple\", \"orange\", \"black\"]"
   ]
  },
  {
   "cell_type": "code",
   "execution_count": 151,
   "id": "c3a1a54a-bb55-44dd-8cb7-c0dd76485095",
   "metadata": {
    "scrolled": true
   },
   "outputs": [
    {
     "name": "stdout",
     "output_type": "stream",
     "text": [
      "['red', 'green', 'blue'] ['orange', 'black']\n"
     ]
    }
   ],
   "source": [
    "##(:3, -2:)\n",
    "print(colors[0:3], colors[5:7])"
   ]
  },
  {
   "cell_type": "code",
   "execution_count": 207,
   "id": "8f866453-8168-4503-99a4-7a0662b6eefd",
   "metadata": {},
   "outputs": [],
   "source": [
    "list_a = [\n",
    "    [1, 2, 3],\n",
    "    [\"red\", \"green\", \"blue\"],\n",
    "    [False, \"korean\", True]\n",
    "]"
   ]
  },
  {
   "cell_type": "code",
   "execution_count": 212,
   "id": "1124d98a-ea2c-46e2-942e-1fe66792993a",
   "metadata": {},
   "outputs": [
    {
     "name": "stdout",
     "output_type": "stream",
     "text": [
      "1\n",
      "2\n",
      "3\n",
      "red\n",
      "green\n",
      "blue\n",
      "False\n",
      "korean\n",
      "True\n"
     ]
    }
   ],
   "source": [
    "for sub in list_a : \n",
    "    for item in sub :\n",
    "        print(item)\n",
    "    if item == \"korean\" :\n",
    "        print(item)"
   ]
  },
  {
   "cell_type": "code",
   "execution_count": 154,
   "id": "1c7e0166-7f00-4678-8ce2-5a1c3a4251a8",
   "metadata": {},
   "outputs": [
    {
     "data": {
      "text/plain": [
       "'korean'"
      ]
     },
     "execution_count": 154,
     "metadata": {},
     "output_type": "execute_result"
    }
   ],
   "source": [
    "list_a[2][1]"
   ]
  },
  {
   "cell_type": "code",
   "execution_count": null,
   "id": "a994f0c7-d545-4cf6-ab36-066335206517",
   "metadata": {},
   "outputs": [],
   "source": [
    "4. 리스트 list_a과 list_b가 다음과 같을 때, 두 리스트를 합쳐서 새로운 리스트 list_c를 만드는 코드를 작성하세요."
   ]
  },
  {
   "cell_type": "code",
   "execution_count": 157,
   "id": "21106618-5ca9-4e9e-a046-838a00c3bd19",
   "metadata": {},
   "outputs": [],
   "source": [
    "list_a = [1, 2, 3]\n",
    "list_b = [4, 5, 6]"
   ]
  },
  {
   "cell_type": "code",
   "execution_count": 159,
   "id": "7647d36d-c312-4040-8301-ced4f7dab117",
   "metadata": {},
   "outputs": [
    {
     "data": {
      "text/plain": [
       "[1, 2, 3, 4, 5, 6]"
      ]
     },
     "execution_count": 159,
     "metadata": {},
     "output_type": "execute_result"
    }
   ],
   "source": [
    "list_c =list_a + list_b \n",
    "list_c"
   ]
  },
  {
   "cell_type": "code",
   "execution_count": 175,
   "id": "25e9fc3b-a168-44ca-9a10-59aa70a9f515",
   "metadata": {},
   "outputs": [],
   "source": [
    "tuple_a = (\"apple\", \"banana\", \"cherry\")"
   ]
  },
  {
   "cell_type": "code",
   "execution_count": 176,
   "id": "db03381e-c575-4fbc-a3fc-7d80887edd9b",
   "metadata": {},
   "outputs": [],
   "source": [
    "list_k=list(tuple_a)"
   ]
  },
  {
   "cell_type": "code",
   "execution_count": 177,
   "id": "5c61bb7c-522d-476e-9ba6-a33536d1fc71",
   "metadata": {},
   "outputs": [
    {
     "data": {
      "text/plain": [
       "['apple', 'blueberry', 'cherry']"
      ]
     },
     "execution_count": 177,
     "metadata": {},
     "output_type": "execute_result"
    }
   ],
   "source": [
    "list_k[1] = 'blueberry'\n",
    "list_k"
   ]
  },
  {
   "cell_type": "code",
   "execution_count": 23,
   "id": "d5726d4b-f46b-47f9-b330-ebd94b623757",
   "metadata": {},
   "outputs": [
    {
     "ename": "NameError",
     "evalue": "name 'list_k' is not defined",
     "output_type": "error",
     "traceback": [
      "\u001b[31m---------------------------------------------------------------------------\u001b[39m",
      "\u001b[31mNameError\u001b[39m                                 Traceback (most recent call last)",
      "\u001b[36mCell\u001b[39m\u001b[36m \u001b[39m\u001b[32mIn[23]\u001b[39m\u001b[32m, line 1\u001b[39m\n\u001b[32m----> \u001b[39m\u001b[32m1\u001b[39m tuple_a =list_k\n\u001b[32m      2\u001b[39m tuple_a\n",
      "\u001b[31mNameError\u001b[39m: name 'list_k' is not defined"
     ]
    }
   ],
   "source": [
    "tuple_a =list_k\n",
    "tuple_a"
   ]
  },
  {
   "cell_type": "code",
   "execution_count": 7,
   "id": "b287c92c-b2bf-4c07-a84a-c4baa179c636",
   "metadata": {},
   "outputs": [
    {
     "data": {
      "text/plain": [
       "(5, 10, 15)"
      ]
     },
     "execution_count": 7,
     "metadata": {},
     "output_type": "execute_result"
    }
   ],
   "source": [
    "tuple_a = (5,10,15) #packing만 하면됌\n",
    "tuple_a"
   ]
  },
  {
   "cell_type": "code",
   "execution_count": 8,
   "id": "00b9591a-1bd5-4d6e-a12e-3593b3de3a9f",
   "metadata": {},
   "outputs": [
    {
     "ename": "NameError",
     "evalue": "name 'numbers' is not defined",
     "output_type": "error",
     "traceback": [
      "\u001b[31m---------------------------------------------------------------------------\u001b[39m",
      "\u001b[31mNameError\u001b[39m                                 Traceback (most recent call last)",
      "\u001b[36mCell\u001b[39m\u001b[36m \u001b[39m\u001b[32mIn[8]\u001b[39m\u001b[32m, line 1\u001b[39m\n\u001b[32m----> \u001b[39m\u001b[32m1\u001b[39m \u001b[38;5;28mmax\u001b[39m(numbers)\n",
      "\u001b[31mNameError\u001b[39m: name 'numbers' is not defined"
     ]
    }
   ],
   "source": [
    "max(numbers)"
   ]
  },
  {
   "cell_type": "code",
   "execution_count": 188,
   "id": "76aadb64-3e2e-4370-8aad-06b2341b4116",
   "metadata": {},
   "outputs": [],
   "source": [
    "min(numbers)\n",
    "numbers = (92, 89, 72, 31, 71, 33, 19)"
   ]
  },
  {
   "cell_type": "code",
   "execution_count": 6,
   "id": "f7c37809-3ca3-43d3-ba5f-4feffe013006",
   "metadata": {},
   "outputs": [
    {
     "ename": "NameError",
     "evalue": "name 'numbers' is not defined",
     "output_type": "error",
     "traceback": [
      "\u001b[31m---------------------------------------------------------------------------\u001b[39m",
      "\u001b[31mNameError\u001b[39m                                 Traceback (most recent call last)",
      "\u001b[36mCell\u001b[39m\u001b[36m \u001b[39m\u001b[32mIn[6]\u001b[39m\u001b[32m, line 1\u001b[39m\n\u001b[32m----> \u001b[39m\u001b[32m1\u001b[39m max_value = numbers[\u001b[32m0\u001b[39m]\n\u001b[32m      2\u001b[39m min_value = numbers[\u001b[32m0\u001b[39m]\n\u001b[32m      4\u001b[39m \u001b[38;5;66;03m# `for` 문을 사용해 비교\u001b[39;00m\n",
      "\u001b[31mNameError\u001b[39m: name 'numbers' is not defined"
     ]
    }
   ],
   "source": [
    "\n",
    "max_value = numbers[0]\n",
    "min_value = numbers[0]\n",
    "\n",
    "# `for` 문을 사용해 비교\n",
    "for num in numbers:\n",
    "    if num > max_value:\n",
    "        max_value = num\n",
    "    if num < min_value:\n",
    "        min_value = num\n",
    "\n",
    "print(f\"최대값: {max_value}, 최소값: {min_value}\")"
   ]
  },
  {
   "cell_type": "code",
   "execution_count": 3,
   "id": "19425435-1937-4c65-9a59-f9a86f74d4d6",
   "metadata": {},
   "outputs": [],
   "source": [
    "#people = [{ 'name': 'Alice', 'age': 24, 'major': 'Computer Science'}]\n",
    "#people\n",
    "\n",
    "student = [{ 'name': 'Alice', 'age': 24, 'major': 'Computer Science'}]\n",
    "\n",
    "#student[\"name\"] = \"alice\"\n",
    "#student[\"age\"] = 24\n",
    "#student[\"age\"] = \"Computer Science\""
   ]
  },
  {
   "cell_type": "code",
   "execution_count": 4,
   "id": "6f8739d5-3e70-4f16-88df-403a4290bf6c",
   "metadata": {},
   "outputs": [
    {
     "ename": "AttributeError",
     "evalue": "'list' object has no attribute 'keys'",
     "output_type": "error",
     "traceback": [
      "\u001b[31m---------------------------------------------------------------------------\u001b[39m",
      "\u001b[31mAttributeError\u001b[39m                            Traceback (most recent call last)",
      "\u001b[36mCell\u001b[39m\u001b[36m \u001b[39m\u001b[32mIn[4]\u001b[39m\u001b[32m, line 1\u001b[39m\n\u001b[32m----> \u001b[39m\u001b[32m1\u001b[39m student.keys()\n",
      "\u001b[31mAttributeError\u001b[39m: 'list' object has no attribute 'keys'"
     ]
    }
   ],
   "source": [
    "student.keys()"
   ]
  },
  {
   "cell_type": "code",
   "execution_count": 5,
   "id": "7f83ab9b-8b20-4b07-82a6-7800756aa62e",
   "metadata": {},
   "outputs": [
    {
     "ename": "NameError",
     "evalue": "name 'people' is not defined",
     "output_type": "error",
     "traceback": [
      "\u001b[31m---------------------------------------------------------------------------\u001b[39m",
      "\u001b[31mNameError\u001b[39m                                 Traceback (most recent call last)",
      "\u001b[36mCell\u001b[39m\u001b[36m \u001b[39m\u001b[32mIn[5]\u001b[39m\u001b[32m, line 2\u001b[39m\n\u001b[32m      1\u001b[39m new_person = { \u001b[33m'\u001b[39m\u001b[33mname\u001b[39m\u001b[33m'\u001b[39m: \u001b[33m'\u001b[39m\u001b[33mkim\u001b[39m\u001b[33m'\u001b[39m, \u001b[33m'\u001b[39m\u001b[33mage\u001b[39m\u001b[33m'\u001b[39m: \u001b[32m30\u001b[39m, \u001b[33m'\u001b[39m\u001b[33mmajor\u001b[39m\u001b[33m'\u001b[39m: \u001b[33m'\u001b[39m\u001b[33msoftware\u001b[39m\u001b[33m'\u001b[39m }\n\u001b[32m----> \u001b[39m\u001b[32m2\u001b[39m people.append(new_person)\n",
      "\u001b[31mNameError\u001b[39m: name 'people' is not defined"
     ]
    }
   ],
   "source": [
    "new_person = { 'name': 'kim', 'age': 30, 'major': 'software' }\n",
    "people.append(new_person)"
   ]
  },
  {
   "cell_type": "code",
   "execution_count": 195,
   "id": "9238a45c-e1d0-48b0-8524-068d704a5f47",
   "metadata": {},
   "outputs": [
    {
     "data": {
      "text/plain": [
       "[{'name': 'Alice', 'age': 24, 'major': 'Computer Science'},\n",
       " {'name': 'kim', 'age': 30, 'major': 'software'}]"
      ]
     },
     "execution_count": 195,
     "metadata": {},
     "output_type": "execute_result"
    }
   ],
   "source": [
    "people"
   ]
  },
  {
   "cell_type": "code",
   "execution_count": 196,
   "id": "40c40cbc-bbcd-4e64-9856-dcd53416b660",
   "metadata": {},
   "outputs": [],
   "source": [
    "people[1]['age'] = 32"
   ]
  },
  {
   "cell_type": "code",
   "execution_count": 22,
   "id": "f46f49d4-0d72-4de8-946d-7d54e4c4a96a",
   "metadata": {
    "scrolled": true
   },
   "outputs": [
    {
     "ename": "NameError",
     "evalue": "name 'people' is not defined",
     "output_type": "error",
     "traceback": [
      "\u001b[31m---------------------------------------------------------------------------\u001b[39m",
      "\u001b[31mNameError\u001b[39m                                 Traceback (most recent call last)",
      "\u001b[36mCell\u001b[39m\u001b[36m \u001b[39m\u001b[32mIn[22]\u001b[39m\u001b[32m, line 1\u001b[39m\n\u001b[32m----> \u001b[39m\u001b[32m1\u001b[39m people\n",
      "\u001b[31mNameError\u001b[39m: name 'people' is not defined"
     ]
    }
   ],
   "source": [
    "people"
   ]
  },
  {
   "cell_type": "code",
   "execution_count": 21,
   "id": "d9ea01a7-d480-43b4-ae9e-3c942c64c45c",
   "metadata": {},
   "outputs": [
    {
     "ename": "NameError",
     "evalue": "name 'people' is not defined",
     "output_type": "error",
     "traceback": [
      "\u001b[31m---------------------------------------------------------------------------\u001b[39m",
      "\u001b[31mNameError\u001b[39m                                 Traceback (most recent call last)",
      "\u001b[36mCell\u001b[39m\u001b[36m \u001b[39m\u001b[32mIn[21]\u001b[39m\u001b[32m, line 1\u001b[39m\n\u001b[32m----> \u001b[39m\u001b[32m1\u001b[39m \u001b[38;5;28;01mfor\u001b[39;00m person \u001b[38;5;129;01min\u001b[39;00m people:\n\u001b[32m      2\u001b[39m    \u001b[38;5;28;01mfor\u001b[39;00m key, value \u001b[38;5;129;01min\u001b[39;00m person.items():\n\u001b[32m      3\u001b[39m     \u001b[38;5;28mprint\u001b[39m(\u001b[33mf\u001b[39m\u001b[33m\"\u001b[39m\u001b[38;5;132;01m{\u001b[39;00mkey\u001b[38;5;132;01m}\u001b[39;00m\u001b[33m, \u001b[39m\u001b[38;5;132;01m{\u001b[39;00mvalue\u001b[38;5;132;01m}\u001b[39;00m\u001b[33m\"\u001b[39m)\n",
      "\u001b[31mNameError\u001b[39m: name 'people' is not defined"
     ]
    }
   ],
   "source": [
    "for person in people:\n",
    "   for key, value in person.items():\n",
    "    print(f\"{key}, {value}\")"
   ]
  },
  {
   "cell_type": "code",
   "execution_count": 19,
   "id": "26012209-dbc0-4c87-82be-c504fae09205",
   "metadata": {},
   "outputs": [
    {
     "name": "stdout",
     "output_type": "stream",
     "text": [
      "{'student1': {'name': ['Alice'], 'age': [24]}, 'student2': {'name': ['Bob'], 'age': [22]}, 'student3': {'name': ['Charlie'], 'age': [23]}}\n"
     ]
    }
   ],
   "source": [
    "students = {\n",
    "    \"student1\": {\"name\": \"Alice\", \"age\": 24},\n",
    "    \"student2\": {\"name\": \"Bob\", \"age\": 22},\n",
    "    \"student3\": {\"name\": \"Charlie\", \"age\": 23}\n",
    "}\n",
    "\n",
    "students = {k: {key: [value] for key, value in v.items()} for k, v in students.items()}\n",
    "\n",
    "print(students)\n"
   ]
  },
  {
   "cell_type": "code",
   "execution_count": 18,
   "id": "984dd642-cfb0-4e4e-bf15-5243fb97b5cf",
   "metadata": {},
   "outputs": [
    {
     "data": {
      "text/plain": [
       "dict_keys(['student1', 'student2', 'student3'])"
      ]
     },
     "execution_count": 18,
     "metadata": {},
     "output_type": "execute_result"
    }
   ],
   "source": [
    "students.keys()"
   ]
  },
  {
   "cell_type": "code",
   "execution_count": 12,
   "id": "1000e379-5979-4752-9cf3-65673686857b",
   "metadata": {},
   "outputs": [
    {
     "data": {
      "text/plain": [
       "dict_values([{'name': ['Alice'], 'age': [24]}, {'name': ['Bob'], 'age': [22]}, {'name': ['Charlie'], 'age': [23]}])"
      ]
     },
     "execution_count": 12,
     "metadata": {},
     "output_type": "execute_result"
    }
   ],
   "source": [
    "students.values()"
   ]
  },
  {
   "cell_type": "code",
   "execution_count": 24,
   "id": "4ba1ee14-a786-4854-8b73-0f6a0d02c647",
   "metadata": {},
   "outputs": [
    {
     "data": {
      "text/plain": [
       "([['Alice'], ['Bob'], ['Charlie']], ([24], [22], [23]))"
      ]
     },
     "execution_count": 24,
     "metadata": {},
     "output_type": "execute_result"
    }
   ],
   "source": [
    "name_list = []\n",
    "age_list = []\n",
    "for key in students.keys():\n",
    "    stu = students[key]\n",
    "    name_list.append(stu['name'])\n",
    "    age_list.append(stu['age'])\n",
    "\n",
    "age_tuple = tuple(age_list)\n",
    "name_list, age_tuple"
   ]
  },
  {
   "cell_type": "code",
   "execution_count": 16,
   "id": "5d9f0e7f-13bd-4c48-a7b4-ecb33eb3f2c9",
   "metadata": {},
   "outputs": [
    {
     "name": "stdout",
     "output_type": "stream",
     "text": [
      "[['Alice'], ['Bob'], ['Charlie']]\n",
      "([24], [22], [23])\n"
     ]
    }
   ],
   "source": [
    "name_list = []\n",
    "age_list = []\n",
    "for key in students.keys():\n",
    "    stu = students[key]\n",
    "    name_list.append(stu['name'])\n",
    "    age_list.append(stu['age'])\n",
    "\n",
    "age_tuple = tuple(age_list)\n",
    "print(name_list)\n",
    "print(age_tuple)"
   ]
  }
 ],
 "metadata": {
  "kernelspec": {
   "display_name": "Python 3 (ipykernel)",
   "language": "python",
   "name": "python3"
  },
  "language_info": {
   "codemirror_mode": {
    "name": "ipython",
    "version": 3
   },
   "file_extension": ".py",
   "mimetype": "text/x-python",
   "name": "python",
   "nbconvert_exporter": "python",
   "pygments_lexer": "ipython3",
   "version": "3.12.9"
  }
 },
 "nbformat": 4,
 "nbformat_minor": 5
}
