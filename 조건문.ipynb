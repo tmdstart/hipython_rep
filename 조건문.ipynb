{
 "cells": [
  {
   "cell_type": "markdown",
   "id": "1c2a31c5-eb3a-42b5-934f-eb56cb4dbde7",
   "metadata": {},
   "source": [
    "# 연산자"
   ]
  },
  {
   "cell_type": "code",
   "execution_count": 2,
   "id": "b4b326f0-3746-4a66-9842-c2596696802c",
   "metadata": {},
   "outputs": [
    {
     "data": {
      "text/plain": [
       "False"
      ]
     },
     "execution_count": 2,
     "metadata": {},
     "output_type": "execute_result"
    }
   ],
   "source": [
    "a=2\n",
    "a>2"
   ]
  },
  {
   "cell_type": "code",
   "execution_count": 4,
   "id": "e23e60dd-15d2-4e62-919c-f8add53d9b73",
   "metadata": {},
   "outputs": [],
   "source": [
    "b=c=d=a"
   ]
  },
  {
   "cell_type": "code",
   "execution_count": 5,
   "id": "81e897db-eda9-41de-90e8-cef2b80bcc56",
   "metadata": {},
   "outputs": [
    {
     "data": {
      "text/plain": [
       "(2, 2, 2, 2)"
      ]
     },
     "execution_count": 5,
     "metadata": {},
     "output_type": "execute_result"
    }
   ],
   "source": [
    "b, c, d, c"
   ]
  },
  {
   "cell_type": "code",
   "execution_count": 6,
   "id": "36f477f0-9dcc-4755-8096-eb76ac537784",
   "metadata": {},
   "outputs": [
    {
     "data": {
      "text/plain": [
       "True"
      ]
     },
     "execution_count": 6,
     "metadata": {},
     "output_type": "execute_result"
    }
   ],
   "source": [
    "id(b)==id(c)"
   ]
  },
  {
   "cell_type": "code",
   "execution_count": null,
   "id": "c7a3a0ef-10a8-498a-b5a6-643ca60ba1ec",
   "metadata": {},
   "outputs": [],
   "source": [
    "#조건문 : 비교연산자를 이용한 bool 값이 출력 : 이후 영역은 들여쓰기로 맞추어야한다."
   ]
  },
  {
   "cell_type": "code",
   "execution_count": 15,
   "id": "22cadd94-1659-4197-a0bb-f4d24592a7d7",
   "metadata": {},
   "outputs": [],
   "source": [
    "kor_score = 50\n",
    "if kor_score>90: #true일때만 실행\n",
    "       print('pass')"
   ]
  },
  {
   "cell_type": "code",
   "execution_count": 11,
   "id": "1649046b-7b97-46c2-b7eb-211381eed864",
   "metadata": {},
   "outputs": [
    {
     "name": "stdout",
     "output_type": "stream",
     "text": [
      "pass\n"
     ]
    }
   ],
   "source": [
    "# 한줄작성\n",
    "if kor_score>90:print('pass')"
   ]
  },
  {
   "cell_type": "code",
   "execution_count": 16,
   "id": "cba4aab2-2732-4585-8b66-dbaaa05364a3",
   "metadata": {},
   "outputs": [
    {
     "name": "stdout",
     "output_type": "stream",
     "text": [
      "fail\n"
     ]
    }
   ],
   "source": [
    "# 한줄작성\n",
    "if kor_score>80:\n",
    "    print('pass')\n",
    "else : print('fail')   "
   ]
  },
  {
   "cell_type": "code",
   "execution_count": 24,
   "id": "f4baeea3-9477-4d75-a0ae-665d99052cd8",
   "metadata": {},
   "outputs": [
    {
     "name": "stdout",
     "output_type": "stream",
     "text": [
      "fail\n"
     ]
    }
   ],
   "source": [
    "# 한줄작성\n",
    "#true 일떄 실행문 if 조건식 else\n",
    "# 비교연산자 , 논리연산자를 이용해 조건식 생성가능\n",
    "print('pass') if kor_score > 90 else print('fail')   "
   ]
  },
  {
   "cell_type": "code",
   "execution_count": null,
   "id": "e358140b-2cbd-4b2d-8081-0b35f35a31da",
   "metadata": {},
   "outputs": [],
   "source": [
    "# 수우미양가\n",
    "kor_score = 50"
   ]
  },
  {
   "cell_type": "code",
   "execution_count": 38,
   "id": "cf772a7b-f22b-4e1d-ae3a-b900533dfa42",
   "metadata": {
    "scrolled": true
   },
   "outputs": [
    {
     "name": "stdin",
     "output_type": "stream",
     "text": [
      "점수를 입력하새요, 숫자로요 68\n"
     ]
    },
    {
     "name": "stdout",
     "output_type": "stream",
     "text": [
      "양\n"
     ]
    }
   ],
   "source": [
    "score = int(input('점수를 입력하새요, 숫자로요'))\n",
    "\n",
    "if score >= 90 :\n",
    "    print(\"수\")\n",
    "else :\n",
    "    if score >= 80 :\n",
    "        print(\"우\")\n",
    "    else :\n",
    "        if score >= 70 :\n",
    "            print(\"미\")\n",
    "        else :\n",
    "            if score >= 60 :\n",
    "                 print(\"양\")\n",
    "            else :\n",
    "                 print(\"가\")        "
   ]
  },
  {
   "cell_type": "code",
   "execution_count": 32,
   "id": "0fd3f1bc-51dd-418b-be7d-10a94ed5d541",
   "metadata": {},
   "outputs": [
    {
     "name": "stdin",
     "output_type": "stream",
     "text": [
      "점수를 입력하새요, 숫자로요 95\n"
     ]
    },
    {
     "name": "stdout",
     "output_type": "stream",
     "text": [
      "수\n",
      "우\n",
      "미\n",
      "양\n",
      "가\n"
     ]
    }
   ],
   "source": [
    "score = int(input('점수를 입력하새요, 숫자로요'))\n",
    "\n",
    "if score >= 90 :\n",
    "    print(\"수\")\n",
    "if score >= 80 :\n",
    "    print(\"우\")\n",
    "if score >= 70 :\n",
    "    print(\"미\")\n",
    "if score >= 60 :\n",
    "    print(\"양\")\n",
    "if score >= 50 :\n",
    "    print(\"가\")    "
   ]
  },
  {
   "cell_type": "code",
   "execution_count": 16,
   "id": "eeb5158d-82a3-410d-951d-92f8d86c85a2",
   "metadata": {},
   "outputs": [
    {
     "name": "stdin",
     "output_type": "stream",
     "text": [
      "점수를 입력하새요, 숫자로요 60\n"
     ]
    },
    {
     "name": "stdout",
     "output_type": "stream",
     "text": [
      "양\n"
     ]
    }
   ],
   "source": [
    "score = int(input('점수를 입력하새요, 숫자로요'))\n",
    "if score >= 90 :\n",
    "    print('수')\n",
    "elif score >= 80 :\n",
    "    print('우')\n",
    "elif score >= 70 :\n",
    "    print('미')\n",
    "elif score >= 60 :\n",
    "    print('양')\n",
    "else :\n",
    "    print('가')"
   ]
  },
  {
   "cell_type": "code",
   "execution_count": 17,
   "id": "0a994d3d-1071-4abd-802f-8474f3005615",
   "metadata": {},
   "outputs": [
    {
     "name": "stdin",
     "output_type": "stream",
     "text": [
      "점수를 입력하새요, (예20*40) 30 ( 40\n"
     ]
    },
    {
     "name": "stdout",
     "output_type": "stream",
     "text": [
      "오류! '('는 지원되지 않는 연산자입니다. 허용된 연산자: +, -, *, /\n",
      "잘못된 연산자 입니다\n"
     ]
    }
   ],
   "source": [
    "formula = input('점수를 입력하새요, (예20*40)')\n",
    "num1, opr, num2 = formula.split()\n",
    "num1, opr, num2 \n",
    "\n",
    "num1 = float(num1)\n",
    "num2 = float(num2)\n",
    "\n",
    "opr_list = ['+','-','*','/']\n",
    "\n",
    "if opr_list.count(opr) == 0:\n",
    "    print(f\"오류! '{opr}'는 지원되지 않는 연산자입니다. 허용된 연산자: {', '.join(opr_list)}\")\n",
    "if opr == '+':\n",
    "    result = num1 + num2\n",
    "    print(f'{num1} {opr} {num2} = {result}')\n",
    "elif opr == '-':\n",
    "    result = num1 - num2\n",
    "    print(f'{num1} {opr} {num2} = {result}')\n",
    "elif opr == '*':\n",
    "    result = num1 * num2\n",
    "    print(f'{num1} {opr} {num2} = {result}')\n",
    "elif opr == '/':\n",
    "    result = num1 / num2\n",
    "    print(f'{num1} {opr} {num2} = {result}')\n",
    "else : \n",
    "    print(\"잘못된 연산자 입니다\")\n",
    "    "
   ]
  },
  {
   "cell_type": "code",
   "execution_count": 27,
   "id": "e189b1d6-0cc9-46e3-8ec1-7f29b0fa0658",
   "metadata": {},
   "outputs": [
    {
     "name": "stdin",
     "output_type": "stream",
     "text": [
      "점수를 입력하새요, (예20*40) 30 * 30\n"
     ]
    },
    {
     "name": "stdout",
     "output_type": "stream",
     "text": [
      "30.0 * 30.0 = 900.0\n"
     ]
    }
   ],
   "source": [
    "formula = input('점수를 입력하새요, (예20*40)')\n",
    "num1, opr, num2 = formula.split()\n",
    "num1, opr, num2 \n",
    "\n",
    "num1 = float(num1)\n",
    "num2 = float(num2)\n",
    "\n",
    "opr_list = ['+','-','*','/']\n",
    "\n",
    "if opr_list.count(opr) == 0:\n",
    "    print(f\"오류! '{opr}'는 지원되지 않는 연산자입니다. 허용된 연산자: {', '.join(opr_list)}\")\n",
    "#if opr not in opr_list :\n",
    "#    print(f\"오류! '{opr}'는 지원되지 않는 연산자입니다. 허용된 연산자: {', '.join(opr_list)}\")   \n",
    "else : \n",
    "    if opr == '+':\n",
    "         result = num1 + num2\n",
    "         print(f'{num1} {opr} {num2} = {result}')\n",
    "    elif opr == '-':\n",
    "         result = num1 - num2\n",
    "         print(f'{num1} {opr} {num2} = {result}')\n",
    "    elif opr == '*':\n",
    "         result = num1 * num2\n",
    "         print(f'{num1} {opr} {num2} = {result}')\n",
    "    elif opr == '/':\n",
    "         result = num1 / num2\n",
    "         print(f'{num1} {opr} {num2} = {result}')\n",
    "#else : \n",
    "#    result = None\n",
    "#    print(\"잘못된 연산자 입니다\")\n",
    "#if result == None :\n",
    "#    print(\"자원하지 않는 연산자입니다\")"
   ]
  },
  {
   "cell_type": "code",
   "execution_count": 32,
   "id": "59236adc-1361-416e-ae89-cdf219e15f58",
   "metadata": {},
   "outputs": [
    {
     "name": "stdout",
     "output_type": "stream",
     "text": [
      "홀수\n"
     ]
    }
   ],
   "source": [
    "num = 7\n",
    "#if num %2==0 : print('짝수') else print(\"홀수\")\n",
    "print('짝수' if num % 2 == 0 else\"홀수\")"
   ]
  },
  {
   "cell_type": "code",
   "execution_count": 33,
   "id": "c4ef369f-55b8-4d6c-b315-5234dfa846bf",
   "metadata": {},
   "outputs": [
    {
     "name": "stdout",
     "output_type": "stream",
     "text": [
      "화이팅\n"
     ]
    }
   ],
   "source": [
    "state=\"졸려\"\n",
    "print('화이팅' if state == \"졸려\" else\"더해\")"
   ]
  },
  {
   "cell_type": "code",
   "execution_count": 36,
   "id": "41391e08-1b3a-4c1d-935e-59ae1eb1ca85",
   "metadata": {},
   "outputs": [
    {
     "name": "stdout",
     "output_type": "stream",
     "text": [
      "화이팅\n"
     ]
    }
   ],
   "source": [
    "졸려 = False\n",
    "#action = '쉽시다' if 졸려 == True else '화이팅'\n",
    "action = '쉽시다' if 졸려 else '화이팅'\n",
    "print(action)"
   ]
  },
  {
   "cell_type": "code",
   "execution_count": 10,
   "id": "60776733-08a5-460d-9a80-824959880f15",
   "metadata": {
    "scrolled": true
   },
   "outputs": [],
   "source": [
    "player  = '가위'\n",
    "computer = '바위'\n",
    "\n",
    "#result = '승', '패', '무승부'\n",
    "#result = '승' if (player == '가위' and computer =='보') else \\ \n",
    "#           '무승부' if player == computer else '패' \n",
    "result = ('승' if player == '가위' and computer == '보' else \n",
    "          '무승부' if player == computer else '패')"
   ]
  },
  {
   "cell_type": "code",
   "execution_count": 3,
   "id": "d3899ef5-d412-46f6-bea7-2da3c8125682",
   "metadata": {},
   "outputs": [
    {
     "name": "stdout",
     "output_type": "stream",
     "text": [
      "패\n"
     ]
    }
   ],
   "source": [
    "player = '가위'\n",
    "computer = '바위'\n",
    "\n",
    "# 결과 결정\n",
    "result = ('승' if player == '가위' and computer == '보' \n",
    "          else '무승부' if player == computer \n",
    "          else '패')\n",
    "\n",
    "print(result)\n"
   ]
  },
  {
   "cell_type": "code",
   "execution_count": 8,
   "id": "a4906138-adb4-4428-af9d-ca3f4f2944f9",
   "metadata": {},
   "outputs": [
    {
     "name": "stdin",
     "output_type": "stream",
     "text": [
      "점수를 입력하새요, 숫자로요 95\n"
     ]
    },
    {
     "name": "stdout",
     "output_type": "stream",
     "text": [
      "수\n"
     ]
    }
   ],
   "source": [
    "score = int(input('점수를 입력하새요, 숫자로요'))\n",
    "print(\"수\") if score >= 90 else print(\"우\") if score >= 80 else print(\"미\") if score >= 70 else print(\"양\") if score >= 60 else print(\"가\")"
   ]
  },
  {
   "cell_type": "code",
   "execution_count": 11,
   "id": "b76026d7-bd6f-48f5-9692-47383839a57b",
   "metadata": {},
   "outputs": [
    {
     "name": "stdout",
     "output_type": "stream",
     "text": [
      "현재 검사 중인 숫자: 1\n",
      "현재 검사 중인 숫자: 3\n",
      "현재 검사 중인 숫자: 5\n",
      "현재 검사 중인 숫자: 7\n",
      "9를 찾았습니다!\n"
     ]
    }
   ],
   "source": [
    "numbers = [1, 3, 5, 7, 9, 11, 13, 15]\n",
    "search_number = 9\n",
    "\n",
    "for num in numbers:\n",
    "    if num == search_number:\n",
    "        print(f\"{search_number}를 찾았습니다!\")\n",
    "        break\n",
    "    print(f\"현재 검사 중인 숫자: {num}\")"
   ]
  },
  {
   "cell_type": "code",
   "execution_count": 15,
   "id": "140ad79e-fb24-463e-abd1-90ba35fac767",
   "metadata": {
    "scrolled": true
   },
   "outputs": [
    {
     "name": "stdout",
     "output_type": "stream",
     "text": [
      "2\n",
      "4\n",
      "6\n",
      "8\n",
      "10\n"
     ]
    }
   ],
   "source": [
    "for i in range(1,11):\n",
    "    if i % 2 != 0:\n",
    "        continue\n",
    "    print(i) # 짝수만 출력"
   ]
  },
  {
   "cell_type": "code",
   "execution_count": 18,
   "id": "b640c09a-70ec-4d5f-b8b3-786d7c39c35a",
   "metadata": {},
   "outputs": [],
   "source": [
    "condition = True\n",
    "\n",
    "if condition:\n",
    "    pass  # 나중에 구현할 예정 - 에러방지를 위해서 일단 Pass\n",
    "else:\n",
    "    print(\"else 구문 실행\")"
   ]
  },
  {
   "cell_type": "code",
   "execution_count": null,
   "id": "05b31702-36a6-432a-84da-0bd8e9ac4891",
   "metadata": {},
   "outputs": [],
   "source": [
    "number = -10"
   ]
  },
  {
   "cell_type": "code",
   "execution_count": 1,
   "id": "205df631-95f4-48ad-9c4a-9614584c6a5e",
   "metadata": {},
   "outputs": [
    {
     "name": "stdout",
     "output_type": "stream",
     "text": [
      "음수\n"
     ]
    }
   ],
   "source": [
    "number = -10\n",
    "if number > 0 :\n",
    "    print(\"양수\")\n",
    "else :\n",
    "    if number == 0 :\n",
    "        print(\"0\")\n",
    "    else :\n",
    "        if number < 0 :\n",
    "            print(\"음수\")"
   ]
  },
  {
   "cell_type": "code",
   "execution_count": 5,
   "id": "db271b30-315d-4cfe-8398-f95fa8e1ee1e",
   "metadata": {},
   "outputs": [
    {
     "name": "stdout",
     "output_type": "stream",
     "text": [
      "음수\n"
     ]
    }
   ],
   "source": [
    "number = -10\n",
    "print(\"양수\" if number > 0 else \"0\" if number == 0 else \"음수\")"
   ]
  },
  {
   "cell_type": "code",
   "execution_count": 13,
   "id": "eee8016e-873d-49cf-a52f-db9b29346ac0",
   "metadata": {},
   "outputs": [],
   "source": [
    "number = 52"
   ]
  },
  {
   "cell_type": "code",
   "execution_count": 17,
   "id": "3f470839-d715-4668-b552-9ebb5adb65b0",
   "metadata": {},
   "outputs": [
    {
     "name": "stdout",
     "output_type": "stream",
     "text": [
      "짝수\n"
     ]
    }
   ],
   "source": [
    "print(\"짝수\" if number%2==0 else \"홀수\")"
   ]
  },
  {
   "cell_type": "markdown",
   "id": "c6e535d2-00b8-4a7f-a06a-21948a747bab",
   "metadata": {},
   "source": [
    "90점 이상: A\n",
    "80점 이상 90점 미만: B\n",
    "70점 이상 80점 미만: C\n",
    "70점 미만: F"
   ]
  },
  {
   "cell_type": "code",
   "execution_count": 33,
   "id": "aa5e8946-bca6-495c-91b5-0cd66841c08e",
   "metadata": {},
   "outputs": [
    {
     "name": "stdin",
     "output_type": "stream",
     "text": [
      "점수를 입력하새요, 숫자로요 69\n"
     ]
    },
    {
     "name": "stdout",
     "output_type": "stream",
     "text": [
      "F\n"
     ]
    }
   ],
   "source": [
    "score = int(input('점수를 입력하새요, 숫자로요'))\n",
    "if score >= 90 :\n",
    "    print(\"A\")\n",
    "else :\n",
    "    if score >= 80 : \n",
    "        print(\"B\")\n",
    "    else :\n",
    "        if score >= 70 : \n",
    "            print(\"C\")\n",
    "        else :\n",
    "                 print(\"F\")"
   ]
  },
  {
   "cell_type": "markdown",
   "id": "6f17fe22-dc0d-4885-8bbf-0c4e451cfb2e",
   "metadata": {},
   "source": [
    "변수 price와 is_discount가 주어졌을 때, is_discount가 True이면 가격에 10% 할인을 적용하고, 그렇지 않으면 원래 가격을 출력하는 코드를 작성하세요."
   ]
  },
  {
   "cell_type": "code",
   "execution_count": 35,
   "id": "4c156f72-617d-4ce4-92d3-61442c81c8e6",
   "metadata": {},
   "outputs": [
    {
     "name": "stdout",
     "output_type": "stream",
     "text": [
      "90.0\n"
     ]
    }
   ],
   "source": [
    "price =100\n",
    "is_discount = True\n",
    "\n",
    "if is_discount ==True : \n",
    "    price = price * 0.9\n",
    "    print(price)\n",
    "else :\n",
    "    print(price)\n"
   ]
  },
  {
   "cell_type": "code",
   "execution_count": 37,
   "id": "d85954bf-3b6c-4dc1-a3ce-535134b76bd0",
   "metadata": {},
   "outputs": [
    {
     "name": "stdout",
     "output_type": "stream",
     "text": [
      "1\n",
      "2\n",
      "3\n",
      "4\n",
      "5\n",
      "6\n",
      "7\n",
      "8\n",
      "9\n",
      "10\n"
     ]
    }
   ],
   "source": [
    "for x in range(1,11) :\n",
    "    print(x)"
   ]
  },
  {
   "cell_type": "code",
   "execution_count": 48,
   "id": "ddd4a3b9-93e9-4e22-807b-d8b636cf21a8",
   "metadata": {},
   "outputs": [
    {
     "name": "stdout",
     "output_type": "stream",
     "text": [
      "2\n",
      "4\n",
      "6\n",
      "8\n",
      "10\n"
     ]
    },
    {
     "data": {
      "text/plain": [
       "[2, 4, 6, 8, 10]"
      ]
     },
     "execution_count": 48,
     "metadata": {},
     "output_type": "execute_result"
    }
   ],
   "source": [
    "for i in range(1,11) :\n",
    "    if(i%2==0) :\n",
    "      print(i)\n",
    "[i for i in range(1,11) if i%2==0]"
   ]
  },
  {
   "cell_type": "code",
   "execution_count": null,
   "id": "33daf2ca-517d-4b59-ba55-b1c43ccb3e87",
   "metadata": {},
   "outputs": [],
   "source": [
    "items = [\"apple\", \"banana\", \"cherry\"]\n",
    "target = \"banana\""
   ]
  },
  {
   "cell_type": "code",
   "execution_count": 63,
   "id": "20f4ac81-6c0b-404f-82b7-1935976be284",
   "metadata": {},
   "outputs": [
    {
     "ename": "IndentationError",
     "evalue": "unexpected indent (3764138740.py, line 10)",
     "output_type": "error",
     "traceback": [
      "  \u001b[36mCell\u001b[39m\u001b[36m \u001b[39m\u001b[32mIn[63]\u001b[39m\u001b[32m, line 10\u001b[39m\n\u001b[31m    \u001b[39m\u001b[31mbreak :\u001b[39m\n    ^\n\u001b[31mIndentationError\u001b[39m\u001b[31m:\u001b[39m unexpected indent\n"
     ]
    }
   ],
   "source": [
    "items = [\"apple\", \"banana\", \"cherry\"]\n",
    "target = \"banana\"\n",
    "\n",
    "#if target in items:\n",
    "#    print(target)\n",
    "\n",
    "for item in items :\n",
    "    if item == terget :  \n",
    "       find =True\n",
    "        break :\n",
    "if found :\n",
    "    print(\"f\")\n",
    "else found :\n",
    "    print(\"not founr\")    "
   ]
  },
  {
   "cell_type": "code",
   "execution_count": 65,
   "id": "3d9c5804-48cb-436c-9b99-3347bb9fa36b",
   "metadata": {},
   "outputs": [
    {
     "name": "stdout",
     "output_type": "stream",
     "text": [
      "found\n"
     ]
    }
   ],
   "source": [
    "items = [\"apple\", \"banana\", \"cherry\"]\n",
    "target = \"banana\"  # 'terget' was a typo, corrected to 'target'\n",
    "found = False  # 'find' changed to 'found' for clarity\n",
    "\n",
    "for item in items:\n",
    "    if item == target:\n",
    "        found = True\n",
    "        break  # No colon needed after 'break'\n",
    "\n",
    "if found:\n",
    "    print(\"found\")\n",
    "else:  # 'else found' is incorrect; just use 'else'\n",
    "    print(\"not found\")\n"
   ]
  },
  {
   "cell_type": "code",
   "execution_count": null,
   "id": "e8673299-1440-4cd9-8f39-419f46e1feb4",
   "metadata": {},
   "outputs": [],
   "source": [
    "items = [\"apple\", \"banana\", \"cherry\"]\n",
    "target = \"banana\"  # 'terget' was a typo, corrected to 'target'\n",
    "found = False  # 'find' changed to 'found' for clarity\n",
    "\n",
    "if for item in items:\n",
    "      if item == target:\n",
    "          found = True\n",
    "          break  # No colon needed after 'break'\n",
    "\n",
    "if found:\n",
    "    print(\"found\")\n",
    "else:  # 'else found' is incorrect; just use 'else'\n",
    "    print(\"not found\")\n",
    "\n",
    "\n"
   ]
  },
  {
   "cell_type": "code",
   "execution_count": 71,
   "id": "ccbabb1c-ffe4-49f8-8312-c4e26942cbde",
   "metadata": {},
   "outputs": [
    {
     "data": {
      "text/plain": [
       "True"
      ]
     },
     "execution_count": 71,
     "metadata": {},
     "output_type": "execute_result"
    }
   ],
   "source": [
    "items = [\"apple\", \"banana\", \"cherry\"]\n",
    "target = \"banana\"  # 'terget' was a typo, corrected to 'target'\n",
    "found = False  # 'find' changed to 'found' for clarity\n",
    "\n",
    "found =True if [item for item in items if item == target ] else false\n",
    "found"
   ]
  },
  {
   "cell_type": "code",
   "execution_count": 73,
   "id": "74ccedd6-22c9-4c15-ad23-bdd861316a93",
   "metadata": {},
   "outputs": [
    {
     "data": {
      "text/plain": [
       "True"
      ]
     },
     "execution_count": 73,
     "metadata": {},
     "output_type": "execute_result"
    }
   ],
   "source": [
    "list_1 = []\n",
    "list_2 = [1,2,3]\n",
    "\n",
    "bool(list_1)\n",
    "bool(list_2)\n"
   ]
  },
  {
   "cell_type": "code",
   "execution_count": 74,
   "id": "b83dc3d5-df3f-4729-b268-cd16c738924b",
   "metadata": {},
   "outputs": [
    {
     "data": {
      "text/plain": [
       "True"
      ]
     },
     "execution_count": 74,
     "metadata": {},
     "output_type": "execute_result"
    }
   ],
   "source": [
    "found =True if [value for value in items if value == target ] else false\n",
    "found"
   ]
  },
  {
   "cell_type": "code",
   "execution_count": 77,
   "id": "33ff31d9-c927-47a2-af67-80c2f81f2958",
   "metadata": {
    "scrolled": true
   },
   "outputs": [
    {
     "name": "stdout",
     "output_type": "stream",
     "text": [
      "\n",
      "\n",
      "2*1 = 2*1\n",
      "2*2 = 2*2\n",
      "2*3 = 2*3\n",
      "2*4 = 2*4\n",
      "2*5 = 2*5\n",
      "2*6 = 2*6\n",
      "2*7 = 2*7\n",
      "2*8 = 2*8\n",
      "2*9 = 2*9\n",
      "\n",
      "\n",
      "3*1 = 3*1\n",
      "3*2 = 3*2\n",
      "3*3 = 3*3\n",
      "3*4 = 3*4\n",
      "3*5 = 3*5\n",
      "3*6 = 3*6\n",
      "3*7 = 3*7\n",
      "3*8 = 3*8\n",
      "3*9 = 3*9\n",
      "\n",
      "\n",
      "4*1 = 4*1\n",
      "4*2 = 4*2\n",
      "4*3 = 4*3\n",
      "4*4 = 4*4\n",
      "4*5 = 4*5\n",
      "4*6 = 4*6\n",
      "4*7 = 4*7\n",
      "4*8 = 4*8\n",
      "4*9 = 4*9\n",
      "\n",
      "\n",
      "5*1 = 5*1\n",
      "5*2 = 5*2\n",
      "5*3 = 5*3\n",
      "5*4 = 5*4\n",
      "5*5 = 5*5\n",
      "5*6 = 5*6\n",
      "5*7 = 5*7\n",
      "5*8 = 5*8\n",
      "5*9 = 5*9\n",
      "\n",
      "\n",
      "6*1 = 6*1\n",
      "6*2 = 6*2\n",
      "6*3 = 6*3\n",
      "6*4 = 6*4\n",
      "6*5 = 6*5\n",
      "6*6 = 6*6\n",
      "6*7 = 6*7\n",
      "6*8 = 6*8\n",
      "6*9 = 6*9\n",
      "\n",
      "\n",
      "7*1 = 7*1\n",
      "7*2 = 7*2\n",
      "7*3 = 7*3\n",
      "7*4 = 7*4\n",
      "7*5 = 7*5\n",
      "7*6 = 7*6\n",
      "7*7 = 7*7\n",
      "7*8 = 7*8\n",
      "7*9 = 7*9\n",
      "\n",
      "\n",
      "8*1 = 8*1\n",
      "8*2 = 8*2\n",
      "8*3 = 8*3\n",
      "8*4 = 8*4\n",
      "8*5 = 8*5\n",
      "8*6 = 8*6\n",
      "8*7 = 8*7\n",
      "8*8 = 8*8\n",
      "8*9 = 8*9\n",
      "\n",
      "\n",
      "9*1 = 9*1\n",
      "9*2 = 9*2\n",
      "9*3 = 9*3\n",
      "9*4 = 9*4\n",
      "9*5 = 9*5\n",
      "9*6 = 9*6\n",
      "9*7 = 9*7\n",
      "9*8 = 9*8\n",
      "9*9 = 9*9\n"
     ]
    }
   ],
   "source": [
    "for i in range(2,10,1) :\n",
    "    print(\"\\n\")\n",
    "    for j in range(1,10,1) :\n",
    "        #print(i,'x',j,'=',i*j)\n",
    "        print(f'{i}*{j} = {i}*{j}')"
   ]
  },
  {
   "cell_type": "code",
   "execution_count": null,
   "id": "5d068986-1c90-4ee9-9bc6-fe257dfc9931",
   "metadata": {},
   "outputs": [],
   "source": [
    "나이에 따라 다음과 같은 입장료를 받고 있다고 할 때, 반복문을 이용하여 1세부터 13세까지의 전체 가격표를 만드는 코드를 작성하세요.\n",
    "3세 이하: 무료\n",
    "3세에서 5세: 5달러\n",
    "5세에서 9세: 10달러\n",
    "9세에서 12세: 12달러\n",
    "12세 이상: 사용할 수 없음 (프로그램 종료)"
   ]
  },
  {
   "cell_type": "code",
   "execution_count": 79,
   "id": "c47c3a5b-3cd9-49b7-85e7-6516fd38bc41",
   "metadata": {},
   "outputs": [
    {
     "name": "stdin",
     "output_type": "stream",
     "text": [
      "연령 10\n"
     ]
    },
    {
     "name": "stdout",
     "output_type": "stream",
     "text": [
      "12\n"
     ]
    }
   ],
   "source": [
    "score = int(input('연령'))\n",
    "if score >= 12 :\n",
    "    print(\"사용불가\")\n",
    "else :\n",
    "    if score >= 9 : \n",
    "        print(\"12\")\n",
    "    else :\n",
    "        if score >= 5 : \n",
    "            print(\"10\")\n",
    "        else :\n",
    "                 print(\"5\")"
   ]
  },
  {
   "cell_type": "markdown",
   "id": "6303e58f-9d34-448f-9d57-e59d2c7aa590",
   "metadata": {},
   "source": [
    "휴대폰 번호 앞자리에 따라 통신사는 아래와 같이 구분된다.\n",
    "사용자로부터 휴대전화 번호를 입력 받고, 통신사를 출력하는 프로그램을 작성하라.\n",
    "번호 통신사\n",
    "011 SKT\n",
    "016 KT\n",
    "019 LGU\n",
    "010 알수없음\n",
    "\n",
    ">> 휴대전화 번호 입력: 011-345-1922\n",
    "당신은 SKT 사용자입니다."
   ]
  },
  {
   "cell_type": "markdown",
   "id": "e5976ba7-dec6-4fc3-999a-3c9ad19ecac0",
   "metadata": {},
   "source": [
    "number = input('휴대전화')\n",
    "parts = number.split(\"-\")  # '-' 기준으로 나누기\n",
    "\n",
    "for part in parts:\n",
    "    #print(f\"Processing segment: {part}\")\n",
    "    if part == \"011\" :\n",
    "       print(\"SKT\")\n",
    "    elif part == \"016\" : \n",
    "       print(\"KT\")\n",
    "    elif part == \"019\" :\n",
    "       print(\"LG\")"
   ]
  },
  {
   "cell_type": "code",
   "execution_count": 90,
   "id": "648c3796-ef9d-4419-9f34-0f634cdc7892",
   "metadata": {},
   "outputs": [
    {
     "name": "stdin",
     "output_type": "stream",
     "text": [
      "휴대전화 KT\n"
     ]
    }
   ],
   "source": [
    "number = input('휴대전화')\n",
    "parts = number.split(\"-\")  # '-' 기준으로 나누기\n",
    "\n",
    "for part in parts:\n",
    "    #print(f\"Processing segment: {part}\")\n",
    "    if part == \"011\" :\n",
    "       print(\"SKT\")\n",
    "    elif part == \"016\" : \n",
    "       print(\"KT\")\n",
    "    elif part == \"019\" :\n",
    "       print(\"LG\")"
   ]
  },
  {
   "cell_type": "code",
   "execution_count": 141,
   "id": "90eee65d-e56d-43ef-971e-4b928c3cc2aa",
   "metadata": {},
   "outputs": [
    {
     "name": "stdin",
     "output_type": "stream",
     "text": [
      "휴대전화 010-3432-3453\n"
     ]
    },
    {
     "name": "stdout",
     "output_type": "stream",
     "text": [
      "알수없음\n"
     ]
    }
   ],
   "source": [
    "phone_number = input('휴대전화')\n",
    "#if '-' in phone_number :\n",
    "#    number = phone_number.split('-')[0]\n",
    "#else :\n",
    "#    number = phone_number[:3]\n",
    "\n",
    "#number = phone_number.split('-')[0] if '-' in phone_number else number = phone_number[:3]\n",
    "number = phone_number.split('-')[0] if '-' in phone_number else phone_number[:3]\n",
    "if number == \"011\" :\n",
    "       print(\"SKT\")\n",
    "elif number == \"016\" : \n",
    "       print(\"KT\")\n",
    "elif number == \"019\" :\n",
    "       print(\"LG\")\n",
    "else :\n",
    "        print(\"알수없음\")"
   ]
  },
  {
   "cell_type": "markdown",
   "id": "23e550de-9df8-42e0-9d4c-4b2075d80a86",
   "metadata": {},
   "source": [
    "주민등록번호는 13자리로 구성되는데 마지막 자리수는 주민등록번호의 유효성을 체크하는데 사용된다.\n",
    "먼저 앞에서부터 12자리의 숫자에 2, 3, 4, 5, 6, 7, 8, 9, 2, 3, 4, 5를 차례로 곱한 뒤 그 값을 전부 더한다.\n",
    "연산 결과 값을 11로 나누면 나머지가 나오는데 11에서 나머지를 뺀 값이 주민등록번호의 마지막 번호가 된다.\n",
    "  8 2 1 0 1 0 - 1 6 3 5 2 1 0\n",
    "x 2 3 4 5 6 7   8 9 2 3 4 5 \n",
    "-----------------------------\n",
    "1차 계산: (8*2 + 2*3 + 1*4 + 0*5 + 1*6 + 0*7 + 1*8 + 6*9 + 3*2 + 5*3 + 2*4 + 1*5) = (128 % 11) = 7\n",
    "2차 계산: 11 -7 = 4\n",
    "\n",
    ">> 주민등록번호: 821010-1635210\n",
    "유효하지 않은 주민등록번호입니다.\n",
    "#사용자엽력\n",
    "#자릿수확인\n",
    "#가중치 리스트\n",
    "#반복\n",
    "#if 조건체크"
   ]
  },
  {
   "cell_type": "code",
   "execution_count": null,
   "id": "455c1949-e2b7-4dba-8bbb-1ef7c67603d0",
   "metadata": {},
   "outputs": [],
   "source": [
    "\"\"\"\n",
    "min = input('주민등록번호를 입력하세요')\n",
    "\n",
    "digit_count = len(min.replace(\"-\", \"\"))\n",
    "if digit_count == 13 :\n",
    "    print(\"유효한 번호입니다\")\n",
    "else :\n",
    "    print(\"유효하지 않은 번호입니다\")\n",
    "parts = min.split(\"-\")\n",
    "\"\"\"\n",
    "#유효성 체크\n",
    "\"\"\"\n",
    "jumin_no=''\n",
    "while True:\n",
    "    jumin_no = input('주민등록번호를 입력하세요')\n",
    " if len(jumin_no)!=13 or not jumin.isdigit():\n",
    "    print(\"잘못된입력\") \n",
    " else :\n",
    "     break\n",
    "\"\"\"\n",
    "jumin_no = ''\n",
    "\n",
    "while True:\n",
    "    jumin_no = input(\"주민등록번호를 입력하세요\")  # 입력 받기\n",
    "\n",
    "    if len(jumin_no) != 13 or not jumin_no.isdigit():  # 'jumin' → 'jumin_no'로 수정\n",
    "        print(\"잘못된 입력\")  # 오류 메시지 출력\n",
    "    else:\n",
    "        break  # 유효한 번호면 반복 종료\n",
    "\n",
    "\n",
    "\n",
    "weight = list(range(2,10)) + list(range(2,6))\n",
    "#weight = [2~9,2~5)\n",
    "total = 0 \n",
    "for i in range(12):\n",
    "    total += int(jumin_no{i]) * weight[i]\n",
    "    print(f'total : {total}')\n",
    "    \n",
    "remain = (11-(total%11))%10\n",
    "print(remain)\n",
    "\n",
    "if int(jumin_no[-1] == remain:\n",
    "    print('ok')\n",
    "else\n",
    "    print('reject')\n",
    "    \n",
    " #for index, value in enumerate(part, start=1):  # 1부터 시작하는 index를 사용\n",
    "        #multiplied_value = int(value) * index  # 숫자를 현재 인덱스와 곱하기\n",
    "        #print(f\"{value} * {index} = {multiplied_value}\")\n",
    "        #value_total += multiplied_value  # 총합 계산"
   ]
  }
 ],
 "metadata": {
  "kernelspec": {
   "display_name": "Python 3 (ipykernel)",
   "language": "python",
   "name": "python3"
  },
  "language_info": {
   "codemirror_mode": {
    "name": "ipython",
    "version": 3
   },
   "file_extension": ".py",
   "mimetype": "text/x-python",
   "name": "python",
   "nbconvert_exporter": "python",
   "pygments_lexer": "ipython3",
   "version": "3.12.9"
  }
 },
 "nbformat": 4,
 "nbformat_minor": 5
}
