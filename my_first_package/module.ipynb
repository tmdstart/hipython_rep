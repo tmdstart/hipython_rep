{
 "cells": [
  {
   "cell_type": "code",
   "execution_count": 1,
   "id": "056073e3-57ce-4f14-844b-93a0dded4157",
   "metadata": {},
   "outputs": [
    {
     "name": "stdout",
     "output_type": "stream",
     "text": [
      "magic calc\n"
     ]
    },
    {
     "data": {
      "text/plain": [
       "56"
      ]
     },
     "execution_count": 1,
     "metadata": {},
     "output_type": "execute_result"
    }
   ],
   "source": [
    "import magic_calc.advenced_ops as adops\n",
    "adops.magic_multiply(7,8)"
   ]
  },
  {
   "cell_type": "code",
   "execution_count": 2,
   "id": "24f96970-46d0-4471-b20f-e874d328e464",
   "metadata": {},
   "outputs": [
    {
     "data": {
      "text/plain": [
       "56"
      ]
     },
     "execution_count": 2,
     "metadata": {},
     "output_type": "execute_result"
    }
   ],
   "source": [
    "import magic_calc.advenced_ops as adops\n",
    "adops.magic_multiply(7,8)"
   ]
  },
  {
   "cell_type": "code",
   "execution_count": 5,
   "id": "dc39dc30-3432-4638-9006-0b1b5a92a4ae",
   "metadata": {},
   "outputs": [
    {
     "name": "stdout",
     "output_type": "stream",
     "text": [
      "first module입니다\n",
      "end module입니다\n",
      "hello\n"
     ]
    }
   ],
   "source": [
    "import second"
   ]
  },
  {
   "cell_type": "code",
   "execution_count": 6,
   "id": "fa1f07ff-d31c-45b7-9429-8d013119e48d",
   "metadata": {},
   "outputs": [
    {
     "name": "stdout",
     "output_type": "stream",
     "text": [
      "15\n"
     ]
    }
   ],
   "source": [
    "import magic_calc\n",
    "\n",
    "result_add = magic_calc.basic_ops.add(10,5)\n",
    "print(result_add)"
   ]
  },
  {
   "cell_type": "code",
   "execution_count": 8,
   "id": "b0f28dd9-384a-4068-85ec-90b6d24e502d",
   "metadata": {},
   "outputs": [
    {
     "name": "stdout",
     "output_type": "stream",
     "text": [
      "8\n"
     ]
    }
   ],
   "source": [
    "import magic_calc\n",
    "\n",
    "result_power = magic_calc.advenced_ops.power(2,3)\n",
    "print(result_power)"
   ]
  },
  {
   "cell_type": "code",
   "execution_count": 13,
   "id": "4450b7aa-3abf-4394-8878-9e4df7c4bc56",
   "metadata": {},
   "outputs": [
    {
     "name": "stdout",
     "output_type": "stream",
     "text": [
      "2.0\n"
     ]
    }
   ],
   "source": [
    "import magic_calc\n",
    "\n",
    "result_sqrt = magic_calc.advenced_ops.sqrt(4)\n",
    "print(result_sqrt)"
   ]
  },
  {
   "cell_type": "code",
   "execution_count": 16,
   "id": "85305411-5a65-4990-8193-870393bff8a8",
   "metadata": {},
   "outputs": [
    {
     "name": "stdout",
     "output_type": "stream",
     "text": [
      "28\n"
     ]
    }
   ],
   "source": [
    "import magic_calc\n",
    "\n",
    "result_multiply = magic_calc.advenced_ops.magic_multiply(4)\n",
    "print(result_multiply)"
   ]
  }
 ],
 "metadata": {
  "kernelspec": {
   "display_name": "Python 3 (ipykernel)",
   "language": "python",
   "name": "python3"
  },
  "language_info": {
   "codemirror_mode": {
    "name": "ipython",
    "version": 3
   },
   "file_extension": ".py",
   "mimetype": "text/x-python",
   "name": "python",
   "nbconvert_exporter": "python",
   "pygments_lexer": "ipython3",
   "version": "3.12.9"
  }
 },
 "nbformat": 4,
 "nbformat_minor": 5
}
