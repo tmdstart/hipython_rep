{
 "cells": [
  {
   "cell_type": "code",
   "execution_count": 10,
   "id": "1b374f8a",
   "metadata": {},
   "outputs": [
    {
     "name": "stdout",
     "output_type": "stream",
     "text": [
      "<class 'pandas.core.frame.DataFrame'>\n",
      "RangeIndex: 1704 entries, 0 to 1703\n",
      "Data columns (total 6 columns):\n",
      " #   Column     Non-Null Count  Dtype  \n",
      "---  ------     --------------  -----  \n",
      " 0   country    1704 non-null   object \n",
      " 1   continent  1704 non-null   object \n",
      " 2   year       1704 non-null   int64  \n",
      " 3   lifeExp    1704 non-null   float64\n",
      " 4   pop        1704 non-null   int64  \n",
      " 5   gdpPercap  1704 non-null   float64\n",
      "dtypes: float64(2), int64(2), object(2)\n",
      "memory usage: 80.0+ KB\n",
      "None\n"
     ]
    },
    {
     "data": {
      "text/plain": [
       "0       Afghanistan\n",
       "1       Afghanistan\n",
       "2       Afghanistan\n",
       "3       Afghanistan\n",
       "4       Afghanistan\n",
       "           ...     \n",
       "1699       Zimbabwe\n",
       "1700       Zimbabwe\n",
       "1701       Zimbabwe\n",
       "1702       Zimbabwe\n",
       "1703       Zimbabwe\n",
       "Name: country, Length: 1704, dtype: object"
      ]
     },
     "execution_count": 10,
     "metadata": {},
     "output_type": "execute_result"
    }
   ],
   "source": [
    "\n",
    "import pandas as pd\n",
    "#data gapminder를 보고 DataFrame 만들기\n",
    "#미리보기\n",
    "df=pd.read_csv('./data/gapminder.tsv', sep='\\t')\n",
    "\n",
    "print(df.info())\n",
    "\n",
    "df['country']\n"
   ]
  },
  {
   "cell_type": "code",
   "execution_count": 13,
   "id": "cc2da0dc",
   "metadata": {},
   "outputs": [
    {
     "data": {
      "text/plain": [
       "RangeIndex(start=0, stop=1704, step=1)"
      ]
     },
     "execution_count": 13,
     "metadata": {},
     "output_type": "execute_result"
    }
   ],
   "source": [
    "df.head()\n",
    "df.shape\n",
    "df.columns\n",
    "df.index"
   ]
  },
  {
   "cell_type": "code",
   "execution_count": 3,
   "id": "0552e18e",
   "metadata": {},
   "outputs": [
    {
     "data": {
      "text/html": [
       "<div>\n",
       "<style scoped>\n",
       "    .dataframe tbody tr th:only-of-type {\n",
       "        vertical-align: middle;\n",
       "    }\n",
       "\n",
       "    .dataframe tbody tr th {\n",
       "        vertical-align: top;\n",
       "    }\n",
       "\n",
       "    .dataframe thead th {\n",
       "        text-align: right;\n",
       "    }\n",
       "</style>\n",
       "<table border=\"1\" class=\"dataframe\">\n",
       "  <thead>\n",
       "    <tr style=\"text-align: right;\">\n",
       "      <th></th>\n",
       "      <th>country</th>\n",
       "      <th>continent</th>\n",
       "      <th>year</th>\n",
       "    </tr>\n",
       "  </thead>\n",
       "  <tbody>\n",
       "    <tr>\n",
       "      <th>0</th>\n",
       "      <td>Afghanistan</td>\n",
       "      <td>Asia</td>\n",
       "      <td>1952</td>\n",
       "    </tr>\n",
       "    <tr>\n",
       "      <th>1</th>\n",
       "      <td>Afghanistan</td>\n",
       "      <td>Asia</td>\n",
       "      <td>1957</td>\n",
       "    </tr>\n",
       "    <tr>\n",
       "      <th>2</th>\n",
       "      <td>Afghanistan</td>\n",
       "      <td>Asia</td>\n",
       "      <td>1962</td>\n",
       "    </tr>\n",
       "    <tr>\n",
       "      <th>3</th>\n",
       "      <td>Afghanistan</td>\n",
       "      <td>Asia</td>\n",
       "      <td>1967</td>\n",
       "    </tr>\n",
       "    <tr>\n",
       "      <th>4</th>\n",
       "      <td>Afghanistan</td>\n",
       "      <td>Asia</td>\n",
       "      <td>1972</td>\n",
       "    </tr>\n",
       "    <tr>\n",
       "      <th>...</th>\n",
       "      <td>...</td>\n",
       "      <td>...</td>\n",
       "      <td>...</td>\n",
       "    </tr>\n",
       "    <tr>\n",
       "      <th>1699</th>\n",
       "      <td>Zimbabwe</td>\n",
       "      <td>Africa</td>\n",
       "      <td>1987</td>\n",
       "    </tr>\n",
       "    <tr>\n",
       "      <th>1700</th>\n",
       "      <td>Zimbabwe</td>\n",
       "      <td>Africa</td>\n",
       "      <td>1992</td>\n",
       "    </tr>\n",
       "    <tr>\n",
       "      <th>1701</th>\n",
       "      <td>Zimbabwe</td>\n",
       "      <td>Africa</td>\n",
       "      <td>1997</td>\n",
       "    </tr>\n",
       "    <tr>\n",
       "      <th>1702</th>\n",
       "      <td>Zimbabwe</td>\n",
       "      <td>Africa</td>\n",
       "      <td>2002</td>\n",
       "    </tr>\n",
       "    <tr>\n",
       "      <th>1703</th>\n",
       "      <td>Zimbabwe</td>\n",
       "      <td>Africa</td>\n",
       "      <td>2007</td>\n",
       "    </tr>\n",
       "  </tbody>\n",
       "</table>\n",
       "<p>1704 rows × 3 columns</p>\n",
       "</div>"
      ],
      "text/plain": [
       "          country continent  year\n",
       "0     Afghanistan      Asia  1952\n",
       "1     Afghanistan      Asia  1957\n",
       "2     Afghanistan      Asia  1962\n",
       "3     Afghanistan      Asia  1967\n",
       "4     Afghanistan      Asia  1972\n",
       "...           ...       ...   ...\n",
       "1699     Zimbabwe    Africa  1987\n",
       "1700     Zimbabwe    Africa  1992\n",
       "1701     Zimbabwe    Africa  1997\n",
       "1702     Zimbabwe    Africa  2002\n",
       "1703     Zimbabwe    Africa  2007\n",
       "\n",
       "[1704 rows x 3 columns]"
      ]
     },
     "execution_count": 3,
     "metadata": {},
     "output_type": "execute_result"
    }
   ],
   "source": [
    "df[['country', 'continent', 'year']]\n"
   ]
  },
  {
   "cell_type": "code",
   "execution_count": 4,
   "id": "d86bcede",
   "metadata": {},
   "outputs": [
    {
     "name": "stdout",
     "output_type": "stream",
     "text": [
      "country      Afghanistan\n",
      "continent           Asia\n",
      "year                1952\n",
      "lifeExp           28.801\n",
      "pop              8425333\n",
      "gdpPercap     779.445314\n",
      "Name: 0, dtype: object\n",
      "\n",
      "\n",
      "country      Bangladesh\n",
      "continent          Asia\n",
      "year               1967\n",
      "lifeExp          43.453\n",
      "pop            62821884\n",
      "gdpPercap    721.186086\n",
      "Name: 99, dtype: object\n",
      "\n",
      "\n"
     ]
    }
   ],
   "source": [
    "print(df.loc[0])\n",
    "print(\"\\n\")\n",
    "print(df.loc[99])\n",
    "print(\"\\n\")\n",
    "\n",
    "\n"
   ]
  },
  {
   "cell_type": "code",
   "execution_count": 78,
   "id": "d5434b23",
   "metadata": {},
   "outputs": [],
   "source": [
    "# df = pd.read_csv('./data/gapminder.tsv', sep='\\t', index_col=0)\n",
    "#new_index = list(df.index)\n",
    "#new_index[-1] = -1\n",
    "#df.index = new_index\n",
    "#print(df.loc[-1])"
   ]
  },
  {
   "cell_type": "code",
   "execution_count": 21,
   "id": "b2f886a3",
   "metadata": {},
   "outputs": [
    {
     "name": "stdout",
     "output_type": "stream",
     "text": [
      "country      Afghanistan\n",
      "continent           Asia\n",
      "year                1952\n",
      "lifeExp           28.801\n",
      "pop              8425333\n",
      "gdpPercap     779.445314\n",
      "Name: 0, dtype: object\n",
      "\n",
      "\n",
      "country      Bangladesh\n",
      "continent          Asia\n",
      "year               1967\n",
      "lifeExp          43.453\n",
      "pop            62821884\n",
      "gdpPercap    721.186086\n",
      "Name: 99, dtype: object\n",
      "\n",
      "\n",
      "country        Zimbabwe\n",
      "continent        Africa\n",
      "year               2007\n",
      "lifeExp          43.487\n",
      "pop            12311143\n",
      "gdpPercap    469.709298\n",
      "Name: 1703, dtype: object\n",
      "\n",
      "\n",
      "          country continent  year  lifeExp       pop   gdpPercap\n",
      "0     Afghanistan      Asia  1952   28.801   8425333  779.445314\n",
      "99     Bangladesh      Asia  1967   43.453  62821884  721.186086\n",
      "1703     Zimbabwe    Africa  2007   43.487  12311143  469.709298\n",
      "\n",
      "\n",
      "<class 'pandas.core.frame.DataFrame'>\n",
      "<class 'pandas.core.series.Series'>\n"
     ]
    }
   ],
   "source": [
    "print(df.iloc[0])\n",
    "print(\"\\n\")\n",
    "print(df.iloc[99])\n",
    "print(\"\\n\")\n",
    "print(df.iloc[-1])\n",
    "print(\"\\n\")\n",
    "print(df.iloc[[0, 99, -1]])\n",
    "print(\"\\n\")\n",
    "print(type(df))\n",
    "\n",
    "df_list1 = df.iloc[-1]\n",
    "print(type(df_list1))\n",
    "\n",
    "\n"
   ]
  },
  {
   "cell_type": "code",
   "execution_count": 63,
   "id": "e4cfa04e",
   "metadata": {},
   "outputs": [
    {
     "data": {
      "text/html": [
       "<div>\n",
       "<style scoped>\n",
       "    .dataframe tbody tr th:only-of-type {\n",
       "        vertical-align: middle;\n",
       "    }\n",
       "\n",
       "    .dataframe tbody tr th {\n",
       "        vertical-align: top;\n",
       "    }\n",
       "\n",
       "    .dataframe thead th {\n",
       "        text-align: right;\n",
       "    }\n",
       "</style>\n",
       "<table border=\"1\" class=\"dataframe\">\n",
       "  <thead>\n",
       "    <tr style=\"text-align: right;\">\n",
       "      <th></th>\n",
       "      <th>pop</th>\n",
       "      <th>year</th>\n",
       "    </tr>\n",
       "  </thead>\n",
       "  <tbody>\n",
       "    <tr>\n",
       "      <th>0</th>\n",
       "      <td>8425333</td>\n",
       "      <td>1952</td>\n",
       "    </tr>\n",
       "    <tr>\n",
       "      <th>1</th>\n",
       "      <td>9240934</td>\n",
       "      <td>1957</td>\n",
       "    </tr>\n",
       "    <tr>\n",
       "      <th>2</th>\n",
       "      <td>10267083</td>\n",
       "      <td>1962</td>\n",
       "    </tr>\n",
       "    <tr>\n",
       "      <th>3</th>\n",
       "      <td>11537966</td>\n",
       "      <td>1967</td>\n",
       "    </tr>\n",
       "    <tr>\n",
       "      <th>4</th>\n",
       "      <td>13079460</td>\n",
       "      <td>1972</td>\n",
       "    </tr>\n",
       "    <tr>\n",
       "      <th>5</th>\n",
       "      <td>14880372</td>\n",
       "      <td>1977</td>\n",
       "    </tr>\n",
       "    <tr>\n",
       "      <th>6</th>\n",
       "      <td>12881816</td>\n",
       "      <td>1982</td>\n",
       "    </tr>\n",
       "    <tr>\n",
       "      <th>7</th>\n",
       "      <td>13867957</td>\n",
       "      <td>1987</td>\n",
       "    </tr>\n",
       "    <tr>\n",
       "      <th>8</th>\n",
       "      <td>16317921</td>\n",
       "      <td>1992</td>\n",
       "    </tr>\n",
       "    <tr>\n",
       "      <th>9</th>\n",
       "      <td>22227415</td>\n",
       "      <td>1997</td>\n",
       "    </tr>\n",
       "  </tbody>\n",
       "</table>\n",
       "</div>"
      ],
      "text/plain": [
       "        pop  year\n",
       "0   8425333  1952\n",
       "1   9240934  1957\n",
       "2  10267083  1962\n",
       "3  11537966  1967\n",
       "4  13079460  1972\n",
       "5  14880372  1977\n",
       "6  12881816  1982\n",
       "7  13867957  1987\n",
       "8  16317921  1992\n",
       "9  22227415  1997"
      ]
     },
     "execution_count": 63,
     "metadata": {},
     "output_type": "execute_result"
    }
   ],
   "source": [
    "df2=df[[ 'pop', 'year']].head(10)\n",
    "#df2[0:10]"
   ]
  },
  {
   "cell_type": "code",
   "execution_count": 67,
   "id": "47cf6ad8",
   "metadata": {},
   "outputs": [
    {
     "data": {
      "text/plain": [
       "1693    518.764268\n",
       "1694    527.272182\n",
       "1695    569.795071\n",
       "1696    799.362176\n",
       "1697    685.587682\n",
       "1698    788.855041\n",
       "1699    706.157306\n",
       "1700    693.420786\n",
       "1701    792.449960\n",
       "1702    672.038623\n",
       "Name: gdpPercap, dtype: float64"
      ]
     },
     "execution_count": 67,
     "metadata": {},
     "output_type": "execute_result"
    }
   ],
   "source": [
    "df3=df[['gdpPercap']]\n",
    "df.iloc[-11:-1,5]"
   ]
  },
  {
   "cell_type": "code",
   "execution_count": 68,
   "id": "237bfa07",
   "metadata": {},
   "outputs": [
    {
     "data": {
      "text/html": [
       "<div>\n",
       "<style scoped>\n",
       "    .dataframe tbody tr th:only-of-type {\n",
       "        vertical-align: middle;\n",
       "    }\n",
       "\n",
       "    .dataframe tbody tr th {\n",
       "        vertical-align: top;\n",
       "    }\n",
       "\n",
       "    .dataframe thead th {\n",
       "        text-align: right;\n",
       "    }\n",
       "</style>\n",
       "<table border=\"1\" class=\"dataframe\">\n",
       "  <thead>\n",
       "    <tr style=\"text-align: right;\">\n",
       "      <th></th>\n",
       "      <th>country</th>\n",
       "      <th>continent</th>\n",
       "      <th>year</th>\n",
       "      <th>lifeExp</th>\n",
       "    </tr>\n",
       "  </thead>\n",
       "  <tbody>\n",
       "    <tr>\n",
       "      <th>0</th>\n",
       "      <td>Afghanistan</td>\n",
       "      <td>Asia</td>\n",
       "      <td>1952</td>\n",
       "      <td>28.801</td>\n",
       "    </tr>\n",
       "    <tr>\n",
       "      <th>1</th>\n",
       "      <td>Afghanistan</td>\n",
       "      <td>Asia</td>\n",
       "      <td>1957</td>\n",
       "      <td>30.332</td>\n",
       "    </tr>\n",
       "    <tr>\n",
       "      <th>2</th>\n",
       "      <td>Afghanistan</td>\n",
       "      <td>Asia</td>\n",
       "      <td>1962</td>\n",
       "      <td>31.997</td>\n",
       "    </tr>\n",
       "    <tr>\n",
       "      <th>3</th>\n",
       "      <td>Afghanistan</td>\n",
       "      <td>Asia</td>\n",
       "      <td>1967</td>\n",
       "      <td>34.020</td>\n",
       "    </tr>\n",
       "    <tr>\n",
       "      <th>4</th>\n",
       "      <td>Afghanistan</td>\n",
       "      <td>Asia</td>\n",
       "      <td>1972</td>\n",
       "      <td>36.088</td>\n",
       "    </tr>\n",
       "  </tbody>\n",
       "</table>\n",
       "</div>"
      ],
      "text/plain": [
       "       country continent  year  lifeExp\n",
       "0  Afghanistan      Asia  1952   28.801\n",
       "1  Afghanistan      Asia  1957   30.332\n",
       "2  Afghanistan      Asia  1962   31.997\n",
       "3  Afghanistan      Asia  1967   34.020\n",
       "4  Afghanistan      Asia  1972   36.088"
      ]
     },
     "execution_count": 68,
     "metadata": {},
     "output_type": "execute_result"
    }
   ],
   "source": [
    "df.iloc[range(0, 5),:4]\n"
   ]
  },
  {
   "cell_type": "code",
   "execution_count": 79,
   "id": "72060f79",
   "metadata": {},
   "outputs": [
    {
     "data": {
      "text/html": [
       "<div>\n",
       "<style scoped>\n",
       "    .dataframe tbody tr th:only-of-type {\n",
       "        vertical-align: middle;\n",
       "    }\n",
       "\n",
       "    .dataframe tbody tr th {\n",
       "        vertical-align: top;\n",
       "    }\n",
       "\n",
       "    .dataframe thead th {\n",
       "        text-align: right;\n",
       "    }\n",
       "</style>\n",
       "<table border=\"1\" class=\"dataframe\">\n",
       "  <thead>\n",
       "    <tr style=\"text-align: right;\">\n",
       "      <th></th>\n",
       "      <th>year</th>\n",
       "      <th>lifeExp</th>\n",
       "      <th>pop</th>\n",
       "      <th>gdpPercap</th>\n",
       "    </tr>\n",
       "  </thead>\n",
       "  <tbody>\n",
       "    <tr>\n",
       "      <th>count</th>\n",
       "      <td>1704.00000</td>\n",
       "      <td>1704.000000</td>\n",
       "      <td>1.704000e+03</td>\n",
       "      <td>1704.000000</td>\n",
       "    </tr>\n",
       "    <tr>\n",
       "      <th>mean</th>\n",
       "      <td>1979.50000</td>\n",
       "      <td>59.474439</td>\n",
       "      <td>2.960121e+07</td>\n",
       "      <td>7215.327081</td>\n",
       "    </tr>\n",
       "    <tr>\n",
       "      <th>std</th>\n",
       "      <td>17.26533</td>\n",
       "      <td>12.917107</td>\n",
       "      <td>1.061579e+08</td>\n",
       "      <td>9857.454543</td>\n",
       "    </tr>\n",
       "    <tr>\n",
       "      <th>min</th>\n",
       "      <td>1952.00000</td>\n",
       "      <td>23.599000</td>\n",
       "      <td>6.001100e+04</td>\n",
       "      <td>241.165876</td>\n",
       "    </tr>\n",
       "    <tr>\n",
       "      <th>25%</th>\n",
       "      <td>1965.75000</td>\n",
       "      <td>48.198000</td>\n",
       "      <td>2.793664e+06</td>\n",
       "      <td>1202.060309</td>\n",
       "    </tr>\n",
       "    <tr>\n",
       "      <th>50%</th>\n",
       "      <td>1979.50000</td>\n",
       "      <td>60.712500</td>\n",
       "      <td>7.023596e+06</td>\n",
       "      <td>3531.846988</td>\n",
       "    </tr>\n",
       "    <tr>\n",
       "      <th>75%</th>\n",
       "      <td>1993.25000</td>\n",
       "      <td>70.845500</td>\n",
       "      <td>1.958522e+07</td>\n",
       "      <td>9325.462346</td>\n",
       "    </tr>\n",
       "    <tr>\n",
       "      <th>max</th>\n",
       "      <td>2007.00000</td>\n",
       "      <td>82.603000</td>\n",
       "      <td>1.318683e+09</td>\n",
       "      <td>113523.132900</td>\n",
       "    </tr>\n",
       "  </tbody>\n",
       "</table>\n",
       "</div>"
      ],
      "text/plain": [
       "             year      lifeExp           pop      gdpPercap\n",
       "count  1704.00000  1704.000000  1.704000e+03    1704.000000\n",
       "mean   1979.50000    59.474439  2.960121e+07    7215.327081\n",
       "std      17.26533    12.917107  1.061579e+08    9857.454543\n",
       "min    1952.00000    23.599000  6.001100e+04     241.165876\n",
       "25%    1965.75000    48.198000  2.793664e+06    1202.060309\n",
       "50%    1979.50000    60.712500  7.023596e+06    3531.846988\n",
       "75%    1993.25000    70.845500  1.958522e+07    9325.462346\n",
       "max    2007.00000    82.603000  1.318683e+09  113523.132900"
      ]
     },
     "execution_count": 79,
     "metadata": {},
     "output_type": "execute_result"
    }
   ],
   "source": [
    "df.describe()"
   ]
  },
  {
   "cell_type": "code",
   "execution_count": 132,
   "id": "9232a30a",
   "metadata": {},
   "outputs": [
    {
     "data": {
      "text/plain": [
       "0     28.801\n",
       "1     30.332\n",
       "2     31.997\n",
       "3     34.020\n",
       "4     36.088\n",
       "5     38.438\n",
       "6     39.854\n",
       "7     40.822\n",
       "8     41.674\n",
       "9     41.763\n",
       "10    42.129\n",
       "11    43.828\n",
       "12    55.230\n",
       "13    59.280\n",
       "14    64.820\n",
       "15    66.220\n",
       "16    67.690\n",
       "17    68.930\n",
       "18    70.420\n",
       "19    72.000\n",
       "20    71.581\n",
       "21    72.950\n",
       "22    75.651\n",
       "23    76.423\n",
       "24    43.077\n",
       "25    45.685\n",
       "26    48.303\n",
       "27    51.407\n",
       "28    54.518\n",
       "29    58.014\n",
       "30    61.368\n",
       "31    65.799\n",
       "32    67.744\n",
       "33    69.152\n",
       "34    70.994\n",
       "35    72.301\n",
       "36    30.015\n",
       "37    31.999\n",
       "38    34.000\n",
       "39    35.985\n",
       "40    37.928\n",
       "41    39.483\n",
       "42    39.942\n",
       "43    39.906\n",
       "44    40.647\n",
       "45    40.963\n",
       "46    41.003\n",
       "47    42.731\n",
       "48    62.485\n",
       "49    64.399\n",
       "50    65.142\n",
       "51    65.634\n",
       "52    67.065\n",
       "53    68.481\n",
       "54    69.942\n",
       "55    70.774\n",
       "56    71.868\n",
       "57    73.275\n",
       "58    74.340\n",
       "59    75.320\n",
       "Name: lifeExp, dtype: float64"
      ]
     },
     "execution_count": 132,
     "metadata": {},
     "output_type": "execute_result"
    }
   ],
   "source": [
    "df.groupby('year')['lifeExp'].mean() # 평균 수명\n",
    "df.groupby('year')['lifeExp'].max()\n",
    "\n",
    "df.groupby('year')['lifeExp'].min()\n",
    "df.groupby('year')['lifeExp'].head()\n",
    "#df['year'].value_counts()"
   ]
  },
  {
   "cell_type": "code",
   "execution_count": 92,
   "id": "9eaa2573",
   "metadata": {},
   "outputs": [
    {
     "data": {
      "text/plain": [
       "<pandas.core.groupby.generic.DataFrameGroupBy object at 0x000001E6062AFFB0>"
      ]
     },
     "execution_count": 92,
     "metadata": {},
     "output_type": "execute_result"
    }
   ],
   "source": [
    "group_df = df.groupby('year')\n",
    "group_df"
   ]
  },
  {
   "cell_type": "code",
   "execution_count": 149,
   "id": "164e958b",
   "metadata": {},
   "outputs": [
    {
     "data": {
      "text/plain": [
       "<Axes: xlabel='year'>"
      ]
     },
     "execution_count": 149,
     "metadata": {},
     "output_type": "execute_result"
    },
    {
     "data": {
      "image/png": "[encoded data removed]",
      "text/plain": [
       "<Figure size 640x480 with 1 Axes>"
      ]
     },
     "metadata": {},
     "output_type": "display_data"
    }
   ],
   "source": [
    "gdp_data=group_df['gdpPercap'].mean()\n",
    "gdp_data.plot()"
   ]
  },
  {
   "cell_type": "code",
   "execution_count": 98,
   "id": "2db1f800",
   "metadata": {},
   "outputs": [
    {
     "data": {
      "text/plain": [
       "<pandas.core.groupby.generic.DataFrameGroupBy object at 0x000001E60BBDA990>"
      ]
     },
     "execution_count": 98,
     "metadata": {},
     "output_type": "execute_result"
    }
   ],
   "source": [
    "df5=df.groupby(['year', 'continent'])[['lifeExp', 'gdpPercap']]\n",
    "df5"
   ]
  },
  {
   "cell_type": "code",
   "execution_count": 144,
   "id": "89a058ef",
   "metadata": {},
   "outputs": [
    {
     "name": "stdout",
     "output_type": "stream",
     "text": [
      "country\n",
      "Afghanistan           37.478833\n",
      "Albania               68.432917\n",
      "Algeria               59.030167\n",
      "Angola                37.883500\n",
      "Argentina             69.060417\n",
      "                        ...    \n",
      "Vietnam               57.479500\n",
      "West Bank and Gaza    60.328667\n",
      "Yemen, Rep.           46.780417\n",
      "Zambia                45.996333\n",
      "Zimbabwe              52.663167\n",
      "Name: lifeExp, Length: 142, dtype: float64\n",
      "\n",
      "\n",
      "year\n",
      "1952    49.057620\n",
      "1957    51.507401\n",
      "1962    53.609249\n",
      "1967    55.678290\n",
      "1972    57.647386\n",
      "1977    59.570157\n",
      "1982    61.533197\n",
      "1987    63.212613\n",
      "1992    64.160338\n",
      "1997    65.014676\n",
      "2002    65.694923\n",
      "2007    67.007423\n",
      "Name: lifeExp, dtype: float64\n",
      "\n",
      "\n",
      "continent\n",
      "Africa      48.865330\n",
      "Americas    64.658737\n",
      "Asia        60.064903\n",
      "Europe      71.903686\n",
      "Oceania     74.326208\n",
      "Name: lifeExp, dtype: float64\n"
     ]
    },
    {
     "data": {
      "text/plain": [
       "country\n",
       "Afghanistan           28.801\n",
       "Albania               55.230\n",
       "Algeria               43.077\n",
       "Angola                30.015\n",
       "Argentina             62.485\n",
       "                       ...  \n",
       "Vietnam               40.412\n",
       "West Bank and Gaza    43.160\n",
       "Yemen, Rep.           32.548\n",
       "Zambia                39.193\n",
       "Zimbabwe              39.989\n",
       "Name: lifeExp, Length: 142, dtype: float64"
      ]
     },
     "execution_count": 144,
     "metadata": {},
     "output_type": "execute_result"
    }
   ],
   "source": [
    "#country, contient, year 집게가능 속성\n",
    "#집계 min, max, min() \n",
    "\n",
    "grouped1=df.groupby('country')['lifeExp']\n",
    "grouped2=df.groupby('year')['lifeExp']\n",
    "grouped3=df.groupby('continent')['lifeExp']\n",
    "\n",
    "print(grouped1.mean())\n",
    "print(\"\\n\")\n",
    "print(grouped2.mean())\n",
    "print(\"\\n\")\n",
    "print(grouped3.mean())\n",
    "\n",
    "\n",
    "grouped1.min()\n",
    "\n",
    "#print(\"\\n\")\n",
    "#print(grouped1.min())\n",
    "#print(\"\\n\")\n",
    "#print(grouped2.min())\n",
    "#print(\"\\n\")\n",
    "#print(grouped3.min())\n",
    "\n"
   ]
  },
  {
   "cell_type": "code",
   "execution_count": 148,
   "id": "a0fd2837",
   "metadata": {},
   "outputs": [
    {
     "name": "stdout",
     "output_type": "stream",
     "text": [
      "country\n",
      "Afghanistan           43.828\n",
      "Albania               76.423\n",
      "Algeria               72.301\n",
      "Angola                42.731\n",
      "Argentina             75.320\n",
      "                       ...  \n",
      "Vietnam               74.249\n",
      "West Bank and Gaza    73.422\n",
      "Yemen, Rep.           62.698\n",
      "Zambia                51.821\n",
      "Zimbabwe              62.351\n",
      "Name: lifeExp, Length: 142, dtype: float64\n",
      "\n",
      "\n",
      "\n",
      "\n",
      "country\n",
      "Afghanistan           28.801\n",
      "Albania               55.230\n",
      "Algeria               43.077\n",
      "Angola                30.015\n",
      "Argentina             62.485\n",
      "                       ...  \n",
      "Vietnam               40.412\n",
      "West Bank and Gaza    43.160\n",
      "Yemen, Rep.           32.548\n",
      "Zambia                39.193\n",
      "Zimbabwe              39.989\n",
      "Name: lifeExp, Length: 142, dtype: float64\n",
      "가장 낮은 평균 기대수명: 36.76916666666667\n",
      "그 나라는: Sierra Leone\n"
     ]
    }
   ],
   "source": [
    "#기대수명 평균이 가장 낮은 국가는?\n",
    "\n",
    "print(df.groupby('country')['lifeExp'].max())\n",
    "print('\\n')\n",
    "print('\\n')\n",
    "print(df.groupby('country')['lifeExp'].min())\n",
    "grouped = df.groupby('country')['lifeExp'].mean()\n",
    "print(\"가장 낮은 평균 기대수명:\", grouped.min())\n",
    "print(\"그 나라는:\", grouped.idxmin())\n",
    "\n",
    "\n",
    "#fghanistan           28.801"
   ]
  },
  {
   "cell_type": "code",
   "execution_count": null,
   "id": "f7597c65",
   "metadata": {},
   "outputs": [
    {
     "name": "stdout",
     "output_type": "stream",
     "text": [
      "가장 낮은 평균 기대수명: 36.76916666666667\n",
      "그 나라는: Sierra Leone\n"
     ]
    }
   ],
   "source": [
    "\n",
    "\n",
    "#Sierra Leone     36.769167"
   ]
  },
  {
   "cell_type": "code",
   "execution_count": null,
   "id": "f2b5e0a0",
   "metadata": {},
   "outputs": [
    {
     "name": "stdout",
     "output_type": "stream",
     "text": [
      "가장 낮은 평균 기대수명: 36.76916666666667\n",
      "그 나라는: Sierra Leone\n"
     ]
    }
   ],
   "source": [
    "\n"
   ]
  },
  {
   "cell_type": "code",
   "execution_count": null,
   "id": "4c5700e5",
   "metadata": {},
   "outputs": [],
   "source": []
  },
  {
   "cell_type": "code",
   "execution_count": 145,
   "id": "4967664d",
   "metadata": {},
   "outputs": [],
   "source": [
    "#range()객체로 행열 슬라이드\n",
    "\n",
    "#country열 추출하기\n",
    "\n",
    "#'country', 'continent', 'year' 열 추출하기\n",
    "\n",
    "#loc[0], [99], [-1] 로 각각 추출하기\n",
    "\n",
    "#loc[0], [99], [-1] 로  행을 각각 추출하기"
   ]
  },
  {
   "cell_type": "code",
   "execution_count": null,
   "id": "1b7760b3",
   "metadata": {},
   "outputs": [],
   "source": []
  },
  {
   "cell_type": "code",
   "execution_count": null,
   "id": "cf901c21",
   "metadata": {},
   "outputs": [],
   "source": []
  }
 ],
 "metadata": {
  "kernelspec": {
   "display_name": "hipython",
   "language": "python",
   "name": "python3"
  },
  "language_info": {
   "codemirror_mode": {
    "name": "ipython",
    "version": 3
   },
   "file_extension": ".py",
   "mimetype": "text/x-python",
   "name": "python",
   "nbconvert_exporter": "python",
   "pygments_lexer": "ipython3",
   "version": "3.12.9"
  }
 },
 "nbformat": 4,
 "nbformat_minor": 5
}
