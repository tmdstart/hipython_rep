{
 "cells": [
  {
   "cell_type": "code",
   "execution_count": 1,
   "id": "bd695364-8bf0-4479-89e7-9ed6f16f21be",
   "metadata": {},
   "outputs": [
    {
     "name": "stdout",
     "output_type": "stream",
     "text": [
      "안녕하세요, 파이썬 함수입니다.\n"
     ]
    }
   ],
   "source": [
    "def greeting():\n",
    "    print(\"안녕하세요, 파이썬 함수입니다.\")\n",
    "\n",
    "greeting()"
   ]
  },
  {
   "cell_type": "code",
   "execution_count": null,
   "id": "30edb158-d845-4e41-b74b-397f7dcbd5dc",
   "metadata": {},
   "outputs": [],
   "source": [
    "#함수 \n",
    "- 인자 = 매개변수, 입력, 파라미터\n",
    "- 반환값 = 리턴값, 결과값\n",
    "- 함수이름\n",
    "- 함수 정의 > 호출"
   ]
  },
  {
   "cell_type": "code",
   "execution_count": 27,
   "id": "ee89f93c-f743-4469-8687-d04dc4beb0c6",
   "metadata": {},
   "outputs": [],
   "source": [
    "def my_func():\n",
    "    print('my first function')\n",
    "    print('hello')\n",
    "    print('good, job')\n",
    "    return 'hello'"
   ]
  },
  {
   "cell_type": "code",
   "execution_count": 20,
   "id": "bab9b7b7-c6f4-401a-9141-657d4084eaba",
   "metadata": {},
   "outputs": [],
   "source": [
    "def my_func1():\n",
    "    print('my first function')\n",
    "    print('hello')\n",
    "    print('good, job')\n",
    "    return 'hello'"
   ]
  },
  {
   "cell_type": "code",
   "execution_count": 28,
   "id": "08f4a169-5f8f-49f0-934d-c734d6973ea0",
   "metadata": {
    "scrolled": true
   },
   "outputs": [
    {
     "name": "stdout",
     "output_type": "stream",
     "text": [
      "my first function\n",
      "hello\n",
      "good, job\n"
     ]
    },
    {
     "data": {
      "text/plain": [
       "'hello'"
      ]
     },
     "execution_count": 28,
     "metadata": {},
     "output_type": "execute_result"
    }
   ],
   "source": [
    "my_func1()"
   ]
  },
  {
   "cell_type": "code",
   "execution_count": 29,
   "id": "68383de8-7a32-4d5d-b83a-78be8a9b2035",
   "metadata": {},
   "outputs": [
    {
     "name": "stdout",
     "output_type": "stream",
     "text": [
      "my first function\n",
      "hello\n",
      "good, job\n"
     ]
    }
   ],
   "source": [
    "my_func_var =  my_func()"
   ]
  },
  {
   "cell_type": "code",
   "execution_count": 22,
   "id": "fbcbaefc-c27e-4bf8-9ddf-589dabfe770a",
   "metadata": {},
   "outputs": [
    {
     "name": "stdout",
     "output_type": "stream",
     "text": [
      "my first function\n",
      "hello\n",
      "good, job\n",
      "hello\n"
     ]
    }
   ],
   "source": [
    "my_func_var=my_func()\n",
    "my_func_var\n",
    "print(my_func_var)"
   ]
  },
  {
   "cell_type": "code",
   "execution_count": 25,
   "id": "365678c1-f96c-47b6-a168-2b2dd5253aa2",
   "metadata": {},
   "outputs": [
    {
     "name": "stdout",
     "output_type": "stream",
     "text": [
      "my first function\n",
      "hello\n",
      "good, job\n"
     ]
    }
   ],
   "source": [
    "my_func_var2 = my_func1()"
   ]
  },
  {
   "cell_type": "code",
   "execution_count": 26,
   "id": "6000ed9b-d7bd-42fb-8975-a23af43a72c7",
   "metadata": {},
   "outputs": [
    {
     "data": {
      "text/plain": [
       "'hello'"
      ]
     },
     "execution_count": 26,
     "metadata": {},
     "output_type": "execute_result"
    }
   ],
   "source": [
    "my_func_var2"
   ]
  },
  {
   "cell_type": "code",
   "execution_count": null,
   "id": "debc2168-3645-44de-b7fa-da0a46fe3943",
   "metadata": {},
   "outputs": [],
   "source": [
    "입력값이 있는 함수"
   ]
  },
  {
   "cell_type": "code",
   "execution_count": 48,
   "id": "1a3ead54-4399-4025-85eb-59c5604665cd",
   "metadata": {
    "scrolled": true
   },
   "outputs": [
    {
     "name": "stdout",
     "output_type": "stream",
     "text": [
      "2를 계산합니다.\n"
     ]
    },
    {
     "data": {
      "text/plain": [
       "40"
      ]
     },
     "execution_count": 48,
     "metadata": {},
     "output_type": "execute_result"
    }
   ],
   "source": [
    "def my_calc(x):\n",
    "    print(f'{x}를 계산합니다.')\n",
    "    z=x*20\n",
    "    return z\n",
    "my_calc(2)    "
   ]
  },
  {
   "cell_type": "code",
   "execution_count": 54,
   "id": "45e81b22-d5ad-490e-98d9-6ccd3c4d7adb",
   "metadata": {},
   "outputs": [
    {
     "name": "stdout",
     "output_type": "stream",
     "text": [
      "5와 10를 계산합니다.\n"
     ]
    },
    {
     "data": {
      "text/plain": [
       "(15, 50)"
      ]
     },
     "execution_count": 54,
     "metadata": {},
     "output_type": "execute_result"
    }
   ],
   "source": [
    "def my_calc2(x,y):\n",
    "    print(f'{x}와 {y}를 계산합니다.')\n",
    "    add_result=x+y\n",
    "    mul_result=x*y\n",
    "    return add_result, mul_result\n",
    "my_calc2(5,10)    "
   ]
  },
  {
   "cell_type": "code",
   "execution_count": 56,
   "id": "28d85f98-16d2-4107-80b9-6fa27834f65a",
   "metadata": {},
   "outputs": [
    {
     "name": "stdout",
     "output_type": "stream",
     "text": [
      "5와 10를 계산합니다.\n"
     ]
    },
    {
     "data": {
      "text/plain": [
       "(15, 50)"
      ]
     },
     "execution_count": 56,
     "metadata": {},
     "output_type": "execute_result"
    }
   ],
   "source": [
    "func_result1, f2 = my_calc2(5,10)  #언패킹\n",
    "func_result"
   ]
  },
  {
   "cell_type": "code",
   "execution_count": 58,
   "id": "fcba4fac-c3fe-403e-9d70-a2cfed75b4ac",
   "metadata": {
    "scrolled": true
   },
   "outputs": [
    {
     "data": {
      "text/plain": [
       "15"
      ]
     },
     "execution_count": 58,
     "metadata": {},
     "output_type": "execute_result"
    }
   ],
   "source": [
    "func_result1"
   ]
  },
  {
   "cell_type": "code",
   "execution_count": null,
   "id": "239cdb9c-b0f6-4314-8d9f-f0bcb0182c74",
   "metadata": {},
   "outputs": [],
   "source": [
    "# 입력값의 타입 : 수치형 vs 리스트 (객체형)\n",
    "  - 수치형  : 값에 의한 call by value\n",
    "  - 객체형 값의 전달 call by reference\n"
   ]
  },
  {
   "cell_type": "code",
   "execution_count": 64,
   "id": "0679f090-4efb-45c0-8986-b2dbf0d5b47a",
   "metadata": {
    "scrolled": true
   },
   "outputs": [],
   "source": [
    "def my_calc3(a, lst1) :\n",
    "    a+=1\n",
    "    lst1.append(a)\n",
    "    return a\n"
   ]
  },
  {
   "cell_type": "code",
   "execution_count": 66,
   "id": "9059371b-dfff-4944-aaba-cee5a33f36f9",
   "metadata": {},
   "outputs": [
    {
     "name": "stdout",
     "output_type": "stream",
     "text": [
      "before: 10, [1, 2, '12']\n",
      "before: 10, [1, 2, '12', 11]\n"
     ]
    }
   ],
   "source": [
    "num =10 \n",
    "lst_num = [1,2,\"12\"]\n",
    "print(f'before: {num}, {lst_num}')\n",
    "\n",
    "my_calc3(num, lst_num)\n",
    "print(f'before: {num}, {lst_num}')\n"
   ]
  },
  {
   "cell_type": "code",
   "execution_count": 67,
   "id": "59747ad0-7e6f-4d3c-b140-a2fda3c43222",
   "metadata": {},
   "outputs": [
    {
     "data": {
      "text/plain": [
       "11"
      ]
     },
     "execution_count": 67,
     "metadata": {},
     "output_type": "execute_result"
    }
   ],
   "source": [
    "my_calc3(a=num, lst1=lst_num)"
   ]
  },
  {
   "cell_type": "markdown",
   "id": "fb813124-5323-43d6-b6a3-ed991b0e5527",
   "metadata": {},
   "source": [
    "# 키워드 매개변수 함수의 매개변수는 그 자체가 매개변수명이다.\n",
    "매개변수명을 이용한 호출은 매개변수의 순서와 무관하다."
   ]
  },
  {
   "cell_type": "code",
   "execution_count": 73,
   "id": "ca0ea800-6c88-4601-b4e6-c1790a158f5e",
   "metadata": {},
   "outputs": [
    {
     "ename": "NameError",
     "evalue": "name 'greating' is not defined",
     "output_type": "error",
     "traceback": [
      "\u001b[31m---------------------------------------------------------------------------\u001b[39m",
      "\u001b[31mNameError\u001b[39m                                 Traceback (most recent call last)",
      "\u001b[36mCell\u001b[39m\u001b[36m \u001b[39m\u001b[32mIn[73]\u001b[39m\u001b[32m, line 4\u001b[39m\n\u001b[32m      1\u001b[39m \u001b[38;5;28;01mdef\u001b[39;00m\u001b[38;5;250m \u001b[39m\u001b[34mgreeting\u001b[39m(name, greeting=\u001b[33m'\u001b[39m\u001b[33mhello\u001b[39m\u001b[33m'\u001b[39m):\n\u001b[32m      2\u001b[39m     \u001b[38;5;28mprint\u001b[39m(\u001b[33mf\u001b[39m\u001b[33m'\u001b[39m\u001b[38;5;132;01m{\u001b[39;00mgreating\u001b[38;5;132;01m}\u001b[39;00m\u001b[33m, \u001b[39m\u001b[38;5;132;01m{\u001b[39;00mname\u001b[38;5;132;01m}\u001b[39;00m\u001b[33m님\u001b[39m\u001b[33m'\u001b[39m)\n\u001b[32m----> \u001b[39m\u001b[32m4\u001b[39m greeting(\u001b[33m'\u001b[39m\u001b[33mminsu\u001b[39m\u001b[33m'\u001b[39m, \u001b[33m'\u001b[39m\u001b[33mhello\u001b[39m\u001b[33m'\u001b[39m)\n",
      "\u001b[36mCell\u001b[39m\u001b[36m \u001b[39m\u001b[32mIn[73]\u001b[39m\u001b[32m, line 2\u001b[39m, in \u001b[36mgreeting\u001b[39m\u001b[34m(name, greeting)\u001b[39m\n\u001b[32m      1\u001b[39m \u001b[38;5;28;01mdef\u001b[39;00m\u001b[38;5;250m \u001b[39m\u001b[34mgreeting\u001b[39m(name, greeting=\u001b[33m'\u001b[39m\u001b[33mhello\u001b[39m\u001b[33m'\u001b[39m):\n\u001b[32m----> \u001b[39m\u001b[32m2\u001b[39m     \u001b[38;5;28mprint\u001b[39m(\u001b[33mf\u001b[39m\u001b[33m'\u001b[39m\u001b[38;5;132;01m{\u001b[39;00mgreating\u001b[38;5;132;01m}\u001b[39;00m\u001b[33m, \u001b[39m\u001b[38;5;132;01m{\u001b[39;00mname\u001b[38;5;132;01m}\u001b[39;00m\u001b[33m님\u001b[39m\u001b[33m'\u001b[39m)\n",
      "\u001b[31mNameError\u001b[39m: name 'greating' is not defined"
     ]
    }
   ],
   "source": [
    "def greeting(name, greeting='hello'):\n",
    "    print(f'{greating}, {name}님')\n",
    "\n",
    "greeting('minsu', 'hello')\n"
   ]
  },
  {
   "cell_type": "code",
   "execution_count": 72,
   "id": "cd86df3b-1ed1-4c27-b12f-c2fcb6317c77",
   "metadata": {},
   "outputs": [
    {
     "name": "stdout",
     "output_type": "stream",
     "text": [
      "hello, minsu님\n"
     ]
    }
   ],
   "source": [
    "def greeting(name, greeting='hello'):\n",
    "    print(f'{greeting}, {name}님')  # Corrected 'greating' → 'greeting'\n",
    "\n",
    "greeting('minsu', 'hello')  # Output: hello, minsu님"
   ]
  },
  {
   "cell_type": "code",
   "execution_count": 80,
   "id": "18dbd7db-32da-45b1-806f-a18e9b615b59",
   "metadata": {},
   "outputs": [
    {
     "data": {
      "text/plain": [
       "15"
      ]
     },
     "execution_count": 80,
     "metadata": {},
     "output_type": "execute_result"
    }
   ],
   "source": [
    "#가변인자\n",
    "def sum_all( *args):  #가장 마지막에\n",
    "    return sum(args)\n",
    "    \n",
    "sum_all(1,2,3,4,5)"
   ]
  },
  {
   "cell_type": "code",
   "execution_count": 84,
   "id": "9eeb90db-3a6b-4829-b798-d38f2eeb4b8f",
   "metadata": {},
   "outputs": [
    {
     "name": "stdout",
     "output_type": "stream",
     "text": [
      "<class 'tuple'>\n"
     ]
    },
    {
     "data": {
      "text/plain": [
       "15"
      ]
     },
     "execution_count": 84,
     "metadata": {},
     "output_type": "execute_result"
    }
   ],
   "source": [
    "def sum_all2(arg1,arg2, *args):\n",
    "    result = arg1 + arg2 + sum(args)\n",
    "    print(type(args))\n",
    "    return result\n",
    "\n",
    "sum_all2(1,2,3,4,5)"
   ]
  },
  {
   "cell_type": "code",
   "execution_count": 89,
   "id": "3cdc1567-071c-4c3b-9973-95885a599508",
   "metadata": {},
   "outputs": [],
   "source": [
    "def print_info(**kwargs):\n",
    "    for k, v in kwargs.items():\n",
    "        print(f'{k}, {v}')"
   ]
  },
  {
   "cell_type": "code",
   "execution_count": 91,
   "id": "07047c0e-d459-4683-bc57-314b5b3b31b4",
   "metadata": {},
   "outputs": [
    {
     "name": "stdout",
     "output_type": "stream",
     "text": [
      "name, hong\n",
      "age, 20\n",
      "city, seoul\n",
      "nick_name, bob\n"
     ]
    }
   ],
   "source": [
    " print_info(name='hong', age=20, city='seoul', nick_name='bob')"
   ]
  },
  {
   "cell_type": "code",
   "execution_count": 95,
   "id": "6784632a-1b72-4a06-9c6b-1a72c2adc08f",
   "metadata": {},
   "outputs": [
    {
     "ename": "SyntaxError",
     "evalue": "leading zeros in decimal integer literals are not permitted; use an 0o prefix for octal integers (1850442223.py, line 28)",
     "output_type": "error",
     "traceback": [
      "  \u001b[36mCell\u001b[39m\u001b[36m \u001b[39m\u001b[32mIn[95]\u001b[39m\u001b[32m, line 28\u001b[39m\n\u001b[31m    \u001b[39m\u001b[31m날짜 - 연, 월, 일 yesr =2025 month = 06, day =05\u001b[39m\n                                              ^\n\u001b[31mSyntaxError\u001b[39m\u001b[31m:\u001b[39m leading zeros in decimal integer literals are not permitted; use an 0o prefix for octal integers\n"
     ]
    }
   ],
   "source": [
    "#요일 구하는 함수\n",
    "#입력 : year, month, day \n",
    "#출력 : 월요일\n",
    "#함수명 : 요일찾기()\n",
    "\n",
    "\n",
    "total_days = 0\n",
    "\n",
    "for(i in range(i, year)\n",
    "    #유년 400으로 나누면 나머지가 0, 4로나누어 나머지가 0\n",
    "    #평년 100으로 나누어 나머지가 0\n",
    "\n",
    "    if(i%400 == 0:\n",
    "        total_Days +=366\n",
    "    elif 1%100 == 0;\n",
    "        total_Days +=366\n",
    "    elif 1%4 == 0;\n",
    "        total_Days +=366\n",
    "    else:\n",
    "        total_Days +=365\n",
    "\n",
    "print(total_days)\n",
    "\n",
    "\n",
    "    \n",
    "    \n",
    "년도에 해당하는 일수\n",
    "날짜 - 연, 월, 일 yesr =2025 month = 06, day =05\n",
    "#년도일수 입력년도 -1 *365\n",
    "# 월일수 입력한 월-1 *30\n",
    "# 입력한 일\n",
    "#윤년인지 체크 윤년이 2월이 29일있는것\n",
    "#윤녀일떄는 +! \n",
    "#1월일떄는 31일\n",
    "#월별 일수 계산\n",
    "\n",
    "\n",
    "\n",
    "#def day()\n",
    "    \n",
    "\n",
    "\n",
    "\n",
    "\n",
    "\n",
    "------\n",
    "#year, month, day = 2016, 8, 11\n",
    "#print(year, month, day, sep='-')\n",
    "\n",
    "\n"
   ]
  },
  {
   "cell_type": "code",
   "execution_count": 153,
   "id": "fe430471-2d90-4807-9e20-21866716e414",
   "metadata": {},
   "outputs": [
    {
     "data": {
      "text/plain": [
       "False"
      ]
     },
     "execution_count": 153,
     "metadata": {},
     "output_type": "execute_result"
    }
   ],
   "source": [
    "def yunnun(year):\n",
    "    yun = False\n",
    "    if year%400 == 0:\n",
    "       return True\n",
    "    elif year%100 == 0:\n",
    "       return False\n",
    "    elif year%4 == 0:\n",
    "       return True\n",
    "    else:\n",
    "       return False\n",
    "\n",
    "yunnun(2025)"
   ]
  },
  {
   "cell_type": "code",
   "execution_count": 156,
   "id": "38fb73d8-95c6-4fa6-89af-043f768ca49e",
   "metadata": {},
   "outputs": [
    {
     "name": "stdout",
     "output_type": "stream",
     "text": [
      "739251\n",
      "739402\n",
      "739407\n",
      "목요일\n"
     ]
    }
   ],
   "source": [
    "year=2025\n",
    "month=6\n",
    "days=5\n",
    "\n",
    "total_days = 0\n",
    "#년도일수 입력년도-1 * 365\n",
    "#윤년인지 체크\n",
    "#2월이 29일\n",
    "\n",
    "\n",
    "for i in range(1,year):\n",
    "    #윤년: 400으로 나누어 나머지가 0, 4로 나누어 나머지가 0\n",
    "    #평년: 100으로 나누어 나머지가 0\n",
    "    if yunnun(i) == True : \n",
    "        total_days+=366     \n",
    "    elif yunnun(i) == False :\n",
    "        total_days+=365\n",
    "    \n",
    "print(total_days)\n",
    "\n",
    "\n",
    "month_days = [0,31,28,31,30,31,30,31,31,30,31,30,31]\n",
    "for m in range (1, month):\n",
    "    total_days += month_days[m]\n",
    "if month >= 3:\n",
    "  if yunnun(2025) == True : total_days+=1\n",
    "\n",
    "print(total_days)\n",
    "total_days+=days\n",
    "\n",
    "print(total_days) #774444\n",
    "\n",
    "\n",
    "remain_days =total_days % 7\n",
    "\n",
    "weekdays = [\"일요일\", \"월요일\", \"화요일\", \"수요일\", \"목요일\", \"금요일\", \"토요일\"]\n",
    "\n",
    "print(weekdays[remain_days])  # 요일 출력\n",
    "\n",
    " \n",
    "#if remain_days ==1 :\n",
    "#    print('월요일')\n",
    "#if remain_days ==2 :\n",
    "#    print('화요일')\n",
    "#if remain_days ==3 :\n",
    "#    print('수요일')\n",
    "#if remain_days ==4 :\n",
    "#    print('목요일')\n",
    "#if remain_days ==5 :\n",
    "#    print('금요일')\n",
    "#if remain_days ==6 :\n",
    "# print('토요일')\n",
    "#if remain_days ==7 :\n",
    "#   print('일요일') "
   ]
  },
  {
   "cell_type": "code",
   "execution_count": null,
   "id": "74a74ea2-56fa-46bc-9973-5da7caebc94e",
   "metadata": {},
   "outputs": [],
   "source": []
  },
  {
   "cell_type": "code",
   "execution_count": 105,
   "id": "c82342f3-2d0a-482f-9434-5d4184eec2f7",
   "metadata": {
    "scrolled": true
   },
   "outputs": [
    {
     "name": "stdout",
     "output_type": "stream",
     "text": [
      "394\n"
     ]
    }
   ],
   "source": [
    "month_days = [0,31,28,31,30,31,30,31,31,30,31,30,31]\n",
    "for m in range (1, 6):\n",
    "    total_days += month_days[m]\n",
    "print(total_days)"
   ]
  },
  {
   "cell_type": "code",
   "execution_count": 125,
   "id": "a5247746-9714-4f1d-a1e8-c85bfeb677ec",
   "metadata": {},
   "outputs": [],
   "source": [
    "def 요일찾기(year, month, day):\n",
    "    week_day_name='일요일'\n",
    "    return week_day_name"
   ]
  },
  {
   "cell_type": "code",
   "execution_count": 126,
   "id": "90962982-9454-472e-acf8-3c2f6f4d0588",
   "metadata": {},
   "outputs": [
    {
     "ename": "NameError",
     "evalue": "name 'day' is not defined",
     "output_type": "error",
     "traceback": [
      "\u001b[31m---------------------------------------------------------------------------\u001b[39m",
      "\u001b[31mNameError\u001b[39m                                 Traceback (most recent call last)",
      "\u001b[36mCell\u001b[39m\u001b[36m \u001b[39m\u001b[32mIn[126]\u001b[39m\u001b[32m, line 5\u001b[39m\n\u001b[32m      2\u001b[39m today=datetime.date(\u001b[32m2025\u001b[39m,\u001b[32m6\u001b[39m,\u001b[32m5\u001b[39m)\n\u001b[32m      3\u001b[39m today.weekday()\n\u001b[32m----> \u001b[39m\u001b[32m5\u001b[39m day_name = 요일찾기(year, month, day)\n\u001b[32m      6\u001b[39m \u001b[38;5;28mprint\u001b[39m(\u001b[33mf\u001b[39m\u001b[33m'\u001b[39m\u001b[33m입력하신 날짜는 \u001b[39m\u001b[38;5;132;01m{\u001b[39;00mday_name\u001b[38;5;132;01m}\u001b[39;00m\u001b[33m 입니다\u001b[39m\u001b[33m'\u001b[39m)\n",
      "\u001b[31mNameError\u001b[39m: name 'day' is not defined"
     ]
    }
   ],
   "source": [
    "import datetime\n",
    "today=datetime.date(2025,6,5)\n",
    "today.weekday()\n",
    "\n",
    "day_name = 요일찾기(year, month, day)\n",
    "print(f'입력하신 날짜는 {day_name} 입니다')"
   ]
  },
  {
   "cell_type": "markdown",
   "id": "4f20f560-5944-45aa-9467-48e734a013dd",
   "metadata": {},
   "source": [
    "#성적처리 시스템 total, avg, 성적순 구하기\n",
    "-calc_total()\n",
    "-calc_average()\n",
    "-calc_order()\n",
    "\n",
    "-print_student(students)\n",
    "-print_class() 과목평균\n"
   ]
  },
  {
   "cell_type": "code",
   "execution_count": 10,
   "id": "e7fa5e76-a491-4807-a3d7-5a0d0e9fc873",
   "metadata": {},
   "outputs": [],
   "source": [
    "students = [\n",
    "               {'num':'1','name':'김철수','kor':90,'eng':80,'math':85,'total':0,'avg':0.0,'order':0 },\n",
    "               {'num':'2','name':'박제동','kor':90,'eng':85,'math':90,'total':0,'avg':0.0,'order':0 },\n",
    "               {'num':'3','name':'홍길동','kor':80,'eng':80,'math':80,'total':0,'avg':0.0,'order':0 }\n",
    "           ]"
   ]
  },
  {
   "cell_type": "code",
   "execution_count": 159,
   "id": "b50ae8b2-56c5-41cf-b426-c6355c8c48c5",
   "metadata": {},
   "outputs": [
    {
     "name": "stdout",
     "output_type": "stream",
     "text": [
      "255 85.0\n",
      "265 88.33333333333333\n",
      "240 80.0\n"
     ]
    }
   ],
   "source": [
    "for student in students : \n",
    "    student['total'] = (student['kor'] + student['eng']  + student['math'])\n",
    "    student['avg'] = student['total'] / 3\n",
    "    print(student['total'], student['avg'])"
   ]
  },
  {
   "cell_type": "code",
   "execution_count": 61,
   "id": "5992d4f0-4545-44f1-8241-43a4024e4a19",
   "metadata": {},
   "outputs": [],
   "source": [
    "def calc_total(stus) :\n",
    "    for s in stus:\n",
    "       s['total'] = (s['kor'] + s['eng']  + s['math'])\n",
    "       return s['total']\n",
    "def calc_average(stus) :\n",
    "    for s in stus:\n",
    "        s['avg'] = float((s['kor'] + s['eng']  + s['math']))/3\n",
    "        return s['avg']    \n",
    "def calc_order(stus):  \n",
    "    for student in stus :  #students[0] 자료를 꺼낸 것이 student\n",
    "        rank = 1\n",
    "        for other in stus :\n",
    "            if other['total'] > student['total'] :\n",
    "                rank += 1\n",
    "        student['order'] = rank\n",
    "        #print(student['name'], student['order'])\n",
    "def print_student(stus) :\n",
    "    for s in stus:\n",
    "        s['avg'] = float((s['kor'] + s['eng']  + s['math']))/3\n",
    "        print(f'국어: {s['kor']} 영어: {s['eng']} 수학: {s['math']} 평균: {s['avg']} ') \n",
    "\n",
    "def print_class(stus) :\n",
    "    #반평균\n",
    "    class_avg=0\n",
    "    count =  len(stus)\n",
    "    total = sum(student['total'] for student in stus)\n",
    "    class_avg = sum(student['total'] for student in stus)/count\n",
    "    kor_avg= sum(student['kor'] for student in stus)/count\n",
    "    eng_avg= sum(student['eng'] for student in stus)/count\n",
    "    eng_avg= sum(student['math'] for student in stus)/count\n",
    "\n",
    "    print(f'반평균 : {class_avg}, 국어 : {kor_avg} 영어 : {kor_avg} 수학 : {kor_avg}   ')\n"
   ]
  },
  {
   "cell_type": "code",
   "execution_count": 64,
   "id": "d4da9a30-50f3-42fb-aa40-ca9f5a017efc",
   "metadata": {},
   "outputs": [
    {
     "name": "stdout",
     "output_type": "stream",
     "text": [
      "국어: 90 영어: 80 수학: 85 평균: 85.0 \n",
      "국어: 90 영어: 85 수학: 90 평균: 88.33333333333333 \n",
      "국어: 80 영어: 80 수학: 80 평균: 80.0 \n",
      "반평균 : 85.0, 국어 : 86.66666666666667 영어 : 86.66666666666667 수학 : 86.66666666666667   \n"
     ]
    }
   ],
   "source": [
    "total=calc_total(students)\n",
    "total\n",
    "avg=calc_average(students)\n",
    "avg\n",
    "calc_order(students)\n",
    "print_student(students)\n",
    "print_class(students)"
   ]
  },
  {
   "cell_type": "code",
   "execution_count": 8,
   "id": "76f6cba8-cbce-46f7-bdc9-91aa3ad6b6af",
   "metadata": {},
   "outputs": [
    {
     "name": "stdout",
     "output_type": "stream",
     "text": [
      "김철수 1\n",
      "박제동 1\n",
      "홍길동 1\n"
     ]
    }
   ],
   "source": [
    "students = [\n",
    "               {'num':'1','name':'김철수','kor':90,'eng':80,'math':85,'total':0,'avg':0.0,'order':0 },\n",
    "               {'num':'2','name':'박제동','kor':90,'eng':85,'math':90,'total':0,'avg':0.0,'order':0 },\n",
    "               {'num':'3','name':'홍길동','kor':80,'eng':80,'math':80,'total':0,'avg':0.0,'order':0 }\n",
    "           ]\n",
    "\n",
    "for student in students :  \n",
    "    rank = 1\n",
    "    for other in students :\n",
    "        if other['total'] > student['total'] :\n",
    "            rank += 1\n",
    "    student['order'] = rank\n",
    "    print(student['name'], student['order'])"
   ]
  },
  {
   "cell_type": "code",
   "execution_count": 11,
   "id": "4ab70188-d180-4067-952f-845e53f5f2f0",
   "metadata": {},
   "outputs": [],
   "source": []
  }
 ],
 "metadata": {
  "kernelspec": {
   "display_name": "Python 3 (ipykernel)",
   "language": "python",
   "name": "python3"
  },
  "language_info": {
   "codemirror_mode": {
    "name": "ipython",
    "version": 3
   },
   "file_extension": ".py",
   "mimetype": "text/x-python",
   "name": "python",
   "nbconvert_exporter": "python",
   "pygments_lexer": "ipython3",
   "version": "3.12.9"
  }
 },
 "nbformat": 4,
 "nbformat_minor": 5
}
