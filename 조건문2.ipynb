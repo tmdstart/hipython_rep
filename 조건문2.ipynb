{
 "cells": [
  {
   "cell_type": "code",
   "execution_count": 1,
   "id": "746cb04c-ab84-49a5-bdeb-f9defdd3258f",
   "metadata": {},
   "outputs": [
    {
     "ename": "SyntaxError",
     "evalue": "closing parenthesis ']' does not match opening parenthesis '{' (1718694758.py, line 37)",
     "output_type": "error",
     "traceback": [
      "  \u001b[36mCell\u001b[39m\u001b[36m \u001b[39m\u001b[32mIn[1]\u001b[39m\u001b[32m, line 37\u001b[39m\n\u001b[31m    \u001b[39m\u001b[31mtotal += int(jumin_no{i]) * weight[i]\u001b[39m\n                           ^\n\u001b[31mSyntaxError\u001b[39m\u001b[31m:\u001b[39m closing parenthesis ']' does not match opening parenthesis '{'\n"
     ]
    }
   ],
   "source": [
    "\"\"\"\n",
    "min = input('주민등록번호를 입력하세요')\n",
    "\n",
    "digit_count = len(min.replace(\"-\", \"\"))\n",
    "if digit_count == 13 :\n",
    "    print(\"유효한 번호입니다\")\n",
    "else :\n",
    "    print(\"유효하지 않은 번호입니다\")\n",
    "parts = min.split(\"-\")\n",
    "\"\"\"\n",
    "#유효성 체크\n",
    "\"\"\"\n",
    "jumin_no=''\n",
    "while True:\n",
    "    jumin_no = input('주민등록번호를 입력하세요')\n",
    " if len(jumin_no)!=13 or not jumin.isdigit():\n",
    "    print(\"잘못된입력\") \n",
    " else :\n",
    "     break\n",
    "\"\"\"\n",
    "jumin_no = ''\n",
    "\n",
    "while True:\n",
    "    jumin_no = input(\"주민등록번호를 입력하세요\")  # 입력 받기\n",
    "\n",
    "    if len(jumin_no) != 13 or not jumin_no.isdigit():  # 'jumin' → 'jumin_no'로 수정\n",
    "        print(\"잘못된 입력\")  # 오류 메시지 출력\n",
    "    else:\n",
    "        break  # 유효한 번호면 반복 종료\n",
    "\n",
    "\n",
    "\n",
    "weight = list(range(2,10)) + list(range(2,6))\n",
    "#weight = [2~9,2~5)\n",
    "total = 0 \n",
    "for i in range(12):\n",
    "    total += int(jumin_no{i]) * weight[i]\n",
    "    print(f'total : {total}')\n",
    "    \n",
    "remain = (11-(total%11))%10\n",
    "print(remain)\n",
    "\n",
    "if int(jumin_no[-1] == remain:\n",
    "    print('ok')\n",
    "else\n",
    "    print('reject')\n",
    "    \n",
    " #for index, value in enumerate(part, start=1):  # 1부터 시작하는 index를 사용\n",
    "        #multiplied_value = int(value) * index  # 숫자를 현재 인덱스와 곱하기\n",
    "        #print(f\"{value} * {index} = {multiplied_value}\")\n",
    "        #value_total += multiplied_value  # 총합 계산"
   ]
  },
  {
   "cell_type": "code",
   "execution_count": 3,
   "id": "5213a9b9-c1df-474b-9db7-6d6266e51ee5",
   "metadata": {
    "scrolled": true
   },
   "outputs": [
    {
     "name": "stdin",
     "output_type": "stream",
     "text": [
      "주민등록번호를 입력하세요 900828-2123243\n"
     ]
    },
    {
     "name": "stdout",
     "output_type": "stream",
     "text": [
      "잘못된 입력\n"
     ]
    },
    {
     "name": "stdin",
     "output_type": "stream",
     "text": [
      "주민등록번호를 입력하세요 9008282123243\n"
     ]
    },
    {
     "name": "stdout",
     "output_type": "stream",
     "text": [
      "total : 18\n",
      "total : 18\n",
      "total : 18\n",
      "total : 58\n",
      "total : 70\n",
      "total : 126\n",
      "total : 142\n",
      "total : 151\n",
      "total : 155\n",
      "total : 164\n",
      "total : 172\n",
      "total : 192\n",
      "6\n",
      "reject\n"
     ]
    }
   ],
   "source": [
    "jumin_no = ''\n",
    "\n",
    "while True:\n",
    "    jumin_no = input(\"주민등록번호를 입력하세요\")  # 입력 받기\n",
    "\n",
    "    if len(jumin_no) != 13 or not jumin_no.isdigit():  # 'jumin' → 'jumin_no'로 수정\n",
    "        print(\"잘못된 입력\")  # 오류 메시지 출력\n",
    "    else:\n",
    "        break  # 유효한 번호면 반복 종료\n",
    "\n",
    "# 가중치 설정\n",
    "weight = list(range(2, 10)) + list(range(2, 6))\n",
    "\n",
    "total = 0 \n",
    "\n",
    "for i in range(12):\n",
    "    total += int(jumin_no[i]) * weight[i]  # {i} → [i]로 수정\n",
    "    print(f'total : {total}')\n",
    "\n",
    "# 남은 값 계산\n",
    "remain = (11 - (total % 11)) % 10\n",
    "print(remain)\n",
    "\n",
    "# 마지막 숫자 검증\n",
    "if int(jumin_no[-1]) == remain:  # 괄호 오류 수정\n",
    "    print(\"ok\")\n",
    "else:\n",
    "    print(\"reject\")"
   ]
  },
  {
   "cell_type": "code",
   "execution_count": 4,
   "id": "2880245c-e219-40b3-ba45-a3cd1718c3de",
   "metadata": {
    "scrolled": true
   },
   "outputs": [
    {
     "data": {
      "text/plain": [
       "{'opening_price': '148687000',\n",
       " 'closing_price': '147121000',\n",
       " 'min_price': '146911000',\n",
       " 'max_price': '148900000',\n",
       " 'units_traded': '151.81174437',\n",
       " 'acc_trade_value': '22423922397.54203',\n",
       " 'prev_closing_price': '148698000',\n",
       " 'units_traded_24H': '314.17703382',\n",
       " 'acc_trade_value_24H': '46368758839.18297',\n",
       " 'fluctate_24H': '-237000',\n",
       " 'fluctate_rate_24H': '-0.16',\n",
       " 'date': '1749006812894'}"
      ]
     },
     "execution_count": 4,
     "metadata": {},
     "output_type": "execute_result"
    }
   ],
   "source": [
    "import requests\n",
    "btc = requests.get(\"https://api.bithumb.com/public/ticker/\").json()['data']\n",
    "\n",
    "아래 코드는 비트코인의 가격 정보를 딕셔너리로 가져오는 코드이다.\n",
    "import requests\n",
    "btc = requests.get(\"https://api.bithumb.com/public/ticker/\").json()['data']\n",
    "btc 딕셔너리 안에는 시가, 종가, 최고가, 최저가 등이 저장되어 있다.\n",
    "최고가와 최저가의 차이를 변동폭으로 정의할 때 (시가 + 변동폭)이 최고가 보다 높을 경우 \"상승장\",\n",
    "그렇지 않은 경우 \"하락장\" 문자열을 출력하라.\n",
    "\n",
    "Key Name\tDescription\n",
    "opening_price\t최근 24시간 내 시작 거래금액\n",
    "closing_price\t최근 24시간 내 마지막 거래금액\n",
    "min_price\t최근 24시간 내 최저 거래금액\n",
    "max_price\t최근 24시간 내 최고 거래금액"
   ]
  },
  {
   "cell_type": "code",
   "execution_count": 9,
   "id": "b606c066-3728-4adf-95eb-3fec5f8f6455",
   "metadata": {
    "scrolled": true
   },
   "outputs": [
    {
     "data": {
      "text/plain": [
       "{'opening_price': '148687000',\n",
       " 'closing_price': '147160000',\n",
       " 'min_price': '146911000',\n",
       " 'max_price': '148900000',\n",
       " 'units_traded': '153.13146405',\n",
       " 'acc_trade_value': '22618120844.29234',\n",
       " 'prev_closing_price': '148698000',\n",
       " 'units_traded_24H': '310.82337134',\n",
       " 'acc_trade_value_24H': '45873473137.11078',\n",
       " 'fluctate_24H': '-461000',\n",
       " 'fluctate_rate_24H': '-0.31',\n",
       " 'date': '1749007627597'}"
      ]
     },
     "execution_count": 9,
     "metadata": {},
     "output_type": "execute_result"
    }
   ],
   "source": [
    "import requests\n",
    "btc = requests.get(\"https://api.bithumb.com/public/ticker/\").json()['data']\n",
    "btc"
   ]
  },
  {
   "cell_type": "code",
   "execution_count": 8,
   "id": "ebfdfed0-3676-46bd-8e7f-b4d336903dc0",
   "metadata": {},
   "outputs": [
    {
     "ename": "NameError",
     "evalue": "name 'vtc' is not defined",
     "output_type": "error",
     "traceback": [
      "\u001b[31m---------------------------------------------------------------------------\u001b[39m",
      "\u001b[31mNameError\u001b[39m                                 Traceback (most recent call last)",
      "\u001b[36mCell\u001b[39m\u001b[36m \u001b[39m\u001b[32mIn[8]\u001b[39m\u001b[32m, line 5\u001b[39m\n\u001b[32m      1\u001b[39m \u001b[38;5;66;03m# 최고가와 최저가의 차이 = 변동폭 \u001b[39;00m\n\u001b[32m      2\u001b[39m \u001b[38;5;66;03m#if 시가 + 변동폭 > 최고가  --- 하락장\u001b[39;00m\n\u001b[32m      3\u001b[39m \u001b[38;5;66;03m#else 하락장\u001b[39;00m\n\u001b[32m----> \u001b[39m\u001b[32m5\u001b[39m opp= vtc[\u001b[33m'\u001b[39m\u001b[33mopening_price\u001b[39m\u001b[33m'\u001b[39m]\n\u001b[32m      6\u001b[39m \u001b[38;5;28mprint\u001b[39m(opp)\n",
      "\u001b[31mNameError\u001b[39m: name 'vtc' is not defined"
     ]
    }
   ],
   "source": [
    "# 최고가와 최저가의 차이 = 변동폭 \n",
    "#if 시가 + 변동폭 > 최고가  --- 하락장\n",
    "#else 하락장\n"
   ]
  },
  {
   "cell_type": "code",
   "execution_count": 5,
   "id": "891074f3-1b63-4e44-9148-6ea72d770c14",
   "metadata": {},
   "outputs": [
    {
     "ename": "NameError",
     "evalue": "name 'btc' is not defined",
     "output_type": "error",
     "traceback": [
      "\u001b[31m---------------------------------------------------------------------------\u001b[39m",
      "\u001b[31mNameError\u001b[39m                                 Traceback (most recent call last)",
      "\u001b[36mCell\u001b[39m\u001b[36m \u001b[39m\u001b[32mIn[5]\u001b[39m\u001b[32m, line 1\u001b[39m\n\u001b[32m----> \u001b[39m\u001b[32m1\u001b[39m 시가 = \u001b[38;5;28mfloat\u001b[39m(btc[\u001b[33m'\u001b[39m\u001b[33mopening_price\u001b[39m\u001b[33m'\u001b[39m])\n\u001b[32m      2\u001b[39m 최고가 = \u001b[38;5;28mfloat\u001b[39m(btc[\u001b[33m'\u001b[39m\u001b[33mmax_price\u001b[39m\u001b[33m'\u001b[39m])\n\u001b[32m      3\u001b[39m 변동폭 = \u001b[38;5;28mfloat\u001b[39m(btc[\u001b[33m'\u001b[39m\u001b[33mmax_price\u001b[39m\u001b[33m'\u001b[39m]) - \u001b[38;5;28mfloat\u001b[39m(btc[\u001b[33m'\u001b[39m\u001b[33mmin_price\u001b[39m\u001b[33m'\u001b[39m])  \n",
      "\u001b[31mNameError\u001b[39m: name 'btc' is not defined"
     ]
    }
   ],
   "source": [
    "\n",
    "시가 = float(btc['opening_price'])\n",
    "최고가 = float(btc['max_price'])\n",
    "변동폭 = float(btc['max_price']) - float(btc['min_price'])  \n",
    "print(시가)\n",
    "print(변동폭)\n",
    "\n",
    "if 시가+변동폭 > 최고가 :\n",
    "    print('상승장')\n",
    "else :\n",
    "    print('하락장')"
   ]
  },
  {
   "cell_type": "markdown",
   "id": "50a0deb4-1cb3-4cd1-ae0c-5d421d6a040f",
   "metadata": {},
   "source": [
    "#리스트에는 다음 데이터가 있다.\n",
    "\n",
    "리스트에는 3일 간의 ohlc 데이터가 저장돼 있다. 시가에 매수해서 종가에 매도 했을 경우 총 수익금을 계산하라.\n",
    "\n",
    "ohlc = [[\"open\", \"high\", \"low\", \"close\"],[100, 110, 70, 100],[200, 210, 180, 190],[300, 310, 300, 310]]\n",
    "\n",
    "1일차 수익 0원 (100 - 100), 2일차 수익 -10원 (190 - 200), 3일차 수익 10원 (310 - 300) 이다.\n",
    "\n"
   ]
  },
  {
   "cell_type": "code",
   "execution_count": 79,
   "id": "c2007479-7b3f-490b-a49f-e6bbd73a8dc4",
   "metadata": {},
   "outputs": [
    {
     "name": "stdout",
     "output_type": "stream",
     "text": [
      "100\n"
     ]
    }
   ],
   "source": [
    "ohlc = [[\"open\", \"high\", \"low\", \"close\"],[100, 110, 70, 100],[200, 210, 180, 190],[300, 310, 300, 310]]\n",
    "print(ohlc[1][3])\n",
    "total = 0\n"
   ]
  },
  {
   "cell_type": "code",
   "execution_count": 72,
   "id": "873951d7-e28d-42b5-bfeb-fb0a1356fcc1",
   "metadata": {
    "scrolled": true
   },
   "outputs": [
    {
     "name": "stdout",
     "output_type": "stream",
     "text": [
      "0.0\n",
      "10.0\n",
      "-10.0\n",
      "0.0\n"
     ]
    }
   ],
   "source": [
    "ohlc = [[\"open\", \"high\", \"low\", \"close\"], [100, 110, 70, 100], [200, 210, 180, 190], [300, 310, 300, 310]]\n",
    "\n",
    "total = 0\n",
    "for index, value in enumerate(ohlc[1:]):  # 헤더를 제외한 데이터만 순회\n",
    "    pro = float(value[0]) - float(value[3])  # 첫 번째 값에서 마지막 값을 빼기\n",
    "    total += pro  # 기존 total 값에 pro를 더하기\n",
    "    print(pro)\n",
    "print(total)"
   ]
  },
  {
   "cell_type": "code",
   "execution_count": 78,
   "id": "cd9ee73d-5b20-43e1-9b15-3ecb0c1f4ba4",
   "metadata": {},
   "outputs": [
    {
     "name": "stdout",
     "output_type": "stream",
     "text": [
      "0.0\n",
      "10.0\n",
      "-10.0\n",
      "0.0\n"
     ]
    }
   ],
   "source": [
    "ohlc = [[\"open\", \"high\", \"low\", \"close\"], [100, 110, 70, 100], [200, 210, 180, 190], [300, 310, 300, 310]]\n",
    "total = 0\n",
    "for index, value in enumerate(ohlc[1:]):  # 헤더를 제외한 데이터만 순회\n",
    "    pro = float(value[0]) - float(value[3])  # 첫 번째 값에서 마지막 값을 빼기\n",
    "    total += pro  # 기존 total 값에 pro를 더하기\n",
    "    print(pro)\n",
    "print(total)"
   ]
  },
  {
   "cell_type": "code",
   "execution_count": 80,
   "id": "e27e6d65-5146-4721-9c37-09d0606d1fc2",
   "metadata": {
    "scrolled": true
   },
   "outputs": [
    {
     "name": "stdout",
     "output_type": "stream",
     "text": [
      "0.0\n",
      "10.0\n",
      "-10.0\n",
      "0.0\n"
     ]
    }
   ],
   "source": [
    "total = 0\n",
    "for value in ohlc[1:]:  # 헤더를 제외하고 데이터만 순회\n",
    "    pro = float(value[0]) - float(value[3])  # 첫 번째 값에서 마지막 값을 빼기\n",
    "    total += pro  # 기존 total 값에 pro를 더하기\n",
    "    print(pro)\n",
    "print(total)"
   ]
  },
  {
   "cell_type": "code",
   "execution_count": 81,
   "id": "c09d16c2-9c37-4665-bd4e-d9dbf086a259",
   "metadata": {},
   "outputs": [
    {
     "name": "stdout",
     "output_type": "stream",
     "text": [
      "1\n",
      "2\n",
      "3\n",
      "4\n",
      "5\n"
     ]
    }
   ],
   "source": [
    "count = 1\n",
    "\n",
    "while count <= 5:\n",
    "    print(count)\n",
    "    count += 1"
   ]
  },
  {
   "cell_type": "code",
   "execution_count": 98,
   "id": "ae653436-995a-4464-b8aa-c3a7900647c5",
   "metadata": {},
   "outputs": [
    {
     "data": {
      "text/plain": [
       "6"
      ]
     },
     "execution_count": 98,
     "metadata": {},
     "output_type": "execute_result"
    }
   ],
   "source": [
    "sum = 0\n",
    "for i in range(6):\n",
    "        sum+=1\n",
    "sum"
   ]
  },
  {
   "cell_type": "code",
   "execution_count": 100,
   "id": "9800838b-9d08-48a0-8b3b-a1b7f3c9492a",
   "metadata": {},
   "outputs": [
    {
     "data": {
      "text/plain": [
       "6"
      ]
     },
     "execution_count": 100,
     "metadata": {},
     "output_type": "execute_result"
    }
   ],
   "source": [
    "i=0\n",
    "while True :\n",
    "    if i<6 :\n",
    "        break\n",
    "    sum +=i\n",
    "    i+=1\n",
    "sum"
   ]
  },
  {
   "cell_type": "code",
   "execution_count": 1,
   "id": "0e7f99bf-adf4-4bee-98ad-e429597a67f1",
   "metadata": {
    "collapsed": true,
    "jupyter": {
     "outputs_hidden": true
    }
   },
   "outputs": [
    {
     "ename": "NameError",
     "evalue": "name 'i' is not defined",
     "output_type": "error",
     "traceback": [
      "\u001b[31m---------------------------------------------------------------------------\u001b[39m",
      "\u001b[31mNameError\u001b[39m                                 Traceback (most recent call last)",
      "\u001b[36mCell\u001b[39m\u001b[36m \u001b[39m\u001b[32mIn[1]\u001b[39m\u001b[32m, line 1\u001b[39m\n\u001b[32m----> \u001b[39m\u001b[32m1\u001b[39m \u001b[38;5;28;01mwhile\u001b[39;00m i<\u001b[32m6\u001b[39m :\n\u001b[32m      2\u001b[39m     i+=\u001b[32m1\u001b[39m\n\u001b[32m      3\u001b[39m     \u001b[38;5;28msum\u001b[39m +=i\n",
      "\u001b[31mNameError\u001b[39m: name 'i' is not defined"
     ]
    }
   ],
   "source": [
    "while i<6 :\n",
    "    i+=1\n",
    "    sum +=i\n",
    "sum"
   ]
  },
  {
   "cell_type": "code",
   "execution_count": 2,
   "id": "f8a0cd3f-299e-4ea9-946e-56317000e186",
   "metadata": {},
   "outputs": [],
   "source": [
    "sum = (range(1,7))"
   ]
  },
  {
   "cell_type": "code",
   "execution_count": null,
   "id": "fd047181-2889-4bdb-9240-d457ef246ef5",
   "metadata": {},
   "outputs": [],
   "source": [
    "# 리스트 컴프리헨션\n",
    "'[ 리스트요소 for <1개> in <반복범위>] '"
   ]
  },
  {
   "cell_type": "code",
   "execution_count": 4,
   "id": "b33b7c16-f84e-477a-a6c4-df5f84e24045",
   "metadata": {},
   "outputs": [
    {
     "data": {
      "text/plain": [
       "[2, 4, 6, 8, 10]"
      ]
     },
     "execution_count": 4,
     "metadata": {},
     "output_type": "execute_result"
    }
   ],
   "source": [
    "numbers = [1,2,3,4,5]\n",
    "squres = [ num*2 for num in numbers]\n",
    "squres\n"
   ]
  },
  {
   "cell_type": "code",
   "execution_count": 15,
   "id": "1a54c25b-6f54-4f12-aa80-926964bbdbd6",
   "metadata": {},
   "outputs": [
    {
     "data": {
      "text/plain": [
       "[0, 2, 4, 6, 8, 5, 6, 7, 8, 9]"
      ]
     },
     "execution_count": 15,
     "metadata": {},
     "output_type": "execute_result"
    }
   ],
   "source": [
    "## 리스트 컴프리헨션 + 조건식\n",
    "test_list =[]\n",
    "\n",
    "for x in range(10) :\n",
    "    if x<5:\n",
    "        test_list.append(x*2)\n",
    "    else:\n",
    "        test_list.append(x)\n",
    "test_list"
   ]
  },
  {
   "cell_type": "code",
   "execution_count": 17,
   "id": "d9efb40d-b5be-41f9-a934-896faa2366f8",
   "metadata": {},
   "outputs": [
    {
     "data": {
      "text/plain": [
       "[0, 2, 4, 6, 8, 5, 6, 7, 8, 9]"
      ]
     },
     "execution_count": 17,
     "metadata": {},
     "output_type": "execute_result"
    }
   ],
   "source": [
    "[x*2 if x<5 else x for x in range(10)]"
   ]
  },
  {
   "cell_type": "code",
   "execution_count": 22,
   "id": "38474c40-1c45-46c4-87f4-a3281732ce0f",
   "metadata": {},
   "outputs": [
    {
     "data": {
      "text/plain": [
       "[0, 1, 2, 3, 4]"
      ]
     },
     "execution_count": 22,
     "metadata": {},
     "output_type": "execute_result"
    }
   ],
   "source": [
    "[ x for x in range(10) if x < 5 ]"
   ]
  },
  {
   "cell_type": "code",
   "execution_count": null,
   "id": "5addfccc-d619-435b-b766-e403de928970",
   "metadata": {},
   "outputs": [],
   "source": [
    "# 리스트 컴프리 헨션을 이용한 변환, 필터"
   ]
  },
  {
   "cell_type": "code",
   "execution_count": 2,
   "id": "34e4d951-14fe-4320-a2cb-628d89bcd813",
   "metadata": {},
   "outputs": [
    {
     "name": "stdout",
     "output_type": "stream",
     "text": [
      "🎉 당첨 번호 있음! (23)\n"
     ]
    }
   ],
   "source": [
    "#로또 번호 당첨 여부 확인\n",
    "my_numbers = [3, 11, 17, 23, 38, 42]\n",
    "win_numbers = [7, 14, 23, 32, 38, 45]\n",
    "\n",
    "for num in my_numbers:\n",
    "    if num in win_numbers:\n",
    "        print(f\"🎉 당첨 번호 있음! ({num})\")\n",
    "        break\n",
    "else:\n",
    "    print(\"😢 꽝입니다.\")"
   ]
  },
  {
   "cell_type": "code",
   "execution_count": 34,
   "id": "9d7a8551-9b5e-406f-9d5c-9a67a69dcca5",
   "metadata": {},
   "outputs": [
    {
     "data": {
      "text/plain": [
       "[23, 38]"
      ]
     },
     "execution_count": 34,
     "metadata": {},
     "output_type": "execute_result"
    }
   ],
   "source": [
    "#matches = [num for num in my_numbers if num in win_numbers]  # 당첨 번호 리스트 생성\n",
    "matches"
   ]
  },
  {
   "cell_type": "code",
   "execution_count": 39,
   "id": "eb2b0f13-c2e3-433e-873a-f50e1b906bff",
   "metadata": {},
   "outputs": [
    {
     "data": {
      "text/plain": [
       "[3, 11, 17, 23, 38, 42]"
      ]
     },
     "execution_count": 39,
     "metadata": {},
     "output_type": "execute_result"
    }
   ],
   "source": [
    "matches=[num for num in my_numbers ]\n",
    "matches"
   ]
  },
  {
   "cell_type": "code",
   "execution_count": 3,
   "id": "2de8f1f7-2139-4f1f-b5f4-4cde26a186fb",
   "metadata": {},
   "outputs": [
    {
     "name": "stdout",
     "output_type": "stream",
     "text": [
      "🎉 당첨 번호 있음! ([23, 38])\n"
     ]
    }
   ],
   "source": [
    "matches = [num for num in my_numbers if num in win_numbers]\n",
    "matches \n",
    "if matches:\n",
    "    print(f\"🎉 당첨 번호 있음! ({matches})\") \n",
    "else:\n",
    "    print(\"😢 꽝입니다.\")\n",
    "\n",
    "#if match==True : \n",
    "#   print(f\"당첨번호있음 {match}\") \n",
    "#else : print(\"당첨번호없음\") \"\"\""
   ]
  },
  {
   "cell_type": "code",
   "execution_count": null,
   "id": "8addbaa7-437e-475a-b3c1-d1517476d7b9",
   "metadata": {},
   "outputs": [
    {
     "name": "stdout",
     "output_type": "stream",
     "text": [
      "****************************************\n",
      "어서오세요, ‘요렇게’에 오신것을 환영합니다:)\n",
      "\n",
      "Menu\t\t\tPrice\n",
      "------------------------------\n",
      "요거트 아이스크림(250g)\t3,000\n",
      "------------------------------\n",
      "\n",
      "No.  Topping\t\tPrice\n",
      "------------------------------\n",
      "1     바나나       \t4,000\n",
      "2     딸기        \t5,000\n",
      "3     벌집꿀       \t7,000\n",
      "4     그레놀라      \t7,000\n",
      "5     초코쉘       \t7,000\n",
      "6     요거트 아이스크림 \t3,000\n",
      "------------------------------\n",
      "****************************************\n",
      "\n",
      "========================================\n",
      "현재 장바구니\n",
      "1. 요거트 아이스크림 x 1 = 3,000원\n",
      "----------------------------------------\n",
      "Total = 3,000원\n",
      "메뉴를 확정하려면 o\n",
      "메뉴를 삭제하려면 d\n",
      "메뉴를 추가하려면 a\n",
      "메뉴를 취소하려면 c\n"
     ]
    },
    {
     "name": "stdin",
     "output_type": "stream",
     "text": [
      "알파벳을 입력해주세요 :  a\n"
     ]
    },
    {
     "name": "stdout",
     "output_type": "stream",
     "text": [
      "\n",
      "메뉴 목록:\n",
      "1. 바나나 : 4,000원\n",
      "2. 딸기 : 5,000원\n",
      "3. 벌집꿀 : 7,000원\n",
      "4. 그레놀라 : 7,000원\n",
      "5. 초코쉘 : 7,000원\n",
      "6. 요거트 아이스크림 : 3,000원\n"
     ]
    },
    {
     "name": "stdin",
     "output_type": "stream",
     "text": [
      "추가할 토핑 번호를 골라주세요 : 1\n",
      "수량을 선택해주세요 :  3\n"
     ]
    },
    {
     "name": "stdout",
     "output_type": "stream",
     "text": [
      "\n",
      "========================================\n",
      "현재 장바구니\n",
      "1. 요거트 아이스크림 x 1 = 3,000원\n",
      "2. 바나나 x 3 = 12,000원\n",
      "----------------------------------------\n",
      "Total = 15,000원\n",
      "메뉴를 확정하려면 o\n",
      "메뉴를 삭제하려면 d\n",
      "메뉴를 추가하려면 a\n",
      "메뉴를 취소하려면 c\n"
     ]
    },
    {
     "name": "stdin",
     "output_type": "stream",
     "text": [
      "알파벳을 입력해주세요 :  o\n",
      "주문이 확정되었습니다. 결제를 하시겠습니까? (y/n) y\n"
     ]
    },
    {
     "name": "stdout",
     "output_type": "stream",
     "text": [
      "15,000원 결제하겠습니다. 카드를 삽입해주세요.\n",
      "결제가 완료되었습니다.\n",
      "주문번호는 1번 입니다.\n",
      "초기화면으로 돌아갑니다.\n",
      "****************************************\n",
      "어서오세요, ‘요렇게’에 오신것을 환영합니다:)\n",
      "\n",
      "Menu\t\t\tPrice\n",
      "------------------------------\n",
      "요거트 아이스크림(250g)\t3,000\n",
      "------------------------------\n",
      "\n",
      "No.  Topping\t\tPrice\n",
      "------------------------------\n",
      "1     바나나       \t4,000\n",
      "2     딸기        \t5,000\n",
      "3     벌집꿀       \t7,000\n",
      "4     그레놀라      \t7,000\n",
      "5     초코쉘       \t7,000\n",
      "6     요거트 아이스크림 \t3,000\n",
      "------------------------------\n",
      "****************************************\n",
      "\n",
      "========================================\n",
      "현재 장바구니\n",
      "1. 요거트 아이스크림 x 1 = 3,000원\n",
      "----------------------------------------\n",
      "Total = 3,000원\n",
      "메뉴를 확정하려면 o\n",
      "메뉴를 삭제하려면 d\n",
      "메뉴를 추가하려면 a\n",
      "메뉴를 취소하려면 c\n"
     ]
    },
    {
     "name": "stdin",
     "output_type": "stream",
     "text": [
      "알파벳을 입력해주세요 :  a\n"
     ]
    },
    {
     "name": "stdout",
     "output_type": "stream",
     "text": [
      "\n",
      "메뉴 목록:\n",
      "1. 바나나 : 4,000원\n",
      "2. 딸기 : 5,000원\n",
      "3. 벌집꿀 : 7,000원\n",
      "4. 그레놀라 : 7,000원\n",
      "5. 초코쉘 : 7,000원\n",
      "6. 요거트 아이스크림 : 3,000원\n"
     ]
    },
    {
     "name": "stdin",
     "output_type": "stream",
     "text": [
      "추가할 토핑 번호를 골라주세요 : 3\n",
      "수량을 선택해주세요 :  4\n"
     ]
    },
    {
     "name": "stdout",
     "output_type": "stream",
     "text": [
      "\n",
      "========================================\n",
      "현재 장바구니\n",
      "1. 요거트 아이스크림 x 1 = 3,000원\n",
      "2. 벌집꿀 x 4 = 28,000원\n",
      "----------------------------------------\n",
      "Total = 31,000원\n",
      "메뉴를 확정하려면 o\n",
      "메뉴를 삭제하려면 d\n",
      "메뉴를 추가하려면 a\n",
      "메뉴를 취소하려면 c\n"
     ]
    },
    {
     "name": "stdin",
     "output_type": "stream",
     "text": [
      "알파벳을 입력해주세요 :  o\n",
      "주문이 확정되었습니다. 결제를 하시겠습니까? (y/n) y\n"
     ]
    },
    {
     "name": "stdout",
     "output_type": "stream",
     "text": [
      "31,000원 결제하겠습니다. 카드를 삽입해주세요.\n",
      "결제가 완료되었습니다.\n",
      "주문번호는 2번 입니다.\n",
      "초기화면으로 돌아갑니다.\n",
      "****************************************\n",
      "어서오세요, ‘요렇게’에 오신것을 환영합니다:)\n",
      "\n",
      "Menu\t\t\tPrice\n",
      "------------------------------\n",
      "요거트 아이스크림(250g)\t3,000\n",
      "------------------------------\n",
      "\n",
      "No.  Topping\t\tPrice\n",
      "------------------------------\n",
      "1     바나나       \t4,000\n",
      "2     딸기        \t5,000\n",
      "3     벌집꿀       \t7,000\n",
      "4     그레놀라      \t7,000\n",
      "5     초코쉘       \t7,000\n",
      "6     요거트 아이스크림 \t3,000\n",
      "------------------------------\n",
      "****************************************\n",
      "\n",
      "========================================\n",
      "현재 장바구니\n",
      "1. 요거트 아이스크림 x 1 = 3,000원\n",
      "----------------------------------------\n",
      "Total = 3,000원\n",
      "메뉴를 확정하려면 o\n",
      "메뉴를 삭제하려면 d\n",
      "메뉴를 추가하려면 a\n",
      "메뉴를 취소하려면 c\n"
     ]
    },
    {
     "name": "stdin",
     "output_type": "stream",
     "text": [
      "알파벳을 입력해주세요 :  a\n"
     ]
    },
    {
     "name": "stdout",
     "output_type": "stream",
     "text": [
      "\n",
      "메뉴 목록:\n",
      "1. 바나나 : 4,000원\n",
      "2. 딸기 : 5,000원\n",
      "3. 벌집꿀 : 7,000원\n",
      "4. 그레놀라 : 7,000원\n",
      "5. 초코쉘 : 7,000원\n",
      "6. 요거트 아이스크림 : 3,000원\n"
     ]
    },
    {
     "name": "stdin",
     "output_type": "stream",
     "text": [
      "추가할 토핑 번호를 골라주세요 : 3\n",
      "수량을 선택해주세요 :  2\n"
     ]
    },
    {
     "name": "stdout",
     "output_type": "stream",
     "text": [
      "\n",
      "========================================\n",
      "현재 장바구니\n",
      "1. 요거트 아이스크림 x 1 = 3,000원\n",
      "2. 벌집꿀 x 2 = 14,000원\n",
      "----------------------------------------\n",
      "Total = 17,000원\n",
      "메뉴를 확정하려면 o\n",
      "메뉴를 삭제하려면 d\n",
      "메뉴를 추가하려면 a\n",
      "메뉴를 취소하려면 c\n"
     ]
    },
    {
     "name": "stdin",
     "output_type": "stream",
     "text": [
      "알파벳을 입력해주세요 :  o\n",
      "주문이 확정되었습니다. 결제를 하시겠습니까? (y/n) y\n"
     ]
    },
    {
     "name": "stdout",
     "output_type": "stream",
     "text": [
      "17,000원 결제하겠습니다. 카드를 삽입해주세요.\n",
      "결제가 완료되었습니다.\n",
      "주문번호는 3번 입니다.\n",
      "초기화면으로 돌아갑니다.\n",
      "****************************************\n",
      "어서오세요, ‘요렇게’에 오신것을 환영합니다:)\n",
      "\n",
      "Menu\t\t\tPrice\n",
      "------------------------------\n",
      "요거트 아이스크림(250g)\t3,000\n",
      "------------------------------\n",
      "\n",
      "No.  Topping\t\tPrice\n",
      "------------------------------\n",
      "1     바나나       \t4,000\n",
      "2     딸기        \t5,000\n",
      "3     벌집꿀       \t7,000\n",
      "4     그레놀라      \t7,000\n",
      "5     초코쉘       \t7,000\n",
      "6     요거트 아이스크림 \t3,000\n",
      "------------------------------\n",
      "****************************************\n",
      "\n",
      "========================================\n",
      "현재 장바구니\n",
      "1. 요거트 아이스크림 x 1 = 3,000원\n",
      "----------------------------------------\n",
      "Total = 3,000원\n",
      "메뉴를 확정하려면 o\n",
      "메뉴를 삭제하려면 d\n",
      "메뉴를 추가하려면 a\n",
      "메뉴를 취소하려면 c\n"
     ]
    }
   ],
   "source": [
    "import time\n",
    "#################메뉴리스트정의\n",
    "menu_list = [ \n",
    "    {'name': '바나나', 'price': 4000},\n",
    "    {'name': '딸기', 'price': 5000},\n",
    "    {'name': '벌집꿀', 'price': 7000},\n",
    "    {'name': '그레놀라', 'price': 7000},\n",
    "    {'name': '초코쉘', 'price': 7000},\n",
    "    {'name': '요거트 아이스크림', 'price': 3000}\n",
    "]\n",
    "num_order = 1\n",
    "final_break = False\n",
    "while True:\n",
    "    ######################################초기화면 (메뉴판)################################################\n",
    "    print('*'*40)\n",
    "    print('어서오세요, ‘요렇게’에 오신것을 환영합니다:)\\n')\n",
    "    print(\"Menu\\t\\t\\tPrice\")\n",
    "    print(\"-\" * 30)\n",
    "    print(\"요거트 아이스크림(250g)\\t3,000\")\n",
    "    print(\"-\" * 30)\n",
    "    print(\"\\nNo.  Topping\\t\\tPrice\")\n",
    "    print(\"-\" * 30)\n",
    "    for idx, item in enumerate(menu_list, start=1):\n",
    "        print(f\"{idx:<5} {item['name']:<10}\\t{item['price']:,}\")\n",
    "    print(\"-\" * 30)\n",
    "    print(\"*\" * 40)\n",
    "    \n",
    "    ##############기본 상품(요거트 아이스크림) 장바구니에 자동추가\n",
    "    cart = []\n",
    "    default_item = menu_list[5]\n",
    "    cart.append({'name': default_item['name'], 'price': default_item['price'], 'quantity': 1})\n",
    "    total_price = 3000\n",
    "    cancle = False\n",
    "    ###############장바구니 관리 루프 시작\n",
    "    while True:\n",
    "       #########장바구니 출력 🔄 중복 제거된 장바구니 출력 블록\n",
    "        print(\"\\n\" + \"=\" * 40)\n",
    "        print(\"현재 장바구니\")\n",
    "        for i, item in enumerate(cart, start=1):\n",
    "            print(f\"{i}. {item['name']} x {item['quantity']} = {item['price'] * item['quantity']:,}원\")\n",
    "        print(\"-\" * 40)\n",
    "        print(f\"Total = {total_price:,}원\")\n",
    "      ##########메뉴선택안내\n",
    "        print(\"메뉴를 확정하려면 o\")\n",
    "        print(\"메뉴를 삭제하려면 d\")\n",
    "        print(\"메뉴를 추가하려면 a\")\n",
    "        print(\"메뉴를 취소하려면 c\")\n",
    "        ############################# 99번 입력 시 무한루프 끝 #####################################\n",
    "        select = (input(\"알파벳을 입력해주세요 : \"))\n",
    "        ####################[2-1]주문 확정\n",
    "        if select == \"o\":\n",
    "            break\n",
    "        ####################[2-2]메뉴 삭제\n",
    "        elif select == \"d\":\n",
    "           #################삭제할 메뉴 번호 입력받고 수량 삭제 처리\n",
    "            print(\"\\n\" + \"=\" * 40)\n",
    "            print(\"현재 장바구니\")\n",
    "            for i, item in enumerate(cart, start=1):\n",
    "                print(f\"{i}. {item['name']} x {item['quantity']} = {item['price'] * item['quantity']:,}원\")\n",
    "            print(\"-\" * 40)\n",
    "            print(f\"Total = {total_price:,}원\")\n",
    "        \n",
    "            del_no = int(input(\"삭제할 메뉴의 번호를 골라주세요 : \")) - 1\n",
    "            if 0 <= del_no < len(cart):\n",
    "                item = cart[del_no]\n",
    "                print(f\"'{item['name']}'의 현재 수량: {item['quantity']}\")\n",
    "                del_qty = int(input(\"몇 개를 삭제하시겠습니까? : \"))\n",
    "        \n",
    "                if del_qty >= item['quantity'] or del_qty <= 0:\n",
    "                    # 전체 삭제\n",
    "                    total_price -= item[\"price\"] * item[\"quantity\"]\n",
    "                    cart.pop(del_no)\n",
    "                    print(f\"'{item['name']}' 전체가 장바구니에서 삭제되었습니다.\")\n",
    "                else:\n",
    "                    # 일부 수량만 삭제\n",
    "                    item['quantity'] -= del_qty\n",
    "                    total_price -= item[\"price\"] * del_qty\n",
    "                    print(f\"'{item['name']}' {del_qty}개가 삭제되었습니다.\")\n",
    "        \n",
    "            else:\n",
    "                print(\"올바른 번호를 입력하세요.\")\n",
    "        ############################# [2-3] 메뉴 추가\n",
    "        elif select == \"a\":\n",
    "     ######################## 메뉴 리스트 보여주고 선택한 토핑 추가\n",
    "            print(\"\\n메뉴 목록:\")\n",
    "            for i, item in enumerate(menu_list, start=1):\n",
    "                print(f\"{i}. {item['name']} : {item['price']:,}원\")\n",
    "            add_topping = int(input('추가할 토핑 번호를 골라주세요 :')) - 1\n",
    "            qty = int(input('수량을 선택해주세요 : '))\n",
    "    \n",
    "            selected_item = menu_list[add_topping]\n",
    "            found = False\n",
    "    \n",
    "            for item in cart:\n",
    "                if item['name'] == selected_item['name']:\n",
    "                    item['quantity'] += qty\n",
    "                    found = True\n",
    "                    break\n",
    "    \n",
    "            if not found:\n",
    "                cart.append({'name': selected_item['name'], 'quantity': qty, 'price': selected_item['price']})\n",
    "    \n",
    "            total_price += selected_item['price'] * qty\n",
    "       ###############[2-4]주문 취소\n",
    "        elif select == \"c\":\n",
    "            print(\"주문이 취소됩니다.\")\n",
    "            cancle = True\n",
    "            break\n",
    "        ################# [2-5] 프로그램 종료 명령어\n",
    "        elif select == \"99\":\n",
    "            print(\"관리자 중지입니다.\")\n",
    "            final_break = True\n",
    "            break\n",
    "    ################[3] 외부 루프 종료 조건\n",
    "    if final_break:\n",
    "        break\n",
    "   \n",
    "    ################# [4] 주문 취소 시 초기화면으로 복귀\n",
    "    if cancle:\n",
    "        print(\"초기화면으로 돌아갑니다.\")\n",
    "        for i in range(5, 0, -1):\n",
    "            print(f\"{i}   \", end='\\r', flush=True)\n",
    "            time.sleep(1)\n",
    "        print(\"   \", end='\\r')\n",
    "        continue\n",
    "   \n",
    "    #################장바구니가 비어있을 시\n",
    "    if total_price == 0:\n",
    "        print(\"장바구니가 비어있습니다.\")\n",
    "        print(\"초기화면으로 돌아갑니다.\")\n",
    "        for i in range(5, 0, -1):\n",
    "            print(f\"{i}   \", end='\\r', flush=True)\n",
    "            time.sleep(1)\n",
    "        print(\"   \", end='\\r')\n",
    "        continue\n",
    "    ###################### [5] 결제 여부 확인\n",
    "    pay = input(\"주문이 확정되었습니다. 결제를 하시겠습니까? (y/n)\")\n",
    "    if pay == 'y':\n",
    "        print(f\"{total_price:,}원 결제하겠습니다. 카드를 삽입해주세요.\")\n",
    "        print(\"결제가 완료되었습니다.\")\n",
    "        print(f\"주문번호는 {num_order}번 입니다.\")\n",
    "        num_order += 1\n",
    "        print(\"초기화면으로 돌아갑니다.\")\n",
    "        for i in range(5, 0, -1):\n",
    "            print(f\"{i}   \", end='\\r', flush=True)\n",
    "            time.sleep(1)\n",
    "        print(\"   \", end='\\r')\n",
    "        continue\n",
    "    else:\n",
    "        print(\"초기화면으로 돌아갑니다.\")\n",
    "        for i in range(5, 0, -1):\n",
    "            print(f\"{i}   \", end='\\r', flush=True)\n",
    "            time.sleep(1)\n",
    "        print(\"   \", end='\\r')\n",
    "        continue"
   ]
  }
 ],
 "metadata": {
  "kernelspec": {
   "display_name": "Python 3 (ipykernel)",
   "language": "python",
   "name": "python3"
  },
  "language_info": {
   "codemirror_mode": {
    "name": "ipython",
    "version": 3
   },
   "file_extension": ".py",
   "mimetype": "text/x-python",
   "name": "python",
   "nbconvert_exporter": "python",
   "pygments_lexer": "ipython3",
   "version": "3.12.9"
  }
 },
 "nbformat": 4,
 "nbformat_minor": 5
}
