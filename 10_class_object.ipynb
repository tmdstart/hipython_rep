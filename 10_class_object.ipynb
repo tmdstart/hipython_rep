{
 "cells": [
  {
   "cell_type": "markdown",
   "id": "c5941d49-917b-42d8-b125-db362f319848",
   "metadata": {},
   "source": [
    "#파이썬으로 객체지향 프로그램이\n",
    "#bject Oriented Programmoig\n",
    "- 변수 : 전역, 지역\n",
    "- 함수 : 가능을 구현하는 도구\n",
    "- 모듈 : 함수의 모음, 변수의 모음 - > py \n",
    "- crud 의 구현 : create, read, update, Delete\n",
    "\n",
    "클래스 : 변수 + 함수를 하나로 묶어주는 개념\n",
    "객체 : 클래스르 이용해서 다수의 객체를 생성\n",
    "객체지향 프로그램"
   ]
  },
  {
   "cell_type": "markdown",
   "id": "9231d32d-cf29-426f-9cab-c799176fe10f",
   "metadata": {},
   "source": [
    "## 객체 만드는법\n",
    "1. 클래스 만들기\n",
    "2. 클래스를 이용해 객체를 생성\n",
    "3. 객체의 함수 : 메소드를 호출"
   ]
  },
  {
   "cell_type": "code",
   "execution_count": 61,
   "id": "ae890eab-cc08-4ec2-8724-a7bcba53fd9c",
   "metadata": {},
   "outputs": [],
   "source": [
    "class Bicycle():\n",
    "    \n",
    "  #  def __init__(self, color): # 생성자\n",
    "   #     self.color =color\n",
    "        \n",
    "    def __init__(self, color, wheelsize=20): # 생성자  바퀴싸이즈를 20으로 줘서 오버라이딩 가능\n",
    "        self.color =color\n",
    "        self.wheelsize =wheelsize\n",
    "    \n",
    "    def move(self): # 생성한 객체것이다\n",
    "        print(f'{self.color} {self.wheelsize}자전거가 움직입니다.')"
   ]
  },
  {
   "cell_type": "code",
   "execution_count": 62,
   "id": "3b1d5253-c882-419e-a44d-d9e636517c12",
   "metadata": {},
   "outputs": [],
   "source": [
    "bi=Bicycle('white',20)\n",
    "bi1=Bicycle('red',30)\n",
    "bi2=Bicycle('blue',40)"
   ]
  },
  {
   "cell_type": "code",
   "execution_count": 63,
   "id": "0bfca413-4f34-4240-b746-2ac3214dc688",
   "metadata": {},
   "outputs": [],
   "source": [
    "bi2=Bicycle('pink')"
   ]
  },
  {
   "cell_type": "code",
   "execution_count": 64,
   "id": "40fd22f0-37ba-4d6c-bf53-e5333f9cfb37",
   "metadata": {},
   "outputs": [
    {
     "name": "stdout",
     "output_type": "stream",
     "text": [
      "white 20자전거가 움직입니다.\n",
      "red 30자전거가 움직입니다.\n",
      "pink 20자전거가 움직입니다.\n"
     ]
    }
   ],
   "source": [
    "bi.move() #TypeError: Bicycle.move() takes 0 positional arguments but 1 was given\n",
    "bi1.move() #객체 생성\n",
    "bi2.move()"
   ]
  },
  {
   "cell_type": "code",
   "execution_count": 47,
   "id": "673ad63a-ec32-417e-b2f6-c54359b6220a",
   "metadata": {},
   "outputs": [
    {
     "data": {
      "text/plain": [
       "__main__.Bicycle"
      ]
     },
     "execution_count": 47,
     "metadata": {},
     "output_type": "execute_result"
    }
   ],
   "source": [
    "type(bi)"
   ]
  },
  {
   "cell_type": "code",
   "execution_count": 48,
   "id": "f2b9207f-6332-4e1f-885f-bacb3d4425dc",
   "metadata": {
    "collapsed": true,
    "jupyter": {
     "outputs_hidden": true
    },
    "scrolled": true
   },
   "outputs": [
    {
     "data": {
      "text/plain": [
       "['__class__',\n",
       " '__delattr__',\n",
       " '__dict__',\n",
       " '__dir__',\n",
       " '__doc__',\n",
       " '__eq__',\n",
       " '__format__',\n",
       " '__ge__',\n",
       " '__getattribute__',\n",
       " '__getstate__',\n",
       " '__gt__',\n",
       " '__hash__',\n",
       " '__init__',\n",
       " '__init_subclass__',\n",
       " '__le__',\n",
       " '__lt__',\n",
       " '__module__',\n",
       " '__ne__',\n",
       " '__new__',\n",
       " '__reduce__',\n",
       " '__reduce_ex__',\n",
       " '__repr__',\n",
       " '__setattr__',\n",
       " '__sizeof__',\n",
       " '__str__',\n",
       " '__subclasshook__',\n",
       " '__weakref__',\n",
       " 'color',\n",
       " 'move',\n",
       " 'wheelsize']"
      ]
     },
     "execution_count": 48,
     "metadata": {},
     "output_type": "execute_result"
    }
   ],
   "source": [
    "dir(bi)"
   ]
  },
  {
   "cell_type": "code",
   "execution_count": 311,
   "id": "b10885d2-6f49-464c-8aee-92ad7daaffe5",
   "metadata": {},
   "outputs": [],
   "source": [
    "class Student:\n",
    "    def __init__(self, name, age):\n",
    "        self.name = name\n",
    "        self.age = age\n",
    "\n",
    "    def introduce(self):\n",
    "        print(f\"안녕하세요. 제 이름은 {self.name}이고, 나이는 {self.age}살입니다.\")\n",
    "        "
   ]
  },
  {
   "cell_type": "code",
   "execution_count": 312,
   "id": "ad864f68-9877-43a3-b5e1-11b709a375f1",
   "metadata": {},
   "outputs": [
    {
     "name": "stdout",
     "output_type": "stream",
     "text": [
      "안녕하세요. 제 이름은 지민이고, 나이는 20살입니다.\n",
      "안녕하세요. 제 이름은 유진이고, 나이는 22살입니다.\n"
     ]
    }
   ],
   "source": [
    "s1 = Student(\"지민\", 20)\n",
    "s2 = Student(\"유진\", 22)\n",
    "\n",
    "s1.introduce()\n",
    "s2.introduce()"
   ]
  },
  {
   "cell_type": "code",
   "execution_count": 300,
   "id": "ad7509cd-7040-4424-a891-28f5ea39be17",
   "metadata": {},
   "outputs": [],
   "source": [
    "#클래스의 속성 - 변수 \n",
    "class Car():\n",
    "    instance_cnt = 0\n",
    "\n",
    "    def __init__(self, size):\n",
    "        self.size = size\n",
    "        Car.instance_cnt+= 1\n",
    "        print(f'자동차가 {Car.instance_cnt}대 생성되었습니다')\n",
    "\n",
    "    def move(self): # 생성한 객체것이다\n",
    "        print(f' {self.size}크기 자동차가 움직입니다.')\n",
    "        "
   ]
  },
  {
   "cell_type": "code",
   "execution_count": 301,
   "id": "bce49183-7c20-4e1c-97f0-1ce13445c99d",
   "metadata": {},
   "outputs": [
    {
     "name": "stdout",
     "output_type": "stream",
     "text": [
      "자동차가 1대 생성되었습니다\n",
      "자동차가 2대 생성되었습니다\n",
      "자동차가 3대 생성되었습니다\n"
     ]
    }
   ],
   "source": [
    "car1=Car(20)\n",
    "car2=Car(40)\n",
    "car3=Car(60)"
   ]
  },
  {
   "cell_type": "code",
   "execution_count": 302,
   "id": "e06fa17f-a7f0-415b-be9f-d3c3fe2dc7d5",
   "metadata": {},
   "outputs": [
    {
     "name": "stdout",
     "output_type": "stream",
     "text": [
      " 20크기 자동차가 움직입니다.\n",
      " 40크기 자동차가 움직입니다.\n",
      " 60크기 자동차가 움직입니다.\n"
     ]
    }
   ],
   "source": [
    "car1.move()\n",
    "car2.move()\n",
    "car3.move()"
   ]
  },
  {
   "cell_type": "markdown",
   "id": "589cc69d-774b-4f58-a03c-24dfb17acbdf",
   "metadata": {},
   "source": [
    "#method \n",
    "1.인스턴스 메소드 : self\n",
    "2.정적 메소드 : @staticmethod\n",
    "3.class 메소드 : @classmethod"
   ]
  },
  {
   "cell_type": "code",
   "execution_count": 323,
   "id": "52e3939d-97c2-4b1a-87e4-9b9882106cd9",
   "metadata": {},
   "outputs": [],
   "source": [
    "class Calculator():\n",
    "    def __init__(self, x,y): #instance method\n",
    "        self.x = x\n",
    "        self.x = y\n",
    "\n",
    "    def add(self):\n",
    "        return self.x+self.y\n",
    "    \n",
    "    def multifly(self):\n",
    "        return self.x*self.y"
   ]
  },
  {
   "cell_type": "code",
   "execution_count": 324,
   "id": "221f7641-6e82-4d86-93f4-bc6f1b9e3afb",
   "metadata": {
    "collapsed": true,
    "jupyter": {
     "outputs_hidden": true
    }
   },
   "outputs": [
    {
     "ename": "AttributeError",
     "evalue": "'Calculator' object has no attribute 'y'",
     "output_type": "error",
     "traceback": [
      "\u001b[31m---------------------------------------------------------------------------\u001b[39m",
      "\u001b[31mAttributeError\u001b[39m                            Traceback (most recent call last)",
      "\u001b[36mCell\u001b[39m\u001b[36m \u001b[39m\u001b[32mIn[324]\u001b[39m\u001b[32m, line 2\u001b[39m\n\u001b[32m      1\u001b[39m calc = Calculator(\u001b[32m3\u001b[39m,\u001b[32m4\u001b[39m)\n\u001b[32m----> \u001b[39m\u001b[32m2\u001b[39m calc.add()\n",
      "\u001b[36mCell\u001b[39m\u001b[36m \u001b[39m\u001b[32mIn[323]\u001b[39m\u001b[32m, line 7\u001b[39m, in \u001b[36mCalculator.add\u001b[39m\u001b[34m(self)\u001b[39m\n\u001b[32m      6\u001b[39m \u001b[38;5;28;01mdef\u001b[39;00m\u001b[38;5;250m \u001b[39m\u001b[34madd\u001b[39m(\u001b[38;5;28mself\u001b[39m):\n\u001b[32m----> \u001b[39m\u001b[32m7\u001b[39m     \u001b[38;5;28;01mreturn\u001b[39;00m \u001b[38;5;28mself\u001b[39m.x+\u001b[38;5;28mself\u001b[39m.y\n",
      "\u001b[31mAttributeError\u001b[39m: 'Calculator' object has no attribute 'y'"
     ]
    }
   ],
   "source": [
    "calc = Calculator(3,4)\n",
    "calc.add()"
   ]
  },
  {
   "cell_type": "code",
   "execution_count": 351,
   "id": "891a94f2-62de-4949-beb5-6a80190bfcf3",
   "metadata": {},
   "outputs": [],
   "source": [
    "class Car():\n",
    "    instance_cnt =0 #클래스 속성\n",
    "\n",
    "    def __init__(self, size):\n",
    "        self.size = size\n",
    "        Car.instance_cnt+= 1\n",
    "        print(f'자동차가 {Car.instance_cnt}대 생성되었습니다')\n",
    "\n",
    "    def auto_cruise(self): #instance\n",
    "        print('자율주행중')\n",
    "    def check_type(code):#static method Class에 있는 체크 타입\n",
    "     if code > 20:\n",
    "         print('전기자동차')\n",
    "     elif 10 < code <20:\n",
    "         print('가솔린 자동차')\n",
    "     else:\n",
    "         print('디젤차')\n",
    "\n",
    "    def count_instance(): #class method\n",
    "        print(f'자동차 대수 : {Car.instance_cnt}')\n",
    "   # @classmethod\n",
    "   # def count_instance(): #class method\n",
    "    #    print(f'자동차 대수 : {Car.instance_cnt}')"
   ]
  },
  {
   "cell_type": "code",
   "execution_count": 359,
   "id": "b8ba7d73-2ca9-4d63-aeb5-091189fbc4bd",
   "metadata": {},
   "outputs": [
    {
     "name": "stdout",
     "output_type": "stream",
     "text": [
      "자동차가 6대 생성되었습니다\n"
     ]
    }
   ],
   "source": [
    "c1 =Car(2000)"
   ]
  },
  {
   "cell_type": "code",
   "execution_count": 354,
   "id": "6c87d54d-324a-4126-8b34-f15d008fdb5e",
   "metadata": {},
   "outputs": [
    {
     "name": "stdout",
     "output_type": "stream",
     "text": [
      "전기자동차\n"
     ]
    }
   ],
   "source": [
    "Car.check_type(25)"
   ]
  },
  {
   "cell_type": "code",
   "execution_count": 360,
   "id": "2d17d69c-455e-40ba-8c2d-df514deb9190",
   "metadata": {
    "scrolled": true
   },
   "outputs": [
    {
     "name": "stdout",
     "output_type": "stream",
     "text": [
      "자동차 대수 : 6\n"
     ]
    }
   ],
   "source": [
    "Car.count_instance()"
   ]
  },
  {
   "cell_type": "code",
   "execution_count": 606,
   "id": "db822326-16c3-485a-9de6-974c6690771b",
   "metadata": {},
   "outputs": [],
   "source": [
    "import random\n",
    "class Student():\n",
    "    def __init__(self, num, name, kor, eng, math):\n",
    "        self.num = num\n",
    "        self.name = name\n",
    "        self.kor = kor\n",
    "        self.eng = eng \n",
    "        self.math = math\n",
    "        self.total = 0\n",
    "        self.order = 0\n",
    "    #학생개체의 정보출력\n",
    "    def s_info(self):\n",
    "        print(f'{self.num}, {self.name}, {self.kor}, {self.eng}, {self.math}, {self.total}, {self.average},{self.order}')\n",
    "\n",
    "    def calc_total(self):\n",
    "        self.total = self.kor+self.eng+self.math\n",
    "        self.average = (self.total)/3\n",
    "   \n",
    "    def set_order(self, order):\n",
    "        self.order = order\n",
    "\n",
    "    def __str__(self):\n",
    "        return f'{self.num}, {self.name} : {self.order}등'\n",
    "        "
   ]
  },
  {
   "cell_type": "code",
   "execution_count": 12,
   "id": "1b4d0d12-11e6-4803-8b5c-5d7b3bf92119",
   "metadata": {},
   "outputs": [],
   "source": [
    "import random\n",
    "class Classroom():\n",
    "        #인스턴스 호출할떈 self\n",
    "     def __init__(self, student_list):\n",
    "         self.students = self.gen_student_data(student_list)  \n",
    "         self.name=''\n",
    "     #클래스의 학생 목록의 생성 인스턴수함수\n",
    "     #Student()\n",
    "\n",
    "     def set_name(self, class_name):\n",
    "        self.name = class_name\n",
    "    \n",
    "    \n",
    "     def gen_student_data(self, stu_list):\n",
    "          students = []\n",
    "          for i, s_name in enumerate(stu_list, start=1):\n",
    "             #print({i}, {s_name})\n",
    "             s = Student(i, s_name, random.randint(50,100), random.randint(50,100), random.randint(50,100) )\n",
    "             s.calc_total()\n",
    "             s.s_info()\n",
    "             students.append(s)\n",
    "         \n",
    "          return students \n",
    "         \n",
    "     def calc_order(self):\n",
    "        for s in self.students:\n",
    "            rank = 1\n",
    "            for other in self.students:\n",
    "                if other.total > s.total:\n",
    "                    rank+=1\n",
    "            s.set_order(rank)    \n",
    "\n",
    "    \n",
    "     def print_student_score(self):\n",
    "        for student in self.students:\n",
    "            print(student)\n",
    "\n",
    "     \n",
    "     def __str__(self):\n",
    "        return f'학급명 : {self.name}' "
   ]
  },
  {
   "cell_type": "code",
   "execution_count": 66,
   "id": "76f445c6-ade5-46f5-a682-d18d65c5e208",
   "metadata": {},
   "outputs": [],
   "source": [
    "class Student():\n",
    "    def __init__(self, num, name, kor, eng, math):\n",
    "        self.num = num\n",
    "        self.name = name\n",
    "        self.kor = kor\n",
    "        self.eng = eng\n",
    "        self.math = math\n",
    "        self.total = 0\n",
    "        self.avg = 0\n",
    "        self.order = 0\n",
    "    \n",
    "    #학생 객체의 정보 출력, instance method\n",
    "    def s_info(self):\n",
    "        print(f'{self.num}, {self.name}, {self.kor}, {self.eng}, {self.math}, {self.total}, , {self.order}, {self.name}') \n",
    "\n",
    "    #학생 객체의 총점\n",
    "    def calc_total(self):\n",
    "        self.total = self.kor + self.eng + self.math\n",
    "        self.avg = self.total/3\n",
    "\n",
    "    #학생 객체의 등수 계산\n",
    "    def set_order(self, order):\n",
    "        self.order = order\n",
    "\n",
    "    def __str__(self):\n",
    "        return f'{self.num}. {self.name} : {self.order}'\n",
    "\n",
    "    def print_class_score(self):\n",
    "        print(f' 우리 학급은 {self.name} 입니다.')"
   ]
  },
  {
   "cell_type": "code",
   "execution_count": 67,
   "id": "4510db7e-9a6f-4c16-9a9a-d2dc5dce3796",
   "metadata": {},
   "outputs": [],
   "source": [
    "class Classroom():\n",
    "    #클래스 이름\n",
    "    def __init__(self, student_list):\n",
    "        self.students = self.gen_student_data(student_list)\n",
    "        self.name = ''\n",
    "      \n",
    "    def set_name(self, class_name):\n",
    "        self.name = class_name\n",
    "        \n",
    "    #클래스의 학생 목록의 생성하는 인스턴스 메소드\n",
    "    def gen_student_data(self, stu_list):\n",
    "        students = []\n",
    "        for i, s_name in enumerate(stu_list, start=1):\n",
    "            #print(i,s_name)\n",
    "            s = Student(i,s_name, \n",
    "                        random.randint(50,100),\n",
    "                        random.randint(50,100),\n",
    "                        random.randint(50,100)\n",
    "                               )\n",
    "            s.calc_total()\n",
    "            #s.s_info()\n",
    "            \n",
    "            students.append(s)\n",
    "        \n",
    "        return students\n",
    "    \n",
    "    #학급의 학생 순위를 계산해서 학생 객체에 설정\n",
    "    def calc_order(self):\n",
    "        for s in self.students:\n",
    "            rank = 1\n",
    "            for other in self.students:\n",
    "                if other.total > s.total:\n",
    "                    rank += 1\n",
    "            s.set_order(rank)\n",
    "            s.s_info()\n",
    "            \n",
    "    def print_student_score(self):\n",
    "        for student in self.students:\n",
    "            print(student)\n",
    "\n",
    "    #학급정보 리턴함수 __str__\n",
    "    def __str__(self):\n",
    "        return f'학급명 : {self.name}'"
   ]
  },
  {
   "cell_type": "code",
   "execution_count": 68,
   "id": "53bdc87d-accc-4a1c-967e-3c9fec67a4cd",
   "metadata": {},
   "outputs": [],
   "source": [
    "#main process\n",
    "a_class_stu=['홍길동', '박제동', '김영희', '한사랑']\n",
    "b_class_stu=['김철수', '박길동', '이영희', '최사랑', '아이유']\n"
   ]
  },
  {
   "cell_type": "code",
   "execution_count": null,
   "id": "07e31052-f4d7-4782-94d4-32286ca247f7",
   "metadata": {},
   "outputs": [],
   "source": []
  },
  {
   "cell_type": "code",
   "execution_count": 69,
   "id": "843092e8-9455-4613-b3ee-7cbca0c83701",
   "metadata": {},
   "outputs": [
    {
     "name": "stdout",
     "output_type": "stream",
     "text": [
      "1, 홍길동, 93, 52, 79, 224, , 2, 홍길동\n",
      "2, 박제동, 81, 63, 71, 215, , 4, 박제동\n",
      "3, 김영희, 78, 91, 69, 238, , 1, 김영희\n",
      "4, 한사랑, 84, 86, 50, 220, , 3, 한사랑\n",
      "1, 김철수, 97, 58, 92, 247, , 2, 김철수\n",
      "2, 박길동, 97, 86, 60, 243, , 3, 박길동\n",
      "3, 이영희, 83, 51, 75, 209, , 5, 이영희\n",
      "4, 최사랑, 83, 55, 96, 234, , 4, 최사랑\n",
      "5, 아이유, 79, 88, 87, 254, , 1, 아이유\n",
      "1. 김철수 : 2\n",
      "2. 박길동 : 3\n",
      "3. 이영희 : 5\n",
      "4. 최사랑 : 4\n",
      "5. 아이유 : 1\n",
      "1. 김철수 : 2\n",
      "2. 박길동 : 3\n",
      "3. 이영희 : 5\n",
      "4. 최사랑 : 4\n",
      "5. 아이유 : 1\n"
     ]
    }
   ],
   "source": [
    "a_class = Classroom(a_class_stu)\n",
    "b_class = Classroom(b_class_stu)\n",
    "a_class.set_name('WN7')\n",
    "\n",
    "a_class.calc_order()\n",
    "b_class.calc_order()\n",
    "b_class.print_student_score()\n",
    "a_class.__str__()\n",
    "b_class.print_student_score()"
   ]
  },
  {
   "cell_type": "code",
   "execution_count": 90,
   "id": "253c2bd4-0829-4af2-a9e7-e7205324ea27",
   "metadata": {},
   "outputs": [],
   "source": [
    "class Student():\n",
    "    def __init__(self, num, name, kor, eng, math): # 생성자\n",
    "        self.num = num\n",
    "        self.name = name\n",
    "        self.kor = kor\n",
    "        self.eng = eng\n",
    "        self.math = math\n",
    "        self.total = 0\n",
    "        self.avg = 0\n",
    "        self.order = 0\n",
    "    \n",
    "    #학생 객체의 정보 출력, instance method\n",
    "    def s_info(self):\n",
    "        print(f'{self.num}, {self.name}, {self.kor}, {self.eng}, {self.math}, {self.total}, , {self.order}') \n",
    "\n",
    "    #학생 객체의 총점\n",
    "    def calc_total(self):\n",
    "        self.total = self.kor + self.eng + self.math\n",
    "        self.avg = self.total/3\n",
    "\n",
    "    #학생 객체의 등수 계산\n",
    "    def set_order(self, order):\n",
    "        self.order = order\n",
    "\n",
    "    # Object 상속 받은 메소드 재정의 overriding\n",
    "    def __str__(self):\n",
    "        return f'{self.num}. {self.name} : {self.order}등'\n",
    "\n",
    "    #학생 성적표\n",
    "    def print_score(self):\n",
    "        print(f'{self.name} : {self.avg:.2f}')\n",
    "\n",
    "    #instance method + 1"
   ]
  },
  {
   "cell_type": "code",
   "execution_count": 88,
   "id": "fcfefa47-3e1a-4966-b1c0-34089c919c53",
   "metadata": {},
   "outputs": [],
   "source": [
    "class Classroom():\n",
    "    #클래스 이름\n",
    "    def __init__(self, student_list):\n",
    "        self.students = self.gen_student_data(student_list)\n",
    "        self.name = ''\n",
    "\n",
    "    def set_name(self, class_name):\n",
    "        self.name = class_name\n",
    "        \n",
    "    #클래스의 학생 목록의 생성하는 인스턴스 메소드\n",
    "    def gen_student_data(self, stu_list):\n",
    "        students = []\n",
    "        for i, s_name in enumerate(stu_list, start=1):\n",
    "            #print(i,s_name)\n",
    "            s = Student(i,s_name, \n",
    "                        random.randint(50,100),\n",
    "                        random.randint(50,100),\n",
    "                        random.randint(50,100)\n",
    "                               )\n",
    "\n",
    "            s.calc_total()\n",
    "            #s.s_info()\n",
    "            \n",
    "            students.append(s)\n",
    "        \n",
    "        return students\n",
    "    \n",
    "    #학급의 학생 순위를 계산해서 학생 객체에 설정\n",
    "    def calc_order(self):\n",
    "        for s in self.students:\n",
    "            rank = 1\n",
    "            for other in self.students:\n",
    "                if other.total > s.total:\n",
    "                    rank += 1\n",
    "            s.set_order(rank)\n",
    "            #s.s_info()\n",
    "            \n",
    "    def print_student_score(self):\n",
    "        for student in self.students:\n",
    "            print(student)\n",
    "\n",
    "    #학급정보 리턴함수 __str__\n",
    "    def __str__(self):\n",
    "        return f'학급명 : {self.name}'\n",
    "\n",
    "    #학급 성적표\n",
    "    #국어 평균, 수학 평균, 영어 평균, 전체 평균, 학생수 \n",
    "    def print_class_score(self):\n",
    "        print(f' 우리 학급은 {self.name} 입니다.')\n",
    "        print(f'이번 우리 클래스의 전체 평균은 {sum(s.total for s in self.students)/len(self.students):.2f} 입니다.')\n",
    "        print(f'우리 학급은 총 {len(self.students)}명입니다.\\n')\n",
    "\n",
    "    def print_ordered_class_member(self):\n",
    "        s_students = sorted(self.students, key=lambda s:s.order)\n",
    "        #print(len(s_students))\n",
    "        \n",
    "        for s in s_students:\n",
    "            s.print_score()\n",
    "\n",
    "    #instance method + 1"
   ]
  },
  {
   "cell_type": "code",
   "execution_count": 89,
   "id": "42daa7a6-2559-42c5-aae7-b9fdaacca81d",
   "metadata": {},
   "outputs": [
    {
     "name": "stdout",
     "output_type": "stream",
     "text": [
      "1. 홍길동 : 1등\n",
      "2. 박제동 : 3등\n",
      "3. 김영희 : 4등\n",
      "4. 한사랑 : 1등\n",
      "1. 김철수 : 5등\n",
      "2. 박길동 : 3등\n",
      "3. 이영희 : 4등\n",
      "4. 최사랑 : 2등\n",
      "5. 아이유 : 1등\n",
      "****************************************\n",
      " 우리 학급은 WN7 입니다.\n",
      "이번 우리 클래스의 전체 평균은 233.00 입니다.\n",
      "우리 학급은 총 4명입니다.\n",
      "\n",
      "홍길동 : 85.33\n",
      "한사랑 : 85.33\n",
      "박제동 : 75.00\n",
      "김영희 : 65.00\n",
      "****************************************\n",
      " 우리 학급은 software camp 입니다.\n",
      "이번 우리 클래스의 전체 평균은 214.00 입니다.\n",
      "우리 학급은 총 5명입니다.\n",
      "\n",
      "아이유 : 83.67\n",
      "최사랑 : 76.33\n",
      "박길동 : 70.00\n",
      "이영희 : 67.67\n",
      "김철수 : 59.00\n"
     ]
    }
   ],
   "source": [
    "#main process\n",
    "a_class_stu = ['홍길동', '박제동', '김영희', '한사랑']\n",
    "b_class_stu = ['김철수', '박길동', '이영희', '최사랑', '아이유']\n",
    "\n",
    "a_class = Classroom(a_class_stu)\n",
    "b_class = Classroom(b_class_stu)\n",
    "\n",
    "a_class.calc_order()\n",
    "a_class.print_student_score()\n",
    "a_class.set_name('WN7')\n",
    "\n",
    "#print(a_class)\n",
    "b_class.calc_order()\n",
    "b_class.print_student_score()\n",
    "b_class.set_name('software camp')\n",
    "\n",
    "print('*'*40)\n",
    "a_class.print_class_score()\n",
    "a_class.print_ordered_class_member()\n",
    "\n",
    "print('*'*40)\n",
    "b_class.print_class_score()\n",
    "b_class.print_ordered_class_member()"
   ]
  },
  {
   "cell_type": "code",
   "execution_count": 109,
   "id": "559ebf1c-0a10-4fed-b22a-94b2b90638e2",
   "metadata": {},
   "outputs": [],
   "source": [
    "class MyClass():\n",
    "    def __init__(self):\n",
    "        self.val1=10 #public\n",
    "        self._val2=20 #protected\n",
    "        self.__val3=30 # private        "
   ]
  },
  {
   "cell_type": "code",
   "execution_count": 105,
   "id": "75895446-9a70-4496-b444-a378cded6509",
   "metadata": {},
   "outputs": [
    {
     "data": {
      "text/plain": [
       "['_MyClass__var3',\n",
       " '__class__',\n",
       " '__delattr__',\n",
       " '__dict__',\n",
       " '__dir__',\n",
       " '__doc__',\n",
       " '__eq__',\n",
       " '__format__',\n",
       " '__ge__',\n",
       " '__getattribute__',\n",
       " '__getstate__',\n",
       " '__gt__',\n",
       " '__hash__',\n",
       " '__init__',\n",
       " '__init_subclass__',\n",
       " '__le__',\n",
       " '__lt__',\n",
       " '__module__',\n",
       " '__ne__',\n",
       " '__new__',\n",
       " '__reduce__',\n",
       " '__reduce_ex__',\n",
       " '__repr__',\n",
       " '__setattr__',\n",
       " '__sizeof__',\n",
       " '__str__',\n",
       " '__subclasshook__',\n",
       " '__weakref__',\n",
       " '_var2',\n",
       " 'val1']"
      ]
     },
     "execution_count": 105,
     "metadata": {},
     "output_type": "execute_result"
    }
   ],
   "source": [
    "c1 = MyClass()\n",
    "dir(c1)"
   ]
  },
  {
   "cell_type": "code",
   "execution_count": 111,
   "id": "55f10658-c841-4937-91a3-d4861b7517e7",
   "metadata": {},
   "outputs": [
    {
     "data": {
      "text/plain": [
       "10"
      ]
     },
     "execution_count": 111,
     "metadata": {},
     "output_type": "execute_result"
    }
   ],
   "source": [
    "c1.val1"
   ]
  },
  {
   "cell_type": "code",
   "execution_count": 115,
   "id": "1acbb6e3-9825-4629-bfd5-1d10d3224d6f",
   "metadata": {},
   "outputs": [
    {
     "data": {
      "text/plain": [
       "30"
      ]
     },
     "execution_count": 115,
     "metadata": {},
     "output_type": "execute_result"
    }
   ],
   "source": [
    "c1._MyClass__var3"
   ]
  },
  {
   "cell_type": "code",
   "execution_count": 118,
   "id": "257113ad-5354-4af3-8753-b01875f04558",
   "metadata": {},
   "outputs": [
    {
     "data": {
      "text/plain": [
       "['__class__',\n",
       " '__delattr__',\n",
       " '__dict__',\n",
       " '__dir__',\n",
       " '__doc__',\n",
       " '__eq__',\n",
       " '__format__',\n",
       " '__ge__',\n",
       " '__getattribute__',\n",
       " '__getstate__',\n",
       " '__gt__',\n",
       " '__hash__',\n",
       " '__init__',\n",
       " '__init_subclass__',\n",
       " '__le__',\n",
       " '__lt__',\n",
       " '__module__',\n",
       " '__ne__',\n",
       " '__new__',\n",
       " '__reduce__',\n",
       " '__reduce_ex__',\n",
       " '__repr__',\n",
       " '__setattr__',\n",
       " '__sizeof__',\n",
       " '__str__',\n",
       " '__subclasshook__',\n",
       " '__weakref__']"
      ]
     },
     "execution_count": 118,
     "metadata": {},
     "output_type": "execute_result"
    }
   ],
   "source": [
    "dir(MyClass)"
   ]
  },
  {
   "cell_type": "code",
   "execution_count": 154,
   "id": "846203d9-7604-41de-99d5-6fe48b6e7f6d",
   "metadata": {},
   "outputs": [],
   "source": [
    "## 부모클래스\n",
    "class Calculator():\n",
    "    def __init__(self, x,y,):\n",
    "        self.x =x \n",
    "        self.y =y\n",
    "\n",
    "    def add(self ):\n",
    "        return self.x + self.y\n",
    "\n",
    "    def minus(self ):\n",
    "        return self.x - self.y"
   ]
  },
  {
   "cell_type": "code",
   "execution_count": 152,
   "id": "8e3e7659-3dec-49b6-9cc9-cae48836d512",
   "metadata": {},
   "outputs": [],
   "source": [
    "#자식클래스\n",
    "class AdvancedCalculator(Calculator):\n",
    "    \n",
    "    #def __init__(self, x,y,): 상속받은 기능 재사용\n",
    "    \n",
    "    #자식이 추가한 기능\n",
    "    def devide(self):\n",
    "        if self.y ==0:\n",
    "            return '0으로 나누기 금지'\n",
    "        return self.x / self.y\n",
    "\n",
    "    def multi(self):\n",
    "        if self.y ==0:\n",
    "            return '0으로 곱하기 금지'\n",
    "        return self.x * self.y\n",
    "    \n",
    "    #상속받은 기능의 재정의\n",
    "    def add(self): #오버라이딩\n",
    "        print('상속받은 기능 입니다')\n",
    "        return super().add() #상속된걸 불러오기\n",
    "\n",
    "    def minus(self): #오버라이딩\n",
    "        print('상속받은 기능 입니다')\n",
    "        return super().minus() #상속된걸 불러오기"
   ]
  },
  {
   "cell_type": "code",
   "execution_count": 156,
   "id": "6eac3779-98f4-40d8-9131-823c4f368a6f",
   "metadata": {},
   "outputs": [],
   "source": [
    "class Good(AdvancedCalculator):\n",
    "     def add(self): #오버라이딩\n",
    "        print('할배가 줬다.')\n",
    "        return super().add() #상속된걸 불러오기"
   ]
  },
  {
   "cell_type": "code",
   "execution_count": 153,
   "id": "8afa464c-6b1c-4ddc-9c4e-2cc7c430684c",
   "metadata": {},
   "outputs": [
    {
     "name": "stdout",
     "output_type": "stream",
     "text": [
      "상속받은 기능 입니다\n",
      "7\n",
      "상속받은 기능 입니다\n",
      "1\n",
      "1.3333333333333333\n",
      "12\n"
     ]
    }
   ],
   "source": [
    "acalc= AdvancedCalculator(4,3)\n",
    "\n",
    "print(acalc.add())\n",
    "print(acalc.minus())\n",
    "print(acalc.devide())\n",
    "print(acalc.multi())"
   ]
  },
  {
   "cell_type": "code",
   "execution_count": 130,
   "id": "3e747dda-0053-40da-98fa-a9235e9b72a1",
   "metadata": {
    "collapsed": true,
    "jupyter": {
     "outputs_hidden": true
    },
    "scrolled": true
   },
   "outputs": [
    {
     "data": {
      "text/plain": [
       "['__class__',\n",
       " '__delattr__',\n",
       " '__dict__',\n",
       " '__dir__',\n",
       " '__doc__',\n",
       " '__eq__',\n",
       " '__format__',\n",
       " '__ge__',\n",
       " '__getattribute__',\n",
       " '__getstate__',\n",
       " '__gt__',\n",
       " '__hash__',\n",
       " '__init__',\n",
       " '__init_subclass__',\n",
       " '__le__',\n",
       " '__lt__',\n",
       " '__module__',\n",
       " '__ne__',\n",
       " '__new__',\n",
       " '__reduce__',\n",
       " '__reduce_ex__',\n",
       " '__repr__',\n",
       " '__setattr__',\n",
       " '__sizeof__',\n",
       " '__str__',\n",
       " '__subclasshook__',\n",
       " '__weakref__',\n",
       " 'add',\n",
       " 'devide',\n",
       " 'x',\n",
       " 'y']"
      ]
     },
     "execution_count": 130,
     "metadata": {},
     "output_type": "execute_result"
    }
   ],
   "source": [
    "dir(acalc)"
   ]
  },
  {
   "cell_type": "code",
   "execution_count": 132,
   "id": "ea71b3f8-cebb-428b-8cb1-0708795617a8",
   "metadata": {},
   "outputs": [
    {
     "data": {
      "text/plain": [
       "6"
      ]
     },
     "execution_count": 132,
     "metadata": {},
     "output_type": "execute_result"
    }
   ],
   "source": [
    "acalc.add()"
   ]
  },
  {
   "cell_type": "code",
   "execution_count": 157,
   "id": "21d811e7-decf-4f62-97ae-61895b3f7334",
   "metadata": {},
   "outputs": [
    {
     "name": "stdout",
     "output_type": "stream",
     "text": [
      "할배가 줬다.\n",
      "상속받은 기능 입니다\n"
     ]
    },
    {
     "data": {
      "text/plain": [
       "15"
      ]
     },
     "execution_count": 157,
     "metadata": {},
     "output_type": "execute_result"
    }
   ],
   "source": [
    "gnd=Good(10,5)\n",
    "gnd.add()"
   ]
  }
 ],
 "metadata": {
  "kernelspec": {
   "display_name": "Python 3 (ipykernel)",
   "language": "python",
   "name": "python3"
  },
  "language_info": {
   "codemirror_mode": {
    "name": "ipython",
    "version": 3
   },
   "file_extension": ".py",
   "mimetype": "text/x-python",
   "name": "python",
   "nbconvert_exporter": "python",
   "pygments_lexer": "ipython3",
   "version": "3.12.9"
  }
 },
 "nbformat": 4,
 "nbformat_minor": 5
}
