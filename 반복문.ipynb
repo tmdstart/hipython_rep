{
 "cells": [
  {
   "cell_type": "markdown",
   "id": "73796371-2da0-4d96-8a10-46a68fffdbaa",
   "metadata": {},
   "source": [
    "반복문 : for while"
   ]
  },
  {
   "cell_type": "code",
   "execution_count": null,
   "id": "4318ea7a-71c5-4f4a-902f-52e34852a375",
   "metadata": {},
   "outputs": [],
   "source": [
    "# for\n",
    "for 변수 in 반복자 : \n",
    "반복자 - 리스트, 튜플, 딕셔너리, set"
   ]
  },
  {
   "cell_type": "code",
   "execution_count": 2,
   "id": "b902496e-532b-46e0-a7b7-6a560b9bb2bc",
   "metadata": {},
   "outputs": [
    {
     "name": "stdout",
     "output_type": "stream",
     "text": [
      "0\n",
      "1\n",
      "2\n",
      "3\n",
      "4\n"
     ]
    }
   ],
   "source": [
    "data = [0,1,2,3,4]\n",
    "for var in data :\n",
    "    print(var)"
   ]
  },
  {
   "cell_type": "code",
   "execution_count": 3,
   "id": "4ac03019-9b34-444c-8745-517960b23a98",
   "metadata": {},
   "outputs": [
    {
     "data": {
      "text/plain": [
       "range(1, 10)"
      ]
     },
     "execution_count": 3,
     "metadata": {},
     "output_type": "execute_result"
    }
   ],
   "source": [
    "range(1,10)"
   ]
  },
  {
   "cell_type": "code",
   "execution_count": 4,
   "id": "19921754-b296-4023-8692-f68bc56a913e",
   "metadata": {},
   "outputs": [
    {
     "name": "stdout",
     "output_type": "stream",
     "text": [
      "1\n",
      "2\n",
      "3\n",
      "4\n",
      "5\n",
      "6\n",
      "7\n",
      "8\n",
      "9\n"
     ]
    }
   ],
   "source": [
    "for x in range(1,10) :\n",
    "    print(x)"
   ]
  },
  {
   "cell_type": "code",
   "execution_count": 5,
   "id": "e8d07b6f-2d40-471b-ad86-cfe0360c2dec",
   "metadata": {},
   "outputs": [
    {
     "name": "stdout",
     "output_type": "stream",
     "text": [
      "apple\n",
      "banana\n",
      "cherry\n"
     ]
    }
   ],
   "source": [
    "tuple_a = (\"apple\", \"banana\", \"cherry\")\n",
    "for x in tuple_a :\n",
    "    print(x)\n"
   ]
  },
  {
   "cell_type": "code",
   "execution_count": 6,
   "id": "a399f641-4c28-41ae-9fd0-ebbced5c600d",
   "metadata": {},
   "outputs": [
    {
     "name": "stdout",
     "output_type": "stream",
     "text": [
      "4\n",
      "5\n",
      "6\n"
     ]
    }
   ],
   "source": [
    "list_b = [4, 5, 6]\n",
    "for x in list_b :\n",
    "    print(x)"
   ]
  },
  {
   "cell_type": "code",
   "execution_count": 10,
   "id": "4bd258b5-2898-4481-a734-2977491589b1",
   "metadata": {},
   "outputs": [
    {
     "name": "stdout",
     "output_type": "stream",
     "text": [
      "1. 요거트 아이스크림 : 3000원\n",
      "2. 바나나 : 3500원\n",
      "3. 딸기 : 3700원\n",
      "4. 벌집꿀 : 3700원\n",
      "5. 그레놀라 : 3700원\n",
      "6. 초코쉘 : 3700원\n",
      "7. 초코쉘 : 3700원\n",
      "0. 주문 종료\n"
     ]
    }
   ],
   "source": [
    "menu = [\n",
    "    [1, \"요거트 아이스크림\", 3000],\n",
    "    [2, \"바나나\", 3500],\n",
    "    [3, \"딸기\", 3700],\n",
    "    [4, \"벌집꿀\", 3700],\n",
    "    [5, \"그레놀라\", 3700],\n",
    "    [6, \"초코쉘\", 3700],\n",
    "    [7, \"초코쉘\", 3700]\n",
    "]\n",
    "for item in menu:\n",
    "        print(f\"{item[0]}. {item[1]} : {item[2]}원\")\n",
    "print(\"0. 주문 종료\")"
   ]
  },
  {
   "cell_type": "code",
   "execution_count": 12,
   "id": "0f67bfc5-0471-4d16-b10d-3a0a870c0d79",
   "metadata": {},
   "outputs": [
    {
     "name": "stdout",
     "output_type": "stream",
     "text": [
      "h\n",
      "i\n",
      "p\n",
      "y\n",
      "t\n",
      "h\n",
      "o\n",
      "n\n"
     ]
    }
   ],
   "source": [
    "str1=\"hipython\"\n",
    "for x in str1 : \n",
    "        print(x)"
   ]
  },
  {
   "cell_type": "code",
   "execution_count": 22,
   "id": "2892a5fe-0886-4e82-8513-3797e22f8d71",
   "metadata": {},
   "outputs": [
    {
     "data": {
      "text/plain": [
       "list"
      ]
     },
     "execution_count": 22,
     "metadata": {},
     "output_type": "execute_result"
    }
   ],
   "source": [
    "ran = range(1,10)\n",
    "type(ran)\n",
    "list(ran)\n",
    "type(list(ran))"
   ]
  },
  {
   "cell_type": "code",
   "execution_count": 24,
   "id": "1fcf9c4e-b256-4820-8fad-648bcb9f3b01",
   "metadata": {},
   "outputs": [
    {
     "data": {
      "text/plain": [
       "[0, 2, 4, 6, 8]"
      ]
     },
     "execution_count": 24,
     "metadata": {},
     "output_type": "execute_result"
    }
   ],
   "source": [
    "# range(1,10,2) # default=1\n",
    "#star stop step \n",
    "list(range(0,10,2))"
   ]
  },
  {
   "cell_type": "code",
   "execution_count": 33,
   "id": "5e0c5b23-954f-4edf-a877-7b1e1765f6b5",
   "metadata": {},
   "outputs": [
    {
     "name": "stdout",
     "output_type": "stream",
     "text": [
      "5050\n"
     ]
    }
   ],
   "source": [
    "# 1~100 합\n",
    "sum2=0\n",
    "for i in range(1,101) :\n",
    "    sum2 +=i\n",
    "print(sum2)"
   ]
  },
  {
   "cell_type": "code",
   "execution_count": 36,
   "id": "b2f97785-df10-48e7-ace6-cce98b9953ec",
   "metadata": {},
   "outputs": [
    {
     "name": "stdout",
     "output_type": "stream",
     "text": [
      "1683\n"
     ]
    }
   ],
   "source": [
    "# 1~100 합\n",
    "sum2=0\n",
    "for i in range(1,101) :\n",
    "    if(i%3==0) :\n",
    "      sum2 +=i\n",
    "print(sum2)"
   ]
  },
  {
   "cell_type": "code",
   "execution_count": 41,
   "id": "cd9ff0f9-679d-4ad7-942c-785b0be3738e",
   "metadata": {},
   "outputs": [
    {
     "name": "stdout",
     "output_type": "stream",
     "text": [
      "1683\n"
     ]
    }
   ],
   "source": [
    "# 1~100 합\n",
    "sum2=0\n",
    "for i in range(3,101,3) :\n",
    "      sum2 +=i\n",
    "print(sum2)"
   ]
  },
  {
   "cell_type": "code",
   "execution_count": 42,
   "id": "76c50fd6-13ef-4795-8afa-4c4a8e4b1d35",
   "metadata": {},
   "outputs": [
    {
     "name": "stdout",
     "output_type": "stream",
     "text": [
      "a\n",
      "b\n",
      "c\n"
     ]
    }
   ],
   "source": [
    "char_list = ['a', 'b', 'c']\n",
    "for x in char_list:\n",
    "    print(x)"
   ]
  },
  {
   "cell_type": "code",
   "execution_count": 45,
   "id": "ad8d77ad-5a7a-49fe-bf75-c31df29e8b00",
   "metadata": {},
   "outputs": [
    {
     "name": "stdout",
     "output_type": "stream",
     "text": [
      "0 a\n",
      "1 b\n",
      "2 c\n"
     ]
    }
   ],
   "source": [
    "for i, v in enumerate(char_list): #이뉴머레이트 이뮤터블 헷갈리지 말자\n",
    "    print(i,v)"
   ]
  },
  {
   "cell_type": "code",
   "execution_count": 46,
   "id": "1d1a6f79-c9d1-4cc4-86dd-869fd88160e7",
   "metadata": {},
   "outputs": [
    {
     "data": {
      "text/plain": [
       "<zip at 0x1fd20521340>"
      ]
     },
     "execution_count": 46,
     "metadata": {},
     "output_type": "execute_result"
    }
   ],
   "source": [
    "char_list_2=['hello', 'hi', 'good-bye']\n",
    "zip(char_list, char_list_2)"
   ]
  },
  {
   "cell_type": "code",
   "execution_count": 49,
   "id": "a9abeace-f003-44b6-9d9d-bab4fa995c92",
   "metadata": {},
   "outputs": [
    {
     "name": "stdout",
     "output_type": "stream",
     "text": [
      "('a', 'hello')\n",
      "('b', 'hi')\n",
      "('c', 'good-bye')\n"
     ]
    }
   ],
   "source": [
    "for item in zip(char_list, char_list_2) : #딕셔너리가 형태인데 실제로는 튜플이다\n",
    "    print(item)"
   ]
  },
  {
   "cell_type": "code",
   "execution_count": 83,
   "id": "2a1cc66b-864a-4c0f-a820-55858a7ae0f9",
   "metadata": {},
   "outputs": [
    {
     "name": "stdout",
     "output_type": "stream",
     "text": [
      "2 x 1 = 2\n",
      "2*1 = 2\n",
      "2 x 2 = 4\n",
      "2*2 = 4\n",
      "2 x 3 = 6\n",
      "2*3 = 6\n",
      "2 x 4 = 8\n",
      "2*4 = 8\n",
      "2 x 5 = 10\n",
      "2*5 = 10\n",
      "2 x 6 = 12\n",
      "2*6 = 12\n",
      "2 x 7 = 14\n",
      "2*7 = 14\n",
      "2 x 8 = 16\n",
      "2*8 = 16\n",
      "2 x 9 = 18\n",
      "2*9 = 18\n"
     ]
    }
   ],
   "source": [
    "# 9x9 단\n",
    "sum2=0\n",
    "#for i in range(2,9,1) :\n",
    "#    for j in range(1,9,1):\n",
    "#        print(i,j)\n",
    "\n",
    "\n",
    "for j in range(1,10,1):\n",
    "        print(2,'x',j,'=',2*j)   \n",
    "        print(f'2*{j} = {2*j}')"
   ]
  },
  {
   "cell_type": "code",
   "execution_count": 115,
   "id": "0ef4dcb3-ae85-40eb-99b2-8f7e94f0ea09",
   "metadata": {},
   "outputs": [
    {
     "name": "stdout",
     "output_type": "stream",
     "text": [
      "\n",
      "\n",
      "1 x 1 = 1\n",
      "1*1 = 1*1\n",
      "1 x 2 = 2\n",
      "1*2 = 1*2\n",
      "1 x 3 = 3\n",
      "1*3 = 1*3\n",
      "1 x 4 = 4\n",
      "1*4 = 1*4\n",
      "1 x 5 = 5\n",
      "1*5 = 1*5\n",
      "1 x 6 = 6\n",
      "1*6 = 1*6\n",
      "1 x 7 = 7\n",
      "1*7 = 1*7\n",
      "1 x 8 = 8\n",
      "1*8 = 1*8\n",
      "1 x 9 = 9\n",
      "1*9 = 1*9\n",
      "\n",
      "\n",
      "2 x 1 = 2\n",
      "2*1 = 2*1\n",
      "2 x 2 = 4\n",
      "2*2 = 2*2\n",
      "2 x 3 = 6\n",
      "2*3 = 2*3\n",
      "2 x 4 = 8\n",
      "2*4 = 2*4\n",
      "2 x 5 = 10\n",
      "2*5 = 2*5\n",
      "2 x 6 = 12\n",
      "2*6 = 2*6\n",
      "2 x 7 = 14\n",
      "2*7 = 2*7\n",
      "2 x 8 = 16\n",
      "2*8 = 2*8\n",
      "2 x 9 = 18\n",
      "2*9 = 2*9\n",
      "\n",
      "\n",
      "3 x 1 = 3\n",
      "3*1 = 3*1\n",
      "3 x 2 = 6\n",
      "3*2 = 3*2\n",
      "3 x 3 = 9\n",
      "3*3 = 3*3\n",
      "3 x 4 = 12\n",
      "3*4 = 3*4\n",
      "3 x 5 = 15\n",
      "3*5 = 3*5\n",
      "3 x 6 = 18\n",
      "3*6 = 3*6\n",
      "3 x 7 = 21\n",
      "3*7 = 3*7\n",
      "3 x 8 = 24\n",
      "3*8 = 3*8\n",
      "3 x 9 = 27\n",
      "3*9 = 3*9\n",
      "\n",
      "\n",
      "4 x 1 = 4\n",
      "4*1 = 4*1\n",
      "4 x 2 = 8\n",
      "4*2 = 4*2\n",
      "4 x 3 = 12\n",
      "4*3 = 4*3\n",
      "4 x 4 = 16\n",
      "4*4 = 4*4\n",
      "4 x 5 = 20\n",
      "4*5 = 4*5\n",
      "4 x 6 = 24\n",
      "4*6 = 4*6\n",
      "4 x 7 = 28\n",
      "4*7 = 4*7\n",
      "4 x 8 = 32\n",
      "4*8 = 4*8\n",
      "4 x 9 = 36\n",
      "4*9 = 4*9\n",
      "\n",
      "\n",
      "5 x 1 = 5\n",
      "5*1 = 5*1\n",
      "5 x 2 = 10\n",
      "5*2 = 5*2\n",
      "5 x 3 = 15\n",
      "5*3 = 5*3\n",
      "5 x 4 = 20\n",
      "5*4 = 5*4\n",
      "5 x 5 = 25\n",
      "5*5 = 5*5\n",
      "5 x 6 = 30\n",
      "5*6 = 5*6\n",
      "5 x 7 = 35\n",
      "5*7 = 5*7\n",
      "5 x 8 = 40\n",
      "5*8 = 5*8\n",
      "5 x 9 = 45\n",
      "5*9 = 5*9\n",
      "\n",
      "\n",
      "6 x 1 = 6\n",
      "6*1 = 6*1\n",
      "6 x 2 = 12\n",
      "6*2 = 6*2\n",
      "6 x 3 = 18\n",
      "6*3 = 6*3\n",
      "6 x 4 = 24\n",
      "6*4 = 6*4\n",
      "6 x 5 = 30\n",
      "6*5 = 6*5\n",
      "6 x 6 = 36\n",
      "6*6 = 6*6\n",
      "6 x 7 = 42\n",
      "6*7 = 6*7\n",
      "6 x 8 = 48\n",
      "6*8 = 6*8\n",
      "6 x 9 = 54\n",
      "6*9 = 6*9\n",
      "\n",
      "\n",
      "7 x 1 = 7\n",
      "7*1 = 7*1\n",
      "7 x 2 = 14\n",
      "7*2 = 7*2\n",
      "7 x 3 = 21\n",
      "7*3 = 7*3\n",
      "7 x 4 = 28\n",
      "7*4 = 7*4\n",
      "7 x 5 = 35\n",
      "7*5 = 7*5\n",
      "7 x 6 = 42\n",
      "7*6 = 7*6\n",
      "7 x 7 = 49\n",
      "7*7 = 7*7\n",
      "7 x 8 = 56\n",
      "7*8 = 7*8\n",
      "7 x 9 = 63\n",
      "7*9 = 7*9\n",
      "\n",
      "\n",
      "8 x 1 = 8\n",
      "8*1 = 8*1\n",
      "8 x 2 = 16\n",
      "8*2 = 8*2\n",
      "8 x 3 = 24\n",
      "8*3 = 8*3\n",
      "8 x 4 = 32\n",
      "8*4 = 8*4\n",
      "8 x 5 = 40\n",
      "8*5 = 8*5\n",
      "8 x 6 = 48\n",
      "8*6 = 8*6\n",
      "8 x 7 = 56\n",
      "8*7 = 8*7\n",
      "8 x 8 = 64\n",
      "8*8 = 8*8\n",
      "8 x 9 = 72\n",
      "8*9 = 8*9\n",
      "\n",
      "\n",
      "9 x 1 = 9\n",
      "9*1 = 9*1\n",
      "9 x 2 = 18\n",
      "9*2 = 9*2\n",
      "9 x 3 = 27\n",
      "9*3 = 9*3\n",
      "9 x 4 = 36\n",
      "9*4 = 9*4\n",
      "9 x 5 = 45\n",
      "9*5 = 9*5\n",
      "9 x 6 = 54\n",
      "9*6 = 9*6\n",
      "9 x 7 = 63\n",
      "9*7 = 9*7\n",
      "9 x 8 = 72\n",
      "9*8 = 9*8\n",
      "9 x 9 = 81\n",
      "9*9 = 9*9\n"
     ]
    }
   ],
   "source": [
    "for i in range(1,10,1) :\n",
    "    print(\"\\n\")\n",
    "    for j in range(1,10,1) :\n",
    "        print(i,'x',j,'=',i*j)\n",
    "        print(f'{i}*{j} = {i}*{j}')"
   ]
  },
  {
   "cell_type": "code",
   "execution_count": null,
   "id": "946cee9d-c31b-4da3-bf2f-a3e251fab715",
   "metadata": {},
   "outputs": [],
   "source": []
  },
  {
   "cell_type": "code",
   "execution_count": 76,
   "id": "de96632a-f145-4b58-ada9-ab50f9d6b5c2",
   "metadata": {},
   "outputs": [
    {
     "ename": "SyntaxError",
     "evalue": "invalid syntax (209994589.py, line 2)",
     "output_type": "error",
     "traceback": [
      "  \u001b[36mCell\u001b[39m\u001b[36m \u001b[39m\u001b[32mIn[76]\u001b[39m\u001b[32m, line 2\u001b[39m\n\u001b[31m    \u001b[39m\u001b[31mfor k,v in movie dict.items() :\u001b[39m\n                     ^\n\u001b[31mSyntaxError\u001b[39m\u001b[31m:\u001b[39m invalid syntax\n"
     ]
    }
   ],
   "source": [
    "movie_dict = {'미선임파서블':4, '미치광이삐에로':5, '씨너스':3, '울지않는 아이':2}\n",
    "for k,v in movie dict.items() :\n",
    "    print(f'영화 {K}의 평점 : {'*'*v}')"
   ]
  },
  {
   "cell_type": "code",
   "execution_count": 91,
   "id": "dd661acd-808a-48f0-b1c3-74a6e245dde0",
   "metadata": {},
   "outputs": [
    {
     "name": "stdout",
     "output_type": "stream",
     "text": [
      "😃\n",
      "😃😃\n",
      "😃😃😃\n",
      "😃😃😃😃\n",
      "😃😃😃😃😃\n"
     ]
    }
   ],
   "source": [
    "for i in range(1,6) :\n",
    "    for k in range(i) :\n",
    "        print(\"😃\", end='')\n",
    "    print()"
   ]
  },
  {
   "cell_type": "code",
   "execution_count": 117,
   "id": "ad2bfa27-c223-4fc8-9a3c-5950b9289b44",
   "metadata": {},
   "outputs": [
    {
     "name": "stdout",
     "output_type": "stream",
     "text": [
      "😃\n",
      "😃😃\n",
      "😃😃😃\n",
      "😃😃😃😃\n",
      "😃😃😃😃😃\n"
     ]
    }
   ],
   "source": [
    "for i in range(1,6) :\n",
    "    for k in range(i) :\n",
    "        print(\"😃\", end='')\n",
    "    print()"
   ]
  },
  {
   "cell_type": "code",
   "execution_count": 116,
   "id": "24ee7b9a-4ddb-481b-85c5-c3050da90c61",
   "metadata": {},
   "outputs": [
    {
     "name": "stdout",
     "output_type": "stream",
     "text": [
      "    *\n",
      "   ***\n",
      "  *****\n",
      " *******\n",
      "*********\n"
     ]
    }
   ],
   "source": [
    "n = 5\n",
    "for i in range(n):\n",
    "    print(\" \" * (n - i - 1) + \"*\" * (2 * i + 1))  # 5 - 0 -1 4, 1 ,   3, 3 + 2, 5) 1, 7, 0, 9"
   ]
  },
  {
   "cell_type": "code",
   "execution_count": 118,
   "id": "1e62f7a1-aa6d-45b4-ac4d-5da716360114",
   "metadata": {
    "scrolled": true
   },
   "outputs": [
    {
     "name": "stdout",
     "output_type": "stream",
     "text": [
      "😃😃😃😃😃😃\n",
      "😃😃😃😃😃\n",
      "😃😃😃😃\n",
      "😃😃😃\n",
      "😃😃\n",
      "😃\n"
     ]
    }
   ],
   "source": [
    "for i in range(6,0,-1) :\n",
    "    for k in range(i) :\n",
    "        print(\"😃\", end='')\n",
    "    print()"
   ]
  },
  {
   "cell_type": "code",
   "execution_count": 132,
   "id": "9561559d-fa6b-41d4-b049-c2f2f8014dde",
   "metadata": {
    "scrolled": true
   },
   "outputs": [
    {
     "name": "stdout",
     "output_type": "stream",
     "text": [
      "😃\n",
      "😃😃\n",
      "😃😃😃\n",
      "😃😃😃😃\n",
      "😃😃😃😃😃\n",
      "😃😃😃😃😃😃\n",
      "😃😃😃😃😃\n",
      "😃😃😃😃\n",
      "😃😃😃\n",
      "😃😃\n",
      "😃\n"
     ]
    }
   ],
   "source": [
    "for i in range(1,6) :\n",
    "    for k in range(i) :\n",
    "        print(\"😃\", end='')\n",
    "    print()\n",
    "for i in range(6,0,-1) :\n",
    "    for k in range(i) :\n",
    "        print(\"😃\", end='')\n",
    "    print()"
   ]
  },
  {
   "cell_type": "code",
   "execution_count": 1,
   "id": "4936303b-1ef4-44f0-972a-676904b2c423",
   "metadata": {},
   "outputs": [
    {
     "name": "stdout",
     "output_type": "stream",
     "text": [
      "😃\n",
      "😃😃\n",
      "😃😃😃\n",
      "😃😃😃😃\n",
      "😃😃😃😃😃\n"
     ]
    }
   ],
   "source": [
    "for i in range(1,6) :\n",
    "    for k in range(i) :\n",
    "        print(\"😃\", end='')\n",
    "    print()"
   ]
  },
  {
   "cell_type": "code",
   "execution_count": 3,
   "id": "5b8e4797-6636-412c-b8db-5747a37bb767",
   "metadata": {
    "scrolled": true
   },
   "outputs": [
    {
     "name": "stdout",
     "output_type": "stream",
     "text": [
      "\n",
      "========================================\n",
      "현재 장바구니\n",
      "1. 요거트 아이스크림 x 1 = 3,000원\n",
      "----------------------------------------\n",
      "Total = 3,000원\n",
      "\n",
      "메뉴 목록:\n",
      "1. 요거트 아이스크림 : 3,000원\n",
      "2. 바나나 : 4,000원\n",
      "3. 딸기 : 5,000원\n",
      "4. 벌집꿀 : 7,000원\n",
      "5. 그레놀라 : 7,000원\n",
      "6. 초코쉘 : 7,000원\n"
     ]
    },
    {
     "name": "stdin",
     "output_type": "stream",
     "text": [
      "\n",
      "추가할 메뉴 번호를 입력하세요 (종료: 0):  1\n",
      "추가할 개수를 입력하세요:  2\n"
     ]
    },
    {
     "name": "stdout",
     "output_type": "stream",
     "text": [
      "'요거트 아이스크림' 2개가 장바구니에 추가되었습니다.\n",
      "\n",
      "========================================\n",
      "현재 장바구니\n",
      "1. 요거트 아이스크림 x 3 = 9,000원\n",
      "----------------------------------------\n",
      "Total = 9,000원\n",
      "\n",
      "메뉴 목록:\n",
      "1. 요거트 아이스크림 : 3,000원\n",
      "2. 바나나 : 4,000원\n",
      "3. 딸기 : 5,000원\n",
      "4. 벌집꿀 : 7,000원\n",
      "5. 그레놀라 : 7,000원\n",
      "6. 초코쉘 : 7,000원\n"
     ]
    },
    {
     "name": "stdin",
     "output_type": "stream",
     "text": [
      "\n",
      "추가할 메뉴 번호를 입력하세요 (종료: 0):  0\n"
     ]
    },
    {
     "name": "stdout",
     "output_type": "stream",
     "text": [
      "\n",
      " - 토핑 완료 1\n",
      " - 토핑을 삭제하려면 2\n",
      " - 토핑을 추가하려면 3\n",
      "\n"
     ]
    },
    {
     "name": "stdin",
     "output_type": "stream",
     "text": [
      "번호를 입력해주세요 :  1\n"
     ]
    },
    {
     "name": "stdout",
     "output_type": "stream",
     "text": [
      "\n",
      "========================================\n",
      "현재 장바구니\n",
      "1. 요거트 아이스크림 x 3 = 9,000원\n",
      "----------------------------------------\n",
      "Total = 9,000원\n",
      "9,000원 결제하겠습니다. 카드를 삽입해주세요.\n"
     ]
    }
   ],
   "source": [
    "def display_cart(cart, total_price):\n",
    "    print(\"\\n\" + \"=\" * 40)\n",
    "    print(\"현재 장바구니\")\n",
    "    for i, item in enumerate(cart, start=1):\n",
    "        print(f\"{i}. {item['name']} x {item['quantity']} = {item['price'] * item['quantity']:,}원\")\n",
    "    print(\"-\" * 40)\n",
    "    print(f\"Total = {total_price:,}원\")\n",
    "\n",
    "def display_menu(menu_list):\n",
    "    print(\"\\n메뉴 목록:\")\n",
    "    for i, item in enumerate(menu_list, start=1):\n",
    "        print(f\"{i}. {item['name']} : {item['price']:,}원\")\n",
    "\n",
    "def add_item_to_cart(menu_list, cart, total_price):\n",
    "    choice = input(\"\\n추가할 메뉴 번호를 입력하세요 (종료: 0): \").strip()\n",
    "    if choice == \"0\":\n",
    "        return total_price, False\n",
    "    \n",
    "    if choice.isdigit() and 1 <= int(choice) <= len(menu_list):\n",
    "        quantity = input(\"추가할 개수를 입력하세요: \").strip()\n",
    "        if quantity.isdigit() and int(quantity) > 0:\n",
    "            selected_item = menu_list[int(choice) - 1]\n",
    "            qty = int(quantity)\n",
    "            found = False\n",
    "\n",
    "            for item in cart:\n",
    "                if item['name'] == selected_item['name']:\n",
    "                    item['quantity'] += qty\n",
    "                    found = True\n",
    "                    break\n",
    "\n",
    "            if not found:\n",
    "                cart.append({'name': selected_item['name'], 'price': selected_item['price'], 'quantity': qty})\n",
    "\n",
    "            print(f\"'{selected_item['name']}' {qty}개가 장바구니에 추가되었습니다.\")\n",
    "            total_price += selected_item[\"price\"] * qty\n",
    "        else:\n",
    "            print(\"올바른 개수를 입력하세요.\")\n",
    "    else:\n",
    "        print(\"올바른 메뉴 번호를 입력하세요.\")\n",
    "    \n",
    "    return total_price, True\n",
    "\n",
    "def remove_item_from_cart(cart, total_price):\n",
    "    del_no = int(input(\"삭제할 메뉴의 번호를 골라주세요 : \")) - 1\n",
    "    if 0 <= del_no < len(cart):\n",
    "        item = cart[del_no]\n",
    "        print(f\"'{item['name']}'의 현재 수량: {item['quantity']}\")\n",
    "        del_qty = int(input(\"몇 개를 삭제하시겠습니까? : \"))\n",
    "\n",
    "        if del_qty >= item['quantity'] or del_qty <= 0:\n",
    "            total_price -= item[\"price\"] * item[\"quantity\"]\n",
    "            cart.pop(del_no)\n",
    "            print(f\"'{item['name']}' 전체가 장바구니에서 삭제되었습니다.\")\n",
    "        else:\n",
    "            item['quantity'] -= del_qty\n",
    "            total_price -= item[\"price\"] * del_qty\n",
    "            print(f\"'{item['name']}' {del_qty}개가 삭제되었습니다.\")\n",
    "    else:\n",
    "        print(\"올바른 번호를 입력하세요.\")\n",
    "    \n",
    "    return total_price\n",
    "\n",
    "def checkout(cart, total_price):\n",
    "    display_cart(cart, total_price)\n",
    "    print(f\"{total_price:,}원 결제하겠습니다. 카드를 삽입해주세요.\")\n",
    "\n",
    "# 메인 실행 로직\n",
    "menu_list = [\n",
    "    {'name': '요거트 아이스크림', 'price': 3000},\n",
    "    {'name': '바나나', 'price': 4000},\n",
    "    {'name': '딸기', 'price': 5000},\n",
    "    {'name': '벌집꿀', 'price': 7000},\n",
    "    {'name': '그레놀라', 'price': 7000},\n",
    "    {'name': '초코쉘', 'price': 7000},\n",
    "]\n",
    "\n",
    "cart = []\n",
    "default_item = menu_list[0]\n",
    "cart.append({'name': default_item['name'], 'price': default_item['price'], 'quantity': 1})\n",
    "total_price = default_item[\"price\"]\n",
    "\n",
    "while True:\n",
    "    display_cart(cart, total_price)\n",
    "    display_menu(menu_list)\n",
    "\n",
    "    total_price, continue_shopping = add_item_to_cart(menu_list, cart, total_price)\n",
    "    if not continue_shopping:\n",
    "        break\n",
    "\n",
    "while True:\n",
    "    print(\"\\n - 토핑 완료 1\\n - 토핑을 삭제하려면 2\\n - 토핑을 추가하려면 3\\n\")\n",
    "    select = int(input(\"번호를 입력해주세요 : \"))\n",
    "\n",
    "    if select == 1:\n",
    "        checkout(cart, total_price)\n",
    "        break\n",
    "    elif select == 2:\n",
    "        total_price = remove_item_from_cart(cart, total_price)\n",
    "    elif select == 3:\n",
    "        total_price, _ = add_item_to_cart(menu_list, cart, total_price)"
   ]
  },
  {
   "cell_type": "code",
   "execution_count": null,
   "id": "76f6053d-6962-49e0-b5b7-5e9115be5a5d",
   "metadata": {},
   "outputs": [],
   "source": [
    "\n",
    "# menu_list \n",
    "menu_list = [ \n",
    "    {'name': '요거트 아이스크림', 'price': 3000},\n",
    "    {'name': '바나나', 'price': 4000},\n",
    "    {'name': '딸기', 'price': 5000},\n",
    "    {'name': '벌집꿀', 'price': 7000},\n",
    "    {'name': '그레놀라', 'price': 7000},\n",
    "    {'name': '초코쉘', 'price': 7000},\n",
    "]\n",
    "\n",
    "\n",
    "cart = []\n",
    "default_item = menu_list[0]\n",
    "cart.append({'name': default_item['name'], 'price': default_item['price'], 'quantity': 1})\n",
    "total_price = 3000\n",
    "\n",
    "\n",
    "while True:\n",
    "    print(\"\\n\" + \"=\" * 40)\n",
    "    print(\"현재 장바구니\")\n",
    "    for i, item in enumerate(cart, start=1):\n",
    "        print(f\"{i}. {item['name']} x {item['quantity']} = {item['price'] * item['quantity']:,}원\")\n",
    "    print(\"-\" * 40)\n",
    "    print(f\"Total = {total_price:,}원\")\n",
    "\n",
    "    print(\"\\n메뉴 목록:\")\n",
    "    for i, item in enumerate(menu_list, start=1):\n",
    "        print(f\"{i}. {item['name']} : {item['price']:,}원\")\n",
    "\n",
    "    choice = input(\"\\n추가할 메뉴 번호를 입력하세요 (종료: 0): \").strip()\n",
    "\n",
    "    if choice == \"0\":\n",
    "        break\n",
    "\n",
    "    if choice.isdigit() and 1 <= int(choice) <= len(menu_list):\n",
    "        quantity = input(\"추가할 개수를 입력하세요: \").strip()\n",
    "        if quantity.isdigit() and int(quantity) > 0:\n",
    "            selected_item = menu_list[int(choice) - 1]\n",
    "            qty = int(quantity)\n",
    "            found = False\n",
    "\n",
    "            for item in cart:\n",
    "                if item['name'] == selected_item['name']:\n",
    "                    item['quantity'] += qty\n",
    "                    found = True\n",
    "                    break\n",
    "\n",
    "            if not found:\n",
    "                cart.append({'name': selected_item['name'], 'price': selected_item['price'], 'quantity': qty})\n",
    "\n",
    "            print(f\"'{selected_item['name']}' {qty}개가 장바구니에 추가되었습니다.\")\n",
    "            total_price += selected_item[\"price\"] * qty\n",
    "        else:\n",
    "            print(\"올바른 개수를 입력하세요.\")\n",
    "    else:\n",
    "        print(\"올바른 메뉴 번호를 입력하세요.\")\n",
    "\n",
    "print(\"\\n\" + \"=\" * 40)\n",
    "print(\"현재 장바구니\")\n",
    "for i, item in enumerate(cart, start=1):\n",
    "    print(f\"{i}. {item['name']} x {item['quantity']} = {item['price'] * item['quantity']:,}원\")\n",
    "print(\"-\" * 40)\n",
    "print(f\"Total = {total_price:,}원\")\n",
    "\n",
    "print(\" - 토핑 완료 1\\n - 토핑을 삭제하려면 2\\n - 토핑을 추가하려면 3\\n\")\n",
    "select = int(input(\"번호를 입력해주세요 : \"))\n",
    "\n",
    "while True:\n",
    "    if select == 1:\n",
    "        print(\"\\n\" + \"=\" * 40)\n",
    "        print(\"현재 장바구니\")\n",
    "        for i, item in enumerate(cart, start=1):\n",
    "            print(f\"{i}. {item['name']} x {item['quantity']} = {item['price'] * item['quantity']:,}원\")\n",
    "        print(\"-\" * 40)\n",
    "        print(f\"Total = {total_price:,}원\")\n",
    "\n",
    "        print(\"메뉴를 확정하려면 1\")\n",
    "        print(\"메뉴를 삭제하려면 2\")\n",
    "        print(\"메뉴를 추가하려면 3\")\n",
    "        select = int(input(\"번호를 입력해주세요 : \"))\n",
    "        if select == 1:\n",
    "            break\n",
    "\n",
    "    elif select == 2:\n",
    "        print(\"\\n\" + \"=\" * 40)\n",
    "        print(\"현재 장바구니\")\n",
    "        for i, item in enumerate(cart, start=1):\n",
    "            print(f\"{i}. {item['name']} x {item['quantity']} = {item['price'] * item['quantity']:,}원\")\n",
    "        print(\"-\" * 40)\n",
    "        print(f\"Total = {total_price:,}원\")\n",
    "    \n",
    "        del_no = int(input(\"삭제할 메뉴의 번호를 골라주세요 : \")) - 1\n",
    "        if 0 <= del_no < len(cart):\n",
    "            item = cart[del_no]\n",
    "            print(f\"'{item['name']}'의 현재 수량: {item['quantity']}\")\n",
    "            del_qty = int(input(\"몇 개를 삭제하시겠습니까? : \"))\n",
    "    \n",
    "            if del_qty >= item['quantity'] or del_qty <= 0:\n",
    "                # 전체 삭제\n",
    "                total_price -= item[\"price\"] * item[\"quantity\"]\n",
    "                cart.pop(del_no)\n",
    "                print(f\"'{item['name']}' 전체가 장바구니에서 삭제되었습니다.\")\n",
    "            else:\n",
    "                # 일부 수량만 삭제\n",
    "                item['quantity'] -= del_qty\n",
    "                total_price -= item[\"price\"] * del_qty\n",
    "                print(f\"'{item['name']}' {del_qty}개가 삭제되었습니다.\")\n",
    "    \n",
    "        else: \n",
    "            print(\"올바른 번호를 입력하세요.\")\n",
    "    \n",
    "        print(\"\\n\" + \"=\" * 40)\n",
    "        print(\"현재 장바구니\")\n",
    "        for i, item in enumerate(cart, start=1):\n",
    "            print(f\"{i}. {item['name']} x {item['quantity']} = {item['price'] * item['quantity']:,}원\")\n",
    "        print(\"-\" * 40)\n",
    "        print(f\"Total = {total_price:,}원\")\n",
    "    \n",
    "        print(\"이대로 유지하시겠습니까 : 1\")\n",
    "        print(\"토핑을 더 삭제하시겠습니까? : 2\")\n",
    "        print(\"메뉴를 추가하시겠습니까 : 3\")\n",
    "        select = int(input(\"번호를 입력해주세요 : \"))\n",
    "\n",
    "    elif select == 3:\n",
    "        print(\"\\n메뉴 목록:\")\n",
    "        for i, item in enumerate(menu_list, start=1):\n",
    "            print(f\"{i}. {item['name']} : {item['price']:,}원\")\n",
    "        add_topping = int(input('추가할 토핑 번호를 골라주세요 :')) - 1\n",
    "        qty = int(input('수량을 선택해주세요 : '))\n",
    "\n",
    "        selected_item = menu_list[add_topping]\n",
    "        found = False\n",
    "\n",
    "        for item in cart:\n",
    "            if item['name'] == selected_item['name']:\n",
    "                item['quantity'] += qty\n",
    "                found = True\n",
    "                break\n",
    "\n",
    "        if not found:\n",
    "            cart.append({'name': selected_item['name'], 'quantity': qty, 'price': selected_item['price']})\n",
    "\n",
    "        total_price += selected_item['price'] * qty\n",
    "\n",
    "        print(\"\\n\" + \"=\" * 40)\n",
    "        print(\"현재 장바구니\")\n",
    "        for i, item in enumerate(cart, start=1):\n",
    "            print(f\"{i}. {item['name']} x {item['quantity']} = {item['price'] * item['quantity']:,}원\")\n",
    "        print(\"-\" * 40)\n",
    "        print(f\"Total = {total_price:,}원\")\n",
    "\n",
    "        print(\" - 토핑 완료 1\\n - 토핑을 삭제하려면 2\\n - 토핑을 추가하려면 3\\n\")\n",
    "        select = int(input(\"번호를 입력해주세요 : \"))\n",
    "\n",
    "print(f\"{total_price:,}원 결제하겠습니다. 카드를 삽입해주세요.\")"
   ]
  }
 ],
 "metadata": {
  "kernelspec": {
   "display_name": "Python 3 (ipykernel)",
   "language": "python",
   "name": "python3"
  },
  "language_info": {
   "codemirror_mode": {
    "name": "ipython",
    "version": 3
   },
   "file_extension": ".py",
   "mimetype": "text/x-python",
   "name": "python",
   "nbconvert_exporter": "python",
   "pygments_lexer": "ipython3",
   "version": "3.12.9"
  }
 },
 "nbformat": 4,
 "nbformat_minor": 5
}
