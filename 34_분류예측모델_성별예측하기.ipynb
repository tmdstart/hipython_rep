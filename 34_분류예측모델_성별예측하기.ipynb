{
 "cells": [
  {
   "cell_type": "markdown",
   "metadata": {
    "id": "nTXGJAoU91gM"
   },
   "source": [
    "# 🚀 머신러닝 실습 : 고객 구매 데이터로 성별 예측 모델링 (분류 문제)\n",
    "\n",
    "* 주어진 데이터는 백화점 고객의 1년 간 구매 데이터입니다.\n",
    "* 고객 3,500명에 대한 학습용 데이터(y.csv, X.csv)를 이용하여 성별예측 모형을 만들어보세요.\n",
    "* 모델의 성능은 자유롭게 측정해봅니다!"
   ]
  },
  {
   "cell_type": "markdown",
   "metadata": {
    "id": "nTWGcHCx91gP"
   },
   "source": [
    "## [실습 프로세스]\n",
    "1. 데이터 불러오기  \n",
    "2. 데이터 탐색\n",
    "3. 데이터 전처리  \n",
    "4. 학습/테스트 데이터 분리  \n",
    "5. 모델 선택 및 학습  \n",
    "6. 예측 및 평가  "
   ]
  },
  {
   "cell_type": "markdown",
   "metadata": {
    "id": "fMR3GxUg91gQ"
   },
   "source": [
    "\n",
    "<br/>\n",
    "\n",
    "---\n",
    "\n",
    "<br/>\n",
    "<br/>\n",
    "\n",
    "# 0. 라이브러리 불러오기"
   ]
  },
  {
   "cell_type": "markdown",
   "metadata": {
    "id": "Se9SJeEb91gQ"
   },
   "source": [
    "* 라이브러리를 가져와서 과정을 준비합니다"
   ]
  },
  {
   "cell_type": "code",
   "execution_count": 344,
   "metadata": {
    "id": "pWfHfOGW91gR"
   },
   "outputs": [],
   "source": [
    "import numpy as np\n",
    "import pandas as pd\n",
    "import matplotlib.pyplot as plt\n",
    "\n",
    "import warnings\n",
    "warnings.filterwarnings(action='ignore')"
   ]
  },
  {
   "cell_type": "markdown",
   "metadata": {
    "id": "cOi88-PZ91gS"
   },
   "source": [
    "<br/>\n",
    "\n",
    "---\n",
    "\n",
    "<br/>\n",
    "<br/>\n",
    "\n",
    "# 1. 데이터 불러오기\n",
    "* 데이터를 가져와서 과정을 준비합시다.\n",
    "- 인코딩 방식은 'euc-kr' 을 활용하세요.\n",
    "- 데이터 출처 : 한국데이터산업진흥원 빅데이터분석기사 실기 공개 예시 문항\n",
    "\n",
    "- 독립 변수 데이터셋 : ./data/X.csv\n",
    "- 종속 변수 데이터셋 : ./data/y.csv"
   ]
  },
  {
   "cell_type": "markdown",
   "metadata": {
    "id": "70290e1a"
   },
   "source": [
    "\n",
    "데이터 파일을 불러옵니다. 보통 CSV 파일을 pandas로 읽어옵니다."
   ]
  },
  {
   "cell_type": "code",
   "execution_count": 345,
   "metadata": {},
   "outputs": [
    {
     "name": "stdout",
     "output_type": "stream",
     "text": [
      "변경 후: c:\\gitmain\\hipython_rep\n"
     ]
    }
   ],
   "source": [
    "import os\n",
    "# 노트북 파일이 있는 폴더로 이동 (예시)\n",
    "os.chdir(r'C:\\gitmain\\hipython_rep')\n",
    "\n",
    "# 변경 후 확인\n",
    "print(\"변경 후:\", os.getcwd())"
   ]
  },
  {
   "cell_type": "code",
   "execution_count": 346,
   "metadata": {
    "id": "rd7D3p2U91gS"
   },
   "outputs": [],
   "source": [
    "X = pd.read_csv('./data1/X.csv', encoding='euc-kr')\n",
    "y = pd.read_csv('./data1/y.csv', encoding='euc-kr')"
   ]
  },
  {
   "cell_type": "markdown",
   "metadata": {
    "id": "juTPghw191gT"
   },
   "source": [
    "<br/>\n",
    "\n",
    "---\n",
    "\n",
    "<br/>\n",
    "<br/>\n",
    "\n",
    "# 2. 데이터 탐색하기\n",
    "* 데이터를 이해할 수 있도록 탐색과정을 수행해봅시다."
   ]
  },
  {
   "cell_type": "markdown",
   "metadata": {
    "id": "a20f7f93"
   },
   "source": [
    "\n",
    "데이터의 상위 몇 개 행을 출력하여 전체 구조를 미리 확인합니다."
   ]
  },
  {
   "cell_type": "markdown",
   "metadata": {
    "id": "61a879c4"
   },
   "source": [
    "\n",
    "데이터의 요약 정보나 통계 정보를 출력해 변수들의 유형과 분포를 확인합니다."
   ]
  },
  {
   "cell_type": "markdown",
   "metadata": {
    "id": "7968371f"
   },
   "source": [
    "\n",
    "데이터의 요약 정보나 통계 정보를 출력해 변수들의 유형과 분포를 확인합니다."
   ]
  },
  {
   "cell_type": "code",
   "execution_count": 347,
   "metadata": {},
   "outputs": [
    {
     "data": {
      "text/html": [
       "<div>\n",
       "<style scoped>\n",
       "    .dataframe tbody tr th:only-of-type {\n",
       "        vertical-align: middle;\n",
       "    }\n",
       "\n",
       "    .dataframe tbody tr th {\n",
       "        vertical-align: top;\n",
       "    }\n",
       "\n",
       "    .dataframe thead th {\n",
       "        text-align: right;\n",
       "    }\n",
       "</style>\n",
       "<table border=\"1\" class=\"dataframe\">\n",
       "  <thead>\n",
       "    <tr style=\"text-align: right;\">\n",
       "      <th></th>\n",
       "      <th>cust_id</th>\n",
       "      <th>총구매액</th>\n",
       "      <th>최대구매액</th>\n",
       "      <th>환불금액</th>\n",
       "      <th>내점일수</th>\n",
       "      <th>내점당구매건수</th>\n",
       "      <th>주말방문비율</th>\n",
       "      <th>구매주기</th>\n",
       "    </tr>\n",
       "  </thead>\n",
       "  <tbody>\n",
       "    <tr>\n",
       "      <th>count</th>\n",
       "      <td>3500.000000</td>\n",
       "      <td>3.500000e+03</td>\n",
       "      <td>3.500000e+03</td>\n",
       "      <td>1.205000e+03</td>\n",
       "      <td>3500.000000</td>\n",
       "      <td>3500.000000</td>\n",
       "      <td>3500.000000</td>\n",
       "      <td>3500.000000</td>\n",
       "    </tr>\n",
       "    <tr>\n",
       "      <th>mean</th>\n",
       "      <td>1749.500000</td>\n",
       "      <td>9.191925e+07</td>\n",
       "      <td>1.966424e+07</td>\n",
       "      <td>2.407822e+07</td>\n",
       "      <td>19.253714</td>\n",
       "      <td>2.834963</td>\n",
       "      <td>0.307246</td>\n",
       "      <td>20.958286</td>\n",
       "    </tr>\n",
       "    <tr>\n",
       "      <th>std</th>\n",
       "      <td>1010.507298</td>\n",
       "      <td>1.635065e+08</td>\n",
       "      <td>3.199235e+07</td>\n",
       "      <td>4.746453e+07</td>\n",
       "      <td>27.174942</td>\n",
       "      <td>1.912368</td>\n",
       "      <td>0.289752</td>\n",
       "      <td>24.748682</td>\n",
       "    </tr>\n",
       "    <tr>\n",
       "      <th>min</th>\n",
       "      <td>0.000000</td>\n",
       "      <td>-5.242152e+07</td>\n",
       "      <td>-2.992000e+06</td>\n",
       "      <td>5.600000e+03</td>\n",
       "      <td>1.000000</td>\n",
       "      <td>1.000000</td>\n",
       "      <td>0.000000</td>\n",
       "      <td>0.000000</td>\n",
       "    </tr>\n",
       "    <tr>\n",
       "      <th>25%</th>\n",
       "      <td>874.750000</td>\n",
       "      <td>4.747050e+06</td>\n",
       "      <td>2.875000e+06</td>\n",
       "      <td>2.259000e+06</td>\n",
       "      <td>2.000000</td>\n",
       "      <td>1.666667</td>\n",
       "      <td>0.027291</td>\n",
       "      <td>4.000000</td>\n",
       "    </tr>\n",
       "    <tr>\n",
       "      <th>50%</th>\n",
       "      <td>1749.500000</td>\n",
       "      <td>2.822270e+07</td>\n",
       "      <td>9.837000e+06</td>\n",
       "      <td>7.392000e+06</td>\n",
       "      <td>8.000000</td>\n",
       "      <td>2.333333</td>\n",
       "      <td>0.256410</td>\n",
       "      <td>13.000000</td>\n",
       "    </tr>\n",
       "    <tr>\n",
       "      <th>75%</th>\n",
       "      <td>2624.250000</td>\n",
       "      <td>1.065079e+08</td>\n",
       "      <td>2.296250e+07</td>\n",
       "      <td>2.412000e+07</td>\n",
       "      <td>25.000000</td>\n",
       "      <td>3.375000</td>\n",
       "      <td>0.448980</td>\n",
       "      <td>28.000000</td>\n",
       "    </tr>\n",
       "    <tr>\n",
       "      <th>max</th>\n",
       "      <td>3499.000000</td>\n",
       "      <td>2.323180e+09</td>\n",
       "      <td>7.066290e+08</td>\n",
       "      <td>5.637530e+08</td>\n",
       "      <td>285.000000</td>\n",
       "      <td>22.083333</td>\n",
       "      <td>1.000000</td>\n",
       "      <td>166.000000</td>\n",
       "    </tr>\n",
       "  </tbody>\n",
       "</table>\n",
       "</div>"
      ],
      "text/plain": [
       "           cust_id          총구매액         최대구매액          환불금액         내점일수  \\\n",
       "count  3500.000000  3.500000e+03  3.500000e+03  1.205000e+03  3500.000000   \n",
       "mean   1749.500000  9.191925e+07  1.966424e+07  2.407822e+07    19.253714   \n",
       "std    1010.507298  1.635065e+08  3.199235e+07  4.746453e+07    27.174942   \n",
       "min       0.000000 -5.242152e+07 -2.992000e+06  5.600000e+03     1.000000   \n",
       "25%     874.750000  4.747050e+06  2.875000e+06  2.259000e+06     2.000000   \n",
       "50%    1749.500000  2.822270e+07  9.837000e+06  7.392000e+06     8.000000   \n",
       "75%    2624.250000  1.065079e+08  2.296250e+07  2.412000e+07    25.000000   \n",
       "max    3499.000000  2.323180e+09  7.066290e+08  5.637530e+08   285.000000   \n",
       "\n",
       "           내점당구매건수       주말방문비율         구매주기  \n",
       "count  3500.000000  3500.000000  3500.000000  \n",
       "mean      2.834963     0.307246    20.958286  \n",
       "std       1.912368     0.289752    24.748682  \n",
       "min       1.000000     0.000000     0.000000  \n",
       "25%       1.666667     0.027291     4.000000  \n",
       "50%       2.333333     0.256410    13.000000  \n",
       "75%       3.375000     0.448980    28.000000  \n",
       "max      22.083333     1.000000   166.000000  "
      ]
     },
     "execution_count": 347,
     "metadata": {},
     "output_type": "execute_result"
    }
   ],
   "source": [
    "\n",
    "X\n",
    "y\n",
    "y.describe()\n",
    "X.describe()\n"
   ]
  },
  {
   "cell_type": "markdown",
   "metadata": {
    "id": "vJ1cHqu591gW"
   },
   "source": [
    "<br/>\n",
    "\n",
    "---\n",
    "\n",
    "<br/>\n",
    "<br/>\n",
    "\n",
    "# 3. 데이터 전처리\n",
    "* 전처리 과정을 통해서 머신러닝에 사용할 수 있는 형태의 데이터 준비"
   ]
  },
  {
   "cell_type": "markdown",
   "metadata": {
    "id": "a0065aed"
   },
   "source": [
    "\n",
    "필요한 라이브러리를 불러옵니다.\n",
    "- 인코딩 : LabelEncoder\n",
    "- 데이터 표준화 : StandardScaler"
   ]
  },
  {
   "cell_type": "markdown",
   "metadata": {
    "id": "_ZZfaw8wRK0q"
   },
   "source": [
    "* 단순히 1부터의 숫자를 부여한 'cust_id'를 수치형 변수로 받아들이면, 결과가 왜곡될 수 있으니 컬럼을 제거합니다."
   ]
  },
  {
   "cell_type": "code",
   "execution_count": 348,
   "metadata": {},
   "outputs": [],
   "source": [
    "from sklearn.preprocessing import LabelEncoder\n",
    "y = y.drop(columns=['cust_id'])\n",
    "#X = X.drop(columns=['cust_id'])\n",
    "X.isnull().sum()\n",
    "X = X.fillna(0)"
   ]
  },
  {
   "cell_type": "code",
   "execution_count": 349,
   "metadata": {},
   "outputs": [
    {
     "data": {
      "text/plain": [
       "Index(['cust_id', '총구매액', '최대구매액', '환불금액', '주구매상품', '주구매지점', '내점일수', '내점당구매건수',\n",
       "       '주말방문비율', '구매주기'],\n",
       "      dtype='object')"
      ]
     },
     "execution_count": 349,
     "metadata": {},
     "output_type": "execute_result"
    }
   ],
   "source": [
    "X.isnull().sum()\n",
    "X.columns"
   ]
  },
  {
   "cell_type": "markdown",
   "metadata": {
    "id": "6f732fc5"
   },
   "source": [
    "- 데이터에 결측치가 있는지 확인해보세요\n"
   ]
  },
  {
   "cell_type": "markdown",
   "metadata": {
    "id": "JCUDSOz5S4Uj"
   },
   "source": [
    "- 결측치에 0으로 채워 넣어 모델 학습에 지장이 없도록 합니다."
   ]
  },
  {
   "cell_type": "markdown",
   "metadata": {
    "id": "4c4576cb"
   },
   "source": [
    "\n",
    "문자형 범주 데이터를 숫자로 바꾸기 위한 인코딩을 수행합니다."
   ]
  },
  {
   "cell_type": "markdown",
   "metadata": {
    "id": "6a007ad3"
   },
   "source": [
    "각 데이터에 표준화를 적용하여 데이터의 스케일(크기 차이)을 맞춰줍니다.\n",
    "- 평균을 0, 표준편차를 1로 맞춰서 → 데이터가 정규 분포 형태로 변환되도록 하세요"
   ]
  },
  {
   "cell_type": "code",
   "execution_count": 330,
   "metadata": {},
   "outputs": [
    {
     "data": {
      "text/plain": [
       "array([[-1.73155601, -0.14458009, -0.26260786, ...,  0.55424743,\n",
       "         0.75862274, -0.15996211],\n",
       "       [-1.73056626, -0.54918957, -0.54796686, ..., -0.69816782,\n",
       "        -1.06053002, -0.80655356],\n",
       "       [-1.72957652, -0.5426996 , -0.56350404, ..., -0.43667453,\n",
       "        -1.06053002, -0.80655356],\n",
       "       ...,\n",
       "       [ 1.72957652, -0.56179637, -0.61239772, ..., -0.95966112,\n",
       "        -1.06053002, -0.84696552],\n",
       "       [ 1.73056626, -0.55078606, -0.58348042, ..., -0.95966112,\n",
       "        -1.06053002,  0.72910114],\n",
       "       [ 1.73155601,  1.04709431,  0.46792117, ..., -0.21646965,\n",
       "         0.55277658, -0.5236698 ]], shape=(3500, 8))"
      ]
     },
     "execution_count": 330,
     "metadata": {},
     "output_type": "execute_result"
    }
   ],
   "source": [
    "from sklearn.preprocessing import StandardScaler\n",
    "\n",
    "\n",
    "scaler = StandardScaler()\n",
    "\n",
    "X = pd.get_dummies(X, drop_first=True)\n",
    "\n",
    "X_numeric = X.select_dtypes(include=[np.number])\n",
    "scaled_data = scaler.fit_transform(X_numeric)\n",
    "\n",
    "\n",
    "# 숫자형 데이터만 골라서 표준화\n",
    "\n",
    "scaled_data"
   ]
  },
  {
   "cell_type": "markdown",
   "metadata": {
    "id": "ZvGAVRwM91gZ"
   },
   "source": [
    "<br/>\n",
    "\n",
    "---\n",
    "\n",
    "<br/>\n",
    "<br/>\n",
    "\n",
    "# 5-1. 모델링 - LogisticRegression\n",
    "\n",
    "* 본격적으로 모델을 선언하고 학습시킵니다."
   ]
  },
  {
   "cell_type": "markdown",
   "metadata": {
    "id": "9ff4c1c6"
   },
   "source": [
    "\n",
    "필요한 라이브러리를 불러옵니다."
   ]
  },
  {
   "cell_type": "markdown",
   "metadata": {
    "id": "041ddb99"
   },
   "source": [
    "모델을 선언하여 객체화시킵니다."
   ]
  },
  {
   "cell_type": "markdown",
   "metadata": {
    "id": "af2d6884"
   },
   "source": [
    "\n",
    "모델을 학습 데이터에 맞춰 학습시킵니다."
   ]
  },
  {
   "cell_type": "code",
   "execution_count": 338,
   "metadata": {},
   "outputs": [],
   "source": [
    "from sklearn.model_selection import train_test_split\n",
    "from sklearn.linear_model import LogisticRegression\n",
    "from sklearn.metrics import accuracy_score, classification_report, confusion_matrix\n",
    "X_train, X_test, y_train, y_test = train_test_split(X, y, test_size=0.2, random_state=42)\n",
    "\n"
   ]
  },
  {
   "cell_type": "code",
   "execution_count": 332,
   "metadata": {},
   "outputs": [],
   "source": [
    "def get_clf_eval(y_test, pred):\n",
    "    confusion = confusion_matrix(y_test, pred)\n",
    "    accuracy = accuracy_score(y_test, pred)\n",
    "    precision = precision_score(y_test, pred)\n",
    "    recall = recall_score(y_test, pred)\n",
    "\n",
    "    print(confusion)\n",
    "    print('*'*20)\n",
    "    print(accuracy, precision, recall)"
   ]
  },
  {
   "cell_type": "code",
   "execution_count": 333,
   "metadata": {},
   "outputs": [],
   "source": [
    "from sklearn.linear_model import LogisticRegression\n",
    "from sklearn.metrics import precision_score, recall_score"
   ]
  },
  {
   "cell_type": "code",
   "execution_count": null,
   "metadata": {},
   "outputs": [
    {
     "name": "stdout",
     "output_type": "stream",
     "text": [
      "정확도: 0.61\n",
      "혼동 행렬:\n",
      " [[427   0]\n",
      " [273   0]]\n"
     ]
    }
   ],
   "source": [
    "\n"
   ]
  },
  {
   "cell_type": "markdown",
   "metadata": {
    "id": "ZFuzRBOi91gq"
   },
   "source": [
    "<br/>\n",
    "\n",
    "---\n",
    "\n",
    "<br/>\n",
    "<br/>\n",
    "\n",
    "# 6-1. 예측 성능 확인해보기 - LogisticRegression\n",
    "\n",
    "- 학습된 모델로 테스트 데이터에 대한 예측을 수행합니다."
   ]
  },
  {
   "cell_type": "code",
   "execution_count": 339,
   "metadata": {},
   "outputs": [
    {
     "name": "stdout",
     "output_type": "stream",
     "text": [
      "[[427   0]\n",
      " [273   0]]\n",
      "********************\n",
      "0.61 0.0 0.0\n",
      "              precision    recall  f1-score   support\n",
      "\n",
      "           0       0.61      1.00      0.76       427\n",
      "           1       0.00      0.00      0.00       273\n",
      "\n",
      "    accuracy                           0.61       700\n",
      "   macro avg       0.30      0.50      0.38       700\n",
      "weighted avg       0.37      0.61      0.46       700\n",
      "\n"
     ]
    }
   ],
   "source": [
    "lr_clf = LogisticRegression(max_iter=10000)\n",
    "lr_clf.fit(X_train, y_train)\n",
    "pred = lr_clf.predict(X_test)\n",
    "\n",
    "#정확도, 정밀도, 재현율\n",
    "get_clf_eval(y_test, pred)\n",
    "print(classification_report(y_test, pred))"
   ]
  },
  {
   "cell_type": "markdown",
   "metadata": {
    "id": "abdb560b"
   },
   "source": [
    "- 학습시킨 모델의 성능을 알아봅니다\n",
    "- 각 평가지표로 모델의 성능을 수치화하여 확인합니다.\n",
    "- 필요한 라이브러리를 import 하고 성능을 확인해보세요 (정확도, 정밀도, 재현율, f1, confusion_matrix)"
   ]
  },
  {
   "cell_type": "markdown",
   "metadata": {
    "id": "dQuSbLz84nro"
   },
   "source": [
    "\n",
    "<br/>\n",
    "\n",
    "---\n",
    "\n",
    "<br/>\n",
    "<br/>\n",
    "\n",
    "# 5-2. 모델링 - DecisionTreeClassifier\n",
    "\n",
    "* 본격적으로 모델을 선언하고 학습시킵니다."
   ]
  },
  {
   "cell_type": "markdown",
   "metadata": {
    "id": "aVO9QGP_NqVL"
   },
   "source": [
    "\n",
    "필요한 라이브러리를 불러옵니다."
   ]
  },
  {
   "cell_type": "markdown",
   "metadata": {
    "id": "dvCbouLY4n-p"
   },
   "source": [
    "모델을 선언하여 객체화시킵니다."
   ]
  },
  {
   "cell_type": "markdown",
   "metadata": {
    "id": "rOcWcPPH4oMc"
   },
   "source": [
    "모델을 학습 데이터에 맞춰 학습시킵니다."
   ]
  },
  {
   "cell_type": "markdown",
   "metadata": {
    "id": "ac15ROBr4oZs"
   },
   "source": [
    "\n",
    "\n",
    "<br/>\n",
    "<br/>\n",
    "\n",
    "# 6-2. 예측 성능 확인해보기 - DecisionTreeClassifier\n",
    "\n",
    "- 학습된 모델로 테스트 데이터에 대한 예측을 수행합니다."
   ]
  },
  {
   "cell_type": "code",
   "execution_count": null,
   "metadata": {},
   "outputs": [
    {
     "name": "stdout",
     "output_type": "stream",
     "text": [
      "정확도: 0.6257142857142857\n",
      "혼동행렬:\n",
      " [[303 124]\n",
      " [138 135]]\n",
      "              precision    recall  f1-score   support\n",
      "\n",
      "           0       0.69      0.71      0.70       427\n",
      "           1       0.52      0.49      0.51       273\n",
      "\n",
      "    accuracy                           0.63       700\n",
      "   macro avg       0.60      0.60      0.60       700\n",
      "weighted avg       0.62      0.63      0.62       700\n",
      "\n"
     ]
    }
   ],
   "source": [
    "from sklearn.tree import DecisionTreeClassifier\n",
    "from sklearn.model_selection import train_test_split\n",
    "from sklearn.metrics import accuracy_score, confusion_matrix\n",
    "\n",
    "\n",
    "\n",
    "#) 예측 및 평가\n",
    "pred = tree_clf.predict(X_test)\n",
    "print(\"정확도:\", accuracy_score(y_test, pred))\n",
    "print(\"혼동행렬:\\n\", confusion_matrix(y_test, pred))\n",
    "print(classification_report(y_test, pred))\n"
   ]
  },
  {
   "cell_type": "markdown",
   "metadata": {},
   "source": [
    "# 6-2. 예측 성능 확인해보기 - DecisionTreeClassifier\n",
    " - 학습된 모델로 테스트 데이터에 대한 예측을 수행합니다.\n",
    "  - 학습시킨 모델의 성능을 알아봅니다\n",
    "  - 각 평가지표로 모델의 성능을 수치화하여 확인합니다.\n",
    "  - 필요한 라이브러리를 import 하고 성능을 확인해보세요 (정확도, 정밀도, 재현율, f1, confusion_matrix)"
   ]
  },
  {
   "cell_type": "code",
   "execution_count": 341,
   "metadata": {},
   "outputs": [
    {
     "name": "stdout",
     "output_type": "stream",
     "text": [
      "정확도: 0.6257142857142857\n",
      "혼동행렬:\n",
      " [[303 124]\n",
      " [138 135]]\n",
      "              precision    recall  f1-score   support\n",
      "\n",
      "           0       0.69      0.71      0.70       427\n",
      "           1       0.52      0.49      0.51       273\n",
      "\n",
      "    accuracy                           0.63       700\n",
      "   macro avg       0.60      0.60      0.60       700\n",
      "weighted avg       0.62      0.63      0.62       700\n",
      "\n"
     ]
    }
   ],
   "source": [
    "#) 예측 및 평가\n",
    "pred = tree_clf.predict(X_test)\n",
    "print(\"정확도:\", accuracy_score(y_test, pred))\n",
    "print(\"혼동행렬:\\n\", confusion_matrix(y_test, pred))\n",
    "print(classification_report(y_test, pred))"
   ]
  },
  {
   "cell_type": "markdown",
   "metadata": {
    "id": "KIzvNG9o4qbp"
   },
   "source": [
    "\n",
    "<br/>\n",
    "\n",
    "---\n",
    "\n",
    "<br/>\n",
    "<br/>\n",
    "\n",
    "# 5-3. 모델링 - RandomForestClassifier\n",
    "\n",
    "* 본격적으로 모델을 선언하고 학습시킵니다.\n"
   ]
  },
  {
   "cell_type": "code",
   "execution_count": 342,
   "metadata": {},
   "outputs": [
    {
     "name": "stdout",
     "output_type": "stream",
     "text": [
      "정확도: 0.6457142857142857\n",
      "혼동 행렬:\n",
      " [[361  66]\n",
      " [182  91]]\n",
      "              precision    recall  f1-score   support\n",
      "\n",
      "           0       0.69      0.71      0.70       427\n",
      "           1       0.52      0.49      0.51       273\n",
      "\n",
      "    accuracy                           0.63       700\n",
      "   macro avg       0.60      0.60      0.60       700\n",
      "weighted avg       0.62      0.63      0.62       700\n",
      "\n"
     ]
    }
   ],
   "source": [
    "from sklearn.ensemble import RandomForestClassifier\n",
    "from sklearn.metrics import accuracy_score, confusion_matrix\n",
    "\n",
    "rf_clf = RandomForestClassifier(random_state=100, max_depth=100)\n",
    "rf_clf.fit(X_train, y_train)\n",
    "rf_pred = rf_clf.predict(X_test)\n",
    "accuracy_score(y_test, rf_pred)\n",
    "print(\"정확도:\", accuracy_score(y_test, rf_pred))\n",
    "print(\"혼동 행렬:\\n\", confusion_matrix(y_test, rf_pred))\n",
    "print(classification_report(y_test, pred))"
   ]
  },
  {
   "cell_type": "markdown",
   "metadata": {
    "id": "4slJZUjdNrcg"
   },
   "source": [
    "\n",
    "필요한 라이브러리를 불러옵니다."
   ]
  },
  {
   "cell_type": "markdown",
   "metadata": {
    "id": "nKPLNPiA4qpc"
   },
   "source": [
    "모델을 선언하여 객체화시킵니다."
   ]
  },
  {
   "cell_type": "markdown",
   "metadata": {
    "id": "F3N5mRRO4q1c"
   },
   "source": [
    "모델을 학습 데이터에 맞춰 학습시킵니다."
   ]
  },
  {
   "cell_type": "markdown",
   "metadata": {
    "id": "91o2dDXpGboM"
   },
   "source": [
    "\n",
    "\n",
    "<br/>\n",
    "<br/>\n",
    "\n",
    "# 6-3. 예측 성능 확인해보기 - RandomForestClassifier\n",
    "\n",
    "- 학습된 모델로 테스트 데이터에 대한 예측을 수행합니다."
   ]
  },
  {
   "cell_type": "markdown",
   "metadata": {
    "id": "v1CmG6a6Gb_6"
   },
   "source": [
    "- 학습시킨 모델의 성능을 알아봅니다\n",
    "- 각 평가지표로 모델의 성능을 수치화하여 확인합니다.\n",
    "- 필요한 라이브러리를 import 하고 성능을 확인해보세요 (정확도, 정밀도, 재현율, f1, confusion_matrix)"
   ]
  },
  {
   "cell_type": "markdown",
   "metadata": {
    "id": "izQcl2k0G0JN"
   },
   "source": [
    "\n",
    "<br/>\n",
    "\n",
    "---\n",
    "\n",
    "<br/>\n",
    "<br/>\n",
    "\n",
    "# 5-4. 모델링 - XGBoost\n",
    "\n",
    "* 본격적으로 모델을 선언하고 학습시킵니다.\n"
   ]
  },
  {
   "cell_type": "markdown",
   "metadata": {
    "id": "hbXgeYXZNse8"
   },
   "source": [
    "\n",
    "필요한 라이브러리를 불러옵니다."
   ]
  },
  {
   "cell_type": "markdown",
   "metadata": {
    "id": "H6D_wUyFG0UJ"
   },
   "source": [
    "모델을 선언하여 객체화시킵니다."
   ]
  },
  {
   "cell_type": "markdown",
   "metadata": {
    "id": "Y8zf47AQImw3"
   },
   "source": [
    "모델을 학습 데이터에 맞춰 학습시킵니다."
   ]
  },
  {
   "cell_type": "code",
   "execution_count": null,
   "metadata": {},
   "outputs": [
    {
     "name": "stdout",
     "output_type": "stream",
     "text": [
      "1.6.2\n"
     ]
    }
   ],
   "source": [
    "import xgboost\n",
    "print(xgboost.__version__)\n"
   ]
  },
  {
   "cell_type": "code",
   "execution_count": null,
   "metadata": {},
   "outputs": [],
   "source": []
  },
  {
   "cell_type": "markdown",
   "metadata": {
    "id": "7gpDH5mSInJW"
   },
   "source": [
    "\n",
    "\n",
    "<br/>\n",
    "<br/>\n",
    "\n",
    "# 6-4. 예측 성능 확인해보기 - XGBoost\n",
    "\n",
    "- 학습된 모델로 테스트 데이터에 대한 예측을 수행합니다."
   ]
  },
  {
   "cell_type": "markdown",
   "metadata": {
    "id": "gmaIdV_4Inj4"
   },
   "source": [
    "- 학습시킨 모델의 성능을 알아봅니다\n",
    "- 각 평가지표로 모델의 성능을 수치화하여 확인합니다.\n",
    "- 필요한 라이브러리를 import 하고 성능을 확인해보세요 (정확도, 정밀도, 재현율, f1, confusion_matrix)"
   ]
  },
  {
   "cell_type": "code",
   "execution_count": 343,
   "metadata": {},
   "outputs": [
    {
     "name": "stdout",
     "output_type": "stream",
     "text": [
      "정확도: 0.6414285714285715\n",
      "혼동행렬:\n",
      " [[342  85]\n",
      " [166 107]]\n",
      "              precision    recall  f1-score   support\n",
      "\n",
      "           0       0.67      0.80      0.73       427\n",
      "           1       0.56      0.39      0.46       273\n",
      "\n",
      "    accuracy                           0.64       700\n",
      "   macro avg       0.62      0.60      0.60       700\n",
      "weighted avg       0.63      0.64      0.63       700\n",
      "\n"
     ]
    }
   ],
   "source": [
    "from xgboost import XGBClassifier\n",
    "from sklearn.model_selection import train_test_split\n",
    "from sklearn.metrics import accuracy_score, confusion_matrix\n",
    "\n",
    "\n",
    "\n",
    "# Train/Test 분할\n",
    "X_train, X_test, y_train, y_test = train_test_split(X, y, test_size=0.2, random_state=42)\n",
    "\n",
    "# XGBClassifier 모델 정의 및 학습\n",
    "xgb_clf = XGBClassifier(n_estimators=100, learning_rate=0.1, max_depth=5, random_state=42)\n",
    "xgb_clf.fit(X_train, y_train)\n",
    "\n",
    "# 예측 및 평가\n",
    "pred = xgb_clf.predict(X_test)\n",
    "print(\"정확도:\", accuracy_score(y_test, pred))\n",
    "print(\"혼동행렬:\\n\", confusion_matrix(y_test, pred))\n",
    "print(classification_report(y_test, pred))"
   ]
  },
  {
   "cell_type": "markdown",
   "metadata": {
    "id": "0oXz-hAO4hWc"
   },
   "source": [
    "<br/>\n",
    "\n",
    "---\n",
    "\n",
    "\n",
    "<br/>\n",
    "\n",
    "## 7.  위 4가지 모델의 학습 & 예측 & 평가 결과를 확인하고 최고 성능을 내는 모델을 찾아봅시다!\n",
    "\n",
    "- 어떤 모델이 가장 성능이 좋은가요 ?\n",
    "- XGBOOST가 성능이 가장 좋다."
   ]
  },
  {
   "cell_type": "code",
   "execution_count": null,
   "metadata": {},
   "outputs": [],
   "source": []
  }
 ],
 "metadata": {
  "colab": {
   "provenance": []
  },
  "kernelspec": {
   "display_name": "hi_ml_env",
   "language": "python",
   "name": "python3"
  },
  "language_info": {
   "codemirror_mode": {
    "name": "ipython",
    "version": 3
   },
   "file_extension": ".py",
   "mimetype": "text/x-python",
   "name": "python",
   "nbconvert_exporter": "python",
   "pygments_lexer": "ipython3",
   "version": "3.10.16"
  }
 },
 "nbformat": 4,
 "nbformat_minor": 0
}
