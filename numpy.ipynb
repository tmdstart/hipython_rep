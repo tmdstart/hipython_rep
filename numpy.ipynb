{
 "cells": [
  {
   "cell_type": "code",
   "execution_count": null,
   "id": "297bab81",
   "metadata": {},
   "outputs": [],
   "source": [
    "#크기가 10인 null 벡터를 만드세요. (힌트: np.zeros())\n",
    "#numpy 버전과 설정을 출력하세요. (힌트: np.__version__, np.show_config())\n",
    "#값이 10에서 49까지인 벡터를 만드세요. (힌트: np.arange(10, 50))\n",
    "#벡터를 역순으로 만드세요 (첫 번째 요소가 마지막이 됩니다). (힌트: 배열을 뒤집기 위해 [::-1])\n",
    "#크기가 3x3이고 0에서 8까지의 값을 갖는 행렬을 만드세요. (힌트: np.arange()와 reshape())"
   ]
  },
  {
   "cell_type": "code",
   "execution_count": 2,
   "id": "d694b9fa",
   "metadata": {},
   "outputs": [],
   "source": [
    "import numpy as np"
   ]
  },
  {
   "cell_type": "code",
   "execution_count": 4,
   "id": "f915157b",
   "metadata": {},
   "outputs": [
    {
     "data": {
      "text/plain": [
       "array([0., 0., 0., 0., 0., 0., 0., 0., 0., 0.])"
      ]
     },
     "execution_count": 4,
     "metadata": {},
     "output_type": "execute_result"
    }
   ],
   "source": [
    "arr1=np.zeros(10)\n",
    "arr1"
   ]
  },
  {
   "cell_type": "code",
   "execution_count": 8,
   "id": "00424855",
   "metadata": {},
   "outputs": [
    {
     "name": "stdout",
     "output_type": "stream",
     "text": [
      "Build Dependencies:\n",
      "  blas:\n",
      "    detection method: pkgconfig\n",
      "    found: true\n",
      "    include directory: C:/Users/runneradmin/AppData/Local/Temp/cibw-run-8d7bajfv/cp313-win_amd64/build/venv/Lib/site-packages/scipy_openblas64/include\n",
      "    lib directory: C:/Users/runneradmin/AppData/Local/Temp/cibw-run-8d7bajfv/cp313-win_amd64/build/venv/Lib/site-packages/scipy_openblas64/lib\n",
      "    name: scipy-openblas\n",
      "    openblas configuration: OpenBLAS 0.3.29  USE64BITINT DYNAMIC_ARCH NO_AFFINITY\n",
      "      Haswell MAX_THREADS=24\n",
      "    pc file directory: C:/a/numpy/numpy/.openblas\n",
      "    version: 0.3.29\n",
      "  lapack:\n",
      "    detection method: pkgconfig\n",
      "    found: true\n",
      "    include directory: C:/Users/runneradmin/AppData/Local/Temp/cibw-run-8d7bajfv/cp313-win_amd64/build/venv/Lib/site-packages/scipy_openblas64/include\n",
      "    lib directory: C:/Users/runneradmin/AppData/Local/Temp/cibw-run-8d7bajfv/cp313-win_amd64/build/venv/Lib/site-packages/scipy_openblas64/lib\n",
      "    name: scipy-openblas\n",
      "    openblas configuration: OpenBLAS 0.3.29  USE64BITINT DYNAMIC_ARCH NO_AFFINITY\n",
      "      Haswell MAX_THREADS=24\n",
      "    pc file directory: C:/a/numpy/numpy/.openblas\n",
      "    version: 0.3.29\n",
      "Compilers:\n",
      "  c:\n",
      "    commands: cl\n",
      "    linker: link\n",
      "    name: msvc\n",
      "    version: 19.43.34808\n",
      "  c++:\n",
      "    commands: cl\n",
      "    linker: link\n",
      "    name: msvc\n",
      "    version: 19.43.34808\n",
      "  cython:\n",
      "    commands: cython\n",
      "    linker: cython\n",
      "    name: cython\n",
      "    version: 3.1.1\n",
      "Machine Information:\n",
      "  build:\n",
      "    cpu: x86_64\n",
      "    endian: little\n",
      "    family: x86_64\n",
      "    system: windows\n",
      "  host:\n",
      "    cpu: x86_64\n",
      "    endian: little\n",
      "    family: x86_64\n",
      "    system: windows\n",
      "Python Information:\n",
      "  path: C:\\Users\\runneradmin\\AppData\\Local\\Temp\\build-env-_4mvna30\\Scripts\\python.exe\n",
      "  version: '3.13'\n",
      "SIMD Extensions:\n",
      "  baseline:\n",
      "  - SSE\n",
      "  - SSE2\n",
      "  - SSE3\n",
      "  found:\n",
      "  - SSSE3\n",
      "  - SSE41\n",
      "  - POPCNT\n",
      "  - SSE42\n",
      "  - AVX\n",
      "  - F16C\n",
      "  - FMA3\n",
      "  - AVX2\n",
      "  not found:\n",
      "  - AVX512F\n",
      "  - AVX512CD\n",
      "  - AVX512_SKX\n",
      "  - AVX512_CLX\n",
      "  - AVX512_CNL\n",
      "  - AVX512_ICL\n",
      "\n"
     ]
    }
   ],
   "source": [
    "np.__version__\n",
    "np.show_config()"
   ]
  },
  {
   "cell_type": "code",
   "execution_count": 12,
   "id": "064b1671",
   "metadata": {},
   "outputs": [
    {
     "name": "stdout",
     "output_type": "stream",
     "text": [
      "[10 11 12 13 14 15 16 17 18 19 20 21 22 23 24 25 26 27 28 29 30 31 32 33\n",
      " 34 35 36 37 38 39 40 41 42 43 44 45 46 47 48 49]\n",
      "[49 48 47 46 45 44 43 42 41 40 39 38 37 36 35 34 33 32 31 30 29 28 27 26\n",
      " 25 24 23 22 21 20 19 18 17 16 15 14 13 12 11 10]\n"
     ]
    }
   ],
   "source": [
    "arr2=np.arange(10, 50)\n",
    "print(arr2)\n",
    "#벡터를 역순으로 만드세요 (첫 번째 요소가 마지막이 됩니다). (힌트: 배열을 뒤집기 위해 [::-1])\n",
    "\n",
    "\n",
    "print(arr2[::-1])"
   ]
  },
  {
   "cell_type": "code",
   "execution_count": 33,
   "id": "d9ae7d20",
   "metadata": {},
   "outputs": [
    {
     "name": "stdout",
     "output_type": "stream",
     "text": [
      "[[0 1 2]\n",
      " [3 4 5]\n",
      " [6 7 8]]\n"
     ]
    }
   ],
   "source": [
    "arr3=np.arange(0,9).reshape(3,3)\n",
    "print(arr3)"
   ]
  },
  {
   "cell_type": "code",
   "execution_count": null,
   "id": "21abc499",
   "metadata": {},
   "outputs": [],
   "source": [
    "#1D 배열을 3x3 행렬로 변환하세요. (힌트: reshape())\n",
    "#0에서 1 사이의 랜덤한 값으로 채워진 3x3 배열을 만드세요. (힌트: np.random.random())\n",
    "#5x5 단위 행렬을 만드세요. (힌트: np.eye(5))\n",
    "#임의의 1D 배열에서 가장 큰 값의 인덱스를 찾으세요. (힌트: np.argmax())\n",
    "#크기가 10인 배열을 생성하고, 3에서 8까지의 값을 0으로 바꾸세요. (힌트: 슬라이싱과 배열 인덱싱)"
   ]
  },
  {
   "cell_type": "code",
   "execution_count": 37,
   "id": "5575280d",
   "metadata": {},
   "outputs": [
    {
     "name": "stdout",
     "output_type": "stream",
     "text": [
      "[[0 1 2]\n",
      " [3 4 5]\n",
      " [6 7 8]]\n",
      "\n",
      "\n",
      "[[0.44680242 0.49472905 0.77363702]\n",
      " [0.8797126  0.98812596 0.96609654]\n",
      " [0.22997543 0.28224832 0.17220748]]\n",
      "\n",
      "\n",
      "[[1. 0. 0. 0. 0.]\n",
      " [0. 1. 0. 0. 0.]\n",
      " [0. 0. 1. 0. 0.]\n",
      " [0. 0. 0. 1. 0.]\n",
      " [0. 0. 0. 0. 1.]]\n",
      "\n",
      "\n",
      "[10 11 12 13 14 15 16 17 18 19 20 21 22 23 24 25 26 27 28 29 30 31 32 33\n",
      " 34 35 36 37 38 39 40 41 42 43 44 45 46 47 48 49]\n",
      "39\n"
     ]
    }
   ],
   "source": [
    "arr3=np.arange(0,9).reshape(3,3)\n",
    "print(arr3)\n",
    "print('\\n')\n",
    "random_array = np.random.random((3, 3))\n",
    "print(random_array)\n",
    "print('\\n')\n",
    "arr4=np.eye(5)\n",
    "print(arr4)\n",
    "print('\\n')\n",
    "print(arr2)\n",
    "a = np.argmax(arr2)\n",
    "print(a)"
   ]
  },
  {
   "cell_type": "code",
   "execution_count": 34,
   "id": "771d0da9",
   "metadata": {},
   "outputs": [
    {
     "name": "stdout",
     "output_type": "stream",
     "text": [
      "[ 0  1  2  3  4  5  6  7  8  9 10]\n",
      "[ 0  1  2  0  0  0  0  0  0  9 10]\n"
     ]
    }
   ],
   "source": [
    "arr5=np.arange(0,11)\n",
    "print(arr5)\n",
    "arr5[3:9]=0\n",
    "print(arr5)"
   ]
  },
  {
   "cell_type": "code",
   "execution_count": 55,
   "id": "335b609b",
   "metadata": {},
   "outputs": [
    {
     "name": "stdout",
     "output_type": "stream",
     "text": [
      "[10  1  2  3  4  5  6  7  8  9  0]\n"
     ]
    }
   ],
   "source": [
    "#임의의 배열에서 가장 작은 값과 가장 큰 값을 교환하세요. (힌트: np.min(), np.max()와 인덱싱)\n",
    "#3차원 배열의 각 슬라이스마다 평균값을 계산하세요. (힌트: np.mean()과 축 설정)\n",
    "#크기가 100인 배열을 생성하고 평균, 표준편차를 계산하세요. (힌트: np.mean(), np.std())\n",
    "#주어진 2D 배열에서 고유한 행을 찾으세요. (힌트: np.unique()와 axis 설정)\n",
    "#임의의 10x10 배열에서 가장 큰 값 5개를 찾으세요. (힌트: np.argsort()와 슬라이싱)\n",
    "arr5=np.arange(0,11)\n",
    "a=np.argmax(arr5)\n",
    "b=np.argmin(arr5)\n",
    "c=np.max(arr5)\n",
    "d=np.min(arr5)\n",
    "\n",
    "arr5[b]=c\n",
    "arr5[a]=d\n",
    "print(arr5)\n"
   ]
  },
  {
   "cell_type": "code",
   "execution_count": null,
   "id": "5625047d",
   "metadata": {},
   "outputs": [
    {
     "name": "stdout",
     "output_type": "stream",
     "text": [
      "7.5\n",
      "23.5\n",
      "55.5\n"
     ]
    }
   ],
   "source": [
    "arr6=np.arange(64).reshape(4,4,4)\n",
    "\n",
    "print(np.mean(arr6[0,:6,:6]))\n",
    "print(np.mean(arr6[1,:6,:6]))\n",
    "print(np.mean(arr6[3,:6,:6]))\n"
   ]
  },
  {
   "cell_type": "code",
   "execution_count": 65,
   "id": "b2667d8c",
   "metadata": {},
   "outputs": [
    {
     "name": "stdout",
     "output_type": "stream",
     "text": [
      "49.5\n",
      "28.86607004772212\n"
     ]
    }
   ],
   "source": [
    "arr6=np.arange(100)\n",
    "print(np.mean(arr6))\n",
    "print(np.std(arr6))"
   ]
  },
  {
   "cell_type": "code",
   "execution_count": null,
   "id": "25eebad4",
   "metadata": {},
   "outputs": [
    {
     "name": "stdout",
     "output_type": "stream",
     "text": [
      "[[1 2 3]\n",
      " [4 5 6]]\n",
      "[[  1   2   3   4   5   6   7   8   9  10]\n",
      " [ 11  12  13  14  15  16  17  18  19  20]\n",
      " [ 21  22  23  24  25  26  27  28  29  30]\n",
      " [ 31  32  33  34  35  36  37  38  39  40]\n",
      " [ 41  42  43  44  45  46  47  48  49  50]\n",
      " [ 51  52  53  54  55  56  57  58  59  60]\n",
      " [ 61  62  63  64  65  66  67  68  69  70]\n",
      " [ 71  72  73  74  75  76  77  78  79  80]\n",
      " [ 81  82  83  84  85  86  87  88  89  90]\n",
      " [ 91  92  93  94  95  96  97  98  99 100]]\n",
      "\n",
      "\n",
      "[ 96  97  98  99 100]\n"
     ]
    }
   ],
   "source": [
    "#주어진 2D 배열에서 고유한 행을 찾으세요. (힌트: np.unique()와 axis 설정)\n",
    "array1 = np.tile(np.arange(1, 7).reshape(2,3), (2, 1))\n",
    "array1\n",
    "\n",
    "unique_rows = np.unique(array1, axis=0) \n",
    "print(unique_rows)\n",
    "\n",
    "#임의의 10x10 배열에서 가장 큰 값 5개를 찾으세요. (힌트: np.argsort()와 슬라이싱)\n",
    "array2 = np.arange(1,101).reshape(10,10)\n",
    "print(array2)\n",
    "top5 = np.sort(array2.ravel())[-5:]\n",
    "print('\\n')\n",
    "print(top5)\n",
    "\n",
    "\n",
    "\n",
    "\n",
    "\n",
    "\n"
   ]
  }
 ],
 "metadata": {
  "kernelspec": {
   "display_name": "hipython",
   "language": "python",
   "name": "python3"
  },
  "language_info": {
   "codemirror_mode": {
    "name": "ipython",
    "version": 3
   },
   "file_extension": ".py",
   "mimetype": "text/x-python",
   "name": "python",
   "nbconvert_exporter": "python",
   "pygments_lexer": "ipython3",
   "version": "3.12.9"
  }
 },
 "nbformat": 4,
 "nbformat_minor": 5
}
