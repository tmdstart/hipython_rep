{
 "cells": [
  {
   "cell_type": "code",
   "execution_count": 3,
   "id": "8d83e1b1-a3dc-4399-9cdc-2792e0fa599d",
   "metadata": {},
   "outputs": [
    {
     "name": "stdin",
     "output_type": "stream",
     "text": [
      "숫자를 입력하세요:  3\n"
     ]
    },
    {
     "name": "stdout",
     "output_type": "stream",
     "text": [
      "3.3333333333333335\n"
     ]
    }
   ],
   "source": [
    "try:\n",
    "    num = int(input(\"숫자를 입력하세요: \"))\n",
    "    result = 10 / num\n",
    "    print(result)\n",
    "except ZeroDivisionError:\n",
    "    print(\"0으로 나눌 수 없습니다.\")"
   ]
  },
  {
   "cell_type": "code",
   "execution_count": 5,
   "id": "64093769-de5a-48f9-9f43-12c2aafafb0d",
   "metadata": {},
   "outputs": [
    {
     "name": "stdout",
     "output_type": "stream",
     "text": [
      "정수로 변환할 수 없습니다.\n"
     ]
    }
   ],
   "source": [
    "try:\n",
    "    n = int(\"abc\")\n",
    "except ValueError:\n",
    "    print(\"정수로 변환할 수 없습니다.\")"
   ]
  },
  {
   "cell_type": "markdown",
   "id": "d2af480e-a5ba-4fab-8e02-3f2d952356ac",
   "metadata": {},
   "source": [
    "# 예외의 종류\n",
    "1. 문법오류\n",
    "2. 논리오류\n",
    "3. 예외상황\n",
    "4. try:\n",
    "except"
   ]
  },
  {
   "cell_type": "code",
   "execution_count": null,
   "id": "2318fce1-7d9b-4bdc-a60b-0b07e4a7cca3",
   "metadata": {},
   "outputs": [],
   "source": [
    "#10/0 #zerodivisionError\n"
   ]
  },
  {
   "cell_type": "code",
   "execution_count": 19,
   "id": "c89c2477-0852-4a20-bd21-f1d402bc2a34",
   "metadata": {},
   "outputs": [],
   "source": [
    "def devide1 (m,n):\n",
    "    try:\n",
    "        result = m/n\n",
    "    except ZeroDivisionError : #이 에러가 나오면 이렇게 처리해라\n",
    "        print('0으로 나눌수 없습니다.')\n",
    "        return result"
   ]
  },
  {
   "cell_type": "code",
   "execution_count": 21,
   "id": "862dbeab-5bf6-478d-8326-5a3dc09d45de",
   "metadata": {},
   "outputs": [],
   "source": [
    "def devide2 (m,n):\n",
    "    try:\n",
    "        result = m/n\n",
    "    except ZeroDivisionError : #이 에러가 나오면 이렇게 처리해라\n",
    "        print('0으로 나눌수 없습니다.')\n",
    "        return 0"
   ]
  },
  {
   "cell_type": "code",
   "execution_count": 23,
   "id": "e56288d4-6106-4a60-82fe-4b4dd8680d21",
   "metadata": {
    "scrolled": true
   },
   "outputs": [
    {
     "name": "stdout",
     "output_type": "stream",
     "text": [
      "0으로 나눌수 없습니다.\n"
     ]
    },
    {
     "data": {
      "text/plain": [
       "0"
      ]
     },
     "execution_count": 23,
     "metadata": {},
     "output_type": "execute_result"
    }
   ],
   "source": [
    "#result=devide1(3,0)\n",
    "result=devide2(3,0)\n",
    "result"
   ]
  },
  {
   "cell_type": "code",
   "execution_count": 33,
   "id": "fffe1d0e-10b5-4840-b251-dc45d25edd0d",
   "metadata": {},
   "outputs": [],
   "source": [
    "def devide3 (m,n):\n",
    "    try:\n",
    "        result = m/n\n",
    "    except ZeroDivisionError : #이 에러가 나오면 이렇게 처리해라\n",
    "        print('0으로 나눌수 없습니다.')\n",
    "        return None\n",
    "    except : #나머지 모든에러 받기\n",
    "        print('다른에러가 발생했습니다.')\n",
    "        return None"
   ]
  },
  {
   "cell_type": "code",
   "execution_count": 32,
   "id": "8bab5e0b-76ac-422b-8e07-8bd1a605a5bb",
   "metadata": {
    "scrolled": true
   },
   "outputs": [
    {
     "name": "stdout",
     "output_type": "stream",
     "text": [
      "다른에러가 발생했습니다.\n"
     ]
    }
   ],
   "source": [
    "devide3(None,0)"
   ]
  },
  {
   "cell_type": "code",
   "execution_count": 38,
   "id": "84f0d650-560c-48eb-beed-64e835cf2515",
   "metadata": {},
   "outputs": [],
   "source": [
    "def devide4 (m, n, s):\n",
    "    try:\n",
    "        result = m/n\n",
    "        result += int(s)\n",
    "    except (ZeroDivisionError, TypeError) : #이 에러가 나오면 이렇게 처리해라\n",
    "        print('0으로 나눌수 없습니다.')\n",
    "        return None\n",
    "    except : #나머지 모든에러 받기\n",
    "        print('다른에러가 발생했습니다.')\n",
    "        return None\n",
    "    finally:\n",
    "        print('항상 실행되는 코드입니다.')"
   ]
  },
  {
   "cell_type": "code",
   "execution_count": 42,
   "id": "0541f3b2-d068-4779-9e10-5039e1c0f962",
   "metadata": {},
   "outputs": [
    {
     "name": "stdout",
     "output_type": "stream",
     "text": [
      "0으로 나눌수 없습니다.\n",
      "항상 실행되는 코드입니다.\n"
     ]
    }
   ],
   "source": [
    "devide4(None,0,'a')"
   ]
  },
  {
   "cell_type": "code",
   "execution_count": 43,
   "id": "447e7da6-de7e-48dc-970c-5ba01f6a8f1f",
   "metadata": {},
   "outputs": [
    {
     "ename": "TypeError",
     "evalue": "입력값오류",
     "output_type": "error",
     "traceback": [
      "\u001b[31m---------------------------------------------------------------------------\u001b[39m",
      "\u001b[31mTypeError\u001b[39m                                 Traceback (most recent call last)",
      "\u001b[36mCell\u001b[39m\u001b[36m \u001b[39m\u001b[32mIn[43]\u001b[39m\u001b[32m, line 1\u001b[39m\n\u001b[32m----> \u001b[39m\u001b[32m1\u001b[39m \u001b[38;5;28;01mraise\u001b[39;00m \u001b[38;5;167;01mTypeError\u001b[39;00m(\u001b[33m'\u001b[39m\u001b[33m입력값오류\u001b[39m\u001b[33m'\u001b[39m)\n",
      "\u001b[31mTypeError\u001b[39m: 입력값오류"
     ]
    }
   ],
   "source": [
    "raise TypeError('입력값오류')"
   ]
  },
  {
   "cell_type": "code",
   "execution_count": 46,
   "id": "298b028e-acc7-42ff-a83a-332797a43d65",
   "metadata": {},
   "outputs": [
    {
     "name": "stdout",
     "output_type": "stream",
     "text": [
      "('입력값오류',)\n"
     ]
    }
   ],
   "source": [
    "try : \n",
    "    raise TypeError('입력값오류')\n",
    "except TypeError as e:\n",
    "    print(e.args)"
   ]
  },
  {
   "cell_type": "markdown",
   "id": "ebdf4bcf-6ad5-44b5-8ddb-6a48c0fdaaf5",
   "metadata": {},
   "source": [
    "#내가 정의하는 예외\n",
    "1. 예외클래스 작성 : 각 예외상황에 맞는 메시지를 작성\n",
    "2. 호출할 때 try:except로 받아줍니다."
   ]
  },
  {
   "cell_type": "code",
   "execution_count": 58,
   "id": "049eaf28-f8f8-4995-96ee-3de30124727d",
   "metadata": {},
   "outputs": [],
   "source": [
    "class AgeException(Exception):\n",
    "    def __init__(self, msg):\n",
    "        self._message = msg\n",
    "\n",
    "def input_age():\n",
    "    age = int(input('나이를 입력하세요'))\n",
    "\n",
    "    if age < 0 :\n",
    "            raise AgeException('나이는 음수입니다')\n",
    "    elif age > 150:\n",
    "            raise AgeException('150세 이상??')\n",
    "    else:\n",
    "        return age"
   ]
  },
  {
   "cell_type": "code",
   "execution_count": 54,
   "id": "941cddff-504d-48e9-b316-f35cd717c870",
   "metadata": {},
   "outputs": [
    {
     "name": "stdin",
     "output_type": "stream",
     "text": [
      "나이를 입력하세요 160\n"
     ]
    },
    {
     "ename": "AgeException",
     "evalue": "150세 이상??",
     "output_type": "error",
     "traceback": [
      "\u001b[31m---------------------------------------------------------------------------\u001b[39m",
      "\u001b[31mAgeException\u001b[39m                              Traceback (most recent call last)",
      "\u001b[36mCell\u001b[39m\u001b[36m \u001b[39m\u001b[32mIn[54]\u001b[39m\u001b[32m, line 1\u001b[39m\n\u001b[32m----> \u001b[39m\u001b[32m1\u001b[39m input_age()\n",
      "\u001b[36mCell\u001b[39m\u001b[36m \u001b[39m\u001b[32mIn[50]\u001b[39m\u001b[32m, line 11\u001b[39m, in \u001b[36minput_age\u001b[39m\u001b[34m()\u001b[39m\n\u001b[32m      9\u001b[39m         \u001b[38;5;28;01mraise\u001b[39;00m AgeException(\u001b[33m'\u001b[39m\u001b[33m나이는 양수입니다\u001b[39m\u001b[33m'\u001b[39m)\n\u001b[32m     10\u001b[39m \u001b[38;5;28;01melif\u001b[39;00m age > \u001b[32m150\u001b[39m:\n\u001b[32m---> \u001b[39m\u001b[32m11\u001b[39m         \u001b[38;5;28;01mraise\u001b[39;00m AgeException(\u001b[33m'\u001b[39m\u001b[33m150세 이상??\u001b[39m\u001b[33m'\u001b[39m)\n\u001b[32m     12\u001b[39m \u001b[38;5;28;01melse\u001b[39;00m:\n\u001b[32m     13\u001b[39m     \u001b[38;5;28;01mreturn\u001b[39;00m age\n",
      "\u001b[31mAgeException\u001b[39m: 150세 이상??"
     ]
    }
   ],
   "source": [
    "input_age()"
   ]
  },
  {
   "cell_type": "code",
   "execution_count": 60,
   "id": "9a76c684-928e-43eb-a0a5-e4e9fc6b4c37",
   "metadata": {},
   "outputs": [
    {
     "name": "stdin",
     "output_type": "stream",
     "text": [
      "나이를 입력하세요 -10\n"
     ]
    },
    {
     "name": "stdout",
     "output_type": "stream",
     "text": [
      "나이는 음수입니다\n"
     ]
    }
   ],
   "source": [
    "try:\n",
    "    age=input_age()\n",
    "except AgeException as e:\n",
    "    print(e.args[0])\n",
    "else:\n",
    "    print(f'입력하신 나이는 {age} 입니다.')"
   ]
  },
  {
   "cell_type": "code",
   "execution_count": null,
   "id": "7661633b-b144-4093-8e43-1bff0f975d9a",
   "metadata": {},
   "outputs": [],
   "source": [
    "    try:\n",
    "        result = m/n\n",
    "    except : \n",
    "        print('다른에러가 발생했습니다.')\n",
    "        return None"
   ]
  }
 ],
 "metadata": {
  "kernelspec": {
   "display_name": "Python 3 (ipykernel)",
   "language": "python",
   "name": "python3"
  },
  "language_info": {
   "codemirror_mode": {
    "name": "ipython",
    "version": 3
   },
   "file_extension": ".py",
   "mimetype": "text/x-python",
   "name": "python",
   "nbconvert_exporter": "python",
   "pygments_lexer": "ipython3",
   "version": "3.12.9"
  }
 },
 "nbformat": 4,
 "nbformat_minor": 5
}
